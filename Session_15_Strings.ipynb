{
 "cells": [
  {
   "cell_type": "code",
   "execution_count": null,
   "id": "55ca0973-dcb8-4400-810c-c1cf30c75f3b",
   "metadata": {},
   "outputs": [],
   "source": []
  },
  {
   "cell_type": "markdown",
   "id": "2437f6a0-6df5-4a33-be34-2a9992715fbf",
   "metadata": {},
   "source": [
    "- Basic representtion\n",
    "\n",
    "- in built function\n",
    "\n",
    "    - print\n",
    "    - type\n",
    "    - len\n",
    "    - sum\n",
    "    - max\n",
    "    - min\n",
    "    - sorted\n",
    "    - reversed\n",
    "\n",
    "- concatenation\n",
    "\n",
    "- indexing\n",
    "\n",
    "- mutable or immutable\n",
    "\n",
    "- slicing\n",
    "\n",
    "- methods"
   ]
  },
  {
   "cell_type": "markdown",
   "id": "c7b15b87-4a0d-4ae2-9ecd-a0e0a04d79f2",
   "metadata": {},
   "source": [
    "**Basic Representation**"
   ]
  },
  {
   "cell_type": "code",
   "execution_count": 6,
   "id": "cd873957-bf58-4ab6-b6a4-64429aab90aa",
   "metadata": {},
   "outputs": [
    {
     "name": "stdout",
     "output_type": "stream",
     "text": [
      "python\n"
     ]
    }
   ],
   "source": [
    "name=\"python\"\n",
    "print(name)"
   ]
  },
  {
   "cell_type": "code",
   "execution_count": 8,
   "id": "030f3e18-469f-45fd-8de0-24920d69c4b4",
   "metadata": {},
   "outputs": [
    {
     "data": {
      "text/plain": [
       "'python'"
      ]
     },
     "execution_count": 8,
     "metadata": {},
     "output_type": "execute_result"
    }
   ],
   "source": [
    "name=\"python\"\n",
    "name"
   ]
  },
  {
   "cell_type": "markdown",
   "id": "63087f13-d5f6-41ab-80ec-e9bc900abdd7",
   "metadata": {},
   "source": [
    "- python by default gives output in **sungle quotes**\n",
    "\n",
    "- when we print the string the output display without quotes"
   ]
  },
  {
   "cell_type": "code",
   "execution_count": 11,
   "id": "2c6e1091-da18-40c5-85d8-364db065dd89",
   "metadata": {},
   "outputs": [
    {
     "name": "stdout",
     "output_type": "stream",
     "text": [
      "I love 'python'\n"
     ]
    }
   ],
   "source": [
    "str1=\"I love 'python'\"\n",
    "print(str1)"
   ]
  },
  {
   "cell_type": "code",
   "execution_count": 15,
   "id": "41c1f023-8ce1-486c-9b28-98840253383a",
   "metadata": {},
   "outputs": [
    {
     "name": "stdout",
     "output_type": "stream",
     "text": [
      "I love \"python\"\n"
     ]
    }
   ],
   "source": [
    "str1='I love \"python\"'\n",
    "print(str1)"
   ]
  },
  {
   "cell_type": "markdown",
   "id": "f1709ea6-983e-4065-9933-db1b7ffeac8e",
   "metadata": {},
   "source": [
    "**Doc string**\n",
    "\n",
    "- triple quotes also called as doc string\n",
    "\n",
    "- tripple quotes means the user trying to convey some information"
   ]
  },
  {
   "cell_type": "code",
   "execution_count": 22,
   "id": "49cbab11-ba1b-4f4f-a51c-afd5317bf4c6",
   "metadata": {},
   "outputs": [
    {
     "data": {
      "text/plain": [
       "str"
      ]
     },
     "execution_count": 22,
     "metadata": {},
     "output_type": "execute_result"
    }
   ],
   "source": [
    "name=\"python\"\n",
    "type(name)"
   ]
  },
  {
   "cell_type": "code",
   "execution_count": 36,
   "id": "02b5ae40-9be5-4a78-b55f-a4e854de5b00",
   "metadata": {},
   "outputs": [
    {
     "data": {
      "text/plain": [
       "'I love \"python\"'"
      ]
     },
     "execution_count": 36,
     "metadata": {},
     "output_type": "execute_result"
    }
   ],
   "source": [
    "str1"
   ]
  },
  {
   "cell_type": "code",
   "execution_count": 24,
   "id": "7dacf3ca-80b0-4b05-8f02-66100024c104",
   "metadata": {},
   "outputs": [
    {
     "data": {
      "text/plain": [
       "15"
      ]
     },
     "execution_count": 24,
     "metadata": {},
     "output_type": "execute_result"
    }
   ],
   "source": [
    "len(str1)"
   ]
  },
  {
   "cell_type": "code",
   "execution_count": 26,
   "id": "090a1168-48cb-49c7-bf18-92bea8208b46",
   "metadata": {},
   "outputs": [
    {
     "data": {
      "text/plain": [
       "'y'"
      ]
     },
     "execution_count": 26,
     "metadata": {},
     "output_type": "execute_result"
    }
   ],
   "source": [
    "max(str1)"
   ]
  },
  {
   "cell_type": "code",
   "execution_count": 28,
   "id": "cb72b7d0-1cfd-4e02-af0f-7f5bda61efeb",
   "metadata": {},
   "outputs": [
    {
     "data": {
      "text/plain": [
       "' '"
      ]
     },
     "execution_count": 28,
     "metadata": {},
     "output_type": "execute_result"
    }
   ],
   "source": [
    "min(str1)"
   ]
  },
  {
   "cell_type": "code",
   "execution_count": 30,
   "id": "80fcfed5-01ac-48fb-9778-56d52e09f44a",
   "metadata": {},
   "outputs": [
    {
     "ename": "TypeError",
     "evalue": "unsupported operand type(s) for +: 'int' and 'str'",
     "output_type": "error",
     "traceback": [
      "\u001b[1;31m---------------------------------------------------------------------------\u001b[0m",
      "\u001b[1;31mTypeError\u001b[0m                                 Traceback (most recent call last)",
      "Cell \u001b[1;32mIn[30], line 1\u001b[0m\n\u001b[1;32m----> 1\u001b[0m \u001b[38;5;28msum\u001b[39m(str1)\n",
      "\u001b[1;31mTypeError\u001b[0m: unsupported operand type(s) for +: 'int' and 'str'"
     ]
    }
   ],
   "source": [
    "sum(str1)"
   ]
  },
  {
   "cell_type": "code",
   "execution_count": 32,
   "id": "d8aea0e2-00fa-428d-aa0a-33a90f276f24",
   "metadata": {},
   "outputs": [
    {
     "data": {
      "text/plain": [
       "[' ', ' ', '\"', '\"', 'I', 'e', 'h', 'l', 'n', 'o', 'o', 'p', 't', 'v', 'y']"
      ]
     },
     "execution_count": 32,
     "metadata": {},
     "output_type": "execute_result"
    }
   ],
   "source": [
    "sorted(str1)"
   ]
  },
  {
   "cell_type": "code",
   "execution_count": 34,
   "id": "4562ee38-55dc-475c-8326-3f06fa3461f0",
   "metadata": {},
   "outputs": [
    {
     "data": {
      "text/plain": [
       "<reversed at 0x1eeadced7b0>"
      ]
     },
     "execution_count": 34,
     "metadata": {},
     "output_type": "execute_result"
    }
   ],
   "source": [
    "reversed(str1)"
   ]
  },
  {
   "cell_type": "code",
   "execution_count": 38,
   "id": "ab9d9f54-043b-4a48-bdf7-ec9aa65f3e42",
   "metadata": {},
   "outputs": [
    {
     "name": "stdout",
     "output_type": "stream",
     "text": [
      "112 p\n",
      "121 y\n",
      "116 t\n",
      "104 h\n",
      "111 o\n",
      "110 n\n"
     ]
    }
   ],
   "source": [
    "for i in 'python':\n",
    "    print(ord(i),i)"
   ]
  },
  {
   "cell_type": "markdown",
   "id": "8ef03c49-c59d-4963-a5a9-2c972ea5764d",
   "metadata": {},
   "source": [
    "- sorted means either ascending or descending\n",
    "- ascending ---> small to big\n",
    "- descending --> big to small"
   ]
  },
  {
   "cell_type": "code",
   "execution_count": 43,
   "id": "91a5c268-5332-40e2-9794-55b2b533cc4f",
   "metadata": {},
   "outputs": [
    {
     "data": {
      "text/plain": [
       "['h', 'n', 'o', 'p', 't', 'y']"
      ]
     },
     "execution_count": 43,
     "metadata": {},
     "output_type": "execute_result"
    }
   ],
   "source": [
    "sorted(\"python\")\n",
    "#by default ascending"
   ]
  },
  {
   "cell_type": "markdown",
   "id": "686b004d-d55c-4ae0-a5e6-1c0839a4063f",
   "metadata": {},
   "source": [
    "**/**\n",
    "\n",
    "**/** before not working\n",
    "\n",
    "- if we provide value in a function and the value provided is before the finction then it will not work\n",
    "\n",
    "- only works if the value provided is after /"
   ]
  },
  {
   "cell_type": "code",
   "execution_count": 46,
   "id": "b88a1a54-da35-4c22-9481-c547ea4869ba",
   "metadata": {},
   "outputs": [
    {
     "name": "stdout",
     "output_type": "stream",
     "text": [
      "30\n"
     ]
    }
   ],
   "source": [
    "def add(a,b):\n",
    "    print(a+b)\n",
    "\n",
    "add(a=10,b=20)"
   ]
  },
  {
   "cell_type": "code",
   "execution_count": 48,
   "id": "751c05a3-56c0-493e-82e9-06ad2fc38f93",
   "metadata": {},
   "outputs": [
    {
     "ename": "TypeError",
     "evalue": "add() got some positional-only arguments passed as keyword arguments: 'a'",
     "output_type": "error",
     "traceback": [
      "\u001b[1;31m---------------------------------------------------------------------------\u001b[0m",
      "\u001b[1;31mTypeError\u001b[0m                                 Traceback (most recent call last)",
      "Cell \u001b[1;32mIn[48], line 4\u001b[0m\n\u001b[0;32m      1\u001b[0m \u001b[38;5;28;01mdef\u001b[39;00m \u001b[38;5;21madd\u001b[39m(a,\u001b[38;5;241m/\u001b[39m,b):\n\u001b[0;32m      2\u001b[0m     \u001b[38;5;28mprint\u001b[39m(a\u001b[38;5;241m+\u001b[39mb)\n\u001b[1;32m----> 4\u001b[0m add(a\u001b[38;5;241m=\u001b[39m\u001b[38;5;241m10\u001b[39m,b\u001b[38;5;241m=\u001b[39m\u001b[38;5;241m20\u001b[39m)\n",
      "\u001b[1;31mTypeError\u001b[0m: add() got some positional-only arguments passed as keyword arguments: 'a'"
     ]
    }
   ],
   "source": [
    "def add(a,/,b):\n",
    "    print(a+b)\n",
    "\n",
    "add(a=10,b=20)"
   ]
  },
  {
   "cell_type": "code",
   "execution_count": 50,
   "id": "310cf344-db41-41c4-b6e0-b64af8dd435e",
   "metadata": {},
   "outputs": [
    {
     "name": "stdout",
     "output_type": "stream",
     "text": [
      "30\n"
     ]
    }
   ],
   "source": [
    "def add(a,/,b):\n",
    "    print(a+b)\n",
    "\n",
    "add(10,b=20)"
   ]
  },
  {
   "cell_type": "code",
   "execution_count": 52,
   "id": "e9dcf8e8-e1b9-4fce-b7e1-aac634993a61",
   "metadata": {},
   "outputs": [
    {
     "ename": "SyntaxError",
     "evalue": "positional argument follows keyword argument (187450653.py, line 4)",
     "output_type": "error",
     "traceback": [
      "\u001b[1;36m  Cell \u001b[1;32mIn[52], line 4\u001b[1;36m\u001b[0m\n\u001b[1;33m    add(a=10,20)\u001b[0m\n\u001b[1;37m               ^\u001b[0m\n\u001b[1;31mSyntaxError\u001b[0m\u001b[1;31m:\u001b[0m positional argument follows keyword argument\n"
     ]
    }
   ],
   "source": [
    "def add(a,/,b):\n",
    "    print(a+b)\n",
    "\n",
    "add(a=10,20)"
   ]
  },
  {
   "cell_type": "code",
   "execution_count": 54,
   "id": "59059e9c-f07b-4091-9e08-38d01e1af4cb",
   "metadata": {},
   "outputs": [
    {
     "name": "stdout",
     "output_type": "stream",
     "text": [
      "30\n"
     ]
    }
   ],
   "source": [
    "def add(a,/,b):\n",
    "    print(a+b)\n",
    "\n",
    "add(10,20)"
   ]
  },
  {
   "cell_type": "code",
   "execution_count": 57,
   "id": "9121c360-0418-4d6b-bb7b-1479a3d7c4bc",
   "metadata": {},
   "outputs": [
    {
     "ename": "SyntaxError",
     "evalue": "invalid syntax (834795388.py, line 1)",
     "output_type": "error",
     "traceback": [
      "\u001b[1;36m  Cell \u001b[1;32mIn[57], line 1\u001b[1;36m\u001b[0m\n\u001b[1;33m    (a,/,b)\u001b[0m\n\u001b[1;37m       ^\u001b[0m\n\u001b[1;31mSyntaxError\u001b[0m\u001b[1;31m:\u001b[0m invalid syntax\n"
     ]
    }
   ],
   "source": [
    "(a,/,b)\n",
    "\n",
    "#a=10, b=20    #Fails\n",
    "#10, b=20      #Works\n",
    "#a=10, 20      #Fails\n",
    "#10, 20        #Works"
   ]
  },
  {
   "cell_type": "markdown",
   "id": "3b70fddb-8b19-4c3c-9f57-fe85bc80a78e",
   "metadata": {},
   "source": [
    "**Note** :\n",
    "\n",
    "- **/** before donot use argument name\n",
    "\n",
    "- **/** after you can use argument name\n",
    "\n",
    "- <*> indicates no need maintain the order of the arguments"
   ]
  },
  {
   "cell_type": "code",
   "execution_count": 66,
   "id": "a5f2248d-e463-44fc-be79-2c54a98aba57",
   "metadata": {},
   "outputs": [
    {
     "ename": "TypeError",
     "evalue": "add() takes 1 positional argument but 3 were given",
     "output_type": "error",
     "traceback": [
      "\u001b[1;31m---------------------------------------------------------------------------\u001b[0m",
      "\u001b[1;31mTypeError\u001b[0m                                 Traceback (most recent call last)",
      "Cell \u001b[1;32mIn[66], line 4\u001b[0m\n\u001b[0;32m      1\u001b[0m \u001b[38;5;28;01mdef\u001b[39;00m \u001b[38;5;21madd\u001b[39m(a,\u001b[38;5;241m/\u001b[39m,\u001b[38;5;241m*\u001b[39m,b,c):\n\u001b[0;32m      2\u001b[0m     \u001b[38;5;28mprint\u001b[39m(a\u001b[38;5;241m+\u001b[39mb\u001b[38;5;241m+\u001b[39mc)\n\u001b[1;32m----> 4\u001b[0m add(\u001b[38;5;241m10\u001b[39m,\u001b[38;5;241m20\u001b[39m,\u001b[38;5;241m30\u001b[39m)\n",
      "\u001b[1;31mTypeError\u001b[0m: add() takes 1 positional argument but 3 were given"
     ]
    }
   ],
   "source": [
    "def add(a,/,*,b,c):\n",
    "    print(a+b+c)\n",
    "\n",
    "add(10,20,30)"
   ]
  },
  {
   "cell_type": "code",
   "execution_count": 69,
   "id": "59a499d7-61c7-40dc-bba6-5a657d6eb58f",
   "metadata": {},
   "outputs": [
    {
     "ename": "SyntaxError",
     "evalue": "positional argument follows keyword argument (3167612590.py, line 4)",
     "output_type": "error",
     "traceback": [
      "\u001b[1;36m  Cell \u001b[1;32mIn[69], line 4\u001b[1;36m\u001b[0m\n\u001b[1;33m    add(10,b=20,30)\u001b[0m\n\u001b[1;37m                  ^\u001b[0m\n\u001b[1;31mSyntaxError\u001b[0m\u001b[1;31m:\u001b[0m positional argument follows keyword argument\n"
     ]
    }
   ],
   "source": [
    "def add(a,/,*,b,c):\n",
    "    print(a+b+c)\n",
    "\n",
    "add(10,b=20,30)"
   ]
  },
  {
   "cell_type": "markdown",
   "id": "5854298a-de76-47a9-b4fc-12658f582923",
   "metadata": {},
   "source": [
    "**Note**\n",
    "\n",
    "- (*) indicates provide the argument name after (*)"
   ]
  },
  {
   "cell_type": "code",
   "execution_count": 71,
   "id": "fe91d2a0-3be6-4936-beaa-7545debbf09d",
   "metadata": {},
   "outputs": [
    {
     "name": "stdout",
     "output_type": "stream",
     "text": [
      "60\n"
     ]
    }
   ],
   "source": [
    "def add(a,/,*,b,c):\n",
    "    print(a+b+c)\n",
    "\n",
    "add(10,b=20,c=30)"
   ]
  },
  {
   "cell_type": "code",
   "execution_count": 73,
   "id": "959c2fe2-c193-47ad-b2d4-0b32f71c5249",
   "metadata": {},
   "outputs": [
    {
     "data": {
      "text/plain": [
       "['y', 't', 'p', 'o', 'n', 'h']"
      ]
     },
     "execution_count": 73,
     "metadata": {},
     "output_type": "execute_result"
    }
   ],
   "source": [
    "sorted(\"python\", reverse=True)"
   ]
  },
  {
   "cell_type": "code",
   "execution_count": 77,
   "id": "fad277ca-2a78-46d6-8b6c-f817ac0380f5",
   "metadata": {},
   "outputs": [
    {
     "ename": "TypeError",
     "evalue": "sorted expected 1 argument, got 2",
     "output_type": "error",
     "traceback": [
      "\u001b[1;31m---------------------------------------------------------------------------\u001b[0m",
      "\u001b[1;31mTypeError\u001b[0m                                 Traceback (most recent call last)",
      "Cell \u001b[1;32mIn[77], line 1\u001b[0m\n\u001b[1;32m----> 1\u001b[0m \u001b[38;5;28msorted\u001b[39m(\u001b[38;5;124m\"\u001b[39m\u001b[38;5;124mpython\u001b[39m\u001b[38;5;124m\"\u001b[39m, \u001b[38;5;28;01mTrue\u001b[39;00m)\n",
      "\u001b[1;31mTypeError\u001b[0m: sorted expected 1 argument, got 2"
     ]
    }
   ],
   "source": [
    "sorted(\"python\", True)\n",
    "\n",
    "# / before donot use      # Wrong\n",
    "# * after you should use  # Correct"
   ]
  },
  {
   "cell_type": "code",
   "execution_count": 79,
   "id": "9333a789-094f-4660-9c1a-e34f1aa02163",
   "metadata": {
    "scrolled": true
   },
   "outputs": [
    {
     "ename": "TypeError",
     "evalue": "sorted expected 1 argument, got 0",
     "output_type": "error",
     "traceback": [
      "\u001b[1;31m---------------------------------------------------------------------------\u001b[0m",
      "\u001b[1;31mTypeError\u001b[0m                                 Traceback (most recent call last)",
      "Cell \u001b[1;32mIn[79], line 2\u001b[0m\n\u001b[0;32m      1\u001b[0m \u001b[38;5;28msorted\u001b[39m(\u001b[38;5;124m'\u001b[39m\u001b[38;5;124mpython\u001b[39m\u001b[38;5;124m'\u001b[39m)                         \u001b[38;5;66;03m# W\u001b[39;00m\n\u001b[1;32m----> 2\u001b[0m \u001b[38;5;28msorted\u001b[39m(iterable\u001b[38;5;241m=\u001b[39m\u001b[38;5;124m'\u001b[39m\u001b[38;5;124mpython\u001b[39m\u001b[38;5;124m'\u001b[39m)                \u001b[38;5;66;03m# F\u001b[39;00m\n\u001b[0;32m      3\u001b[0m \u001b[38;5;28msorted\u001b[39m(\u001b[38;5;124m'\u001b[39m\u001b[38;5;124mpython\u001b[39m\u001b[38;5;124m'\u001b[39m,reverse\u001b[38;5;241m=\u001b[39m \u001b[38;5;28;01mTrue\u001b[39;00m)           \u001b[38;5;66;03m# W\u001b[39;00m\n\u001b[0;32m      4\u001b[0m \u001b[38;5;28msorted\u001b[39m(iterable\u001b[38;5;241m=\u001b[39m\u001b[38;5;124m'\u001b[39m\u001b[38;5;124mpython\u001b[39m\u001b[38;5;124m'\u001b[39m, reverse\u001b[38;5;241m=\u001b[39m\u001b[38;5;28;01mTrue\u001b[39;00m)  \u001b[38;5;66;03m# F\u001b[39;00m\n",
      "\u001b[1;31mTypeError\u001b[0m: sorted expected 1 argument, got 0"
     ]
    }
   ],
   "source": [
    "sorted('python')                         # W\n",
    "sorted(iterable='python')                # F\n",
    "sorted('python',reverse= True)           # W\n",
    "sorted(iterable='python', reverse=True)  # F\n",
    "sorted('python', True)                   # F"
   ]
  },
  {
   "cell_type": "markdown",
   "id": "e5f16ec4-21a7-4d49-b875-d62e9dee351b",
   "metadata": {},
   "source": [
    "**reversed**"
   ]
  },
  {
   "cell_type": "code",
   "execution_count": 82,
   "id": "7b9c24dd-4657-4bff-b6cf-fa31ea4a1d31",
   "metadata": {},
   "outputs": [
    {
     "data": {
      "text/plain": [
       "<reversed at 0x1eeadcf6350>"
      ]
     },
     "execution_count": 82,
     "metadata": {},
     "output_type": "execute_result"
    }
   ],
   "source": [
    "reversed(\"python\")"
   ]
  },
  {
   "cell_type": "markdown",
   "id": "822e83c7-fa35-42e1-82c0-6007c1cf3e85",
   "metadata": {},
   "source": [
    "- Answer saved at address memeory location\n",
    "- we can see the answer by using for loop or list\n",
    "- whenever we see less than or greater than symbol answer\n",
    "- try to apply for loop or list"
   ]
  },
  {
   "cell_type": "code",
   "execution_count": 103,
   "id": "5bc9ea4d-749f-4793-94d0-00f31487ce19",
   "metadata": {},
   "outputs": [],
   "source": [
    "ans = reversed(\"python\")"
   ]
  },
  {
   "cell_type": "code",
   "execution_count": 105,
   "id": "e50aeb43-b87a-426a-a855-2d967ed44944",
   "metadata": {},
   "outputs": [
    {
     "name": "stdout",
     "output_type": "stream",
     "text": [
      "n o h t y p "
     ]
    }
   ],
   "source": [
    "for i in ans:\n",
    "    print(i,end=\" \")"
   ]
  },
  {
   "cell_type": "code",
   "execution_count": 107,
   "id": "c1ddc237-2c22-4207-95c3-58bd9d966a31",
   "metadata": {},
   "outputs": [
    {
     "data": {
      "text/plain": [
       "['n', 'o', 'h', 't', 'y', 'p']"
      ]
     },
     "execution_count": 107,
     "metadata": {},
     "output_type": "execute_result"
    }
   ],
   "source": [
    "ans = reversed(\"python\")\n",
    "list(ans)"
   ]
  },
  {
   "cell_type": "markdown",
   "id": "a76020aa-c9ca-4c8d-80f0-ef419dd66f34",
   "metadata": {},
   "source": [
    "**concatenation**"
   ]
  },
  {
   "cell_type": "code",
   "execution_count": 112,
   "id": "ff195dcb-c9bc-4ed2-8b88-aae72a249bc4",
   "metadata": {
    "scrolled": true
   },
   "outputs": [
    {
     "ename": "TypeError",
     "evalue": "unsupported operand type(s) for -: 'str' and 'str'",
     "output_type": "error",
     "traceback": [
      "\u001b[1;31m---------------------------------------------------------------------------\u001b[0m",
      "\u001b[1;31mTypeError\u001b[0m                                 Traceback (most recent call last)",
      "Cell \u001b[1;32mIn[112], line 4\u001b[0m\n\u001b[0;32m      2\u001b[0m str2\u001b[38;5;241m=\u001b[39m\u001b[38;5;124m\"\u001b[39m\u001b[38;5;124mPython\u001b[39m\u001b[38;5;124m\"\u001b[39m\n\u001b[0;32m      3\u001b[0m str1\u001b[38;5;241m+\u001b[39mstr2   \u001b[38;5;66;03m#W\u001b[39;00m\n\u001b[1;32m----> 4\u001b[0m str1\u001b[38;5;241m-\u001b[39mstr2   \u001b[38;5;66;03m#F\u001b[39;00m\n\u001b[0;32m      5\u001b[0m str1\u001b[38;5;241m*\u001b[39mstr2   \u001b[38;5;66;03m#F\u001b[39;00m\n\u001b[0;32m      6\u001b[0m str1\u001b[38;5;241m/\u001b[39mstr2\n",
      "\u001b[1;31mTypeError\u001b[0m: unsupported operand type(s) for -: 'str' and 'str'"
     ]
    }
   ],
   "source": [
    "str1=\"hello\"\n",
    "str2=\"Python\"\n",
    "str1+str2   #W\n",
    "str1-str2   #F\n",
    "str1*str2   #F\n",
    "str1/str2   #F"
   ]
  },
  {
   "cell_type": "code",
   "execution_count": 114,
   "id": "b824fb7b-a315-4eb9-a013-557f21732540",
   "metadata": {},
   "outputs": [
    {
     "ename": "TypeError",
     "evalue": "unsupported operand type(s) for -: 'str' and 'str'",
     "output_type": "error",
     "traceback": [
      "\u001b[1;31m---------------------------------------------------------------------------\u001b[0m",
      "\u001b[1;31mTypeError\u001b[0m                                 Traceback (most recent call last)",
      "Cell \u001b[1;32mIn[114], line 1\u001b[0m\n\u001b[1;32m----> 1\u001b[0m str1\u001b[38;5;241m-\u001b[39mstr2\n",
      "\u001b[1;31mTypeError\u001b[0m: unsupported operand type(s) for -: 'str' and 'str'"
     ]
    }
   ],
   "source": [
    "str1-str2 "
   ]
  },
  {
   "cell_type": "code",
   "execution_count": 116,
   "id": "694a7c5a-0033-4052-85d2-7da0fe9b178f",
   "metadata": {},
   "outputs": [
    {
     "ename": "TypeError",
     "evalue": "can't multiply sequence by non-int of type 'str'",
     "output_type": "error",
     "traceback": [
      "\u001b[1;31m---------------------------------------------------------------------------\u001b[0m",
      "\u001b[1;31mTypeError\u001b[0m                                 Traceback (most recent call last)",
      "Cell \u001b[1;32mIn[116], line 1\u001b[0m\n\u001b[1;32m----> 1\u001b[0m str1\u001b[38;5;241m*\u001b[39mstr2\n",
      "\u001b[1;31mTypeError\u001b[0m: can't multiply sequence by non-int of type 'str'"
     ]
    }
   ],
   "source": [
    "str1*str2 "
   ]
  },
  {
   "cell_type": "code",
   "execution_count": 118,
   "id": "60f0ce1d-4afe-4d33-bd5a-fbe534078035",
   "metadata": {},
   "outputs": [
    {
     "ename": "TypeError",
     "evalue": "unsupported operand type(s) for /: 'str' and 'str'",
     "output_type": "error",
     "traceback": [
      "\u001b[1;31m---------------------------------------------------------------------------\u001b[0m",
      "\u001b[1;31mTypeError\u001b[0m                                 Traceback (most recent call last)",
      "Cell \u001b[1;32mIn[118], line 1\u001b[0m\n\u001b[1;32m----> 1\u001b[0m str1\u001b[38;5;241m/\u001b[39mstr2\n",
      "\u001b[1;31mTypeError\u001b[0m: unsupported operand type(s) for /: 'str' and 'str'"
     ]
    }
   ],
   "source": [
    "str1/str2 "
   ]
  },
  {
   "cell_type": "code",
   "execution_count": null,
   "id": "c3fbe100-0144-43cd-b39b-3965cf2d8df0",
   "metadata": {},
   "outputs": [],
   "source": [
    "str1-str2 \n",
    "TypeError: unsupported operand type(s) for -: 'str' and 'str'\n",
    "\n",
    "str1/str2 \n",
    "TypeError: unsupported operand type(s) for /: 'str' and 'str'\n",
    "\n",
    "str1*str2 \n",
    "TypeError: can't multiply sequence by non-int of type 'str'"
   ]
  },
  {
   "cell_type": "code",
   "execution_count": null,
   "id": "730b3d44-a2fd-40da-9f87-473a1a115f65",
   "metadata": {},
   "outputs": [],
   "source": [
    "str1(sequence)*str2 \n",
    "TypeError: can't multiply sequence by non-int of type 'str'"
   ]
  },
  {
   "cell_type": "code",
   "execution_count": 120,
   "id": "a8b3051b-6e86-47e9-a4cb-034cdca498d1",
   "metadata": {},
   "outputs": [
    {
     "data": {
      "text/plain": [
       "'pythonpythonpython'"
      ]
     },
     "execution_count": 120,
     "metadata": {},
     "output_type": "execute_result"
    }
   ],
   "source": [
    "\"python\"*3"
   ]
  },
  {
   "cell_type": "code",
   "execution_count": 122,
   "id": "226d265b-c64d-4bce-9226-6276ccf8f95f",
   "metadata": {},
   "outputs": [
    {
     "data": {
      "text/plain": [
       "'hello Python'"
      ]
     },
     "execution_count": 122,
     "metadata": {},
     "output_type": "execute_result"
    }
   ],
   "source": [
    "str1=\"hello \"\n",
    "str2=\"Python\"\n",
    "str1+str2"
   ]
  },
  {
   "cell_type": "code",
   "execution_count": 124,
   "id": "975b22c6-0321-4238-8fec-23c13ff7f67b",
   "metadata": {},
   "outputs": [
    {
     "data": {
      "text/plain": [
       "'hello Python'"
      ]
     },
     "execution_count": 124,
     "metadata": {},
     "output_type": "execute_result"
    }
   ],
   "source": [
    "str1=\"hello\"\n",
    "str2=\" Python\"\n",
    "str1+str2"
   ]
  },
  {
   "cell_type": "code",
   "execution_count": 5,
   "id": "6bd01099-b58b-44d2-baed-4e95bdbb7f33",
   "metadata": {},
   "outputs": [
    {
     "data": {
      "text/plain": [
       "'hello Python'"
      ]
     },
     "execution_count": 5,
     "metadata": {},
     "output_type": "execute_result"
    }
   ],
   "source": [
    "str1=\"hello\"\n",
    "str2=\"Python\"\n",
    "str1+' '+str2"
   ]
  },
  {
   "cell_type": "code",
   "execution_count": null,
   "id": "858ba9f3-a334-4b9f-b4c7-9e1872613bb1",
   "metadata": {},
   "outputs": [],
   "source": [
    "-6 -5 -4 -3 -2 -1\n",
    "p   y  t  h  o  n\n",
    "0   1  2  3  4  5"
   ]
  },
  {
   "cell_type": "code",
   "execution_count": 9,
   "id": "7e5980df-7e57-4c64-a87c-75083d1fedc8",
   "metadata": {},
   "outputs": [],
   "source": [
    "str = \"python\""
   ]
  },
  {
   "cell_type": "code",
   "execution_count": 11,
   "id": "77d0d2c7-e302-4533-bed6-3161a992994e",
   "metadata": {},
   "outputs": [
    {
     "data": {
      "text/plain": [
       "'p'"
      ]
     },
     "execution_count": 11,
     "metadata": {},
     "output_type": "execute_result"
    }
   ],
   "source": [
    "str[0]"
   ]
  },
  {
   "cell_type": "code",
   "execution_count": 13,
   "id": "0925011d-c888-40f5-942e-b5ce4397c049",
   "metadata": {},
   "outputs": [
    {
     "data": {
      "text/plain": [
       "'y'"
      ]
     },
     "execution_count": 13,
     "metadata": {},
     "output_type": "execute_result"
    }
   ],
   "source": [
    "str[1]"
   ]
  },
  {
   "cell_type": "code",
   "execution_count": 15,
   "id": "c04afa4e-113a-4e63-b246-4f4884d13984",
   "metadata": {},
   "outputs": [
    {
     "data": {
      "text/plain": [
       "'t'"
      ]
     },
     "execution_count": 15,
     "metadata": {},
     "output_type": "execute_result"
    }
   ],
   "source": [
    "str[2]"
   ]
  },
  {
   "cell_type": "code",
   "execution_count": 17,
   "id": "2a4c27e0-07a0-4ea4-b1c7-472501913393",
   "metadata": {},
   "outputs": [
    {
     "data": {
      "text/plain": [
       "'h'"
      ]
     },
     "execution_count": 17,
     "metadata": {},
     "output_type": "execute_result"
    }
   ],
   "source": [
    "str[3]"
   ]
  },
  {
   "cell_type": "code",
   "execution_count": 19,
   "id": "58009d43-405b-477b-910c-c90f305876d2",
   "metadata": {},
   "outputs": [
    {
     "data": {
      "text/plain": [
       "'o'"
      ]
     },
     "execution_count": 19,
     "metadata": {},
     "output_type": "execute_result"
    }
   ],
   "source": [
    "str[4]"
   ]
  },
  {
   "cell_type": "code",
   "execution_count": 21,
   "id": "faa28aa1-6244-4ebe-86c1-b5a879873d5f",
   "metadata": {},
   "outputs": [
    {
     "data": {
      "text/plain": [
       "'n'"
      ]
     },
     "execution_count": 21,
     "metadata": {},
     "output_type": "execute_result"
    }
   ],
   "source": [
    "str[5]"
   ]
  },
  {
   "cell_type": "code",
   "execution_count": 23,
   "id": "3603eaf5-a790-4d77-b7ed-839dbb7b5272",
   "metadata": {},
   "outputs": [
    {
     "data": {
      "text/plain": [
       "'n'"
      ]
     },
     "execution_count": 23,
     "metadata": {},
     "output_type": "execute_result"
    }
   ],
   "source": [
    "str[-1]"
   ]
  },
  {
   "cell_type": "code",
   "execution_count": 25,
   "id": "5136eb13-6fea-4d16-8798-e107ab0dff6d",
   "metadata": {},
   "outputs": [
    {
     "data": {
      "text/plain": [
       "'o'"
      ]
     },
     "execution_count": 25,
     "metadata": {},
     "output_type": "execute_result"
    }
   ],
   "source": [
    "str[-2]"
   ]
  },
  {
   "cell_type": "code",
   "execution_count": 35,
   "id": "8929b9d0-d74c-4d68-92ea-ba36124a5012",
   "metadata": {},
   "outputs": [
    {
     "name": "stdout",
     "output_type": "stream",
     "text": [
      "p\n",
      "y\n",
      "t\n",
      "h\n",
      "o\n",
      "n\n"
     ]
    }
   ],
   "source": [
    "str=\"python\"\n",
    "for i in range(0,6):\n",
    "    print(str[i])"
   ]
  },
  {
   "cell_type": "code",
   "execution_count": 39,
   "id": "0e1fbc67-dc64-4af4-82f1-91436ec3fb21",
   "metadata": {},
   "outputs": [
    {
     "name": "stdout",
     "output_type": "stream",
     "text": [
      "p\n",
      "y\n",
      "t\n",
      "h\n",
      "o\n",
      "n\n"
     ]
    }
   ],
   "source": [
    "str=\"python\"\n",
    "n=len(str)\n",
    "for i in range(0,n):\n",
    "    print(str[i])"
   ]
  },
  {
   "cell_type": "code",
   "execution_count": 43,
   "id": "e63d7994-e687-4ed9-9dd6-d8b0fafa6d24",
   "metadata": {},
   "outputs": [
    {
     "name": "stdout",
     "output_type": "stream",
     "text": [
      "H e l l o o   H o w   a r e   y o u "
     ]
    }
   ],
   "source": [
    "str=\"Helloo How are you\"\n",
    "n=len(str)\n",
    "for i in range(0,n):\n",
    "    print(str[i], end=\" \")"
   ]
  },
  {
   "cell_type": "markdown",
   "id": "e95f692f-dfff-40ae-bd98-8612cfee07e9",
   "metadata": {},
   "source": [
    "# wap and the result be like\n",
    "- postivit index of p =0\n",
    "- postivit index of y =1\n",
    "- postivit index of t =2\n",
    "- postivit index of h =3\n",
    "- postivit index of o =4\n",
    "- postivit index of n =5"
   ]
  },
  {
   "cell_type": "code",
   "execution_count": 45,
   "id": "53a68158-20de-4065-975f-c0bfff6fb584",
   "metadata": {},
   "outputs": [
    {
     "name": "stdout",
     "output_type": "stream",
     "text": [
      "The postivive index of p is 0\n",
      "The postivive index of y is 1\n",
      "The postivive index of t is 2\n",
      "The postivive index of h is 3\n",
      "The postivive index of o is 4\n",
      "The postivive index of n is 5\n"
     ]
    }
   ],
   "source": [
    "str=\"python\"\n",
    "n=len(str)\n",
    "for i in range(0,n):\n",
    "    print(f\"The postivive index of {str[i]} is {i}\")"
   ]
  },
  {
   "cell_type": "markdown",
   "id": "fccadc99-8e3a-4850-8892-f790b53aae8f",
   "metadata": {},
   "source": [
    "# wap and the result be like\n",
    "- The negative index of p is -6\n",
    "- The negative index of y is -5\n",
    "- The negative index of t is -4\n",
    "- The negative index of h is -3\n",
    "- The negative index of o is -2\n",
    "- The negative index of n is -1"
   ]
  },
  {
   "cell_type": "code",
   "execution_count": 53,
   "id": "9a7c56f1-533d-4441-8ed5-366d420ceaa9",
   "metadata": {},
   "outputs": [
    {
     "name": "stdout",
     "output_type": "stream",
     "text": [
      "The negative index of p is -6\n",
      "The negative index of y is -5\n",
      "The negative index of t is -4\n",
      "The negative index of h is -3\n",
      "The negative index of o is -2\n",
      "The negative index of n is -1\n"
     ]
    }
   ],
   "source": [
    "str=\"python\"\n",
    "n=len(str)\n",
    "for i in range(0,n):\n",
    "    print(f\"The negative index of {str[i-n]} is {i-n}\")"
   ]
  },
  {
   "cell_type": "markdown",
   "id": "cf617fc5-b635-4aff-a013-d5d2b0619a9f",
   "metadata": {},
   "source": [
    "# wap and the result be like\n",
    "- The positive index is 0 and negative index is -6 for p\n",
    "- The positive index is 1 and negative index is -5 for y\n",
    "- The positive index is 2 and negative index is -4 for t\n",
    "- The positive index is 3 and negative index is -3 for h\n",
    "- The positive index is 4 and negative index is -2 for o\n",
    "- The positive index is 5 and negative index is -1 for n"
   ]
  },
  {
   "cell_type": "code",
   "execution_count": 55,
   "id": "732202b1-5e8c-4198-9a75-402992f432c2",
   "metadata": {},
   "outputs": [
    {
     "name": "stdout",
     "output_type": "stream",
     "text": [
      "The positive index is 0 and negative index is -6 for p\n",
      "The positive index is 1 and negative index is -5 for y\n",
      "The positive index is 2 and negative index is -4 for t\n",
      "The positive index is 3 and negative index is -3 for h\n",
      "The positive index is 4 and negative index is -2 for o\n",
      "The positive index is 5 and negative index is -1 for n\n"
     ]
    }
   ],
   "source": [
    "str=\"python\"\n",
    "n=len(str)\n",
    "for i in range(0,n):\n",
    "    print(f\"The positive index is {i} and negative index is {i-n} for {str[i]}\")"
   ]
  },
  {
   "cell_type": "markdown",
   "id": "b54d49b3-1ecf-4522-b417-a4e2febaf2e1",
   "metadata": {},
   "source": [
    "when to use **in** operator - when to use **range** operator\n",
    "\n",
    "- **in** operator directly access the elements\n",
    "- **range** opeartor access the elements using index or numbers\n",
    "\n",
    "- any problem statement if u need numbers the go for **range**\n",
    "- otherwise go for **in** operator directly"
   ]
  },
  {
   "cell_type": "code",
   "execution_count": 66,
   "id": "65db6de1-806e-46e6-a107-63ae84d53f69",
   "metadata": {},
   "outputs": [
    {
     "name": "stdout",
     "output_type": "stream",
     "text": [
      "p\n",
      "y\n",
      "t\n",
      "h\n",
      "o\n",
      "n\n",
      "0\n",
      "1\n",
      "2\n",
      "3\n",
      "4\n"
     ]
    }
   ],
   "source": [
    "str1=\"python\"\n",
    "for i in str1:\n",
    "    print(i)\n",
    "\n",
    "for i in range(0,5):\n",
    "    print(i)"
   ]
  },
  {
   "cell_type": "markdown",
   "id": "a524c72c-ff80-45b5-ab88-d44f19f8a74b",
   "metadata": {},
   "source": [
    "# wap to print index of 'a' in given string\n",
    "# str1='ola ola ola'\n"
   ]
  },
  {
   "cell_type": "code",
   "execution_count": 188,
   "id": "c8da2ba2-3e4e-4786-860f-26149bf8ea1b",
   "metadata": {},
   "outputs": [
    {
     "name": "stdout",
     "output_type": "stream",
     "text": [
      "2\n",
      "the index of 'a' in string ola ola ola is 2\n",
      "6\n",
      "the index of 'a' in string ola ola ola is 6\n",
      "10\n",
      "the index of 'a' in string ola ola ola is 10\n"
     ]
    }
   ],
   "source": [
    "str1=\"ola ola ola\"\n",
    "n=len(str1)\n",
    "for i in range(0,n):\n",
    "    if str1[i]==\"a\":\n",
    "        #print(i)\n",
    "        print(f\"the index of 'a' in string {str1} is {i}\")"
   ]
  },
  {
   "cell_type": "markdown",
   "id": "613e2230-0e8d-4f45-9c49-b34e5b83c973",
   "metadata": {},
   "source": [
    "# wap to find the sum of all indexes of 'a' in a given string\n",
    "# str1=\"ola ola ola\""
   ]
  },
  {
   "cell_type": "code",
   "execution_count": 124,
   "id": "e8b5753d-3bf5-41b6-be2b-0ac7e6105301",
   "metadata": {},
   "outputs": [
    {
     "name": "stdout",
     "output_type": "stream",
     "text": [
      "the sum of index of 'a' in string ola ola ola is 18\n"
     ]
    }
   ],
   "source": [
    "str1=\"ola ola ola\"\n",
    "n=len(str1)\n",
    "sum=0\n",
    "for i in range(0,n):\n",
    "    if str1[i]==\"a\":\n",
    "        sum=sum+i\n",
    "print(f\"the sum of index of 'a' in string {str1} is {sum}\")"
   ]
  },
  {
   "cell_type": "markdown",
   "id": "4f6772da-90c8-45dd-a90c-d9f95cea5ff0",
   "metadata": {},
   "source": [
    "# wap to find the number of 'a' in a given string\n",
    "# str1=\"ola ola ola\""
   ]
  },
  {
   "cell_type": "code",
   "execution_count": 126,
   "id": "91949804-f0b8-4579-8e9e-2ead46b76c6a",
   "metadata": {},
   "outputs": [
    {
     "name": "stdout",
     "output_type": "stream",
     "text": [
      "the count of index 'a' in string ola ola ola is 3\n"
     ]
    }
   ],
   "source": [
    "str1=\"ola ola ola\"\n",
    "n=len(str1)\n",
    "count=0\n",
    "for i in range(0,n):\n",
    "    if str1[i]==\"a\":\n",
    "        count=count+1\n",
    "print(f\"the count of index 'a' in string {str1} is {count}\")\n",
    "        "
   ]
  },
  {
   "cell_type": "markdown",
   "id": "42271275-a825-4c3c-8b1e-79c3712b86c3",
   "metadata": {},
   "source": [
    "# wap to find the vowels in a givrn string and its count\n",
    "# str1='hai how are you'"
   ]
  },
  {
   "cell_type": "code",
   "execution_count": 141,
   "id": "1e71d88c-793c-459a-9fa3-7bcb80683d34",
   "metadata": {},
   "outputs": [
    {
     "name": "stdout",
     "output_type": "stream",
     "text": [
      "the count of vowel in string hai how are you is 7\n"
     ]
    }
   ],
   "source": [
    "str1='hai how are you'\n",
    "n=len(str1)\n",
    "count=0\n",
    "for i in range(0,n):\n",
    "    if 'a' == str1[i] or 'e'==str1[i] or 'i'==str1[i] or 'o'==str1[i] or 'u'==str1[i]:\n",
    "        count=count+1\n",
    "print(f\"the count of vowel in string {str1} is {count}\")"
   ]
  },
  {
   "cell_type": "code",
   "execution_count": 153,
   "id": "66633f44-ac71-44d8-9512-42e802434b41",
   "metadata": {},
   "outputs": [
    {
     "name": "stdout",
     "output_type": "stream",
     "text": [
      "a\n",
      "i\n",
      "o\n",
      "a\n",
      "e\n",
      "o\n",
      "u\n",
      "the count of vowel is 7\n"
     ]
    }
   ],
   "source": [
    "str1='hai how are you'\n",
    "s1='aeiou'\n",
    "count=0\n",
    "for i in str1:\n",
    "    if i in s1:\n",
    "        print(i)\n",
    "        count=count+1\n",
    "print(f\"the count of vowel is {count}\")"
   ]
  },
  {
   "cell_type": "markdown",
   "id": "6a540cf7-ef9a-4345-b46b-d2d3d51a1dc6",
   "metadata": {},
   "source": [
    "# wap to find the vowels which are repeating then print only one time \n",
    "# ex helleo\n",
    "# e is coming two times but we wnat to print only one time"
   ]
  },
  {
   "cell_type": "code",
   "execution_count": 165,
   "id": "e3fc66a6-2f44-49cd-a51b-a316a15eeb9b",
   "metadata": {},
   "outputs": [
    {
     "name": "stdout",
     "output_type": "stream",
     "text": [
      "aioeu\n"
     ]
    }
   ],
   "source": [
    "str1='hai how are you'\n",
    "s1='aeiou'\n",
    "new=\"\"\n",
    "for i in str1:\n",
    "    if i in s1:\n",
    "        if i in new:\n",
    "            pass\n",
    "        else:\n",
    "            new=new+i\n",
    "print(new)"
   ]
  },
  {
   "cell_type": "markdown",
   "id": "d490e5d3-69d5-45e2-9164-c18cb5cc41f5",
   "metadata": {},
   "source": [
    "**mutable -immutable**\n",
    "- mutable means change\n",
    "- immutable means cannot change\n",
    "\n",
    "- we cannot change the elements using index operations"
   ]
  },
  {
   "cell_type": "code",
   "execution_count": 170,
   "id": "4a3d702d-90eb-4875-8b37-242e7fdbe156",
   "metadata": {},
   "outputs": [
    {
     "ename": "TypeError",
     "evalue": "'str' object does not support item assignment",
     "output_type": "error",
     "traceback": [
      "\u001b[1;31m---------------------------------------------------------------------------\u001b[0m",
      "\u001b[1;31mTypeError\u001b[0m                                 Traceback (most recent call last)",
      "Cell \u001b[1;32mIn[170], line 2\u001b[0m\n\u001b[0;32m      1\u001b[0m \u001b[38;5;28mstr\u001b[39m\u001b[38;5;241m=\u001b[39m\u001b[38;5;124m\"\u001b[39m\u001b[38;5;124mhello\u001b[39m\u001b[38;5;124m\"\u001b[39m\n\u001b[1;32m----> 2\u001b[0m \u001b[38;5;28mstr\u001b[39m[\u001b[38;5;241m2\u001b[39m]\u001b[38;5;241m=\u001b[39m\u001b[38;5;124m\"\u001b[39m\u001b[38;5;124mL\u001b[39m\u001b[38;5;124m\"\u001b[39m\n",
      "\u001b[1;31mTypeError\u001b[0m: 'str' object does not support item assignment"
     ]
    }
   ],
   "source": [
    "str=\"hello\"\n",
    "str[2]=\"L\"\n",
    "\n",
    "# string is immutable(unchangable)"
   ]
  },
  {
   "cell_type": "code",
   "execution_count": 172,
   "id": "120aa0b5-610b-4f45-9ff1-8e983722076e",
   "metadata": {},
   "outputs": [
    {
     "data": {
      "text/plain": [
       "[10, 200, 30]"
      ]
     },
     "execution_count": 172,
     "metadata": {},
     "output_type": "execute_result"
    }
   ],
   "source": [
    "lst=[10,20,30]\n",
    "lst[1]=200\n",
    "lst\n",
    "\n",
    "# list is mutable(changable)"
   ]
  },
  {
   "cell_type": "markdown",
   "id": "77a5c299-b151-40f2-a574-54b6063304d0",
   "metadata": {},
   "source": [
    "**slice**\n",
    "\n",
    "- slice means cut onto pieces\n",
    "- it has same analogy with for loop range\n",
    "- in the for loop range we have start, stop step\n",
    "- range(start,stop,step)  str[start:stop:step]"
   ]
  },
  {
   "cell_type": "code",
   "execution_count": null,
   "id": "a3b10503-b446-4def-ac99-301efeb4451c",
   "metadata": {},
   "outputs": [],
   "source": [
    "h    e   l   l   o       h   o   w    a  r  e     y  o  u\n",
    "0    1   2   3   4   5   6   7   8  9 10 11 12 13 14 15 16\n",
    "-17 -16 -15 -14 -13 -12 -11 -10 -9 -8 -7 -6 -5 -4 -3 -2 -1"
   ]
  },
  {
   "cell_type": "markdown",
   "id": "1acf84d4-8913-4cbe-bc04-0e08c20c2ff1",
   "metadata": {},
   "source": [
    "case : 1 str[:stop]\n",
    "\n",
    "- by defalut start = start value\n",
    "- by default step = positive direction 1\n",
    "- last = stop -1"
   ]
  },
  {
   "cell_type": "code",
   "execution_count": 192,
   "id": "364c7193-f734-4b98-9c80-7d24c76e17e8",
   "metadata": {},
   "outputs": [
    {
     "data": {
      "text/plain": [
       "'hello'"
      ]
     },
     "execution_count": 192,
     "metadata": {},
     "output_type": "execute_result"
    }
   ],
   "source": [
    "str1=\"hello How are you\"\n",
    "str1[:5]"
   ]
  },
  {
   "cell_type": "markdown",
   "id": "57136991-84f3-4167-803f-adc35e86aac9",
   "metadata": {},
   "source": [
    "case : 2\n",
    "str[start:]\n",
    "- by defalut start = start value\n",
    "- by default step = positive direction 1\n",
    "- last = till last index"
   ]
  },
  {
   "cell_type": "code",
   "execution_count": 199,
   "id": "9da5cea6-f263-43dc-828a-32c2781ebacf",
   "metadata": {},
   "outputs": [
    {
     "data": {
      "text/plain": [
       "' H'"
      ]
     },
     "execution_count": 199,
     "metadata": {},
     "output_type": "execute_result"
    }
   ],
   "source": [
    "str1=\"hello How are you\"\n",
    "str1[5:7]"
   ]
  },
  {
   "cell_type": "code",
   "execution_count": 201,
   "id": "10e92ff2-cf8d-4194-b1f7-ec4a5f151e5c",
   "metadata": {},
   "outputs": [
    {
     "data": {
      "text/plain": [
       "'llo H'"
      ]
     },
     "execution_count": 201,
     "metadata": {},
     "output_type": "execute_result"
    }
   ],
   "source": [
    "str1=\"hello How are you\"\n",
    "str1[-15:7]"
   ]
  },
  {
   "cell_type": "code",
   "execution_count": null,
   "id": "5dd8ed25-7a10-412e-803e-1dadae4e2547",
   "metadata": {},
   "outputs": [],
   "source": [
    "h    e   l   l   o       h   o   w    a  r  e     y  o  u\n",
    "0    1   2   3   4   5   6   7   8  9 10 11 12 13 14 15 16\n",
    "-17 -16 -15 -14 -13 -12 -11 -10 -9 -8 -7 -6 -5 -4 -3 -2 -1"
   ]
  },
  {
   "cell_type": "code",
   "execution_count": 203,
   "id": "ed9a8b55-19e6-43b1-b3cf-29e3b12391c9",
   "metadata": {},
   "outputs": [
    {
     "data": {
      "text/plain": [
       "'llo How '"
      ]
     },
     "execution_count": 203,
     "metadata": {},
     "output_type": "execute_result"
    }
   ],
   "source": [
    "str1=\"hello How are you\"\n",
    "str1[-15:10]"
   ]
  },
  {
   "cell_type": "markdown",
   "id": "4d33fffb-2e4c-4876-8ee1-a9f31a04fe03",
   "metadata": {},
   "source": [
    "case : 4\n",
    "str[start:stop:step]\n",
    "- by defalut start = start value\n",
    "- if step is positive value\n",
    "    - last = stop-1\n",
    "- if step is negative value\n",
    "    - last = stop+1"
   ]
  },
  {
   "cell_type": "code",
   "execution_count": 206,
   "id": "17059ab0-bf94-4a36-b478-be9d843c58f4",
   "metadata": {},
   "outputs": [
    {
     "data": {
      "text/plain": [
       "'hello How are you'"
      ]
     },
     "execution_count": 206,
     "metadata": {},
     "output_type": "execute_result"
    }
   ],
   "source": [
    "str1=\"hello How are you\"\n",
    "str1[::]"
   ]
  },
  {
   "cell_type": "code",
   "execution_count": 208,
   "id": "6c867054-16dd-44ec-bf0e-79ec66e442bf",
   "metadata": {},
   "outputs": [
    {
     "data": {
      "text/plain": [
       "'uoy era woH olleh'"
      ]
     },
     "execution_count": 208,
     "metadata": {},
     "output_type": "execute_result"
    }
   ],
   "source": [
    "str1=\"hello How are you\"\n",
    "str1[::-1]"
   ]
  },
  {
   "cell_type": "code",
   "execution_count": 210,
   "id": "8026e4ef-d4de-4b02-9461-71b8c5eac9b9",
   "metadata": {},
   "outputs": [
    {
     "data": {
      "text/plain": [
       "'hloHwaeyu'"
      ]
     },
     "execution_count": 210,
     "metadata": {},
     "output_type": "execute_result"
    }
   ],
   "source": [
    "str1[::2]"
   ]
  },
  {
   "cell_type": "markdown",
   "id": "3b4b5df7-7d20-4787-80d7-45c4b3d2b256",
   "metadata": {},
   "source": [
    "- Basic representation\n",
    "\n",
    "- inbuilt functions\n",
    "    - min max len type sum reversed sorted\n",
    "- concatenation\n",
    "\n",
    "- index\n",
    "\n",
    "- in vs range\n",
    "\n",
    "- mutable vs immutable\n",
    "\n",
    "- slice"
   ]
  },
  {
   "cell_type": "markdown",
   "id": "7b3af4d3-1bb4-4f83-b21e-dc57527b3384",
   "metadata": {},
   "source": [
    "# Methods"
   ]
  },
  {
   "cell_type": "code",
   "execution_count": 214,
   "id": "adbd8488-8050-43f4-8fb1-3e42bd9cc179",
   "metadata": {
    "scrolled": true
   },
   "outputs": [
    {
     "data": {
      "text/plain": [
       "['__add__',\n",
       " '__class__',\n",
       " '__contains__',\n",
       " '__delattr__',\n",
       " '__dir__',\n",
       " '__doc__',\n",
       " '__eq__',\n",
       " '__format__',\n",
       " '__ge__',\n",
       " '__getattribute__',\n",
       " '__getitem__',\n",
       " '__getnewargs__',\n",
       " '__getstate__',\n",
       " '__gt__',\n",
       " '__hash__',\n",
       " '__init__',\n",
       " '__init_subclass__',\n",
       " '__iter__',\n",
       " '__le__',\n",
       " '__len__',\n",
       " '__lt__',\n",
       " '__mod__',\n",
       " '__mul__',\n",
       " '__ne__',\n",
       " '__new__',\n",
       " '__reduce__',\n",
       " '__reduce_ex__',\n",
       " '__repr__',\n",
       " '__rmod__',\n",
       " '__rmul__',\n",
       " '__setattr__',\n",
       " '__sizeof__',\n",
       " '__str__',\n",
       " '__subclasshook__',\n",
       " 'capitalize',\n",
       " 'casefold',\n",
       " 'center',\n",
       " 'count',\n",
       " 'encode',\n",
       " 'endswith',\n",
       " 'expandtabs',\n",
       " 'find',\n",
       " 'format',\n",
       " 'format_map',\n",
       " 'index',\n",
       " 'isalnum',\n",
       " 'isalpha',\n",
       " 'isascii',\n",
       " 'isdecimal',\n",
       " 'isdigit',\n",
       " 'isidentifier',\n",
       " 'islower',\n",
       " 'isnumeric',\n",
       " 'isprintable',\n",
       " 'isspace',\n",
       " 'istitle',\n",
       " 'isupper',\n",
       " 'join',\n",
       " 'ljust',\n",
       " 'lower',\n",
       " 'lstrip',\n",
       " 'maketrans',\n",
       " 'partition',\n",
       " 'removeprefix',\n",
       " 'removesuffix',\n",
       " 'replace',\n",
       " 'rfind',\n",
       " 'rindex',\n",
       " 'rjust',\n",
       " 'rpartition',\n",
       " 'rsplit',\n",
       " 'rstrip',\n",
       " 'split',\n",
       " 'splitlines',\n",
       " 'startswith',\n",
       " 'strip',\n",
       " 'swapcase',\n",
       " 'title',\n",
       " 'translate',\n",
       " 'upper',\n",
       " 'zfill']"
      ]
     },
     "execution_count": 214,
     "metadata": {},
     "output_type": "execute_result"
    }
   ],
   "source": [
    "name=\"python\"\n",
    "dir(name)"
   ]
  },
  {
   "cell_type": "markdown",
   "id": "20403ea0-0d62-4a65-a403-9505efba5af0",
   "metadata": {},
   "source": [
    "**upper**"
   ]
  },
  {
   "cell_type": "code",
   "execution_count": 230,
   "id": "05d6d8b8-63e4-4fe9-8fe4-75d373e13547",
   "metadata": {},
   "outputs": [
    {
     "data": {
      "text/plain": [
       "'WELCOME TO NARSH IT'"
      ]
     },
     "execution_count": 230,
     "metadata": {},
     "output_type": "execute_result"
    }
   ],
   "source": [
    "str1='welcome to narsh IT'\n",
    "str1.upper()"
   ]
  },
  {
   "cell_type": "markdown",
   "id": "e32efe2c-a601-476f-9787-835d9bcd477e",
   "metadata": {},
   "source": [
    "- lower\n",
    "\n",
    "- title\n",
    "\n",
    "- capitalize\n",
    "\n",
    "- casefold"
   ]
  },
  {
   "cell_type": "code",
   "execution_count": 233,
   "id": "2300add0-9a84-4193-96ba-6a3e2453c855",
   "metadata": {},
   "outputs": [
    {
     "data": {
      "text/plain": [
       "'welcome to narsh it'"
      ]
     },
     "execution_count": 233,
     "metadata": {},
     "output_type": "execute_result"
    }
   ],
   "source": [
    "str1.lower()"
   ]
  },
  {
   "cell_type": "code",
   "execution_count": 235,
   "id": "b8ad66d3-227b-4729-b049-997b8649e7cc",
   "metadata": {},
   "outputs": [
    {
     "data": {
      "text/plain": [
       "'Welcome To Narsh It'"
      ]
     },
     "execution_count": 235,
     "metadata": {},
     "output_type": "execute_result"
    }
   ],
   "source": [
    "str1.title()"
   ]
  },
  {
   "cell_type": "code",
   "execution_count": 237,
   "id": "5f7e74cf-369c-4d99-a3c6-93ba19a37970",
   "metadata": {},
   "outputs": [
    {
     "data": {
      "text/plain": [
       "'Welcome to narsh it'"
      ]
     },
     "execution_count": 237,
     "metadata": {},
     "output_type": "execute_result"
    }
   ],
   "source": [
    "str1.capitalize()"
   ]
  },
  {
   "cell_type": "code",
   "execution_count": 239,
   "id": "5be05ebb-c3fc-4ff3-a2bf-1e0b4af95224",
   "metadata": {},
   "outputs": [
    {
     "data": {
      "text/plain": [
       "'welcome to narsh it'"
      ]
     },
     "execution_count": 239,
     "metadata": {},
     "output_type": "execute_result"
    }
   ],
   "source": [
    "str1.casefold()"
   ]
  },
  {
   "cell_type": "code",
   "execution_count": null,
   "id": "7b8f0f74-482f-430b-85ab-8200aafd544f",
   "metadata": {},
   "outputs": [],
   "source": [
    "str1.upper()\n",
    "str1.lower()\n",
    "str1.capitalize()\n",
    "str1.casefold()\n",
    "str1.title()"
   ]
  },
  {
   "cell_type": "markdown",
   "id": "01bd5c26-5df9-49f0-a233-1b783eaaf03a",
   "metadata": {},
   "source": [
    "**difference between methods and inbuilt function**"
   ]
  },
  {
   "cell_type": "code",
   "execution_count": null,
   "id": "9a430710-bb98-4cd9-af1a-966cb389ad59",
   "metadata": {},
   "outputs": [],
   "source": [
    "#### inbuilt function ############\n",
    "\n",
    "len('python')\n",
    "max()\n",
    "min()\n",
    "type()\n",
    "print()\n",
    "sum()\n",
    "\n",
    "\n",
    "##### Methods ###############\n",
    "\n",
    "str1.upper()\n",
    "str1.capitalize()\n",
    "str1.center()\n",
    "str1.casefold()\n",
    "str1.lower()"
   ]
  },
  {
   "cell_type": "markdown",
   "id": "32d3a702-6a4d-445e-82bc-a9522b0b73a1",
   "metadata": {},
   "source": [
    "**centre**"
   ]
  },
  {
   "cell_type": "code",
   "execution_count": 245,
   "id": "5f4a8aeb-6a17-478f-ae6d-d2aedf6ca134",
   "metadata": {},
   "outputs": [
    {
     "data": {
      "text/plain": [
       "'   python   '"
      ]
     },
     "execution_count": 245,
     "metadata": {},
     "output_type": "execute_result"
    }
   ],
   "source": [
    "str1=\"python\"\n",
    "str1.center(12)"
   ]
  },
  {
   "cell_type": "code",
   "execution_count": 253,
   "id": "e0b1ee3a-afc4-4d38-bae4-24714cb2fb6f",
   "metadata": {},
   "outputs": [
    {
     "data": {
      "text/plain": [
       "'***python***'"
      ]
     },
     "execution_count": 253,
     "metadata": {},
     "output_type": "execute_result"
    }
   ],
   "source": [
    "str1=\"python\"\n",
    "str1.center(12,'*')\n",
    "\n",
    "# here the lenght of the string becomes 12 characters\n",
    "# already 'python' has 6 characters\n",
    "# so remaining 6 characters padd as '*'"
   ]
  },
  {
   "cell_type": "code",
   "execution_count": 251,
   "id": "5055b17b-6301-4899-80fb-872518d3964d",
   "metadata": {},
   "outputs": [
    {
     "data": {
      "text/plain": [
       "'****python***'"
      ]
     },
     "execution_count": 251,
     "metadata": {},
     "output_type": "execute_result"
    }
   ],
   "source": [
    "str1=\"python\"\n",
    "str1.center(13,'*')"
   ]
  },
  {
   "cell_type": "code",
   "execution_count": 255,
   "id": "365875a3-ac8a-4841-bcff-415862d6a786",
   "metadata": {},
   "outputs": [
    {
     "data": {
      "text/plain": [
       "'*python'"
      ]
     },
     "execution_count": 255,
     "metadata": {},
     "output_type": "execute_result"
    }
   ],
   "source": [
    "str1=\"python\"\n",
    "str1.center(7,'*')"
   ]
  },
  {
   "cell_type": "code",
   "execution_count": 257,
   "id": "20090c67-9a76-426d-aba2-6efc5e5eedb2",
   "metadata": {},
   "outputs": [
    {
     "data": {
      "text/plain": [
       "'python'"
      ]
     },
     "execution_count": 257,
     "metadata": {},
     "output_type": "execute_result"
    }
   ],
   "source": [
    "str1=\"python\"\n",
    "str1.center(6,'*')"
   ]
  },
  {
   "cell_type": "code",
   "execution_count": 259,
   "id": "5ae93ede-9afc-4a35-95e0-d04f476db868",
   "metadata": {},
   "outputs": [
    {
     "data": {
      "text/plain": [
       "'python'"
      ]
     },
     "execution_count": 259,
     "metadata": {},
     "output_type": "execute_result"
    }
   ],
   "source": [
    "str1=\"python\"\n",
    "str1.center(5,'*')"
   ]
  },
  {
   "cell_type": "markdown",
   "id": "6ba855eb-c63f-4e9b-8f15-b3a9acb88ba2",
   "metadata": {},
   "source": [
    "- **strip** - strip the characters both left and right side\n",
    "- **lstrip** - remove the characters on left side\n",
    "- **rstrip** - remove the characters on right side"
   ]
  },
  {
   "cell_type": "code",
   "execution_count": 282,
   "id": "0f2fc536-e79b-403d-96f2-048088f4dc24",
   "metadata": {},
   "outputs": [
    {
     "data": {
      "text/plain": [
       "('python', 'python  ', '   python')"
      ]
     },
     "execution_count": 282,
     "metadata": {},
     "output_type": "execute_result"
    }
   ],
   "source": [
    "str1=\"   python  \"\n",
    "str2 = '*****python***'\n",
    "str3 = '    python****'\n",
    "\n",
    "str1.strip(),str1.lstrip(),str1.rstrip()"
   ]
  },
  {
   "cell_type": "code",
   "execution_count": 284,
   "id": "b6db8ab5-84e3-4744-8fe5-74e883fed2f5",
   "metadata": {},
   "outputs": [
    {
     "data": {
      "text/plain": [
       "('python', 'python***', '*****python')"
      ]
     },
     "execution_count": 284,
     "metadata": {},
     "output_type": "execute_result"
    }
   ],
   "source": [
    "str2.strip('*'),str2.lstrip('*'),str2.rstrip('*')"
   ]
  },
  {
   "cell_type": "code",
   "execution_count": 286,
   "id": "537e4972-44dc-4518-9761-9afdcce5dc56",
   "metadata": {},
   "outputs": [
    {
     "data": {
      "text/plain": [
       "'python'"
      ]
     },
     "execution_count": 286,
     "metadata": {},
     "output_type": "execute_result"
    }
   ],
   "source": [
    "str3.strip().rstrip('*')"
   ]
  },
  {
   "cell_type": "markdown",
   "id": "3736d002-7392-4b98-b6bd-27e5fa0c478b",
   "metadata": {},
   "source": [
    "**startswith**"
   ]
  },
  {
   "cell_type": "code",
   "execution_count": 6,
   "id": "14590940-83e0-41d6-a96b-90af8631861f",
   "metadata": {},
   "outputs": [],
   "source": [
    "str1=\"Hello How are you\""
   ]
  },
  {
   "cell_type": "code",
   "execution_count": 8,
   "id": "bad4a0d5-9ef9-4e9c-a150-37ae56a1f819",
   "metadata": {},
   "outputs": [
    {
     "data": {
      "text/plain": [
       "True"
      ]
     },
     "execution_count": 8,
     "metadata": {},
     "output_type": "execute_result"
    }
   ],
   "source": [
    "str1.startswith(\"Hello\")"
   ]
  },
  {
   "cell_type": "code",
   "execution_count": 10,
   "id": "35e24b6b-8dad-441e-a94f-f52b494675bb",
   "metadata": {},
   "outputs": [
    {
     "data": {
      "text/plain": [
       "False"
      ]
     },
     "execution_count": 10,
     "metadata": {},
     "output_type": "execute_result"
    }
   ],
   "source": [
    "str1.startswith(\"Hello how\")"
   ]
  },
  {
   "cell_type": "code",
   "execution_count": 12,
   "id": "6b8377a0-f261-4547-9664-4043c3be91e0",
   "metadata": {},
   "outputs": [
    {
     "data": {
      "text/plain": [
       "True"
      ]
     },
     "execution_count": 12,
     "metadata": {},
     "output_type": "execute_result"
    }
   ],
   "source": [
    "str1.startswith(\"Hello How\")"
   ]
  },
  {
   "cell_type": "code",
   "execution_count": 14,
   "id": "5a90e3cc-5c86-4c90-9ccb-abb456521d01",
   "metadata": {},
   "outputs": [
    {
     "data": {
      "text/plain": [
       "True"
      ]
     },
     "execution_count": 14,
     "metadata": {},
     "output_type": "execute_result"
    }
   ],
   "source": [
    "str1.startswith(\"Hello How are you\")"
   ]
  },
  {
   "cell_type": "code",
   "execution_count": 16,
   "id": "8b9fea8d-de66-49f1-8deb-f26c60baaef6",
   "metadata": {},
   "outputs": [
    {
     "data": {
      "text/plain": [
       "True"
      ]
     },
     "execution_count": 16,
     "metadata": {},
     "output_type": "execute_result"
    }
   ],
   "source": [
    "str1.startswith(str1)"
   ]
  },
  {
   "cell_type": "markdown",
   "id": "09f11d0a-b613-41fa-aa37-680773cbd8f4",
   "metadata": {},
   "source": [
    "**endswith**"
   ]
  },
  {
   "cell_type": "code",
   "execution_count": 18,
   "id": "123b7c78-a54a-4383-9390-f241ebfaa9b6",
   "metadata": {},
   "outputs": [
    {
     "data": {
      "text/plain": [
       "True"
      ]
     },
     "execution_count": 18,
     "metadata": {},
     "output_type": "execute_result"
    }
   ],
   "source": [
    "str1.endswith(\"Hello How are you\")"
   ]
  },
  {
   "cell_type": "code",
   "execution_count": 20,
   "id": "7e45b1a2-062d-46bb-afc1-7e5959c932a0",
   "metadata": {},
   "outputs": [
    {
     "data": {
      "text/plain": [
       "True"
      ]
     },
     "execution_count": 20,
     "metadata": {},
     "output_type": "execute_result"
    }
   ],
   "source": [
    "str1.endswith(\"you\")"
   ]
  },
  {
   "cell_type": "code",
   "execution_count": 22,
   "id": "f7c5848d-194b-4b6d-95a7-0903ca907609",
   "metadata": {},
   "outputs": [
    {
     "data": {
      "text/plain": [
       "True"
      ]
     },
     "execution_count": 22,
     "metadata": {},
     "output_type": "execute_result"
    }
   ],
   "source": [
    "str1.endswith(\"u\")"
   ]
  },
  {
   "cell_type": "code",
   "execution_count": 24,
   "id": "10e49cb1-6124-481a-b862-8992bc5157e5",
   "metadata": {},
   "outputs": [
    {
     "data": {
      "text/plain": [
       "False"
      ]
     },
     "execution_count": 24,
     "metadata": {},
     "output_type": "execute_result"
    }
   ],
   "source": [
    "str1.endswith(\"He\")"
   ]
  },
  {
   "cell_type": "markdown",
   "id": "6e9f99a9-abca-49e8-aedc-1820a52263b3",
   "metadata": {},
   "source": [
    "**count**"
   ]
  },
  {
   "cell_type": "code",
   "execution_count": 27,
   "id": "430fae80-14e9-434c-9bd6-94153e88094f",
   "metadata": {},
   "outputs": [
    {
     "data": {
      "text/plain": [
       "3"
      ]
     },
     "execution_count": 27,
     "metadata": {},
     "output_type": "execute_result"
    }
   ],
   "source": [
    "str1 = \"ola ola ola\"\n",
    "str1.count('a')"
   ]
  },
  {
   "cell_type": "code",
   "execution_count": 29,
   "id": "1d39e9a4-b776-43b7-99d8-78229abcc7d4",
   "metadata": {},
   "outputs": [
    {
     "data": {
      "text/plain": [
       "3"
      ]
     },
     "execution_count": 29,
     "metadata": {},
     "output_type": "execute_result"
    }
   ],
   "source": [
    "str1 = \"ola ola ola\"\n",
    "str1.count('o')"
   ]
  },
  {
   "cell_type": "code",
   "execution_count": 31,
   "id": "68d24e5d-ec98-494a-9952-49ab81cd97ec",
   "metadata": {},
   "outputs": [
    {
     "data": {
      "text/plain": [
       "3"
      ]
     },
     "execution_count": 31,
     "metadata": {},
     "output_type": "execute_result"
    }
   ],
   "source": [
    "str1 = \"ola ola ola\"\n",
    "str1.count('ola')"
   ]
  },
  {
   "cell_type": "code",
   "execution_count": 33,
   "id": "40669de8-7289-40e6-bd2c-e4d550b0e3e3",
   "metadata": {},
   "outputs": [
    {
     "data": {
      "text/plain": [
       "3"
      ]
     },
     "execution_count": 33,
     "metadata": {},
     "output_type": "execute_result"
    }
   ],
   "source": [
    "str1 = \"ola ola ola\"\n",
    "str1.count('la')"
   ]
  },
  {
   "cell_type": "code",
   "execution_count": 35,
   "id": "28966b0f-5e49-457a-8e8d-64f138be96e3",
   "metadata": {},
   "outputs": [
    {
     "data": {
      "text/plain": [
       "2"
      ]
     },
     "execution_count": 35,
     "metadata": {},
     "output_type": "execute_result"
    }
   ],
   "source": [
    "str1 = \"ola ola ola\"\n",
    "str1.count('ola ')"
   ]
  },
  {
   "cell_type": "code",
   "execution_count": 37,
   "id": "1a06bc2b-0f00-44bd-a44f-8ca41b0eaa5b",
   "metadata": {},
   "outputs": [
    {
     "data": {
      "text/plain": [
       "2"
      ]
     },
     "execution_count": 37,
     "metadata": {},
     "output_type": "execute_result"
    }
   ],
   "source": [
    "str1 = \"ola ola ola\"\n",
    "str1.count('a',4)"
   ]
  },
  {
   "cell_type": "code",
   "execution_count": 39,
   "id": "744bcd2b-ef15-4488-9caf-2cc143889100",
   "metadata": {},
   "outputs": [
    {
     "data": {
      "text/plain": [
       "2"
      ]
     },
     "execution_count": 39,
     "metadata": {},
     "output_type": "execute_result"
    }
   ],
   "source": [
    "str1 = \"ola ola ola\"\n",
    "str1.count('a',6)"
   ]
  },
  {
   "cell_type": "code",
   "execution_count": 41,
   "id": "b70f87d4-3978-4afc-865c-eeb46118c510",
   "metadata": {},
   "outputs": [
    {
     "data": {
      "text/plain": [
       "1"
      ]
     },
     "execution_count": 41,
     "metadata": {},
     "output_type": "execute_result"
    }
   ],
   "source": [
    "str1 = \"ola ola ola\"\n",
    "str1.count('a',7)"
   ]
  },
  {
   "cell_type": "code",
   "execution_count": 45,
   "id": "b31ac2a1-1c94-4dd6-92e6-5ff0b77c68f8",
   "metadata": {},
   "outputs": [
    {
     "data": {
      "text/plain": [
       "1"
      ]
     },
     "execution_count": 45,
     "metadata": {},
     "output_type": "execute_result"
    }
   ],
   "source": [
    "str1 = \"ola ola ola\"\n",
    "str1.count('o',4,8)\n",
    "\n",
    "#start -- 4\n",
    "#last  == stop-1 == 8-1 ==7"
   ]
  },
  {
   "cell_type": "code",
   "execution_count": 49,
   "id": "538e3597-81dd-4c27-a30c-be614fa06d2b",
   "metadata": {},
   "outputs": [
    {
     "data": {
      "text/plain": [
       "1"
      ]
     },
     "execution_count": 49,
     "metadata": {},
     "output_type": "execute_result"
    }
   ],
   "source": [
    "str1 = \"ola ola ola\"\n",
    "str1.count('o',0,3)"
   ]
  },
  {
   "cell_type": "code",
   "execution_count": 51,
   "id": "62ddce3a-a907-4cf6-af18-fae14e9fe4a0",
   "metadata": {},
   "outputs": [
    {
     "data": {
      "text/plain": [
       "1"
      ]
     },
     "execution_count": 51,
     "metadata": {},
     "output_type": "execute_result"
    }
   ],
   "source": [
    "str1 = \"ola ola ola\"\n",
    "str1.count('o',3,6)"
   ]
  },
  {
   "cell_type": "code",
   "execution_count": 53,
   "id": "b34ee628-c408-4e06-9d91-d228d0ea8519",
   "metadata": {},
   "outputs": [
    {
     "data": {
      "text/plain": [
       "0"
      ]
     },
     "execution_count": 53,
     "metadata": {},
     "output_type": "execute_result"
    }
   ],
   "source": [
    "str1 = \"ola ola ola\"\n",
    "str1.count('o',-1,-10)"
   ]
  },
  {
   "cell_type": "code",
   "execution_count": 55,
   "id": "359e876e-2f81-44fc-8ce7-cc339635e153",
   "metadata": {},
   "outputs": [
    {
     "data": {
      "text/plain": [
       "0"
      ]
     },
     "execution_count": 55,
     "metadata": {},
     "output_type": "execute_result"
    }
   ],
   "source": [
    "str1 = \"ola ola ola\"\n",
    "str1.count('o',-1,10)"
   ]
  },
  {
   "cell_type": "code",
   "execution_count": 57,
   "id": "0621e74c-0124-416c-a155-024d0d0f267b",
   "metadata": {},
   "outputs": [
    {
     "data": {
      "text/plain": [
       "2"
      ]
     },
     "execution_count": 57,
     "metadata": {},
     "output_type": "execute_result"
    }
   ],
   "source": [
    "str1 = \"ola ola ola\"\n",
    "str1.count('o',-10,-1)"
   ]
  },
  {
   "cell_type": "code",
   "execution_count": 61,
   "id": "3fe10e31-460f-4a34-b2bc-d6cc7ca73905",
   "metadata": {},
   "outputs": [
    {
     "data": {
      "text/plain": [
       "0"
      ]
     },
     "execution_count": 61,
     "metadata": {},
     "output_type": "execute_result"
    }
   ],
   "source": [
    "str1 = \"ola ola ola\"\n",
    "str1.count('z')\n",
    "\n",
    "# if nothing available then count will be zero"
   ]
  },
  {
   "cell_type": "code",
   "execution_count": 75,
   "id": "5d009822-90fb-4ee6-acbf-c92e2eaed0de",
   "metadata": {},
   "outputs": [],
   "source": [
    "#wap to count the substring 'ola' in the below string\n",
    "# str1=\"ola ola ola\"\n",
    "#without using count"
   ]
  },
  {
   "cell_type": "markdown",
   "id": "6b8fc90a-a3c6-4222-8434-9c211d125718",
   "metadata": {},
   "source": [
    "**slicing window approach**\n",
    "\n",
    "- fix gthe slice value first\n",
    "\n",
    "- then increase the slice by 1\n",
    "\n",
    "- whenever it is equal to 1\n",
    "\n",
    "- the update the count"
   ]
  },
  {
   "cell_type": "code",
   "execution_count": 92,
   "id": "f239304b-adb6-468a-9211-41f5b7582e03",
   "metadata": {},
   "outputs": [
    {
     "name": "stdout",
     "output_type": "stream",
     "text": [
      "4\n"
     ]
    }
   ],
   "source": [
    "str1=\"ola ola ola ola \"\n",
    "count=0\n",
    "for i in range(0,len(str1)):\n",
    "    if str1[i:i+3]=='ola':\n",
    "        count=count+1\n",
    "print(count)"
   ]
  },
  {
   "cell_type": "code",
   "execution_count": null,
   "id": "5d47f1e6-f632-4f60-8c6e-8d6136b209de",
   "metadata": {},
   "outputs": [],
   "source": []
  },
  {
   "cell_type": "markdown",
   "id": "11d728f5-caab-45f2-be59-40c81f19f78c",
   "metadata": {},
   "source": [
    "**replace**\n",
    "\n",
    "- by default it will replace all the occurences\n",
    "\n",
    "- the user can provide count which indicates how many letters can replace\n",
    "\n",
    "- if the string not found it will return the original string itself"
   ]
  },
  {
   "cell_type": "code",
   "execution_count": 95,
   "id": "7348eafc-6d2d-4f66-b918-60581b11e62f",
   "metadata": {},
   "outputs": [],
   "source": [
    "str1=\"welcome\""
   ]
  },
  {
   "cell_type": "code",
   "execution_count": 97,
   "id": "1d4d9a64-f919-4499-90df-d608f187e181",
   "metadata": {},
   "outputs": [
    {
     "data": {
      "text/plain": [
       "'weLcome'"
      ]
     },
     "execution_count": 97,
     "metadata": {},
     "output_type": "execute_result"
    }
   ],
   "source": [
    "str1.replace('l','L')"
   ]
  },
  {
   "cell_type": "code",
   "execution_count": 103,
   "id": "79a13bc8-186e-43f2-889b-5eedfd39f3c7",
   "metadata": {},
   "outputs": [
    {
     "data": {
      "text/plain": [
       "'weLLLLcome'"
      ]
     },
     "execution_count": 103,
     "metadata": {},
     "output_type": "execute_result"
    }
   ],
   "source": [
    "str1=\"wellllcome\"\n",
    "str1.replace('l','L')"
   ]
  },
  {
   "cell_type": "code",
   "execution_count": 105,
   "id": "3b2b2665-29a8-46bb-bb09-be700f9058e0",
   "metadata": {},
   "outputs": [
    {
     "data": {
      "text/plain": [
       "'weLlllcome'"
      ]
     },
     "execution_count": 105,
     "metadata": {},
     "output_type": "execute_result"
    }
   ],
   "source": [
    "str1=\"wellllcome\"\n",
    "str1.replace('l','L',1)"
   ]
  },
  {
   "cell_type": "code",
   "execution_count": 107,
   "id": "280c507c-c3e1-4090-b27e-e911ed10af4b",
   "metadata": {},
   "outputs": [
    {
     "data": {
      "text/plain": [
       "'weLLLLcome'"
      ]
     },
     "execution_count": 107,
     "metadata": {},
     "output_type": "execute_result"
    }
   ],
   "source": [
    "str1=\"wellllcome\"\n",
    "str1.replace('l','L',5)"
   ]
  },
  {
   "cell_type": "code",
   "execution_count": 109,
   "id": "9c791034-a739-4f30-b201-5d0472dd1380",
   "metadata": {},
   "outputs": [
    {
     "ename": "TypeError",
     "evalue": "unsupported operand type(s) for -: 'str' and 'int'",
     "output_type": "error",
     "traceback": [
      "\u001b[1;31m---------------------------------------------------------------------------\u001b[0m",
      "\u001b[1;31mTypeError\u001b[0m                                 Traceback (most recent call last)",
      "Cell \u001b[1;32mIn[109], line 2\u001b[0m\n\u001b[0;32m      1\u001b[0m str1\u001b[38;5;241m=\u001b[39m\u001b[38;5;124m\"\u001b[39m\u001b[38;5;124mwellllcome\u001b[39m\u001b[38;5;124m\"\u001b[39m\n\u001b[1;32m----> 2\u001b[0m str1\u001b[38;5;241m.\u001b[39mreplace(\u001b[38;5;124m'\u001b[39m\u001b[38;5;124ml\u001b[39m\u001b[38;5;124m'\u001b[39m,\u001b[38;5;124m'\u001b[39m\u001b[38;5;124mL\u001b[39m\u001b[38;5;124m'\u001b[39m\u001b[38;5;241m-\u001b[39m\u001b[38;5;241m1\u001b[39m)\n",
      "\u001b[1;31mTypeError\u001b[0m: unsupported operand type(s) for -: 'str' and 'int'"
     ]
    }
   ],
   "source": [
    "str1=\"wellllcome\"\n",
    "str1.replace('l','L'-1)"
   ]
  },
  {
   "cell_type": "code",
   "execution_count": 99,
   "id": "79e899e5-5590-4ecd-a90f-3f02d06d623f",
   "metadata": {},
   "outputs": [
    {
     "data": {
      "text/plain": [
       "'WELcome'"
      ]
     },
     "execution_count": 99,
     "metadata": {},
     "output_type": "execute_result"
    }
   ],
   "source": [
    "str1.replace('wel','WEL')"
   ]
  },
  {
   "cell_type": "code",
   "execution_count": 101,
   "id": "092d72a9-eb91-46be-965a-def43b627646",
   "metadata": {},
   "outputs": [
    {
     "data": {
      "text/plain": [
       "'welcome'"
      ]
     },
     "execution_count": 101,
     "metadata": {},
     "output_type": "execute_result"
    }
   ],
   "source": [
    "str1.replace('z','Z')"
   ]
  },
  {
   "cell_type": "code",
   "execution_count": 116,
   "id": "d393c0f6-3ecb-4e86-aa18-fc23d00de77d",
   "metadata": {},
   "outputs": [
    {
     "name": "stdout",
     "output_type": "stream",
     "text": [
      "$t\n",
      "resta$t\n"
     ]
    }
   ],
   "source": [
    "#replace r with $\n",
    "# o/p -- resta$t\n",
    "\n",
    "str1='restart'\n",
    "str2=str1[0:5]\n",
    "str3=str1[5:7]\n",
    "str3=str3.replace('r','$')\n",
    "print(str3)\n",
    "print(str2+str3)"
   ]
  },
  {
   "cell_type": "code",
   "execution_count": 120,
   "id": "e120ae84-3d93-4a72-9cd5-f48276a5f61f",
   "metadata": {},
   "outputs": [
    {
     "data": {
      "text/plain": [
       "'resta$t'"
      ]
     },
     "execution_count": 120,
     "metadata": {},
     "output_type": "execute_result"
    }
   ],
   "source": [
    "str1=\"restart\"\n",
    "str1[::-1].replace('r','$',1)[::-1]"
   ]
  },
  {
   "cell_type": "markdown",
   "id": "0d4b7cd5-591a-43d6-bf7b-0167ca2194f0",
   "metadata": {},
   "source": [
    "**index**\n",
    "\n",
    "- by default first string index will come"
   ]
  },
  {
   "cell_type": "code",
   "execution_count": 127,
   "id": "a37a4358-d2ac-471f-bbe5-aa1464c6695e",
   "metadata": {},
   "outputs": [
    {
     "data": {
      "text/plain": [
       "0"
      ]
     },
     "execution_count": 127,
     "metadata": {},
     "output_type": "execute_result"
    }
   ],
   "source": [
    "str1=\"restart restart\"\n",
    "str1.index('restart')"
   ]
  },
  {
   "cell_type": "code",
   "execution_count": 129,
   "id": "c76782f0-26be-4aca-98d9-49fcbee16390",
   "metadata": {},
   "outputs": [
    {
     "data": {
      "text/plain": [
       "1"
      ]
     },
     "execution_count": 129,
     "metadata": {},
     "output_type": "execute_result"
    }
   ],
   "source": [
    "str1=\"restart restart\"\n",
    "str1.index('e')"
   ]
  },
  {
   "cell_type": "code",
   "execution_count": 131,
   "id": "787ecb58-0cce-4e4f-8e40-d0b5afeb1a72",
   "metadata": {},
   "outputs": [
    {
     "data": {
      "text/plain": [
       "0"
      ]
     },
     "execution_count": 131,
     "metadata": {},
     "output_type": "execute_result"
    }
   ],
   "source": [
    "str1=\"restart restart\"\n",
    "str1.index('r')"
   ]
  },
  {
   "cell_type": "code",
   "execution_count": 133,
   "id": "e1bc7f45-dcef-4082-8a0c-bcb53cdc038f",
   "metadata": {},
   "outputs": [
    {
     "data": {
      "text/plain": [
       "4"
      ]
     },
     "execution_count": 133,
     "metadata": {},
     "output_type": "execute_result"
    }
   ],
   "source": [
    "str1=\"restart restart\"\n",
    "str1.index('art')"
   ]
  },
  {
   "cell_type": "code",
   "execution_count": 135,
   "id": "1b079742-8b78-4db7-a014-5f327c93dca3",
   "metadata": {},
   "outputs": [
    {
     "data": {
      "text/plain": [
       "4"
      ]
     },
     "execution_count": 135,
     "metadata": {},
     "output_type": "execute_result"
    }
   ],
   "source": [
    "str1=\"restart restart\"\n",
    "str1.index('a')"
   ]
  },
  {
   "cell_type": "code",
   "execution_count": 139,
   "id": "0decce39-ac45-42ef-abcb-9e34659d86a8",
   "metadata": {},
   "outputs": [
    {
     "data": {
      "text/plain": [
       "12"
      ]
     },
     "execution_count": 139,
     "metadata": {},
     "output_type": "execute_result"
    }
   ],
   "source": [
    "str1=\"restart restart\"\n",
    "str1.index('a',5)"
   ]
  },
  {
   "cell_type": "code",
   "execution_count": 137,
   "id": "9287a18d-a459-42c4-82c6-747ca61d52e1",
   "metadata": {},
   "outputs": [
    {
     "ename": "ValueError",
     "evalue": "substring not found",
     "output_type": "error",
     "traceback": [
      "\u001b[1;31m---------------------------------------------------------------------------\u001b[0m",
      "\u001b[1;31mValueError\u001b[0m                                Traceback (most recent call last)",
      "Cell \u001b[1;32mIn[137], line 2\u001b[0m\n\u001b[0;32m      1\u001b[0m str1\u001b[38;5;241m=\u001b[39m\u001b[38;5;124m\"\u001b[39m\u001b[38;5;124mrestart restart\u001b[39m\u001b[38;5;124m\"\u001b[39m\n\u001b[1;32m----> 2\u001b[0m str1\u001b[38;5;241m.\u001b[39mindex(\u001b[38;5;124m'\u001b[39m\u001b[38;5;124mhello\u001b[39m\u001b[38;5;124m'\u001b[39m)\n",
      "\u001b[1;31mValueError\u001b[0m: substring not found"
     ]
    }
   ],
   "source": [
    "str1=\"restart restart\"\n",
    "str1.index('hello')"
   ]
  },
  {
   "cell_type": "code",
   "execution_count": 149,
   "id": "44f217ad-1e91-4460-bba1-c38f52524cc4",
   "metadata": {},
   "outputs": [
    {
     "name": "stdout",
     "output_type": "stream",
     "text": [
      "0\n",
      "5\n",
      "8\n",
      "13\n"
     ]
    }
   ],
   "source": [
    "str1=\"restart restart\"\n",
    "i1=str1.index('r')\n",
    "print(i1)\n",
    "i2=str1.index('r',i1+1)\n",
    "print(i2)\n",
    "i3=str1.index('r',i2+1)\n",
    "print(i3)\n",
    "i4=str1.index('r',i3+1)\n",
    "print(i4)"
   ]
  },
  {
   "cell_type": "markdown",
   "id": "82c4e75f-9147-4790-a78d-277e43d5c8c7",
   "metadata": {},
   "source": [
    "**find**"
   ]
  },
  {
   "cell_type": "code",
   "execution_count": 152,
   "id": "4e5ae0a2-f6ef-440b-bb08-03639dfad903",
   "metadata": {},
   "outputs": [
    {
     "data": {
      "text/plain": [
       "0"
      ]
     },
     "execution_count": 152,
     "metadata": {},
     "output_type": "execute_result"
    }
   ],
   "source": [
    "str1='restart'\n",
    "str1.count('z')"
   ]
  },
  {
   "cell_type": "code",
   "execution_count": 154,
   "id": "f579923c-fbef-4b2f-bfbe-917c59d94067",
   "metadata": {},
   "outputs": [
    {
     "data": {
      "text/plain": [
       "'restart'"
      ]
     },
     "execution_count": 154,
     "metadata": {},
     "output_type": "execute_result"
    }
   ],
   "source": [
    "str1.replace('z','Z')"
   ]
  },
  {
   "cell_type": "code",
   "execution_count": 156,
   "id": "36d5bab9-c5c5-4715-afd1-3cef2aa79a30",
   "metadata": {},
   "outputs": [
    {
     "ename": "ValueError",
     "evalue": "substring not found",
     "output_type": "error",
     "traceback": [
      "\u001b[1;31m---------------------------------------------------------------------------\u001b[0m",
      "\u001b[1;31mValueError\u001b[0m                                Traceback (most recent call last)",
      "Cell \u001b[1;32mIn[156], line 1\u001b[0m\n\u001b[1;32m----> 1\u001b[0m str1\u001b[38;5;241m.\u001b[39mindex(\u001b[38;5;124m'\u001b[39m\u001b[38;5;124mz\u001b[39m\u001b[38;5;124m'\u001b[39m)\n",
      "\u001b[1;31mValueError\u001b[0m: substring not found"
     ]
    }
   ],
   "source": [
    "str1.index('z')"
   ]
  },
  {
   "cell_type": "code",
   "execution_count": 158,
   "id": "f3c8a450-3ade-4704-8cd5-2933f3e95381",
   "metadata": {},
   "outputs": [
    {
     "data": {
      "text/plain": [
       "-1"
      ]
     },
     "execution_count": 158,
     "metadata": {},
     "output_type": "execute_result"
    }
   ],
   "source": [
    "str1.find('z')"
   ]
  },
  {
   "cell_type": "code",
   "execution_count": 1,
   "id": "a42f4959-1715-410c-aeba-0837c97df351",
   "metadata": {},
   "outputs": [],
   "source": [
    "str1=\"virat.kohli@rcb.com\"\n",
    "str2=\"rohit.sharma@mi.com\"\n",
    "str3=\"ms.dhoni@csk.com\"\n",
    "#extract first name\n",
    "#extract second name\n",
    "#extract company name\n",
    "\n",
    "\n",
    "#step 1: first extract the . index\n",
    "#step 2: second extract the @ index\n",
    "#step 3: third extract the second . index"
   ]
  },
  {
   "cell_type": "code",
   "execution_count": 45,
   "id": "564215d0-12bd-4d9a-b3d6-915f054a080d",
   "metadata": {},
   "outputs": [
    {
     "name": "stdout",
     "output_type": "stream",
     "text": [
      "5\n",
      "rohit\n",
      "18\n"
     ]
    }
   ],
   "source": [
    "str1=\"virat.kohli@rcb.com\"\n",
    "str1=\"rohit.sharma@mi.com\"\n",
    "str3=\"ms.dhoni@csk.com\"\n",
    "\n",
    "for i in range(0,len(str1)):\n",
    "    #print(i)\n",
    "    if i==str1.index('.'):\n",
    "        print(i)\n",
    "        print(str1[0:i])\n",
    "for j in range(i,len(str1)):\n",
    "    print(j)\n",
    "    if j==str1.index('@'):\n",
    "        print(j)\n",
    "        print(str1[0:j])"
   ]
  },
  {
   "cell_type": "code",
   "execution_count": 65,
   "id": "2a6092cb-8856-4eda-b278-e1b77481823e",
   "metadata": {},
   "outputs": [
    {
     "name": "stdout",
     "output_type": "stream",
     "text": [
      "5\n",
      "virat\n",
      "11\n",
      "kohli\n",
      "15\n",
      "rcb\n"
     ]
    }
   ],
   "source": [
    "str1=\"virat.kohli@rcb.com\"\n",
    "str2=\"rohit.sharma@mi.com\"\n",
    "str3=\"ms.dhoni@csk.com\"\n",
    "\n",
    "\n",
    "first_dot=str1.index('.')\n",
    "print(first_dot)\n",
    "first_name=str1[0:first_dot]\n",
    "print(first_name)\n",
    "\n",
    "####################################################\n",
    "\n",
    "second_index=str1.index('@')\n",
    "print(second_index)\n",
    "second_name=str1[first_dot+1:second_index]\n",
    "print(second_name)\n",
    "\n",
    "##################################################\n",
    "\n",
    "third_index=str1.index('.',first_dot+1)\n",
    "print(third_index)\n",
    "third_name=str1[second_index+1:third_index]\n",
    "print(third_name)"
   ]
  },
  {
   "cell_type": "code",
   "execution_count": 69,
   "id": "c22fa970-1664-4c99-a03a-c8f5ca6ecf84",
   "metadata": {},
   "outputs": [
    {
     "name": "stdout",
     "output_type": "stream",
     "text": [
      "5\n",
      "hello\n",
      "11\n",
      "world\n",
      "17\n",
      "pthon\n"
     ]
    }
   ],
   "source": [
    "str1=\"hello.world@pthon.com\"\n",
    "def extract(str1):\n",
    "    first_dot=str1.index('.')\n",
    "    print(first_dot)\n",
    "    first_name=str1[0:first_dot]\n",
    "    print(first_name)\n",
    "    \n",
    "    ####################################################\n",
    "    \n",
    "    second_index=str1.index('@')\n",
    "    print(second_index)\n",
    "    second_name=str1[first_dot+1:second_index]\n",
    "    print(second_name)\n",
    "    \n",
    "    ##################################################\n",
    "    \n",
    "    third_index=str1.index('.',first_dot+1)\n",
    "    print(third_index)\n",
    "    third_name=str1[second_index+1:third_index]\n",
    "    print(third_name)\n",
    "\n",
    "extract(str1)\n"
   ]
  },
  {
   "cell_type": "markdown",
   "id": "d1c0f7fe-ced6-4f33-9531-eeffcd906b72",
   "metadata": {},
   "source": [
    "- **split** is used to convert a string to list of elements\n",
    "\n",
    "- by default it will split based on space"
   ]
  },
  {
   "cell_type": "code",
   "execution_count": 72,
   "id": "1d99802a-ad70-41d3-a66c-54f999042702",
   "metadata": {},
   "outputs": [
    {
     "data": {
      "text/plain": [
       "['Hello', 'how', 'are', 'you']"
      ]
     },
     "execution_count": 72,
     "metadata": {},
     "output_type": "execute_result"
    }
   ],
   "source": [
    "str1=\" Hello how are you\"\n",
    "str1.split()"
   ]
  },
  {
   "cell_type": "code",
   "execution_count": 74,
   "id": "0b9f96ff-abad-4af0-9037-77d090067927",
   "metadata": {},
   "outputs": [
    {
     "data": {
      "text/plain": [
       "[' Hello ', ' how are you']"
      ]
     },
     "execution_count": 74,
     "metadata": {},
     "output_type": "execute_result"
    }
   ],
   "source": [
    "str1=\" Hello , how are you\"\n",
    "str1.split(',')"
   ]
  },
  {
   "cell_type": "code",
   "execution_count": 80,
   "id": "0a7fe836-df88-43e2-9350-95c68d0e2c10",
   "metadata": {},
   "outputs": [
    {
     "data": {
      "text/plain": [
       "['Hello', 'how,are', 'you']"
      ]
     },
     "execution_count": 80,
     "metadata": {},
     "output_type": "execute_result"
    }
   ],
   "source": [
    "str1=\" Hello how,are you\"\n",
    "str1.split()"
   ]
  },
  {
   "cell_type": "code",
   "execution_count": 82,
   "id": "09385434-08ce-4d72-aa36-1fdb4890fea8",
   "metadata": {},
   "outputs": [
    {
     "data": {
      "text/plain": [
       "[' Hell', ' h', 'w are y', 'u']"
      ]
     },
     "execution_count": 82,
     "metadata": {},
     "output_type": "execute_result"
    }
   ],
   "source": [
    "str1=\" Hello how are you\"\n",
    "str1.split('o')"
   ]
  },
  {
   "cell_type": "markdown",
   "id": "efe7fa0c-45f4-448d-b8a7-7fb24deb6b31",
   "metadata": {},
   "source": [
    "**join**"
   ]
  },
  {
   "cell_type": "code",
   "execution_count": 91,
   "id": "7ceb6338-61ef-47f6-90cf-75d1ef8097ba",
   "metadata": {},
   "outputs": [
    {
     "name": "stdout",
     "output_type": "stream",
     "text": [
      "['Hello', 'how,are', 'you']\n"
     ]
    },
    {
     "data": {
      "text/plain": [
       "'Hello how,are you'"
      ]
     },
     "execution_count": 91,
     "metadata": {},
     "output_type": "execute_result"
    }
   ],
   "source": [
    "str1=\" Hello how,are you\"\n",
    "l=str1.split()   #splitted based on space\n",
    "print(l)\n",
    "\" \".join(l)   # joined based on space"
   ]
  },
  {
   "cell_type": "code",
   "execution_count": 101,
   "id": "9378939a-501f-40b4-94fc-04835bfe43bd",
   "metadata": {},
   "outputs": [
    {
     "name": "stdout",
     "output_type": "stream",
     "text": [
      "[' Hell', ' h', 'w are y', 'u']\n"
     ]
    },
    {
     "data": {
      "text/plain": [
       "' Hello how are you'"
      ]
     },
     "execution_count": 101,
     "metadata": {},
     "output_type": "execute_result"
    }
   ],
   "source": [
    "str1=\" Hello how are you\"\n",
    "l1=str1.split('o')\n",
    "print(l1)\n",
    "\"o\".join(l1)"
   ]
  },
  {
   "cell_type": "code",
   "execution_count": 103,
   "id": "82f62816-6678-41d7-bad4-b21c9bf192d6",
   "metadata": {},
   "outputs": [
    {
     "name": "stdout",
     "output_type": "stream",
     "text": [
      "[' Hell', ' h', 'w are y', 'u']\n"
     ]
    },
    {
     "data": {
      "text/plain": [
       "' Hellt htw are ytu'"
      ]
     },
     "execution_count": 103,
     "metadata": {},
     "output_type": "execute_result"
    }
   ],
   "source": [
    "str1=\" Hello how are you\"\n",
    "l1=str1.split('o')\n",
    "print(l1)\n",
    "\"t\".join(l1)"
   ]
  },
  {
   "cell_type": "markdown",
   "id": "58b5a8b1-3c43-45ee-b9f6-432ab6726c55",
   "metadata": {},
   "source": [
    "- upper/lowe/casefold\n",
    "\n",
    "- title/capitalize\n",
    "\n",
    "- centre\n",
    "\n",
    "- lstrip/rstrip/strip\n",
    "\n",
    "- startswith/endswith\n",
    "\n",
    "- replace\n",
    "\n",
    "- count\n",
    "\n",
    "- index/find\n",
    "\n",
    "- split/join"
   ]
  }
 ],
 "metadata": {
  "kernelspec": {
   "display_name": "Python [conda env:base] *",
   "language": "python",
   "name": "conda-base-py"
  },
  "language_info": {
   "codemirror_mode": {
    "name": "ipython",
    "version": 3
   },
   "file_extension": ".py",
   "mimetype": "text/x-python",
   "name": "python",
   "nbconvert_exporter": "python",
   "pygments_lexer": "ipython3",
   "version": "3.12.7"
  }
 },
 "nbformat": 4,
 "nbformat_minor": 5
}
