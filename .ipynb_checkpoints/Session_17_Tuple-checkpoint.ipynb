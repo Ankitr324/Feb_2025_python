{
 "cells": [
  {
   "cell_type": "markdown",
   "id": "3c88a368-c9b7-41dd-83f4-4dad91891752",
   "metadata": {},
   "source": [
    "- basic representation\n",
    "- inbuilt functions\n",
    "    - type\n",
    "    - print\n",
    "    - min\n",
    "    - max\n",
    "    - length\n",
    "    - sum\n",
    "    - reversed\n",
    "    - sorted\n",
    "\n",
    "- concatenation\n",
    "- index\n",
    "- in\n",
    "- difference between index and in\n",
    "- mutable vs immutable\n",
    "- slice\n",
    "- Methods"
   ]
  },
  {
   "cell_type": "markdown",
   "id": "420409e7-f98e-4767-bf8b-4399e0d7fbbd",
   "metadata": {},
   "source": [
    "**Basic representatiopn**"
   ]
  },
  {
   "cell_type": "code",
   "execution_count": 129,
   "id": "4825858a-d757-4c0b-92af-84fa4edf6010",
   "metadata": {},
   "outputs": [
    {
     "data": {
      "text/plain": [
       "tuple"
      ]
     },
     "execution_count": 129,
     "metadata": {},
     "output_type": "execute_result"
    }
   ],
   "source": [
    "tup=()\n",
    "type(tup)"
   ]
  },
  {
   "cell_type": "code",
   "execution_count": 135,
   "id": "bd9b5cb6-209f-4ddc-b0d1-7e7ac15bd0bf",
   "metadata": {},
   "outputs": [
    {
     "data": {
      "text/plain": [
       "tuple"
      ]
     },
     "execution_count": 135,
     "metadata": {},
     "output_type": "execute_result"
    }
   ],
   "source": [
    "tup=('apple',)\n",
    "type(tup)"
   ]
  },
  {
   "cell_type": "code",
   "execution_count": 112,
   "id": "3ee7297b-898f-4e0e-a716-de884d02236d",
   "metadata": {},
   "outputs": [
    {
     "name": "stdout",
     "output_type": "stream",
     "text": [
      "(1, 2, 3, 4, 3, 5, 4, 2)\n"
     ]
    }
   ],
   "source": [
    "tup=(1,2,3,4,3,5,4,2)\n",
    "print(tup)"
   ]
  },
  {
   "cell_type": "code",
   "execution_count": 110,
   "id": "3b4a9a91-6e1f-4931-afbd-a211f148d34a",
   "metadata": {},
   "outputs": [],
   "source": [
    "tup=('python','data','science')"
   ]
  },
  {
   "cell_type": "code",
   "execution_count": 25,
   "id": "887840cf-7df5-4967-9edf-2c1f1f9fe396",
   "metadata": {},
   "outputs": [
    {
     "name": "stdout",
     "output_type": "stream",
     "text": [
      "('python', 'data', 'science')\n"
     ]
    },
    {
     "data": {
      "text/plain": [
       "tuple"
      ]
     },
     "execution_count": 25,
     "metadata": {},
     "output_type": "execute_result"
    }
   ],
   "source": [
    "print(tup)\n",
    "type(tup)"
   ]
  },
  {
   "cell_type": "code",
   "execution_count": 27,
   "id": "d3b9a1ce-0098-42de-83b8-843fd8cabe51",
   "metadata": {},
   "outputs": [],
   "source": [
    "tup=(10.2,340,'Apple','Cherry',2+3j,True,False,\"230\",'new_123')"
   ]
  },
  {
   "cell_type": "code",
   "execution_count": 29,
   "id": "9e295f56-1358-4c58-993a-ee565b59e82d",
   "metadata": {},
   "outputs": [
    {
     "name": "stdout",
     "output_type": "stream",
     "text": [
      "(10.2, 340, 'Apple', 'Cherry', (2+3j), True, False, '230', 'new_123')\n"
     ]
    },
    {
     "data": {
      "text/plain": [
       "tuple"
      ]
     },
     "execution_count": 29,
     "metadata": {},
     "output_type": "execute_result"
    }
   ],
   "source": [
    "print(tup)\n",
    "type(tup)"
   ]
  },
  {
   "cell_type": "code",
   "execution_count": 49,
   "id": "cfe02d78-d4e8-4b0a-97ec-747b524d12b6",
   "metadata": {},
   "outputs": [
    {
     "name": "stdout",
     "output_type": "stream",
     "text": [
      "(10.2, 340, 'Apple', 'Cherry', (30, 40, 'new_tuple', 'banana'))\n",
      "5\n"
     ]
    }
   ],
   "source": [
    "tup=(10.2,340,'Apple','Cherry',(30,40,'new_tuple','banana'))\n",
    "print(tup)\n",
    "type(tup)\n",
    "print(len(tup))"
   ]
  },
  {
   "cell_type": "code",
   "execution_count": 33,
   "id": "456960e6-6220-4033-a642-c51f3ddf7681",
   "metadata": {},
   "outputs": [
    {
     "name": "stdout",
     "output_type": "stream",
     "text": [
      "('Apple', 'Mango', 'orange', ['inside_list', 10, 40, True], ('inside_tuple', 40, 90))\n"
     ]
    },
    {
     "data": {
      "text/plain": [
       "tuple"
      ]
     },
     "execution_count": 33,
     "metadata": {},
     "output_type": "execute_result"
    }
   ],
   "source": [
    "tup=('Apple','Mango','orange',['inside_list',10,40,True],('inside_tuple',40,90))\n",
    "print(tup)\n",
    "type(tup)"
   ]
  },
  {
   "cell_type": "code",
   "execution_count": 51,
   "id": "2b55ea38-c22f-4842-8d58-e66a276096fc",
   "metadata": {},
   "outputs": [
    {
     "data": {
      "text/plain": [
       "5"
      ]
     },
     "execution_count": 51,
     "metadata": {},
     "output_type": "execute_result"
    }
   ],
   "source": [
    "len(tup)"
   ]
  },
  {
   "cell_type": "code",
   "execution_count": 13,
   "id": "1302be2c-4cb0-45a0-8a40-e5de8e129d2b",
   "metadata": {},
   "outputs": [
    {
     "data": {
      "text/plain": [
       "tuple"
      ]
     },
     "execution_count": 13,
     "metadata": {},
     "output_type": "execute_result"
    }
   ],
   "source": [
    "type(tup)"
   ]
  },
  {
   "cell_type": "code",
   "execution_count": 15,
   "id": "048ad47b-8a25-4892-b20f-f133bb128e88",
   "metadata": {},
   "outputs": [
    {
     "data": {
      "text/plain": [
       "10"
      ]
     },
     "execution_count": 15,
     "metadata": {},
     "output_type": "execute_result"
    }
   ],
   "source": [
    "t1=(10,20,40,50,30)\n",
    "min(t1)"
   ]
  },
  {
   "cell_type": "code",
   "execution_count": 17,
   "id": "f182862b-d75d-4ebe-92da-7f9e4230fc2e",
   "metadata": {},
   "outputs": [
    {
     "data": {
      "text/plain": [
       "50"
      ]
     },
     "execution_count": 17,
     "metadata": {},
     "output_type": "execute_result"
    }
   ],
   "source": [
    "max(t1)"
   ]
  },
  {
   "cell_type": "code",
   "execution_count": 41,
   "id": "6e60c313-885d-4819-a219-2c0347150939",
   "metadata": {},
   "outputs": [
    {
     "data": {
      "text/plain": [
       "'Apple'"
      ]
     },
     "execution_count": 41,
     "metadata": {},
     "output_type": "execute_result"
    }
   ],
   "source": [
    "tup=('Apple','Mango','orange','apple')\n",
    "min(tup)"
   ]
  },
  {
   "cell_type": "code",
   "execution_count": 43,
   "id": "634cfbcb-3166-4a53-afa1-bda182ac89e4",
   "metadata": {},
   "outputs": [
    {
     "data": {
      "text/plain": [
       "'orange'"
      ]
     },
     "execution_count": 43,
     "metadata": {},
     "output_type": "execute_result"
    }
   ],
   "source": [
    "tup=('Apple','Mango','orange','apple')\n",
    "max(tup)"
   ]
  },
  {
   "cell_type": "code",
   "execution_count": 45,
   "id": "2dc85c3d-dc09-4a20-89c9-99ea01937b41",
   "metadata": {},
   "outputs": [
    {
     "data": {
      "text/plain": [
       "4"
      ]
     },
     "execution_count": 45,
     "metadata": {},
     "output_type": "execute_result"
    }
   ],
   "source": [
    "len(tup)"
   ]
  },
  {
   "cell_type": "code",
   "execution_count": 55,
   "id": "9d887e49-295a-4b0e-b525-fd4bc9040cfc",
   "metadata": {},
   "outputs": [
    {
     "data": {
      "text/plain": [
       "150"
      ]
     },
     "execution_count": 55,
     "metadata": {},
     "output_type": "execute_result"
    }
   ],
   "source": [
    "t1=(10,20,40,50,30)\n",
    "sum(t1)"
   ]
  },
  {
   "cell_type": "code",
   "execution_count": 57,
   "id": "3e9cf161-4d33-4358-bd48-09f85f2fd434",
   "metadata": {},
   "outputs": [
    {
     "ename": "TypeError",
     "evalue": "unsupported operand type(s) for +: 'int' and 'str'",
     "output_type": "error",
     "traceback": [
      "\u001b[1;31m---------------------------------------------------------------------------\u001b[0m",
      "\u001b[1;31mTypeError\u001b[0m                                 Traceback (most recent call last)",
      "Cell \u001b[1;32mIn[57], line 2\u001b[0m\n\u001b[0;32m      1\u001b[0m tup\u001b[38;5;241m=\u001b[39m(\u001b[38;5;124m'\u001b[39m\u001b[38;5;124mApple\u001b[39m\u001b[38;5;124m'\u001b[39m,\u001b[38;5;124m'\u001b[39m\u001b[38;5;124mMango\u001b[39m\u001b[38;5;124m'\u001b[39m,\u001b[38;5;124m'\u001b[39m\u001b[38;5;124morange\u001b[39m\u001b[38;5;124m'\u001b[39m,\u001b[38;5;124m'\u001b[39m\u001b[38;5;124mapple\u001b[39m\u001b[38;5;124m'\u001b[39m)\n\u001b[1;32m----> 2\u001b[0m \u001b[38;5;28msum\u001b[39m(tup)\n",
      "\u001b[1;31mTypeError\u001b[0m: unsupported operand type(s) for +: 'int' and 'str'"
     ]
    }
   ],
   "source": [
    "tup=('Apple','Mango','orange','apple')\n",
    "sum(tup)"
   ]
  },
  {
   "cell_type": "code",
   "execution_count": 83,
   "id": "9ecde195-b37b-40b3-9c8b-7eadbba00fdf",
   "metadata": {},
   "outputs": [
    {
     "name": "stdout",
     "output_type": "stream",
     "text": [
      "(10, 20, 40, 50, 30)\n",
      "30\n",
      "50\n",
      "40\n",
      "20\n",
      "10\n"
     ]
    }
   ],
   "source": [
    "print(t1)\n",
    "reversed(t1)\n",
    "for i in reversed(t1):\n",
    "    print(i)"
   ]
  },
  {
   "cell_type": "code",
   "execution_count": 89,
   "id": "3eb68b0e-fc62-4bb3-8399-cc7b03820ed3",
   "metadata": {},
   "outputs": [
    {
     "name": "stdout",
     "output_type": "stream",
     "text": [
      "apple\n",
      "orange\n",
      "Mango\n",
      "Apple\n"
     ]
    }
   ],
   "source": [
    "tup=('Apple','Mango','orange','apple')\n",
    "for i in reversed(tup):\n",
    "    print(i)"
   ]
  },
  {
   "cell_type": "code",
   "execution_count": 93,
   "id": "f20ef3a8-6441-4486-813d-c9a64c93a768",
   "metadata": {},
   "outputs": [
    {
     "name": "stdout",
     "output_type": "stream",
     "text": [
      "('inside_tuple', 40, 90) ['inside_list', 10, 40, True] orange Mango Apple "
     ]
    }
   ],
   "source": [
    "tup=('Apple','Mango','orange',['inside_list',10,40,True],('inside_tuple',40,90))\n",
    "for i in reversed(tup):\n",
    "    print(i,end=\" \")"
   ]
  },
  {
   "cell_type": "code",
   "execution_count": 95,
   "id": "69e397ac-2435-4ff6-bc21-134e8a9e65b7",
   "metadata": {},
   "outputs": [
    {
     "ename": "TypeError",
     "evalue": "'<' not supported between instances of 'list' and 'str'",
     "output_type": "error",
     "traceback": [
      "\u001b[1;31m---------------------------------------------------------------------------\u001b[0m",
      "\u001b[1;31mTypeError\u001b[0m                                 Traceback (most recent call last)",
      "Cell \u001b[1;32mIn[95], line 2\u001b[0m\n\u001b[0;32m      1\u001b[0m tup\u001b[38;5;241m=\u001b[39m(\u001b[38;5;124m'\u001b[39m\u001b[38;5;124mApple\u001b[39m\u001b[38;5;124m'\u001b[39m,\u001b[38;5;124m'\u001b[39m\u001b[38;5;124mMango\u001b[39m\u001b[38;5;124m'\u001b[39m,\u001b[38;5;124m'\u001b[39m\u001b[38;5;124morange\u001b[39m\u001b[38;5;124m'\u001b[39m,[\u001b[38;5;124m'\u001b[39m\u001b[38;5;124minside_list\u001b[39m\u001b[38;5;124m'\u001b[39m,\u001b[38;5;241m10\u001b[39m,\u001b[38;5;241m40\u001b[39m,\u001b[38;5;28;01mTrue\u001b[39;00m],(\u001b[38;5;124m'\u001b[39m\u001b[38;5;124minside_tuple\u001b[39m\u001b[38;5;124m'\u001b[39m,\u001b[38;5;241m40\u001b[39m,\u001b[38;5;241m90\u001b[39m))\n\u001b[1;32m----> 2\u001b[0m \u001b[38;5;28msorted\u001b[39m(tup)\n",
      "\u001b[1;31mTypeError\u001b[0m: '<' not supported between instances of 'list' and 'str'"
     ]
    }
   ],
   "source": [
    "tup=('Apple','Mango','orange',['inside_list',10,40,True],('inside_tuple',40,90))\n",
    "sorted(tup)"
   ]
  },
  {
   "cell_type": "code",
   "execution_count": 97,
   "id": "fe06bf03-525b-43af-b07c-a264d6a6d0a7",
   "metadata": {},
   "outputs": [
    {
     "data": {
      "text/plain": [
       "['Apple', 'Mango', 'apple', 'orange']"
      ]
     },
     "execution_count": 97,
     "metadata": {},
     "output_type": "execute_result"
    }
   ],
   "source": [
    "tup=('Apple','Mango','orange','apple')\n",
    "sorted(tup)"
   ]
  },
  {
   "cell_type": "code",
   "execution_count": 101,
   "id": "0c457019-f4a7-438e-9ae9-ae40e8f36a90",
   "metadata": {},
   "outputs": [
    {
     "data": {
      "text/plain": [
       "['orange', 'apple', 'Mango', 'Apple']"
      ]
     },
     "execution_count": 101,
     "metadata": {},
     "output_type": "execute_result"
    }
   ],
   "source": [
    "tup=('Apple','Mango','orange','apple')\n",
    "sorted(tup,reverse=True)"
   ]
  },
  {
   "cell_type": "markdown",
   "id": "7d2cb86a-baca-40eb-9ce6-6fb218753478",
   "metadata": {},
   "source": [
    "**concatenation**"
   ]
  },
  {
   "cell_type": "code",
   "execution_count": 104,
   "id": "9744ef95-a8cb-4eb2-9382-df21c1e36eea",
   "metadata": {},
   "outputs": [
    {
     "name": "stdout",
     "output_type": "stream",
     "text": [
      "('Apple', 'Mango', 'orange', 'apple', 10, 20, 30)\n"
     ]
    }
   ],
   "source": [
    "t1=('Apple','Mango','orange','apple')\n",
    "t2=(10,20,30)\n",
    "print(t1+t2)"
   ]
  },
  {
   "cell_type": "code",
   "execution_count": 106,
   "id": "a39b52b8-f586-427f-a9e3-693ece5d232b",
   "metadata": {},
   "outputs": [
    {
     "name": "stdout",
     "output_type": "stream",
     "text": [
      "('Apple', 'Mango', 'orange', ['inside_list', 10, 40, True], ('inside_tuple', 40, 90), 'Apple', 'Mango', 'orange', 'apple')\n"
     ]
    }
   ],
   "source": [
    "t1=('Apple','Mango','orange',['inside_list',10,40,True],('inside_tuple',40,90))\n",
    "t2=('Apple','Mango','orange','apple')\n",
    "print(t1+t2)"
   ]
  },
  {
   "cell_type": "markdown",
   "id": "b3f85791-e26d-46ee-a608-2abfa2305434",
   "metadata": {},
   "source": [
    "**index**"
   ]
  },
  {
   "cell_type": "code",
   "execution_count": 115,
   "id": "2c62b173-1df1-4d01-84e4-c14f16bd3a51",
   "metadata": {},
   "outputs": [
    {
     "data": {
      "text/plain": [
       "'Apple'"
      ]
     },
     "execution_count": 115,
     "metadata": {},
     "output_type": "execute_result"
    }
   ],
   "source": [
    "t2=('Apple','Mango','orange','apple')\n",
    "t2[0]"
   ]
  },
  {
   "cell_type": "code",
   "execution_count": 117,
   "id": "603cdfaa-4a85-4471-8eb7-749727b881bc",
   "metadata": {},
   "outputs": [
    {
     "ename": "IndexError",
     "evalue": "tuple index out of range",
     "output_type": "error",
     "traceback": [
      "\u001b[1;31m---------------------------------------------------------------------------\u001b[0m",
      "\u001b[1;31mIndexError\u001b[0m                                Traceback (most recent call last)",
      "Cell \u001b[1;32mIn[117], line 1\u001b[0m\n\u001b[1;32m----> 1\u001b[0m t2[\u001b[38;5;241m4\u001b[39m]\n",
      "\u001b[1;31mIndexError\u001b[0m: tuple index out of range"
     ]
    }
   ],
   "source": [
    "t2[4]"
   ]
  },
  {
   "cell_type": "code",
   "execution_count": 119,
   "id": "29174996-2af8-4707-97dc-813c5a049945",
   "metadata": {},
   "outputs": [
    {
     "data": {
      "text/plain": [
       "('apple', 'orange', 'Mango', 'Apple')"
      ]
     },
     "execution_count": 119,
     "metadata": {},
     "output_type": "execute_result"
    }
   ],
   "source": [
    "t2[::-1]"
   ]
  },
  {
   "cell_type": "code",
   "execution_count": 121,
   "id": "6f624b19-776a-42c7-8106-484c983ec50d",
   "metadata": {},
   "outputs": [
    {
     "data": {
      "text/plain": [
       "('Apple', 'Mango', 'orange')"
      ]
     },
     "execution_count": 121,
     "metadata": {},
     "output_type": "execute_result"
    }
   ],
   "source": [
    "t2[:-1]"
   ]
  },
  {
   "cell_type": "code",
   "execution_count": 125,
   "id": "e465d132-80f8-4b31-bb87-5c5b66e076f2",
   "metadata": {},
   "outputs": [
    {
     "data": {
      "text/plain": [
       "(('inside_tuple', 40, 90),\n",
       " ['inside_list', 10, 40, True],\n",
       " 'orange',\n",
       " 'Mango',\n",
       " 'Apple')"
      ]
     },
     "execution_count": 125,
     "metadata": {},
     "output_type": "execute_result"
    }
   ],
   "source": [
    "t1[::-1]"
   ]
  },
  {
   "cell_type": "code",
   "execution_count": 127,
   "id": "7982daa8-dcf3-4841-8248-7e1e81362736",
   "metadata": {},
   "outputs": [
    {
     "data": {
      "text/plain": [
       "('Apple',)"
      ]
     },
     "execution_count": 127,
     "metadata": {},
     "output_type": "execute_result"
    }
   ],
   "source": [
    "t1[:2:2]"
   ]
  },
  {
   "cell_type": "code",
   "execution_count": 137,
   "id": "e506c1ba-ee4b-4806-aa62-9ddcf3f925e8",
   "metadata": {},
   "outputs": [],
   "source": [
    "tup=(10,20,30,'A','B','C')\n",
    "\n",
    "\n",
    "# Question to print the below output\n",
    "# 1. The positive index of 10 is 0\n",
    "# 2. The negative index of 10 is -6\n",
    "# 3. The positive index of 10 is 0 and negative index is -6"
   ]
  },
  {
   "cell_type": "code",
   "execution_count": 145,
   "id": "855b7c56-5d2c-441f-b456-df232918a1f9",
   "metadata": {},
   "outputs": [
    {
     "name": "stdout",
     "output_type": "stream",
     "text": [
      "The positive index of 10 is 0\n",
      "The positive index of 20 is 1\n",
      "The positive index of 30 is 2\n",
      "The positive index of A is 3\n",
      "The positive index of B is 4\n",
      "The positive index of C is 5\n"
     ]
    }
   ],
   "source": [
    "tup=(10,20,30,'A','B','C')\n",
    "for i in range(len(tup)):\n",
    "    print(f\"The positive index of {tup[i]} is {i}\")"
   ]
  },
  {
   "cell_type": "code",
   "execution_count": 151,
   "id": "d93eb602-8729-4a87-9ac0-df06cc175ec0",
   "metadata": {},
   "outputs": [
    {
     "name": "stdout",
     "output_type": "stream",
     "text": [
      "The negative index of 10 is -6\n",
      "The negative index of 20 is -5\n",
      "The negative index of 30 is -4\n",
      "The negative index of A is -3\n",
      "The negative index of B is -2\n",
      "The negative index of C is -1\n"
     ]
    }
   ],
   "source": [
    "tup=(10,20,30,'A','B','C')\n",
    "for i in range(len(tup)):\n",
    "    print(f\"The negative index of {tup[i]} is {i-len(tup)}\")"
   ]
  },
  {
   "cell_type": "code",
   "execution_count": 155,
   "id": "bff9a501-8e9d-4242-be71-c47584864bfb",
   "metadata": {},
   "outputs": [
    {
     "name": "stdout",
     "output_type": "stream",
     "text": [
      "The positive index of 10 is 0 and negative index is -6\n",
      "The positive index of 20 is 1 and negative index is -5\n",
      "The positive index of 30 is 2 and negative index is -4\n",
      "The positive index of A is 3 and negative index is -3\n",
      "The positive index of B is 4 and negative index is -2\n",
      "The positive index of C is 5 and negative index is -1\n"
     ]
    }
   ],
   "source": [
    "tup=(10,20,30,'A','B','C')\n",
    "for i in range(len(tup)):\n",
    "    print(f\"The positive index of {tup[i]} is {i} and negative index is {i-len(tup)}\")\n"
   ]
  },
  {
   "cell_type": "code",
   "execution_count": 165,
   "id": "3acbf8ad-b11f-440c-9b0c-8574bc825bbf",
   "metadata": {},
   "outputs": [
    {
     "name": "stdout",
     "output_type": "stream",
     "text": [
      "4\n"
     ]
    }
   ],
   "source": [
    "tup=(10,20,(10,50),'C')\n",
    "print(len(tup))"
   ]
  },
  {
   "cell_type": "code",
   "execution_count": 167,
   "id": "f24e4851-6347-4113-9547-69fc58417013",
   "metadata": {},
   "outputs": [
    {
     "data": {
      "text/plain": [
       "(10, 50)"
      ]
     },
     "execution_count": 167,
     "metadata": {},
     "output_type": "execute_result"
    }
   ],
   "source": [
    "tup[2]"
   ]
  },
  {
   "cell_type": "code",
   "execution_count": 171,
   "id": "55b35ffa-8a89-4cf6-9b78-70edb0f9fe0f",
   "metadata": {},
   "outputs": [
    {
     "data": {
      "text/plain": [
       "10"
      ]
     },
     "execution_count": 171,
     "metadata": {},
     "output_type": "execute_result"
    }
   ],
   "source": [
    "tup[2][0]"
   ]
  },
  {
   "cell_type": "markdown",
   "id": "bd7a0009-2914-448c-b7ec-8f4e24676ef3",
   "metadata": {},
   "source": [
    "**in**"
   ]
  },
  {
   "cell_type": "code",
   "execution_count": 174,
   "id": "2eaac19e-5283-4638-8e81-17e32c54a689",
   "metadata": {},
   "outputs": [
    {
     "name": "stdout",
     "output_type": "stream",
     "text": [
      "10\n",
      "20\n",
      "30\n",
      "A\n",
      "B\n",
      "C\n"
     ]
    }
   ],
   "source": [
    "tup=(10,20,30,'A','B','C')\n",
    "for i in  tup:\n",
    "    print(i)"
   ]
  },
  {
   "cell_type": "code",
   "execution_count": 176,
   "id": "d811cf6d-c908-4091-8dfb-23bdfdc7b45b",
   "metadata": {},
   "outputs": [
    {
     "name": "stdout",
     "output_type": "stream",
     "text": [
      "Apple Mango orange ['inside_list', 10, 40, True] ('inside_tuple', 40, 90) "
     ]
    }
   ],
   "source": [
    "t1=('Apple','Mango','orange',['inside_list',10,40,True],('inside_tuple',40,90))\n",
    "for i in t1:\n",
    "    print(i,end=\" \")"
   ]
  },
  {
   "cell_type": "markdown",
   "id": "56eb2d61-007d-4a11-8a4f-1cd07f853837",
   "metadata": {},
   "source": [
    "**mutable vs immutable**\n",
    "\n",
    "- tuple are immutable"
   ]
  },
  {
   "cell_type": "code",
   "execution_count": 179,
   "id": "da91cf99-fa31-4e2d-8561-1706dcfdbafb",
   "metadata": {},
   "outputs": [
    {
     "ename": "TypeError",
     "evalue": "'tuple' object does not support item assignment",
     "output_type": "error",
     "traceback": [
      "\u001b[1;31m---------------------------------------------------------------------------\u001b[0m",
      "\u001b[1;31mTypeError\u001b[0m                                 Traceback (most recent call last)",
      "Cell \u001b[1;32mIn[179], line 2\u001b[0m\n\u001b[0;32m      1\u001b[0m t1\u001b[38;5;241m=\u001b[39m(\u001b[38;5;241m10\u001b[39m,\u001b[38;5;241m20\u001b[39m,\u001b[38;5;241m30\u001b[39m,\u001b[38;5;124m'\u001b[39m\u001b[38;5;124mA\u001b[39m\u001b[38;5;124m'\u001b[39m,\u001b[38;5;124m'\u001b[39m\u001b[38;5;124mB\u001b[39m\u001b[38;5;124m'\u001b[39m,\u001b[38;5;124m'\u001b[39m\u001b[38;5;124mC\u001b[39m\u001b[38;5;124m'\u001b[39m)\n\u001b[1;32m----> 2\u001b[0m t1[\u001b[38;5;241m1\u001b[39m]\u001b[38;5;241m=\u001b[39m\u001b[38;5;124m'\u001b[39m\u001b[38;5;124mApple\u001b[39m\u001b[38;5;124m'\u001b[39m\n",
      "\u001b[1;31mTypeError\u001b[0m: 'tuple' object does not support item assignment"
     ]
    }
   ],
   "source": [
    "t1=(10,20,30,'A','B','C')\n",
    "t1[1]='Apple'"
   ]
  },
  {
   "cell_type": "code",
   "execution_count": 181,
   "id": "d2a024a1-b8dc-4516-b814-f050280ea56b",
   "metadata": {},
   "outputs": [
    {
     "ename": "TypeError",
     "evalue": "'tuple' object does not support item assignment",
     "output_type": "error",
     "traceback": [
      "\u001b[1;31m---------------------------------------------------------------------------\u001b[0m",
      "\u001b[1;31mTypeError\u001b[0m                                 Traceback (most recent call last)",
      "Cell \u001b[1;32mIn[181], line 2\u001b[0m\n\u001b[0;32m      1\u001b[0m t1\u001b[38;5;241m=\u001b[39m(\u001b[38;5;241m10\u001b[39m,\u001b[38;5;241m20\u001b[39m,\u001b[38;5;241m30\u001b[39m,\u001b[38;5;124m'\u001b[39m\u001b[38;5;124mA\u001b[39m\u001b[38;5;124m'\u001b[39m,\u001b[38;5;124m'\u001b[39m\u001b[38;5;124mB\u001b[39m\u001b[38;5;124m'\u001b[39m,\u001b[38;5;124m'\u001b[39m\u001b[38;5;124mC\u001b[39m\u001b[38;5;124m'\u001b[39m)\n\u001b[1;32m----> 2\u001b[0m t1[\u001b[38;5;241m1\u001b[39m]\u001b[38;5;241m=\u001b[39m\u001b[38;5;241m100\u001b[39m\n",
      "\u001b[1;31mTypeError\u001b[0m: 'tuple' object does not support item assignment"
     ]
    }
   ],
   "source": [
    "t1=(10,20,30,'A','B','C')\n",
    "t1[1]=100"
   ]
  },
  {
   "cell_type": "markdown",
   "id": "41c49268-411c-4122-811e-a4838e32f561",
   "metadata": {},
   "source": [
    "**methods**"
   ]
  },
  {
   "cell_type": "code",
   "execution_count": 185,
   "id": "2ee92bf6-00f5-408a-80d8-12b9a48e9979",
   "metadata": {
    "scrolled": true
   },
   "outputs": [
    {
     "data": {
      "text/plain": [
       "['__add__',\n",
       " '__class__',\n",
       " '__class_getitem__',\n",
       " '__contains__',\n",
       " '__delattr__',\n",
       " '__dir__',\n",
       " '__doc__',\n",
       " '__eq__',\n",
       " '__format__',\n",
       " '__ge__',\n",
       " '__getattribute__',\n",
       " '__getitem__',\n",
       " '__getnewargs__',\n",
       " '__getstate__',\n",
       " '__gt__',\n",
       " '__hash__',\n",
       " '__init__',\n",
       " '__init_subclass__',\n",
       " '__iter__',\n",
       " '__le__',\n",
       " '__len__',\n",
       " '__lt__',\n",
       " '__mul__',\n",
       " '__ne__',\n",
       " '__new__',\n",
       " '__reduce__',\n",
       " '__reduce_ex__',\n",
       " '__repr__',\n",
       " '__rmul__',\n",
       " '__setattr__',\n",
       " '__sizeof__',\n",
       " '__str__',\n",
       " '__subclasshook__',\n",
       " 'count',\n",
       " 'index']"
      ]
     },
     "execution_count": 185,
     "metadata": {},
     "output_type": "execute_result"
    }
   ],
   "source": [
    "dir(())"
   ]
  },
  {
   "cell_type": "code",
   "execution_count": 187,
   "id": "17639332-0fec-4b7c-b6bf-76419ea69ecd",
   "metadata": {},
   "outputs": [
    {
     "data": {
      "text/plain": [
       "3"
      ]
     },
     "execution_count": 187,
     "metadata": {},
     "output_type": "execute_result"
    }
   ],
   "source": [
    "t1=(10,20,30,'A','B','C',20,30,20)\n",
    "t1.count(20)"
   ]
  },
  {
   "cell_type": "code",
   "execution_count": 189,
   "id": "19794347-b9e3-497c-99e3-7af28a9f5ede",
   "metadata": {},
   "outputs": [
    {
     "data": {
      "text/plain": [
       "0"
      ]
     },
     "execution_count": 189,
     "metadata": {},
     "output_type": "execute_result"
    }
   ],
   "source": [
    "t1=('Apple','Mango','orange',['inside_list',10,40,True],('inside_tuple',40,90))\n",
    "t1.count(40)"
   ]
  },
  {
   "cell_type": "code",
   "execution_count": 191,
   "id": "a2563448-012f-41c7-b227-69517559e842",
   "metadata": {},
   "outputs": [
    {
     "data": {
      "text/plain": [
       "1"
      ]
     },
     "execution_count": 191,
     "metadata": {},
     "output_type": "execute_result"
    }
   ],
   "source": [
    "t1=('Apple','Mango','orange',['inside_list',10,40,True],('inside_tuple',40,90))\n",
    "t1.count('Mango')"
   ]
  },
  {
   "cell_type": "code",
   "execution_count": 193,
   "id": "2288ebcd-936c-4140-87bc-2044ff5241af",
   "metadata": {},
   "outputs": [
    {
     "data": {
      "text/plain": [
       "2"
      ]
     },
     "execution_count": 193,
     "metadata": {},
     "output_type": "execute_result"
    }
   ],
   "source": [
    "t1=('Apple','Mango','orange',['inside_list',10,40,True],('inside_tuple',40,90),'orange')\n",
    "t1.count('orange')"
   ]
  },
  {
   "cell_type": "code",
   "execution_count": null,
   "id": "f1d95487-1c27-484f-a00d-7eb55f3644c7",
   "metadata": {},
   "outputs": [],
   "source": [
    "# I have modified this line for git hub session"
   ]
  }
 ],
 "metadata": {
  "kernelspec": {
   "display_name": "Python [conda env:base] *",
   "language": "python",
   "name": "conda-base-py"
  },
  "language_info": {
   "codemirror_mode": {
    "name": "ipython",
    "version": 3
   },
   "file_extension": ".py",
   "mimetype": "text/x-python",
   "name": "python",
   "nbconvert_exporter": "python",
   "pygments_lexer": "ipython3",
   "version": "3.12.7"
  }
 },
 "nbformat": 4,
 "nbformat_minor": 5
}
