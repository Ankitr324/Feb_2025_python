{
 "cells": [
  {
   "cell_type": "markdown",
   "id": "95761c55-12a3-4ece-a2db-80f8b1bf10cc",
   "metadata": {},
   "source": [
    "**while loop**\n",
    "\n",
    "- initialization to start\n",
    "\n",
    "- increment/decrement\n",
    "\n",
    "- condition to stop"
   ]
  },
  {
   "cell_type": "code",
   "execution_count": null,
   "id": "854f3ab4-4427-4f01-9bf9-71679aefb51d",
   "metadata": {},
   "outputs": [],
   "source": [
    "<initilization>\n",
    "\n",
    "while <condition>:\n",
    "    #=====python code\n",
    "\n",
    "    <increment/decrement>"
   ]
  },
  {
   "cell_type": "code",
   "execution_count": 3,
   "id": "09b5614d-e10e-4b5f-8cb2-d9fbed4bd076",
   "metadata": {},
   "outputs": [
    {
     "name": "stdout",
     "output_type": "stream",
     "text": [
      "1 2 3 4 5 6 7 8 9 "
     ]
    }
   ],
   "source": [
    "for i in range(1,10):\n",
    "    print(i,end=\" \")"
   ]
  },
  {
   "cell_type": "code",
   "execution_count": 5,
   "id": "ef83a0b0-f017-4f06-a7af-cab90b5157a0",
   "metadata": {},
   "outputs": [
    {
     "name": "stdout",
     "output_type": "stream",
     "text": [
      "1 2 3 4 5 6 7 8 9 "
     ]
    }
   ],
   "source": [
    "i=1\n",
    "while i<10:\n",
    "    print(i, end=\" \")\n",
    "    \n",
    "    i=i+1"
   ]
  },
  {
   "cell_type": "code",
   "execution_count": 7,
   "id": "7501e89e-c515-4ddd-a600-4a26e572cbcb",
   "metadata": {},
   "outputs": [
    {
     "name": "stdout",
     "output_type": "stream",
     "text": [
      "10 9 8 7 6 5 4 3 2 1 "
     ]
    }
   ],
   "source": [
    "i=10\n",
    "while i>0:\n",
    "    print(i, end=\" \")\n",
    "    \n",
    "    i=i-1"
   ]
  },
  {
   "cell_type": "code",
   "execution_count": 9,
   "id": "5c964edf-7251-4905-8435-c381659de9f3",
   "metadata": {},
   "outputs": [
    {
     "name": "stdout",
     "output_type": "stream",
     "text": [
      "-1 -2 -3 -4 -5 -6 -7 -8 -9 -10 "
     ]
    }
   ],
   "source": [
    "i=-1\n",
    "while i>-11:\n",
    "    print(i, end=\" \")\n",
    "    \n",
    "    i=i-1"
   ]
  },
  {
   "cell_type": "code",
   "execution_count": 11,
   "id": "762011a8-4de7-4426-950a-d0e9e792a34f",
   "metadata": {},
   "outputs": [
    {
     "name": "stdout",
     "output_type": "stream",
     "text": [
      "-10 -9 -8 -7 -6 -5 -4 -3 -2 -1 "
     ]
    }
   ],
   "source": [
    "i=-10\n",
    "while i<0:\n",
    "    print(i, end=\" \")\n",
    "    \n",
    "    i=i+1"
   ]
  },
  {
   "cell_type": "code",
   "execution_count": null,
   "id": "52f47e0e-0b6d-463d-8e53-55037846d879",
   "metadata": {},
   "outputs": [],
   "source": []
  }
 ],
 "metadata": {
  "kernelspec": {
   "display_name": "Python [conda env:base] *",
   "language": "python",
   "name": "conda-base-py"
  },
  "language_info": {
   "codemirror_mode": {
    "name": "ipython",
    "version": 3
   },
   "file_extension": ".py",
   "mimetype": "text/x-python",
   "name": "python",
   "nbconvert_exporter": "python",
   "pygments_lexer": "ipython3",
   "version": "3.12.7"
  }
 },
 "nbformat": 4,
 "nbformat_minor": 5
}
