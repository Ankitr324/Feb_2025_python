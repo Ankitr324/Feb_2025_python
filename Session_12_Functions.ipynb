{
 "cells": [
  {
   "cell_type": "markdown",
   "id": "c5c74c27-4d2b-4ecb-8418-7092fc07fe2e",
   "metadata": {},
   "source": [
    "## Function\n",
    "\n",
    "- does operation and task\n",
    "\n",
    "- block of codes which executes on a call\n",
    "\n",
    "- reduces redundency(repetition of the code)\n",
    "\n",
    "- reuse of the code"
   ]
  },
  {
   "cell_type": "markdown",
   "id": "2bdfc40a-5778-4b31-bd27-a097314a363b",
   "metadata": {},
   "source": [
    "**Function**\n",
    "\n",
    "- Reuse of code block\n",
    "- also called as method\n",
    "- fun without argument\n",
    "- fun with argument\n",
    "- fun with default argument\n",
    "- fun with keyword argument(kwargs)\n",
    "- fun with global and local variable\n",
    "- fun with return\n",
    "- fun inside fun"
   ]
  },
  {
   "cell_type": "markdown",
   "id": "0801ad12-8d1a-4b50-bee0-34a26182f1ba",
   "metadata": {},
   "source": [
    "**Function without argument**"
   ]
  },
  {
   "cell_type": "code",
   "execution_count": 5,
   "id": "554f37df-2d6b-48cf-812f-09a1641c69de",
   "metadata": {},
   "outputs": [
    {
     "ename": "SyntaxError",
     "evalue": "invalid syntax (3013116968.py, line 2)",
     "output_type": "error",
     "traceback": [
      "\u001b[1;36m  Cell \u001b[1;32mIn[5], line 2\u001b[1;36m\u001b[0m\n\u001b[1;33m    def <function_name>():\u001b[0m\n\u001b[1;37m        ^\u001b[0m\n\u001b[1;31mSyntaxError\u001b[0m\u001b[1;31m:\u001b[0m invalid syntax\n"
     ]
    }
   ],
   "source": [
    "# syntax\n",
    "def <function_name>():\n",
    "    <write code here>"
   ]
  },
  {
   "cell_type": "code",
   "execution_count": 9,
   "id": "79675bbe-b019-47d8-b9a6-8687c824acce",
   "metadata": {},
   "outputs": [
    {
     "name": "stdin",
     "output_type": "stream",
     "text": [
      "Enter number 1 : 100\n",
      "Enter number 2 : 200\n"
     ]
    },
    {
     "name": "stdout",
     "output_type": "stream",
     "text": [
      "the addition of 100 and 200 is 300\n"
     ]
    }
   ],
   "source": [
    "num1 = eval(input(\"Enter number 1 :\"))\n",
    "num2 = eval(input(\"Enter number 2 :\"))\n",
    "add = num1+num2\n",
    "print(f\"the addition of {num1} and {num2} is {add}\")"
   ]
  },
  {
   "cell_type": "code",
   "execution_count": 11,
   "id": "93694a1d-5a29-48e0-967c-2212b2c96b3f",
   "metadata": {},
   "outputs": [],
   "source": [
    "def Addition():\n",
    "    num1 = eval(input(\"Enter number 1 :\"))\n",
    "    num2 = eval(input(\"Enter number 2 :\"))\n",
    "    add = num1+num2\n",
    "    print(f\"the addition of {num1} and {num2} is {add}\")"
   ]
  },
  {
   "cell_type": "markdown",
   "id": "64437115-4a02-461b-a264-38618bff0b6e",
   "metadata": {},
   "source": [
    "**Call the function**"
   ]
  },
  {
   "cell_type": "code",
   "execution_count": 13,
   "id": "b47665a1-5a02-453e-be98-a52e09024c23",
   "metadata": {},
   "outputs": [
    {
     "name": "stdin",
     "output_type": "stream",
     "text": [
      "Enter number 1 : 100\n",
      "Enter number 2 : 200\n"
     ]
    },
    {
     "name": "stdout",
     "output_type": "stream",
     "text": [
      "the addition of 100 and 200 is 300\n"
     ]
    }
   ],
   "source": [
    "Addition()"
   ]
  },
  {
   "cell_type": "markdown",
   "id": "801552fa-52b6-4a66-a66e-21568ba45be8",
   "metadata": {},
   "source": [
    "**Note**\n",
    "\n",
    "- fun name rules same as variable rules\n",
    "- fun name should be different from variable name using inside function\n",
    "- fun name should not be any **keywords**\n",
    "- fun name should not be any **package name**\n",
    "- fun name should not be any **file_name or notebook_name**"
   ]
  },
  {
   "cell_type": "markdown",
   "id": "898f9e7e-1361-4dff-88df-436f3f0b2167",
   "metadata": {},
   "source": [
    "**definfing function will not give any error**\n",
    "\n",
    "- while defining the function we doesnot whether the error is there or not\n",
    "- for that we need to call the function"
   ]
  },
  {
   "cell_type": "code",
   "execution_count": 24,
   "id": "d37a7409-039f-4d45-9b0e-c2c88105eb75",
   "metadata": {},
   "outputs": [],
   "source": [
    "def Addition1():\n",
    "    num1 = eval(input(\"Enter number 1 :\"))\n",
    "    num2 = eval(input(\"Enter number 2 :\"))\n",
    "    add = num1+num2\n",
    "    print(f\"the addition of {num12} and {num2} is {add}\")"
   ]
  },
  {
   "cell_type": "code",
   "execution_count": 26,
   "id": "6151137f-5417-4f41-a93e-038a6e54a121",
   "metadata": {},
   "outputs": [
    {
     "name": "stdin",
     "output_type": "stream",
     "text": [
      "Enter number 1 : 100\n",
      "Enter number 2 : 200\n"
     ]
    },
    {
     "ename": "NameError",
     "evalue": "name 'num12' is not defined",
     "output_type": "error",
     "traceback": [
      "\u001b[1;31m---------------------------------------------------------------------------\u001b[0m",
      "\u001b[1;31mNameError\u001b[0m                                 Traceback (most recent call last)",
      "Cell \u001b[1;32mIn[26], line 1\u001b[0m\n\u001b[1;32m----> 1\u001b[0m Addition1()\n",
      "Cell \u001b[1;32mIn[24], line 5\u001b[0m, in \u001b[0;36mAddition1\u001b[1;34m()\u001b[0m\n\u001b[0;32m      3\u001b[0m num2 \u001b[38;5;241m=\u001b[39m \u001b[38;5;28meval\u001b[39m(\u001b[38;5;28minput\u001b[39m(\u001b[38;5;124m\"\u001b[39m\u001b[38;5;124mEnter number 2 :\u001b[39m\u001b[38;5;124m\"\u001b[39m))\n\u001b[0;32m      4\u001b[0m add \u001b[38;5;241m=\u001b[39m num1\u001b[38;5;241m+\u001b[39mnum2\n\u001b[1;32m----> 5\u001b[0m \u001b[38;5;28mprint\u001b[39m(\u001b[38;5;124mf\u001b[39m\u001b[38;5;124m\"\u001b[39m\u001b[38;5;124mthe addition of \u001b[39m\u001b[38;5;132;01m{\u001b[39;00mnum12\u001b[38;5;132;01m}\u001b[39;00m\u001b[38;5;124m and \u001b[39m\u001b[38;5;132;01m{\u001b[39;00mnum2\u001b[38;5;132;01m}\u001b[39;00m\u001b[38;5;124m is \u001b[39m\u001b[38;5;132;01m{\u001b[39;00madd\u001b[38;5;132;01m}\u001b[39;00m\u001b[38;5;124m\"\u001b[39m)\n",
      "\u001b[1;31mNameError\u001b[0m: name 'num12' is not defined"
     ]
    }
   ],
   "source": [
    "Addition1()"
   ]
  },
  {
   "cell_type": "markdown",
   "id": "77865257-f646-4e21-bbeb-37f16cb9d048",
   "metadata": {},
   "source": [
    "**try end except for entire function**"
   ]
  },
  {
   "cell_type": "code",
   "execution_count": 44,
   "id": "ffb5425e-d6ed-42e8-a0f9-b44b539ab0d9",
   "metadata": {},
   "outputs": [
    {
     "name": "stdin",
     "output_type": "stream",
     "text": [
      "Enter number 1 : jgfg\n"
     ]
    },
    {
     "ename": "NameError",
     "evalue": "name 'jgfg' is not defined",
     "output_type": "error",
     "traceback": [
      "\u001b[1;31m---------------------------------------------------------------------------\u001b[0m",
      "\u001b[1;31mNameError\u001b[0m                                 Traceback (most recent call last)",
      "Cell \u001b[1;32mIn[44], line 10\u001b[0m\n\u001b[0;32m      7\u001b[0m \u001b[38;5;28;01mexcept\u001b[39;00m \u001b[38;5;167;01mException\u001b[39;00m \u001b[38;5;28;01mas\u001b[39;00m e:\n\u001b[0;32m      8\u001b[0m     \u001b[38;5;28mprint\u001b[39m(e)\n\u001b[1;32m---> 10\u001b[0m Addition2()\n",
      "Cell \u001b[1;32mIn[44], line 3\u001b[0m, in \u001b[0;36mAddition2\u001b[1;34m()\u001b[0m\n\u001b[0;32m      2\u001b[0m \u001b[38;5;28;01mdef\u001b[39;00m \u001b[38;5;21mAddition2\u001b[39m():\n\u001b[1;32m----> 3\u001b[0m     num1 \u001b[38;5;241m=\u001b[39m \u001b[38;5;28meval\u001b[39m(\u001b[38;5;28minput\u001b[39m(\u001b[38;5;124m\"\u001b[39m\u001b[38;5;124mEnter number 1 :\u001b[39m\u001b[38;5;124m\"\u001b[39m))\n\u001b[0;32m      4\u001b[0m     num2 \u001b[38;5;241m=\u001b[39m \u001b[38;5;28meval\u001b[39m(\u001b[38;5;28minput\u001b[39m(\u001b[38;5;124m\"\u001b[39m\u001b[38;5;124mEnter number 2 :\u001b[39m\u001b[38;5;124m\"\u001b[39m))\n\u001b[0;32m      5\u001b[0m     add \u001b[38;5;241m=\u001b[39m num1\u001b[38;5;241m+\u001b[39mnum2\n",
      "File \u001b[1;32m<string>:1\u001b[0m\n",
      "\u001b[1;31mNameError\u001b[0m: name 'jgfg' is not defined"
     ]
    }
   ],
   "source": [
    "try:\n",
    "    def Addition2():\n",
    "        num1 = eval(input(\"Enter number 1 :\"))\n",
    "        num2 = eval(input(\"Enter number 2 :\"))\n",
    "        add = num1+num2\n",
    "        print(f\"the addition of {num1} and {num2} is {add}\")\n",
    "except Exception as e:\n",
    "    print(e)\n",
    "\n",
    "Addition2()"
   ]
  },
  {
   "cell_type": "markdown",
   "id": "69ebfaf2-32b1-4875-aadf-aa7fb969f657",
   "metadata": {},
   "source": [
    "**try and except indide function**"
   ]
  },
  {
   "cell_type": "code",
   "execution_count": 42,
   "id": "61bea4de-4357-43fa-86ec-5386b56df0fa",
   "metadata": {},
   "outputs": [
    {
     "name": "stdin",
     "output_type": "stream",
     "text": [
      "Enter number 1 : 100\n",
      "Enter number 2 : 2.lmnj\n"
     ]
    },
    {
     "name": "stdout",
     "output_type": "stream",
     "text": [
      "invalid decimal literal (<string>, line 1)\n"
     ]
    }
   ],
   "source": [
    "def Addition3():\n",
    "    try:\n",
    "        num1 = eval(input(\"Enter number 1 :\"))\n",
    "        num2 = eval(input(\"Enter number 2 :\"))\n",
    "        add = num1+num2\n",
    "        print(f\"the addition of {num1} and {num2} is {add}\")    \n",
    "    except Exception as e:\n",
    "        print(e)\n",
    "\n",
    "Addition3()"
   ]
  },
  {
   "cell_type": "markdown",
   "id": "7a2c6fba-f412-4e34-bb40-489ffad85be0",
   "metadata": {},
   "source": [
    "## **try and except should always write inside the function**"
   ]
  },
  {
   "cell_type": "markdown",
   "id": "b45e9b35-cd6e-4f25-9d0c-0966a2caeca1",
   "metadata": {},
   "source": [
    "# Average function"
   ]
  },
  {
   "cell_type": "code",
   "execution_count": 52,
   "id": "1b6d0917-146d-4135-99c3-a66fdfbaca52",
   "metadata": {},
   "outputs": [
    {
     "name": "stdin",
     "output_type": "stream",
     "text": [
      "Enter the first number  100\n",
      "Enter the second number  200\n",
      "Enter the third number  300\n"
     ]
    },
    {
     "name": "stdout",
     "output_type": "stream",
     "text": [
      "The average of 100, 200, 300 is 200.0\n"
     ]
    }
   ],
   "source": [
    "def Average():\n",
    "    try:\n",
    "        n1 = eval(input(\"Enter the first number \"))\n",
    "        n2 = eval(input(\"Enter the second number \"))\n",
    "        n3 = eval(input(\"Enter the third number \"))\n",
    "        avg = (n1+n2+n3)/3\n",
    "        print(f\"The average of {n1}, {n2}, {n3} is {avg}\")\n",
    "    except Exception as e:\n",
    "        print(e)\n",
    "\n",
    "Average()"
   ]
  },
  {
   "cell_type": "markdown",
   "id": "94c6d642-d121-44dd-bcd9-f2bd91e95e3c",
   "metadata": {},
   "source": [
    "**Functions with arguments**"
   ]
  },
  {
   "cell_type": "code",
   "execution_count": 6,
   "id": "2ab1b1fa-3dd8-42c5-8ddb-f820aace3a96",
   "metadata": {},
   "outputs": [
    {
     "name": "stdout",
     "output_type": "stream",
     "text": [
      "the addition of 100 and 200 is 300\n"
     ]
    }
   ],
   "source": [
    "def Addition5(n1,n2):\n",
    "    try:\n",
    "        add = n1+n2\n",
    "        print(f\"the addition of {n1} and {n2} is {add}\")    \n",
    "    except Exception as e:\n",
    "        print(e)\n",
    "\n",
    "Addition5(100,200)"
   ]
  },
  {
   "cell_type": "code",
   "execution_count": 8,
   "id": "5577cb7f-381d-4ea9-b087-3500096ba533",
   "metadata": {},
   "outputs": [
    {
     "ename": "TypeError",
     "evalue": "Addition5() missing 2 required positional arguments: 'n1' and 'n2'",
     "output_type": "error",
     "traceback": [
      "\u001b[1;31m---------------------------------------------------------------------------\u001b[0m",
      "\u001b[1;31mTypeError\u001b[0m                                 Traceback (most recent call last)",
      "Cell \u001b[1;32mIn[8], line 1\u001b[0m\n\u001b[1;32m----> 1\u001b[0m Addition5()\n",
      "\u001b[1;31mTypeError\u001b[0m: Addition5() missing 2 required positional arguments: 'n1' and 'n2'"
     ]
    }
   ],
   "source": [
    "Addition5()"
   ]
  },
  {
   "cell_type": "code",
   "execution_count": 10,
   "id": "d982a73d-8fd7-42cf-a2b9-4abc2145bb46",
   "metadata": {},
   "outputs": [
    {
     "ename": "TypeError",
     "evalue": "Addition5() missing 1 required positional argument: 'n2'",
     "output_type": "error",
     "traceback": [
      "\u001b[1;31m---------------------------------------------------------------------------\u001b[0m",
      "\u001b[1;31mTypeError\u001b[0m                                 Traceback (most recent call last)",
      "Cell \u001b[1;32mIn[10], line 1\u001b[0m\n\u001b[1;32m----> 1\u001b[0m Addition5(\u001b[38;5;241m120\u001b[39m)\n",
      "\u001b[1;31mTypeError\u001b[0m: Addition5() missing 1 required positional argument: 'n2'"
     ]
    }
   ],
   "source": [
    "Addition5(120)"
   ]
  },
  {
   "cell_type": "code",
   "execution_count": 12,
   "id": "1b363532-bb07-4525-a0b7-a197b5e3b919",
   "metadata": {},
   "outputs": [
    {
     "name": "stdout",
     "output_type": "stream",
     "text": [
      "the addition of 120 and 541 is 661\n"
     ]
    }
   ],
   "source": [
    "Addition5(120,541)"
   ]
  },
  {
   "cell_type": "code",
   "execution_count": 16,
   "id": "504ce6fc-dff0-4258-a658-2bdfef0524ed",
   "metadata": {},
   "outputs": [
    {
     "name": "stdin",
     "output_type": "stream",
     "text": [
      "Enter number 2 : 4201\n"
     ]
    },
    {
     "name": "stdout",
     "output_type": "stream",
     "text": [
      "the addition of 100 and 4201 is 4301\n"
     ]
    }
   ],
   "source": [
    "def Add(n1):\n",
    "    try:\n",
    "        n2 = eval(input(\"Enter number 2 :\"))\n",
    "        add = n1+n2\n",
    "        print(f\"the addition of {n1} and {n2} is {add}\")    \n",
    "    except Exception as e:\n",
    "        print(e)\n",
    "\n",
    "Add(100)"
   ]
  },
  {
   "cell_type": "code",
   "execution_count": 18,
   "id": "59439b0d-37f0-42ea-ad34-49f30801927e",
   "metadata": {},
   "outputs": [
    {
     "name": "stdout",
     "output_type": "stream",
     "text": [
      "The average of 100, 254, 364 is 239.33333333333334\n"
     ]
    }
   ],
   "source": [
    "def Average(n1,n2,n3):\n",
    "    try:\n",
    "        avg = (n1+n2+n3)/3\n",
    "        print(f\"The average of {n1}, {n2}, {n3} is {avg}\")\n",
    "    except Exception as e:\n",
    "        print(e)\n",
    "\n",
    "Average(100,254,364)"
   ]
  },
  {
   "cell_type": "markdown",
   "id": "cc772526-c8cc-4d43-9629-645d645aeddf",
   "metadata": {},
   "source": [
    "**Functions with Default arguments**"
   ]
  },
  {
   "cell_type": "code",
   "execution_count": 21,
   "id": "75959b5a-5174-4fd1-b054-379afa4c6c85",
   "metadata": {},
   "outputs": [
    {
     "name": "stdout",
     "output_type": "stream",
     "text": [
      "the addition of 100 and 50 is 150\n"
     ]
    }
   ],
   "source": [
    "def Addition5(n1,n2=50):\n",
    "    add = n1+n2\n",
    "    print(f\"the addition of {n1} and {n2} is {add}\")    \n",
    "\n",
    "Addition5(100)"
   ]
  },
  {
   "cell_type": "markdown",
   "id": "c3dd8dc5-73bd-4a6e-8a26-8cb746e3e57c",
   "metadata": {},
   "source": [
    "- In above function the n2 value is fixed as 50 and called as default argument\n",
    "- while calling fun no need to give argument\n",
    "- if we provide again the value will change"
   ]
  },
  {
   "cell_type": "code",
   "execution_count": 24,
   "id": "08a4b29f-9386-411e-a67d-85eaee96eeaa",
   "metadata": {},
   "outputs": [
    {
     "name": "stdout",
     "output_type": "stream",
     "text": [
      "the addition of 100 and 20 is 120\n"
     ]
    }
   ],
   "source": [
    "def Addition5(n1,n2=50):\n",
    "    add = n1+n2\n",
    "    print(f\"the addition of {n1} and {n2} is {add}\")    \n",
    "\n",
    "Addition5(100,20)"
   ]
  },
  {
   "cell_type": "code",
   "execution_count": 30,
   "id": "bb8e5a9a-fcfa-414d-994f-54d3ce33d90c",
   "metadata": {},
   "outputs": [
    {
     "name": "stdout",
     "output_type": "stream",
     "text": [
      "n1 : 10\n",
      "n2 : 30\n",
      "n3 : 40\n",
      "The average of 10, 30, 40 is 26.666666666666668\n"
     ]
    }
   ],
   "source": [
    "def Average(n1,n2,n3=40):\n",
    "    print(\"n1 :\",n1)\n",
    "    print(\"n2 :\",n2)\n",
    "    print(\"n3 :\",n3)\n",
    "    avg = (n1+n2+n3)/3\n",
    "    print(f\"The average of {n1}, {n2}, {n3} is {avg}\")\n",
    "\n",
    "\n",
    "Average(10,30)"
   ]
  },
  {
   "cell_type": "code",
   "execution_count": 32,
   "id": "3d9441b6-fc33-44f9-b717-151aec31925b",
   "metadata": {},
   "outputs": [
    {
     "name": "stdout",
     "output_type": "stream",
     "text": [
      "n1 : 10\n",
      "n2 : 80\n",
      "n3 : 40\n",
      "The average of 10, 80, 40 is 43.333333333333336\n"
     ]
    }
   ],
   "source": [
    "def Average(n1,n2=80,n3=40):\n",
    "    print(\"n1 :\",n1)\n",
    "    print(\"n2 :\",n2)\n",
    "    print(\"n3 :\",n3)\n",
    "    avg = (n1+n2+n3)/3\n",
    "    print(f\"The average of {n1}, {n2}, {n3} is {avg}\")\n",
    "\n",
    "\n",
    "Average(10)"
   ]
  },
  {
   "cell_type": "code",
   "execution_count": 34,
   "id": "c7e2c49e-5903-46ee-8498-eeeabfa36082",
   "metadata": {},
   "outputs": [
    {
     "ename": "SyntaxError",
     "evalue": "parameter without a default follows parameter with a default (2932512447.py, line 1)",
     "output_type": "error",
     "traceback": [
      "\u001b[1;36m  Cell \u001b[1;32mIn[34], line 1\u001b[1;36m\u001b[0m\n\u001b[1;33m    def Average(n1,n2=80,n3):\u001b[0m\n\u001b[1;37m                         ^\u001b[0m\n\u001b[1;31mSyntaxError\u001b[0m\u001b[1;31m:\u001b[0m parameter without a default follows parameter with a default\n"
     ]
    }
   ],
   "source": [
    "def Average(n1,n2=80,n3):\n",
    "    print(\"n1 :\",n1)\n",
    "    print(\"n2 :\",n2)\n",
    "    print(\"n3 :\",n3)\n",
    "    avg = (n1+n2+n3)/3\n",
    "    print(f\"The average of {n1}, {n2}, {n3} is {avg}\")\n",
    "\n",
    "\n",
    "Average(10,20)"
   ]
  },
  {
   "cell_type": "markdown",
   "id": "ff0b0997-1256-4fcb-a87d-050711f3ea88",
   "metadata": {},
   "source": [
    "**Default arguments aleays at last**"
   ]
  },
  {
   "cell_type": "code",
   "execution_count": 39,
   "id": "f10009b3-61a4-4425-b628-053f481c1658",
   "metadata": {},
   "outputs": [
    {
     "ename": "TypeError",
     "evalue": "Average() missing 2 required positional arguments: 'n1' and 'n3'",
     "output_type": "error",
     "traceback": [
      "\u001b[1;31m---------------------------------------------------------------------------\u001b[0m",
      "\u001b[1;31mTypeError\u001b[0m                                 Traceback (most recent call last)",
      "Cell \u001b[1;32mIn[39], line 9\u001b[0m\n\u001b[0;32m      5\u001b[0m     avg \u001b[38;5;241m=\u001b[39m (n1\u001b[38;5;241m+\u001b[39mn2\u001b[38;5;241m+\u001b[39mn3)\u001b[38;5;241m/\u001b[39m\u001b[38;5;241m3\u001b[39m\n\u001b[0;32m      6\u001b[0m     \u001b[38;5;28mprint\u001b[39m(\u001b[38;5;124mf\u001b[39m\u001b[38;5;124m\"\u001b[39m\u001b[38;5;124mThe average of \u001b[39m\u001b[38;5;132;01m{\u001b[39;00mn1\u001b[38;5;132;01m}\u001b[39;00m\u001b[38;5;124m, \u001b[39m\u001b[38;5;132;01m{\u001b[39;00mn2\u001b[38;5;132;01m}\u001b[39;00m\u001b[38;5;124m, \u001b[39m\u001b[38;5;132;01m{\u001b[39;00mn3\u001b[38;5;132;01m}\u001b[39;00m\u001b[38;5;124m is \u001b[39m\u001b[38;5;132;01m{\u001b[39;00mavg\u001b[38;5;132;01m}\u001b[39;00m\u001b[38;5;124m\"\u001b[39m)\n\u001b[1;32m----> 9\u001b[0m Average()\n",
      "\u001b[1;31mTypeError\u001b[0m: Average() missing 2 required positional arguments: 'n1' and 'n3'"
     ]
    }
   ],
   "source": [
    "def Average(n1,n3,n2=80):\n",
    "    print(\"n1 :\",n1)\n",
    "    print(\"n2 :\",n2)\n",
    "    print(\"n3 :\",n3)\n",
    "    avg = (n1+n2+n3)/3\n",
    "    print(f\"The average of {n1}, {n2}, {n3} is {avg}\")\n",
    "\n",
    "\n",
    "Average()"
   ]
  },
  {
   "cell_type": "code",
   "execution_count": null,
   "id": "bbd6bc50-6604-4e70-8e44-064f47cc99ad",
   "metadata": {},
   "outputs": [],
   "source": [
    "n1,n2,n3=10        #W\n",
    "n1,n2=10,n3        #F\n",
    "n1=10,n2,n3        #F\n",
    "n1,n2=10,n3=10     #W\n",
    "n1=10,n2,n3=10     #F\n",
    "n1=10,n2=10,n3     #F\n",
    "n1=10,n2=10,n3=10  #W"
   ]
  },
  {
   "cell_type": "code",
   "execution_count": null,
   "id": "50e578d9-77e4-42c2-aa27-b798b217b148",
   "metadata": {},
   "outputs": [],
   "source": []
  },
  {
   "cell_type": "code",
   "execution_count": 7,
   "id": "4c37b49a-5fab-4c27-80bb-292c57b744b9",
   "metadata": {},
   "outputs": [
    {
     "name": "stdout",
     "output_type": "stream",
     "text": [
      "Function without argument\n"
     ]
    },
    {
     "name": "stdin",
     "output_type": "stream",
     "text": [
      "Enter the salary : 10000\n",
      "Enter the tax:  10\n"
     ]
    },
    {
     "name": "stdout",
     "output_type": "stream",
     "text": [
      "The total tax pay 1000.0\n",
      "Function with argument\n",
      "The total tax pay 5000.0\n",
      "Function with default argument\n",
      "The total tax pay 25000.0\n"
     ]
    }
   ],
   "source": [
    "print(\"Function without argument\")\n",
    "def tax_calc1():\n",
    "    salary = eval(input(\"Enter the salary :\"))\n",
    "    tax_per = eval(input(\"Enter the tax: \"))\n",
    "    tax_pay = salary*tax_per/100\n",
    "    print(f\"The total tax pay {tax_pay}\")\n",
    "\n",
    "tax_calc1()\n",
    "\n",
    "print(\"Function with argument\")\n",
    "def tax_calc2(salary,tax_per):\n",
    "    tax_pay = salary*tax_per/100\n",
    "    print(f\"The total tax pay {tax_pay}\")\n",
    "\n",
    "tax_calc2(50000,10)\n",
    "\n",
    "print(\"Function with default argument\")\n",
    "def tax_calc3(salary=100000,tax_per=25):\n",
    "    tax_pay = salary*tax_per/100\n",
    "    print(f\"The total tax pay {tax_pay}\")\n",
    "\n",
    "tax_calc3()"
   ]
  },
  {
   "cell_type": "markdown",
   "id": "32a483cd-4ee2-4991-a3c5-67248b519462",
   "metadata": {},
   "source": [
    "**Analogy with packages**"
   ]
  },
  {
   "cell_type": "code",
   "execution_count": 10,
   "id": "8188a0fa-a9d6-4296-8bb9-a5a7ff0f94e0",
   "metadata": {},
   "outputs": [],
   "source": [
    "from random import randint, random"
   ]
  },
  {
   "cell_type": "code",
   "execution_count": 20,
   "id": "b1371d6a-4ed2-4566-ac34-d62717093e34",
   "metadata": {
    "scrolled": true
   },
   "outputs": [],
   "source": [
    "randint()        #shift+tab inside bracket\n",
    "tax_calc1()\n",
    "\n",
    "random()\n",
    "tax_calc2()"
   ]
  },
  {
   "cell_type": "code",
   "execution_count": 14,
   "id": "53df8e4a-d931-4c29-99e5-ceaf2964febb",
   "metadata": {},
   "outputs": [
    {
     "data": {
      "text/plain": [
       "0j"
      ]
     },
     "execution_count": 14,
     "metadata": {},
     "output_type": "execute_result"
    }
   ],
   "source": [
    "complex()   # default argument is complex(real=0, imag=0)"
   ]
  },
  {
   "cell_type": "code",
   "execution_count": 18,
   "id": "b0a34270-0770-492c-850b-4719aa275f57",
   "metadata": {},
   "outputs": [
    {
     "data": {
      "text/plain": [
       "0j"
      ]
     },
     "execution_count": 18,
     "metadata": {},
     "output_type": "execute_result"
    }
   ],
   "source": [
    "complex(0,0)     # real=0,   imag=0  0+0j=0j"
   ]
  },
  {
   "cell_type": "code",
   "execution_count": 16,
   "id": "8c0944c4-02c1-4468-a5ab-78b54071fa46",
   "metadata": {},
   "outputs": [
    {
     "data": {
      "text/plain": [
       "(3+4j)"
      ]
     },
     "execution_count": 16,
     "metadata": {},
     "output_type": "execute_result"
    }
   ],
   "source": [
    "complex(3,4)   #real=3, img=4,   3+4j"
   ]
  },
  {
   "cell_type": "markdown",
   "id": "95ffacde-d6ac-4612-903f-d7ff925673b6",
   "metadata": {},
   "source": [
    "- Now omwards if you see any package\n",
    "\n",
    "- always do shift+tab indise function to check\n",
    "    - with argument\n",
    "    - without argument\n",
    "    - default argument"
   ]
  },
  {
   "cell_type": "code",
   "execution_count": 27,
   "id": "c6252748-52d1-40f8-ad75-657f218b9d80",
   "metadata": {},
   "outputs": [
    {
     "name": "stdout",
     "output_type": "stream",
     "text": [
      "a : 100\n",
      "b : 200\n",
      "c : 300\n",
      "The summation of 100, 200, 300 is 600\n"
     ]
    }
   ],
   "source": [
    "def add(a,b,c):\n",
    "    print(\"a :\",a)\n",
    "    print(\"b :\",b)\n",
    "    print(\"c :\",c)\n",
    "    summ=a+b+c\n",
    "    print(f\"The summation of {a}, {b}, {c} is {summ}\")\n",
    "\n",
    "add(100,200,300)"
   ]
  },
  {
   "cell_type": "markdown",
   "id": "9955760b-c157-45aa-b9f2-99a1a2b68965",
   "metadata": {},
   "source": [
    "**case-1**"
   ]
  },
  {
   "cell_type": "code",
   "execution_count": 31,
   "id": "53deb70e-385a-4548-9fb5-3b3c259f376d",
   "metadata": {},
   "outputs": [
    {
     "name": "stdout",
     "output_type": "stream",
     "text": [
      "a : 100\n",
      "b : 200\n",
      "c : 700\n",
      "The summation of 100, 200, 700 is 1000\n"
     ]
    }
   ],
   "source": [
    "def add(a,b,c=700):\n",
    "    print(\"a :\",a)\n",
    "    print(\"b :\",b)\n",
    "    print(\"c :\",c)\n",
    "    summ=a+b+c\n",
    "    print(f\"The summation of {a}, {b}, {c} is {summ}\")\n",
    "\n",
    "add(100,200)"
   ]
  },
  {
   "cell_type": "markdown",
   "id": "74bc52fc-32fa-41ba-805c-32ae3f6fb632",
   "metadata": {},
   "source": [
    "**case-2**"
   ]
  },
  {
   "cell_type": "code",
   "execution_count": 33,
   "id": "553ea6c8-a2a2-478b-a540-4ea722723dbf",
   "metadata": {},
   "outputs": [
    {
     "name": "stdout",
     "output_type": "stream",
     "text": [
      "a : 100\n",
      "b : 200\n",
      "c : 300\n",
      "The summation of 100, 200, 300 is 600\n"
     ]
    }
   ],
   "source": [
    "def add(a,b,c=700):\n",
    "    print(\"a :\",a)\n",
    "    print(\"b :\",b)\n",
    "    print(\"c :\",c)\n",
    "    summ=a+b+c\n",
    "    print(f\"The summation of {a}, {b}, {c} is {summ}\")\n",
    "\n",
    "add(100,200,300)"
   ]
  },
  {
   "cell_type": "markdown",
   "id": "7d859341-24ca-468e-9b9c-aa82f611a74b",
   "metadata": {},
   "source": [
    "**case-3**\n",
    "- while define c=300\n",
    "- while calling c=700\n",
    "- while running c=1000"
   ]
  },
  {
   "cell_type": "code",
   "execution_count": 38,
   "id": "9386bb19-934e-4b45-a05e-ac9c895c85b3",
   "metadata": {},
   "outputs": [
    {
     "name": "stdout",
     "output_type": "stream",
     "text": [
      "a : 100\n",
      "b : 200\n",
      "c : 1000\n",
      "The summation of 100, 200, 1000 is 1300\n"
     ]
    }
   ],
   "source": [
    "def add(a,b,c=700):\n",
    "    c=1000\n",
    "    print(\"a :\",a)\n",
    "    print(\"b :\",b)\n",
    "    print(\"c :\",c)\n",
    "    summ=a+b+c\n",
    "    print(f\"The summation of {a}, {b}, {c} is {summ}\")\n",
    "\n",
    "add(100,200,300)\n",
    "\n",
    "\n",
    "# while define c=300\n",
    "# while calling c=700\n",
    "# while running c=1000"
   ]
  },
  {
   "cell_type": "code",
   "execution_count": 42,
   "id": "aa459e91-38b7-4b6c-a3f4-8578bbc9fd40",
   "metadata": {},
   "outputs": [
    {
     "name": "stdout",
     "output_type": "stream",
     "text": [
      "a : 100\n",
      "b : 200\n",
      "c : 1000\n",
      "The summation of 100, 200, 1000 is 1300\n"
     ]
    }
   ],
   "source": [
    "def add(a,b,c):\n",
    "    c=1000\n",
    "    print(\"a :\",a)\n",
    "    print(\"b :\",b)\n",
    "    print(\"c :\",c)\n",
    "    summ=a+b+c\n",
    "    print(f\"The summation of {a}, {b}, {c} is {summ}\")\n",
    "\n",
    "add(100,200,300)"
   ]
  },
  {
   "cell_type": "code",
   "execution_count": 44,
   "id": "9a90aeda-752e-4738-82a5-9fbdb60152fe",
   "metadata": {},
   "outputs": [
    {
     "name": "stdout",
     "output_type": "stream",
     "text": [
      "a : 100\n",
      "b : 200\n",
      "c : 1000\n",
      "The summation of 100, 200, 1000 is 1300\n"
     ]
    }
   ],
   "source": [
    "def add(a,b,c):\n",
    "    c=1000\n",
    "    print(\"a :\",a)\n",
    "    print(\"b :\",b)\n",
    "    print(\"c :\",c)\n",
    "    summ=a+b+c\n",
    "    print(f\"The summation of {a}, {b}, {c} is {summ}\")\n",
    "c=2000\n",
    "add(100,200,300)"
   ]
  },
  {
   "cell_type": "code",
   "execution_count": 46,
   "id": "c8f9b747-9df0-4183-9c89-d9efe17a8c93",
   "metadata": {},
   "outputs": [
    {
     "name": "stdout",
     "output_type": "stream",
     "text": [
      "a : 100\n",
      "b : 200\n",
      "c : 2000\n",
      "The summation of 100, 200, 2000 is 2300\n"
     ]
    }
   ],
   "source": [
    "c=3000                      # this variav+ble \"c\"  is called global variable\n",
    "def add(a,b):\n",
    "    #c=1000\n",
    "    print(\"a :\",a)\n",
    "    print(\"b :\",b)\n",
    "    print(\"c :\",c)\n",
    "    summ=a+b+c\n",
    "    print(f\"The summation of {a}, {b}, {c} is {summ}\")\n",
    "add(100,200)\n",
    "\n",
    "\n",
    "# c=3000   \n",
    "# add() there is no c , so c =3000\n",
    "# call no c, c=3000\n",
    "#inside the any c, c=3000"
   ]
  },
  {
   "cell_type": "markdown",
   "id": "30c95eb7-b543-47e9-9f28-374967aa511a",
   "metadata": {},
   "source": [
    "**global variable  Vs Local Variable**\n",
    "\n",
    "- the variables outside the function is called as global variable\n",
    "    - Global variables can be used anywhere\n",
    "    - global var can be used inside the function as well as outside the function\n",
    "\n",
    "- the variables inside the function is called as **Local variable**\n",
    "    - local varaible can be used only inside function\n",
    "    - local variables cannot be used outside the function"
   ]
  },
  {
   "cell_type": "code",
   "execution_count": 67,
   "id": "3592ef2f-f32a-4f73-a416-dd292fbe6a4a",
   "metadata": {},
   "outputs": [
    {
     "name": "stdout",
     "output_type": "stream",
     "text": [
      "Thesummation of 100, 200 is 300\n"
     ]
    }
   ],
   "source": [
    "def addition():\n",
    "    n11=100\n",
    "    n12=200\n",
    "    summ=n11+n12\n",
    "    print(f\"Thesummation of {n11}, {n12} is {summ}\")\n",
    "\n",
    "addition()\n"
   ]
  },
  {
   "cell_type": "code",
   "execution_count": 69,
   "id": "fca72e55-d311-46bb-820b-665b7387fecc",
   "metadata": {},
   "outputs": [
    {
     "ename": "NameError",
     "evalue": "name 'n11' is not defined",
     "output_type": "error",
     "traceback": [
      "\u001b[1;31m---------------------------------------------------------------------------\u001b[0m",
      "\u001b[1;31mNameError\u001b[0m                                 Traceback (most recent call last)",
      "Cell \u001b[1;32mIn[69], line 1\u001b[0m\n\u001b[1;32m----> 1\u001b[0m n11\n",
      "\u001b[1;31mNameError\u001b[0m: name 'n11' is not defined"
     ]
    }
   ],
   "source": [
    "n11     #Local variable"
   ]
  },
  {
   "cell_type": "code",
   "execution_count": 71,
   "id": "b7bd3025-96a2-439a-8101-9c8166691dad",
   "metadata": {},
   "outputs": [
    {
     "name": "stdout",
     "output_type": "stream",
     "text": [
      "Thesummation of 500, 700 is 1200\n"
     ]
    }
   ],
   "source": [
    "n21=500\n",
    "n22=700\n",
    "def addition():\n",
    "    summ=n21+n22\n",
    "    print(f\"Thesummation of {n21}, {n22} is {summ}\")\n",
    "\n",
    "addition()"
   ]
  },
  {
   "cell_type": "code",
   "execution_count": 73,
   "id": "3924b0da-7bcc-4360-8436-b736519638e8",
   "metadata": {},
   "outputs": [
    {
     "data": {
      "text/plain": [
       "500"
      ]
     },
     "execution_count": 73,
     "metadata": {},
     "output_type": "execute_result"
    }
   ],
   "source": [
    "n21    # Global variable"
   ]
  },
  {
   "cell_type": "markdown",
   "id": "ccfd26a6-e756-48c6-8163-dd9683c6f48b",
   "metadata": {},
   "source": [
    "**How can you make local variable to global variable**\n",
    "\n",
    "- by using keyword **global**"
   ]
  },
  {
   "cell_type": "code",
   "execution_count": 76,
   "id": "ee526d5a-674c-405d-90c2-91c2903335b3",
   "metadata": {},
   "outputs": [
    {
     "name": "stdout",
     "output_type": "stream",
     "text": [
      "Thesummation of 500, 700 is 1200\n"
     ]
    }
   ],
   "source": [
    "n21=500\n",
    "n22=700\n",
    "def addition():\n",
    "    global summ                  # converting local variable to global variable\n",
    "    summ=n21+n22\n",
    "    print(f\"Thesummation of {n21}, {n22} is {summ}\")\n",
    "\n",
    "addition()"
   ]
  },
  {
   "cell_type": "code",
   "execution_count": 78,
   "id": "1a9e1aff-42ca-436b-bc75-07efe2fde050",
   "metadata": {},
   "outputs": [
    {
     "data": {
      "text/plain": [
       "1200"
      ]
     },
     "execution_count": 78,
     "metadata": {},
     "output_type": "execute_result"
    }
   ],
   "source": [
    "summ"
   ]
  },
  {
   "cell_type": "markdown",
   "id": "b97d6e8a-7671-400a-891d-6389117dbbbc",
   "metadata": {},
   "source": [
    "- In below example **s** is not initialised\n",
    "- we might think name error will come\n",
    "- but inside finction we will get **unbound local error**"
   ]
  },
  {
   "cell_type": "code",
   "execution_count": 84,
   "id": "bea97de9-d5a5-4942-b622-8e7b8c6dd9a8",
   "metadata": {},
   "outputs": [
    {
     "ename": "UnboundLocalError",
     "evalue": "cannot access local variable 's' where it is not associated with a value",
     "output_type": "error",
     "traceback": [
      "\u001b[1;31m---------------------------------------------------------------------------\u001b[0m",
      "\u001b[1;31mUnboundLocalError\u001b[0m                         Traceback (most recent call last)",
      "Cell \u001b[1;32mIn[84], line 7\u001b[0m\n\u001b[0;32m      4\u001b[0m     s\u001b[38;5;241m=\u001b[39mn1\u001b[38;5;241m+\u001b[39ms\n\u001b[0;32m      5\u001b[0m     \u001b[38;5;28mprint\u001b[39m(s1)\n\u001b[1;32m----> 7\u001b[0m add1()\n",
      "Cell \u001b[1;32mIn[84], line 4\u001b[0m, in \u001b[0;36madd1\u001b[1;34m()\u001b[0m\n\u001b[0;32m      2\u001b[0m \u001b[38;5;28;01mdef\u001b[39;00m \u001b[38;5;21madd1\u001b[39m():\n\u001b[0;32m      3\u001b[0m     n1\u001b[38;5;241m=\u001b[39m\u001b[38;5;241m100\u001b[39m\n\u001b[1;32m----> 4\u001b[0m     s\u001b[38;5;241m=\u001b[39mn1\u001b[38;5;241m+\u001b[39ms\n\u001b[0;32m      5\u001b[0m     \u001b[38;5;28mprint\u001b[39m(s1)\n",
      "\u001b[1;31mUnboundLocalError\u001b[0m: cannot access local variable 's' where it is not associated with a value"
     ]
    }
   ],
   "source": [
    "sum1=0\n",
    "def add1():\n",
    "    n1=100\n",
    "    s=n1+s\n",
    "    print(s1)\n",
    "\n",
    "add1()"
   ]
  },
  {
   "cell_type": "code",
   "execution_count": 89,
   "id": "6ce3aacf-c595-4628-8eec-973d134347cb",
   "metadata": {},
   "outputs": [
    {
     "ename": "NameError",
     "evalue": "name 's' is not defined",
     "output_type": "error",
     "traceback": [
      "\u001b[1;31m---------------------------------------------------------------------------\u001b[0m",
      "\u001b[1;31mNameError\u001b[0m                                 Traceback (most recent call last)",
      "Cell \u001b[1;32mIn[89], line 7\u001b[0m\n\u001b[0;32m      4\u001b[0m     sum1\u001b[38;5;241m=\u001b[39mn1\u001b[38;5;241m+\u001b[39ms\n\u001b[0;32m      5\u001b[0m     \u001b[38;5;28mprint\u001b[39m(s1)\n\u001b[1;32m----> 7\u001b[0m add1()\n",
      "Cell \u001b[1;32mIn[89], line 4\u001b[0m, in \u001b[0;36madd1\u001b[1;34m()\u001b[0m\n\u001b[0;32m      2\u001b[0m \u001b[38;5;28;01mdef\u001b[39;00m \u001b[38;5;21madd1\u001b[39m():\n\u001b[0;32m      3\u001b[0m     n1\u001b[38;5;241m=\u001b[39m\u001b[38;5;241m100\u001b[39m\n\u001b[1;32m----> 4\u001b[0m     sum1\u001b[38;5;241m=\u001b[39mn1\u001b[38;5;241m+\u001b[39ms\n\u001b[0;32m      5\u001b[0m     \u001b[38;5;28mprint\u001b[39m(s1)\n",
      "\u001b[1;31mNameError\u001b[0m: name 's' is not defined"
     ]
    }
   ],
   "source": [
    "sum1=0\n",
    "def add1():\n",
    "    n1=100\n",
    "    sum1=n1+s\n",
    "    print(s1)\n",
    "\n",
    "add1()"
   ]
  },
  {
   "cell_type": "code",
   "execution_count": 91,
   "id": "9f908d2f-4485-458f-94da-634270dd7444",
   "metadata": {},
   "outputs": [
    {
     "ename": "NameError",
     "evalue": "name 'summ1' is not defined",
     "output_type": "error",
     "traceback": [
      "\u001b[1;31m---------------------------------------------------------------------------\u001b[0m",
      "\u001b[1;31mNameError\u001b[0m                                 Traceback (most recent call last)",
      "Cell \u001b[1;32mIn[91], line 7\u001b[0m\n\u001b[0;32m      4\u001b[0m     s1\u001b[38;5;241m=\u001b[39msumm1\u001b[38;5;241m+\u001b[39mn1\n\u001b[0;32m      5\u001b[0m     \u001b[38;5;28mprint\u001b[39m(s1)\n\u001b[1;32m----> 7\u001b[0m add1()\n",
      "Cell \u001b[1;32mIn[91], line 4\u001b[0m, in \u001b[0;36madd1\u001b[1;34m()\u001b[0m\n\u001b[0;32m      2\u001b[0m \u001b[38;5;28;01mdef\u001b[39;00m \u001b[38;5;21madd1\u001b[39m():\n\u001b[0;32m      3\u001b[0m     n1\u001b[38;5;241m=\u001b[39m\u001b[38;5;241m100\u001b[39m\n\u001b[1;32m----> 4\u001b[0m     s1\u001b[38;5;241m=\u001b[39msumm1\u001b[38;5;241m+\u001b[39mn1\n\u001b[0;32m      5\u001b[0m     \u001b[38;5;28mprint\u001b[39m(s1)\n",
      "\u001b[1;31mNameError\u001b[0m: name 'summ1' is not defined"
     ]
    }
   ],
   "source": [
    "sum1=0\n",
    "def add1():\n",
    "    n1=100\n",
    "    s1=summ1+n1\n",
    "    print(s1)\n",
    "\n",
    "add1()"
   ]
  },
  {
   "cell_type": "code",
   "execution_count": 93,
   "id": "4750d8d1-9739-4e10-8932-97432246e94b",
   "metadata": {},
   "outputs": [
    {
     "ename": "UnboundLocalError",
     "evalue": "cannot access local variable 'summ1' where it is not associated with a value",
     "output_type": "error",
     "traceback": [
      "\u001b[1;31m---------------------------------------------------------------------------\u001b[0m",
      "\u001b[1;31mUnboundLocalError\u001b[0m                         Traceback (most recent call last)",
      "Cell \u001b[1;32mIn[93], line 7\u001b[0m\n\u001b[0;32m      4\u001b[0m     summ1\u001b[38;5;241m=\u001b[39msumm1\u001b[38;5;241m+\u001b[39mn1\n\u001b[0;32m      5\u001b[0m     \u001b[38;5;28mprint\u001b[39m(s1)\n\u001b[1;32m----> 7\u001b[0m add1()\n",
      "Cell \u001b[1;32mIn[93], line 4\u001b[0m, in \u001b[0;36madd1\u001b[1;34m()\u001b[0m\n\u001b[0;32m      2\u001b[0m \u001b[38;5;28;01mdef\u001b[39;00m \u001b[38;5;21madd1\u001b[39m():\n\u001b[0;32m      3\u001b[0m     n1\u001b[38;5;241m=\u001b[39m\u001b[38;5;241m100\u001b[39m\n\u001b[1;32m----> 4\u001b[0m     summ1\u001b[38;5;241m=\u001b[39msumm1\u001b[38;5;241m+\u001b[39mn1\n\u001b[0;32m      5\u001b[0m     \u001b[38;5;28mprint\u001b[39m(s1)\n",
      "\u001b[1;31mUnboundLocalError\u001b[0m: cannot access local variable 'summ1' where it is not associated with a value"
     ]
    }
   ],
   "source": [
    "sum1=0\n",
    "def add1():\n",
    "    n1=100\n",
    "    summ1=summ1+n1\n",
    "    print(s1)\n",
    "\n",
    "add1()"
   ]
  },
  {
   "cell_type": "code",
   "execution_count": 95,
   "id": "86e9c67f-8e7b-4a84-a95d-424734b05fe6",
   "metadata": {},
   "outputs": [
    {
     "name": "stdout",
     "output_type": "stream",
     "text": [
      "60 20.0\n"
     ]
    }
   ],
   "source": [
    "def avg(a,b,c):\n",
    "    ADD = a+b+c\n",
    "    AVG1 = ADD/3 \n",
    "    print(ADD,AVG1)\n",
    "\n",
    "avg(10,20,30)"
   ]
  },
  {
   "cell_type": "code",
   "execution_count": 97,
   "id": "7f1e703e-3853-48b5-a558-06be9aab65c2",
   "metadata": {},
   "outputs": [
    {
     "name": "stdout",
     "output_type": "stream",
     "text": [
      "60 20.0\n"
     ]
    }
   ],
   "source": [
    "def avg(a,b,c):\n",
    "    global ADD, AVG1\n",
    "    ADD = a+b+c\n",
    "    AVG1 = ADD/3 \n",
    "    print(ADD,AVG1)\n",
    "\n",
    "avg(10,20,30)"
   ]
  },
  {
   "cell_type": "code",
   "execution_count": 99,
   "id": "407da9d2-594c-4be4-b822-e4f6659176e3",
   "metadata": {},
   "outputs": [
    {
     "data": {
      "text/plain": [
       "(60, 20.0)"
      ]
     },
     "execution_count": 99,
     "metadata": {},
     "output_type": "execute_result"
    }
   ],
   "source": [
    "ADD, AVG1"
   ]
  },
  {
   "cell_type": "code",
   "execution_count": 101,
   "id": "886ff1db-451a-42b8-aced-7b5aa5709072",
   "metadata": {},
   "outputs": [
    {
     "name": "stdout",
     "output_type": "stream",
     "text": [
      "a : 100\n",
      "b : 200\n",
      "c : 5000\n",
      "The summation of 100, 200, 5000 is 5300\n"
     ]
    }
   ],
   "source": [
    "c=1000                      \n",
    "def add(a,b,c=2000):\n",
    "    c=5000\n",
    "    print(\"a :\",a)\n",
    "    print(\"b :\",b)\n",
    "    print(\"c :\",c)\n",
    "    summ=a+b+c\n",
    "    print(f\"The summation of {a}, {b}, {c} is {summ}\")\n",
    "c=3000\n",
    "add(100,200,4000)"
   ]
  },
  {
   "cell_type": "code",
   "execution_count": 103,
   "id": "887d5368-891d-4b9e-b694-a44c23f3b573",
   "metadata": {},
   "outputs": [],
   "source": [
    "# first step --> define c outside function c=1000 \n",
    "# Second step --> define function, passing default argument, c=2000\n",
    "# Third step  --> define c after function ends, c=3000\n",
    "# Fourth step --> calling function, c=4000\n",
    "# Fifth step --> runnig the function, c=5000\n",
    "\n",
    "# since python is a step by step language so at last the value of c=5000 assings and it will provide result based on that only."
   ]
  },
  {
   "cell_type": "markdown",
   "id": "ce854f19-7905-490e-9d8c-b995908a609a",
   "metadata": {},
   "source": [
    "#wap ask the user enter a number\n",
    "#print is is even or odd\n",
    "- a) Function without argument with default\n",
    "- b) Function with argument\n",
    "- c) function with "
   ]
  },
  {
   "cell_type": "code",
   "execution_count": 12,
   "id": "f7680416-ca62-41ea-8591-ca49ee730c28",
   "metadata": {},
   "outputs": [
    {
     "name": "stdin",
     "output_type": "stream",
     "text": [
      "Enter a number: 65\n"
     ]
    },
    {
     "name": "stdout",
     "output_type": "stream",
     "text": [
      "The number is odd\n"
     ]
    }
   ],
   "source": [
    "def  check():\n",
    "    num=eval(input(\"Enter a number:\"))\n",
    "    if num%2==0:\n",
    "        print(\"The number is even\")\n",
    "    else:\n",
    "        print(\"The number is odd\")\n",
    "\n",
    "check()"
   ]
  },
  {
   "cell_type": "code",
   "execution_count": 7,
   "id": "f880e876-601b-4db1-bdda-c80b23ed15c0",
   "metadata": {},
   "outputs": [
    {
     "name": "stdout",
     "output_type": "stream",
     "text": [
      "The number is odd\n"
     ]
    }
   ],
   "source": [
    "def  check(num=25):\n",
    "    if num%2==0:\n",
    "        print(\"The number is even\")\n",
    "    else:\n",
    "        print(\"The number is odd\")\n",
    "\n",
    "check()"
   ]
  },
  {
   "cell_type": "code",
   "execution_count": 10,
   "id": "76382d2f-0226-48ac-99de-9e40769ae50d",
   "metadata": {},
   "outputs": [
    {
     "name": "stdout",
     "output_type": "stream",
     "text": [
      "The number is odd\n"
     ]
    }
   ],
   "source": [
    "def  check(num):\n",
    "    if num%2==0:\n",
    "        print(\"The number is even\")\n",
    "    else:\n",
    "        print(\"The number is odd\")\n",
    "\n",
    "check(101)"
   ]
  },
  {
   "cell_type": "code",
   "execution_count": 14,
   "id": "c0598557-c272-40bf-a190-d4d52ac98eb4",
   "metadata": {},
   "outputs": [
    {
     "ename": "SyntaxError",
     "evalue": "name 'num9' is parameter and global (652136180.py, line 2)",
     "output_type": "error",
     "traceback": [
      "\u001b[1;36m  Cell \u001b[1;32mIn[14], line 2\u001b[1;36m\u001b[0m\n\u001b[1;33m    global num9\u001b[0m\n\u001b[1;37m    ^\u001b[0m\n\u001b[1;31mSyntaxError\u001b[0m\u001b[1;31m:\u001b[0m name 'num9' is parameter and global\n"
     ]
    }
   ],
   "source": [
    "def  check(num9=100):        #num9 is a parameter and not a varaible\n",
    "    global num9              # num9 is consider as a variable \n",
    "    if num9%2==0:\n",
    "        print(\"The number is even\")\n",
    "    else:\n",
    "        print(\"The number is odd\")\n",
    "\n",
    "check()"
   ]
  },
  {
   "cell_type": "markdown",
   "id": "0f4937fa-b84d-4044-9e65-b3409001d089",
   "metadata": {},
   "source": [
    "**Parameter Vs Varables**\n",
    "\n",
    "- Parameter are also called as arguments\n",
    "- this alwways inside the function bracketrs\n",
    "\n",
    "- Variables are either outside the function or inside"
   ]
  },
  {
   "cell_type": "code",
   "execution_count": 16,
   "id": "184ea4eb-e865-477d-9b19-e7b96c51d0f7",
   "metadata": {},
   "outputs": [
    {
     "name": "stdin",
     "output_type": "stream",
     "text": [
      "Enter a number: 54\n"
     ]
    },
    {
     "name": "stdout",
     "output_type": "stream",
     "text": [
      "The number is even\n"
     ]
    }
   ],
   "source": [
    "def  check():\n",
    "    global num23\n",
    "    num23=eval(input(\"Enter a number:\"))\n",
    "    if num23%2==0:\n",
    "        print(\"The number is even\")\n",
    "    else:\n",
    "        print(\"The number is odd\")\n",
    "\n",
    "check()"
   ]
  },
  {
   "cell_type": "code",
   "execution_count": 18,
   "id": "4b3dfdb2-61e8-4475-b728-f6f819b235e9",
   "metadata": {},
   "outputs": [
    {
     "data": {
      "text/plain": [
       "54"
      ]
     },
     "execution_count": 18,
     "metadata": {},
     "output_type": "execute_result"
    }
   ],
   "source": [
    "num23"
   ]
  },
  {
   "cell_type": "markdown",
   "id": "0707a607-63b0-4924-8f04-a72aad9ecbbf",
   "metadata": {},
   "source": [
    "**return**"
   ]
  },
  {
   "cell_type": "code",
   "execution_count": 32,
   "id": "24390cd2-e962-4f02-b0f4-42de01348007",
   "metadata": {},
   "outputs": [],
   "source": [
    "def add():\n",
    "    a=10\n",
    "    b=20\n",
    "    c=a+b\n",
    "    return(c)\n",
    "\n",
    "new=add()       # add function will return a value and we need to store it in a variable(new)"
   ]
  },
  {
   "cell_type": "code",
   "execution_count": 34,
   "id": "9ca7da94-ddd3-4d28-864a-21fbd4e65e26",
   "metadata": {},
   "outputs": [
    {
     "data": {
      "text/plain": [
       "30"
      ]
     },
     "execution_count": 34,
     "metadata": {},
     "output_type": "execute_result"
    }
   ],
   "source": [
    "new"
   ]
  },
  {
   "cell_type": "code",
   "execution_count": 36,
   "id": "9a120083-65e0-4f41-ab82-6cfb4bc9798d",
   "metadata": {},
   "outputs": [],
   "source": [
    "def add():\n",
    "    a=10\n",
    "    b=20\n",
    "    c=a+b\n",
    "    return(c)\n",
    "\n",
    "new=add() "
   ]
  },
  {
   "cell_type": "code",
   "execution_count": 46,
   "id": "ff94f98b-6002-4b3b-b984-4814dadcba53",
   "metadata": {},
   "outputs": [
    {
     "data": {
      "text/plain": [
       "(10, 20)"
      ]
     },
     "execution_count": 46,
     "metadata": {},
     "output_type": "execute_result"
    }
   ],
   "source": [
    "val = 10,20\n",
    "val"
   ]
  },
  {
   "cell_type": "code",
   "execution_count": 48,
   "id": "4eb8eb12-a14d-44f4-88f8-1b2b45a8385d",
   "metadata": {},
   "outputs": [
    {
     "data": {
      "text/plain": [
       "(10, 20)"
      ]
     },
     "execution_count": 48,
     "metadata": {},
     "output_type": "execute_result"
    }
   ],
   "source": [
    "val1,val2 =10,20\n",
    "val1,val2"
   ]
  },
  {
   "cell_type": "code",
   "execution_count": 50,
   "id": "1ce1a6e2-e12b-4643-a414-f22a6b60214a",
   "metadata": {},
   "outputs": [
    {
     "ename": "TypeError",
     "evalue": "cannot unpack non-iterable int object",
     "output_type": "error",
     "traceback": [
      "\u001b[1;31m---------------------------------------------------------------------------\u001b[0m",
      "\u001b[1;31mTypeError\u001b[0m                                 Traceback (most recent call last)",
      "Cell \u001b[1;32mIn[50], line 1\u001b[0m\n\u001b[1;32m----> 1\u001b[0m val1, val2\u001b[38;5;241m=\u001b[39m\u001b[38;5;241m10\u001b[39m\n\u001b[0;32m      2\u001b[0m val1, val2\n",
      "\u001b[1;31mTypeError\u001b[0m: cannot unpack non-iterable int object"
     ]
    }
   ],
   "source": [
    "val1, val2=10\n",
    "val1, val2"
   ]
  },
  {
   "cell_type": "code",
   "execution_count": 56,
   "id": "90060b4d-a0cf-40a7-a476-8d79edd15f83",
   "metadata": {},
   "outputs": [
    {
     "data": {
      "text/plain": [
       "30"
      ]
     },
     "execution_count": 56,
     "metadata": {},
     "output_type": "execute_result"
    }
   ],
   "source": [
    "def add():\n",
    "    a=10\n",
    "    b=20\n",
    "    c=a+b\n",
    "    return(c)\n",
    "\n",
    "c=add() \n",
    "c"
   ]
  },
  {
   "cell_type": "code",
   "execution_count": 54,
   "id": "4887d0d0-06f8-4efd-b4b7-b0704cc274e8",
   "metadata": {},
   "outputs": [],
   "source": [
    "def add():\n",
    "    a=10\n",
    "    b=20\n",
    "    c=a+b\n",
    "    return(a,c)\n",
    "\n",
    "a,c=add() "
   ]
  },
  {
   "cell_type": "code",
   "execution_count": 58,
   "id": "23091555-9a75-4cbd-aa72-e3e30e256b57",
   "metadata": {},
   "outputs": [
    {
     "data": {
      "text/plain": [
       "(10, 30)"
      ]
     },
     "execution_count": 58,
     "metadata": {},
     "output_type": "execute_result"
    }
   ],
   "source": [
    "a,c"
   ]
  },
  {
   "cell_type": "code",
   "execution_count": 70,
   "id": "a14593af-4693-4c37-b809-6f9152ec8dce",
   "metadata": {},
   "outputs": [
    {
     "data": {
      "text/plain": [
       "(10, 20, 30)"
      ]
     },
     "execution_count": 70,
     "metadata": {},
     "output_type": "execute_result"
    }
   ],
   "source": [
    "def avg(a,b,c):\n",
    "    summ=a+b+c\n",
    "    AVG=summ/3\n",
    "    return(a,b,c)\n",
    "\n",
    "n1,n2,n3=avg(10,20,30)\n",
    "n1,n2,n3"
   ]
  },
  {
   "cell_type": "code",
   "execution_count": 72,
   "id": "2fa297be-17e0-4eeb-a082-b0ff4b928b42",
   "metadata": {},
   "outputs": [
    {
     "data": {
      "text/plain": [
       "(60, 20.0)"
      ]
     },
     "execution_count": 72,
     "metadata": {},
     "output_type": "execute_result"
    }
   ],
   "source": [
    "def avg(a,b,c):\n",
    "    summ=a+b+c\n",
    "    AVG=summ/3\n",
    "    return(summ,AVG)\n",
    "\n",
    "sum1,avg1=avg(10,20,30)\n",
    "sum1,avg1"
   ]
  },
  {
   "cell_type": "code",
   "execution_count": 78,
   "id": "677525b0-8765-45b3-9085-6490eae37f55",
   "metadata": {},
   "outputs": [
    {
     "name": "stdin",
     "output_type": "stream",
     "text": [
      "Enter a number: 85\n"
     ]
    },
    {
     "name": "stdout",
     "output_type": "stream",
     "text": [
      "Odd number\n"
     ]
    },
    {
     "data": {
      "text/plain": [
       "85"
      ]
     },
     "execution_count": 78,
     "metadata": {},
     "output_type": "execute_result"
    }
   ],
   "source": [
    "def  check():\n",
    "    num_2=eval(input(\"Enter a number:\"))\n",
    "    if num_2%2==0:\n",
    "        print(\"Even number\")\n",
    "        return(num_2)\n",
    "    else:\n",
    "        print(\"Odd number\")\n",
    "        return(num_2)\n",
    "\n",
    "num_2=check()\n",
    "num_2"
   ]
  },
  {
   "cell_type": "code",
   "execution_count": 82,
   "id": "ce7feffb-b01a-43da-b4f3-59060e2ecbf9",
   "metadata": {},
   "outputs": [
    {
     "name": "stdin",
     "output_type": "stream",
     "text": [
      "Enter a number: 87\n"
     ]
    },
    {
     "data": {
      "text/plain": [
       "'The number 87 is Odd number'"
      ]
     },
     "execution_count": 82,
     "metadata": {},
     "output_type": "execute_result"
    }
   ],
   "source": [
    "def  check():\n",
    "    num_2=eval(input(\"Enter a number:\"))\n",
    "    if num_2%2==0:\n",
    "        return(f\"The number {num_2} is Even number\")\n",
    "    else:\n",
    "        return(f\"The number {num_2} is Odd number\")\n",
    "\n",
    "num_2=check()\n",
    "num_2"
   ]
  },
  {
   "cell_type": "markdown",
   "id": "53f50aa0-b678-4239-b8db-eb69ed338eff",
   "metadata": {},
   "source": [
    "**function in function**"
   ]
  },
  {
   "cell_type": "code",
   "execution_count": 87,
   "id": "f09a149f-873a-479b-8653-28bfb98014f3",
   "metadata": {},
   "outputs": [
    {
     "name": "stdout",
     "output_type": "stream",
     "text": [
      "Hello gid morming\n",
      "Hello good night\n"
     ]
    }
   ],
   "source": [
    "def greet1():\n",
    "    print(\"Hello gid morming\")\n",
    "\n",
    "def greet2():\n",
    "    print(\"Hello good night\")\n",
    "\n",
    "\n",
    "greet1()\n",
    "greet2()"
   ]
  },
  {
   "cell_type": "code",
   "execution_count": 89,
   "id": "5b8f0341-b12c-493e-a713-5c71fe90b432",
   "metadata": {},
   "outputs": [
    {
     "name": "stdout",
     "output_type": "stream",
     "text": [
      "Hello good night\n",
      "Hello gid morming\n"
     ]
    }
   ],
   "source": [
    "def greet1():\n",
    "    print(\"Hello gid morming\")\n",
    "\n",
    "def greet2():\n",
    "    print(\"Hello good night\")\n",
    "    greet1()\n",
    "\n",
    "greet2()"
   ]
  },
  {
   "cell_type": "code",
   "execution_count": 91,
   "id": "7cfddbab-e83a-4739-ad09-8bd7446a0c24",
   "metadata": {},
   "outputs": [
    {
     "name": "stdout",
     "output_type": "stream",
     "text": [
      "Hello gid morming\n",
      "Hello good night\n"
     ]
    }
   ],
   "source": [
    "def greet1():\n",
    "    print(\"Hello gid morming\")\n",
    "    greet2()\n",
    "    \n",
    "def greet2():\n",
    "    print(\"Hello good night\")\n",
    "\n",
    "greet1()"
   ]
  },
  {
   "cell_type": "code",
   "execution_count": null,
   "id": "324693f6-3dcc-40ad-a1ef-1f1fdae3a00d",
   "metadata": {},
   "outputs": [],
   "source": [
    "# infinite loop\n",
    "#def greet1():\n",
    "    print(\"Hello gid morming\")\n",
    "    greet2()\n",
    "    \n",
    "$def greet2():\n",
    "    print(\"Hello good night\")\n",
    "    greet1()\n",
    "\n",
    "greet1()"
   ]
  },
  {
   "cell_type": "code",
   "execution_count": null,
   "id": "1f0e9f0a-c40f-4f99-baa1-4df5724e59d6",
   "metadata": {},
   "outputs": [],
   "source": [
    "#def greet3():               #####recursive loop\n",
    "    print(\"I don't know what im doing\")\n",
    "    greet3()\n",
    "\n"
   ]
  },
  {
   "cell_type": "code",
   "execution_count": 107,
   "id": "be946f40-49cd-4e16-affd-6d9fd035cf21",
   "metadata": {},
   "outputs": [
    {
     "data": {
      "text/plain": [
       "15"
      ]
     },
     "execution_count": 107,
     "metadata": {},
     "output_type": "execute_result"
    }
   ],
   "source": [
    "def add(n):\n",
    "    if n==0:\n",
    "        return(0)\n",
    "    else:\n",
    "        return(n+add(n-1))\n",
    "\n",
    "out1=add(5)\n",
    "out1\n",
    "\n",
    "\n",
    "# step 1: n=5 if F else 5+add(4)\n",
    "# step 2: n=4 if F else 5+4+add(3)\n",
    "# step 3: n=3 if F else 5+4+3+add(2)\n",
    "# step 4: n=2 if F else 5+4+3+2+add(1)\n",
    "# step 5: n=1 if F else 5+4+3+2+1+add(0)\n",
    "# step 6: n=0 if T"
   ]
  },
  {
   "cell_type": "code",
   "execution_count": null,
   "id": "e5c70d3d-f9cc-4f81-b7b9-77171cac82ba",
   "metadata": {},
   "outputs": [],
   "source": [
    "# 1). Factorial recurrsion 5!\n",
    "# 2). Calculator prog\n",
    "        - four func\n",
    "            - add,sub,mul,div\n",
    "        - 1 for add, 2 for sub...\n",
    "        - def main() fun\n",
    "            opt = eval (Enter option for cal)\n",
    "            if opt =1\n",
    "                add....\n"
   ]
  }
 ],
 "metadata": {
  "kernelspec": {
   "display_name": "Python [conda env:base] *",
   "language": "python",
   "name": "conda-base-py"
  },
  "language_info": {
   "codemirror_mode": {
    "name": "ipython",
    "version": 3
   },
   "file_extension": ".py",
   "mimetype": "text/x-python",
   "name": "python",
   "nbconvert_exporter": "python",
   "pygments_lexer": "ipython3",
   "version": "3.12.7"
  }
 },
 "nbformat": 4,
 "nbformat_minor": 5
}
