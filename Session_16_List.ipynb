{
 "cells": [
  {
   "cell_type": "code",
   "execution_count": 11,
   "id": "bf3bd692-d2c1-4f57-9404-632c78ba5dde",
   "metadata": {},
   "outputs": [
    {
     "name": "stdout",
     "output_type": "stream",
     "text": [
      "1 2 3 4 5 6 "
     ]
    }
   ],
   "source": [
    "str1='the telephone number is 123456'\n",
    "#seperate 123456 from string\n",
    "\n",
    "\n",
    "num='1234567890'\n",
    "for i in str1:\n",
    "    #print(i)\n",
    "    if i in num:\n",
    "        print(i, end=\" \")\n"
   ]
  },
  {
   "cell_type": "code",
   "execution_count": 19,
   "id": "2dbd374d-52e4-4dbb-9a87-4354f6f42fa7",
   "metadata": {},
   "outputs": [
    {
     "name": "stdout",
     "output_type": "stream",
     "text": [
      "123456\n"
     ]
    }
   ],
   "source": [
    "num=\"\"\n",
    "for i in str1:\n",
    "    #print(i)\n",
    "    if i.isdigit():\n",
    "        num=num+i\n",
    "print(num)\n"
   ]
  },
  {
   "cell_type": "markdown",
   "id": "c386747c-dded-44ee-8543-1f8b9d4af320",
   "metadata": {},
   "source": [
    "- basic representation\n",
    "- inbuilt functions\n",
    "    - type\n",
    "    - print\n",
    "    - min\n",
    "    - max\n",
    "    - length\n",
    "    - sum\n",
    "    - reversed\n",
    "    - sorted\n",
    "\n",
    "- concatenation\n",
    "- index\n",
    "- in\n",
    "- difference between index and in\n",
    "- mutable vs immutable\n",
    "- slice\n",
    "- Methods"
   ]
  },
  {
   "cell_type": "markdown",
   "id": "b5986298-1099-4677-91aa-66a6109d21ad",
   "metadata": {},
   "source": [
    "**Basic Representation** "
   ]
  },
  {
   "cell_type": "markdown",
   "id": "309df413-40c2-4e1a-9130-37beb7d09a91",
   "metadata": {},
   "source": [
    "- **strings** elements is in quotes\n",
    "- List elements is in square brackets\n"
   ]
  },
  {
   "cell_type": "code",
   "execution_count": 26,
   "id": "904a3d9d-085e-4a7b-831b-ba38688a6852",
   "metadata": {},
   "outputs": [
    {
     "data": {
      "text/plain": [
       "[1, 2, 3, 4]"
      ]
     },
     "execution_count": 26,
     "metadata": {},
     "output_type": "execute_result"
    }
   ],
   "source": [
    "list1=[1,2,3,4]\n",
    "list1"
   ]
  },
  {
   "cell_type": "code",
   "execution_count": 28,
   "id": "0fc9612c-1e87-479a-b9d3-04c9cd62614d",
   "metadata": {},
   "outputs": [
    {
     "name": "stdout",
     "output_type": "stream",
     "text": [
      "[1, 2, 3, 4]\n"
     ]
    }
   ],
   "source": [
    "print(list1)"
   ]
  },
  {
   "cell_type": "code",
   "execution_count": 30,
   "id": "51be0999-08fb-4dee-873f-ac63ffdeafc5",
   "metadata": {},
   "outputs": [
    {
     "name": "stdout",
     "output_type": "stream",
     "text": [
      "<class 'list'>\n"
     ]
    }
   ],
   "source": [
    "print(type(list1))"
   ]
  },
  {
   "cell_type": "code",
   "execution_count": 32,
   "id": "8ead6e77-b6b0-4a49-86b5-7caae9cce3c8",
   "metadata": {},
   "outputs": [],
   "source": [
    "list2=['A','B','C']"
   ]
  },
  {
   "cell_type": "code",
   "execution_count": 34,
   "id": "53a6add3-e2eb-482f-8df1-4fbb96813621",
   "metadata": {},
   "outputs": [
    {
     "data": {
      "text/plain": [
       "['A', 'B', 'C']"
      ]
     },
     "execution_count": 34,
     "metadata": {},
     "output_type": "execute_result"
    }
   ],
   "source": [
    "list2"
   ]
  },
  {
   "cell_type": "code",
   "execution_count": 38,
   "id": "1a2ce055-4fc8-4a62-b0e9-b7d12b5afc5f",
   "metadata": {},
   "outputs": [],
   "source": [
    "list3=[1,2,3,4,'A','B','C']"
   ]
  },
  {
   "cell_type": "code",
   "execution_count": 40,
   "id": "23858348-9eb1-43bb-8792-73271a840340",
   "metadata": {},
   "outputs": [
    {
     "data": {
      "text/plain": [
       "[1, 2, 3, 4, 'A', 'B', 'C']"
      ]
     },
     "execution_count": 40,
     "metadata": {},
     "output_type": "execute_result"
    }
   ],
   "source": [
    "list3"
   ]
  },
  {
   "cell_type": "code",
   "execution_count": 46,
   "id": "c9a8ae23-09e3-448c-a06f-24d8b50b0024",
   "metadata": {},
   "outputs": [],
   "source": [
    "list4=[True,'a',1,[1,2,3],['A','B','E'],\"45\",\"sem\"]"
   ]
  },
  {
   "cell_type": "code",
   "execution_count": 48,
   "id": "c2e5e0b2-58b3-4848-81c4-879693879bbe",
   "metadata": {},
   "outputs": [
    {
     "data": {
      "text/plain": [
       "[True, 'a', 1, [1, 2, 3], ['A', 'B', 'E'], '45', 'sem']"
      ]
     },
     "execution_count": 48,
     "metadata": {},
     "output_type": "execute_result"
    }
   ],
   "source": [
    "list4"
   ]
  },
  {
   "cell_type": "code",
   "execution_count": 50,
   "id": "483812df-0aac-404e-a40f-5c073b95baa6",
   "metadata": {},
   "outputs": [],
   "source": [
    "list5=[True,False,10.5,25,35,3+4j,'Python', 'Apple','Cherry']"
   ]
  },
  {
   "cell_type": "code",
   "execution_count": 52,
   "id": "ac7233cb-58c2-4228-8058-6ffe3fbc48a2",
   "metadata": {},
   "outputs": [
    {
     "data": {
      "text/plain": [
       "[True, False, 10.5, 25, 35, (3+4j), 'Python', 'Apple', 'Cherry']"
      ]
     },
     "execution_count": 52,
     "metadata": {},
     "output_type": "execute_result"
    }
   ],
   "source": [
    "list5"
   ]
  },
  {
   "cell_type": "code",
   "execution_count": 54,
   "id": "c02feabc-2164-403b-9a38-6b994f58837a",
   "metadata": {},
   "outputs": [
    {
     "data": {
      "text/plain": [
       "[10, 10, 10]"
      ]
     },
     "execution_count": 54,
     "metadata": {},
     "output_type": "execute_result"
    }
   ],
   "source": [
    "list6=[10,10,10]\n",
    "list6"
   ]
  },
  {
   "cell_type": "code",
   "execution_count": 58,
   "id": "6a407a50-9788-4242-8e55-8f11fb98fb53",
   "metadata": {},
   "outputs": [
    {
     "data": {
      "text/plain": [
       "[[10]]"
      ]
     },
     "execution_count": 58,
     "metadata": {},
     "output_type": "execute_result"
    }
   ],
   "source": [
    "list7=[[10]]\n",
    "list7"
   ]
  },
  {
   "cell_type": "code",
   "execution_count": 64,
   "id": "f55b0e6f-633f-4eec-81fc-9fff5d6d73ea",
   "metadata": {},
   "outputs": [
    {
     "data": {
      "text/plain": [
       "['python']"
      ]
     },
     "execution_count": 64,
     "metadata": {},
     "output_type": "execute_result"
    }
   ],
   "source": [
    "name='python'\n",
    "list8=[name]\n",
    "list8"
   ]
  },
  {
   "cell_type": "code",
   "execution_count": 66,
   "id": "dd9f7b4d-1015-4977-beb8-7b35276b1896",
   "metadata": {},
   "outputs": [
    {
     "data": {
      "text/plain": [
       "['{\"dataframes\": [], \"user\": \"Ankit\"}']"
      ]
     },
     "execution_count": 66,
     "metadata": {},
     "output_type": "execute_result"
    }
   ],
   "source": [
    "list9=[_]\n",
    "list9"
   ]
  },
  {
   "cell_type": "code",
   "execution_count": 68,
   "id": "eed36875-cb1f-4723-9ddd-6a7ab6e31a63",
   "metadata": {},
   "outputs": [],
   "source": [
    "list1=[10,20,2,5,75]\n",
    "list2= ['Apple','apple','Cherry','banana']"
   ]
  },
  {
   "cell_type": "code",
   "execution_count": 70,
   "id": "708d31d3-8816-40b5-b380-deeffd8580ff",
   "metadata": {},
   "outputs": [
    {
     "data": {
      "text/plain": [
       "list"
      ]
     },
     "execution_count": 70,
     "metadata": {},
     "output_type": "execute_result"
    }
   ],
   "source": [
    "type(list1)"
   ]
  },
  {
   "cell_type": "code",
   "execution_count": 72,
   "id": "f099326e-2a23-4666-97cb-d40bdbe8d034",
   "metadata": {},
   "outputs": [
    {
     "data": {
      "text/plain": [
       "list"
      ]
     },
     "execution_count": 72,
     "metadata": {},
     "output_type": "execute_result"
    }
   ],
   "source": [
    "type(list2)"
   ]
  },
  {
   "cell_type": "code",
   "execution_count": 74,
   "id": "eb191668-53c3-45fe-8382-a890696c9a4a",
   "metadata": {},
   "outputs": [
    {
     "name": "stdout",
     "output_type": "stream",
     "text": [
      "[10, 20, 2, 5, 75]\n",
      "['Apple', 'apple', 'Cherry', 'banana']\n"
     ]
    }
   ],
   "source": [
    "print(list1)\n",
    "print(list2)"
   ]
  },
  {
   "cell_type": "code",
   "execution_count": 76,
   "id": "59771b6e-a09c-493b-9a56-5babc3f7f0b7",
   "metadata": {},
   "outputs": [
    {
     "data": {
      "text/plain": [
       "2"
      ]
     },
     "execution_count": 76,
     "metadata": {},
     "output_type": "execute_result"
    }
   ],
   "source": [
    "min(list1)"
   ]
  },
  {
   "cell_type": "code",
   "execution_count": 78,
   "id": "5aafe576-7de7-4b4c-b81d-5c0b25d7e2a6",
   "metadata": {},
   "outputs": [
    {
     "data": {
      "text/plain": [
       "'Apple'"
      ]
     },
     "execution_count": 78,
     "metadata": {},
     "output_type": "execute_result"
    }
   ],
   "source": [
    "min(list2)\n",
    "# ASCII of A is 65"
   ]
  },
  {
   "cell_type": "code",
   "execution_count": 80,
   "id": "4293a3eb-97aa-44b1-b527-59df41816270",
   "metadata": {},
   "outputs": [
    {
     "data": {
      "text/plain": [
       "75"
      ]
     },
     "execution_count": 80,
     "metadata": {},
     "output_type": "execute_result"
    }
   ],
   "source": [
    "max(list1)"
   ]
  },
  {
   "cell_type": "code",
   "execution_count": 82,
   "id": "a2fa9231-bb8c-4eb5-93db-149493db6fe4",
   "metadata": {},
   "outputs": [
    {
     "data": {
      "text/plain": [
       "'banana'"
      ]
     },
     "execution_count": 82,
     "metadata": {},
     "output_type": "execute_result"
    }
   ],
   "source": [
    "max(list2)"
   ]
  },
  {
   "cell_type": "code",
   "execution_count": 88,
   "id": "70d1b9f4-2ebb-4d4f-8636-d1dca7da8c4e",
   "metadata": {},
   "outputs": [
    {
     "data": {
      "text/plain": [
       "5"
      ]
     },
     "execution_count": 88,
     "metadata": {},
     "output_type": "execute_result"
    }
   ],
   "source": [
    "len(list1)"
   ]
  },
  {
   "cell_type": "code",
   "execution_count": 86,
   "id": "5e679679-07a2-49ab-b1ef-06deb8aad630",
   "metadata": {},
   "outputs": [
    {
     "data": {
      "text/plain": [
       "4"
      ]
     },
     "execution_count": 86,
     "metadata": {},
     "output_type": "execute_result"
    }
   ],
   "source": [
    "len(list2)"
   ]
  },
  {
   "cell_type": "code",
   "execution_count": 90,
   "id": "ae799296-9054-4c1d-a51c-7dd6d0a6038b",
   "metadata": {},
   "outputs": [
    {
     "data": {
      "text/plain": [
       "112"
      ]
     },
     "execution_count": 90,
     "metadata": {},
     "output_type": "execute_result"
    }
   ],
   "source": [
    "sum(list1)"
   ]
  },
  {
   "cell_type": "code",
   "execution_count": 92,
   "id": "17736a4e-9014-4ed9-9f2d-3bbed292296b",
   "metadata": {},
   "outputs": [
    {
     "ename": "TypeError",
     "evalue": "unsupported operand type(s) for +: 'int' and 'str'",
     "output_type": "error",
     "traceback": [
      "\u001b[1;31m---------------------------------------------------------------------------\u001b[0m",
      "\u001b[1;31mTypeError\u001b[0m                                 Traceback (most recent call last)",
      "Cell \u001b[1;32mIn[92], line 1\u001b[0m\n\u001b[1;32m----> 1\u001b[0m \u001b[38;5;28msum\u001b[39m(list2)\n",
      "\u001b[1;31mTypeError\u001b[0m: unsupported operand type(s) for +: 'int' and 'str'"
     ]
    }
   ],
   "source": [
    "sum(list2)"
   ]
  },
  {
   "cell_type": "code",
   "execution_count": 108,
   "id": "273dd062-9265-4187-8242-58fd8e767264",
   "metadata": {},
   "outputs": [
    {
     "name": "stdout",
     "output_type": "stream",
     "text": [
      "75\n",
      "5\n",
      "2\n",
      "20\n",
      "10\n"
     ]
    }
   ],
   "source": [
    "rev= reversed(list1)\n",
    "for i in rev:\n",
    "    print(i)"
   ]
  },
  {
   "cell_type": "code",
   "execution_count": 110,
   "id": "f5d5b420-2031-4e5a-940f-6b082546487e",
   "metadata": {},
   "outputs": [
    {
     "name": "stdout",
     "output_type": "stream",
     "text": [
      "banana\n",
      "Cherry\n",
      "apple\n",
      "Apple\n"
     ]
    }
   ],
   "source": [
    "for i in reversed(list2):\n",
    "    print(i)"
   ]
  },
  {
   "cell_type": "code",
   "execution_count": 98,
   "id": "73ec7904-e4e8-47cf-b289-c5c2ea1c7088",
   "metadata": {},
   "outputs": [
    {
     "data": {
      "text/plain": [
       "[2, 5, 10, 20, 75]"
      ]
     },
     "execution_count": 98,
     "metadata": {},
     "output_type": "execute_result"
    }
   ],
   "source": [
    "sorted(list1)"
   ]
  },
  {
   "cell_type": "code",
   "execution_count": 100,
   "id": "e18ace23-5beb-4141-b5ad-e9bd32a84ff6",
   "metadata": {},
   "outputs": [
    {
     "data": {
      "text/plain": [
       "['Apple', 'Cherry', 'apple', 'banana']"
      ]
     },
     "execution_count": 100,
     "metadata": {},
     "output_type": "execute_result"
    }
   ],
   "source": [
    "sorted(list2)"
   ]
  },
  {
   "cell_type": "code",
   "execution_count": 102,
   "id": "4860573c-8449-4e62-9d45-6a6292cb86a2",
   "metadata": {},
   "outputs": [
    {
     "data": {
      "text/plain": [
       "[10, 20, 2, 5, 75, 'Apple', 'apple', 'Cherry', 'banana']"
      ]
     },
     "execution_count": 102,
     "metadata": {},
     "output_type": "execute_result"
    }
   ],
   "source": [
    "list1+list2"
   ]
  },
  {
   "cell_type": "code",
   "execution_count": 112,
   "id": "c4e30d02-2387-4e97-b2e6-9f047998c9d6",
   "metadata": {},
   "outputs": [],
   "source": [
    "list3=[10, 20, 2, 5, 75, 'Apple', 'apple', 'Cherry', 'banana']"
   ]
  },
  {
   "cell_type": "code",
   "execution_count": 114,
   "id": "f32134df-eb07-4923-bf49-cc15c6f98890",
   "metadata": {},
   "outputs": [
    {
     "ename": "TypeError",
     "evalue": "unsupported operand type(s) for +: 'int' and 'str'",
     "output_type": "error",
     "traceback": [
      "\u001b[1;31m---------------------------------------------------------------------------\u001b[0m",
      "\u001b[1;31mTypeError\u001b[0m                                 Traceback (most recent call last)",
      "Cell \u001b[1;32mIn[114], line 1\u001b[0m\n\u001b[1;32m----> 1\u001b[0m \u001b[38;5;28msum\u001b[39m(list3)\n",
      "\u001b[1;31mTypeError\u001b[0m: unsupported operand type(s) for +: 'int' and 'str'"
     ]
    }
   ],
   "source": [
    "sum(list3)"
   ]
  },
  {
   "cell_type": "code",
   "execution_count": 116,
   "id": "93eee11f-90a4-430c-afa4-ad9b12f48862",
   "metadata": {},
   "outputs": [
    {
     "ename": "TypeError",
     "evalue": "'<' not supported between instances of 'str' and 'int'",
     "output_type": "error",
     "traceback": [
      "\u001b[1;31m---------------------------------------------------------------------------\u001b[0m",
      "\u001b[1;31mTypeError\u001b[0m                                 Traceback (most recent call last)",
      "Cell \u001b[1;32mIn[116], line 1\u001b[0m\n\u001b[1;32m----> 1\u001b[0m \u001b[38;5;28msorted\u001b[39m(list3)\n",
      "\u001b[1;31mTypeError\u001b[0m: '<' not supported between instances of 'str' and 'int'"
     ]
    }
   ],
   "source": [
    "sorted(list3)"
   ]
  },
  {
   "cell_type": "code",
   "execution_count": 128,
   "id": "af7b2834-d333-41ed-9098-2d51d4811ea3",
   "metadata": {},
   "outputs": [
    {
     "name": "stdout",
     "output_type": "stream",
     "text": [
      "banana\n",
      "Cherry\n",
      "apple\n",
      "Apple\n",
      "75\n",
      "5\n",
      "2\n",
      "20\n",
      "10\n"
     ]
    }
   ],
   "source": [
    "for i in reversed(list3):\n",
    "    print(i)"
   ]
  },
  {
   "cell_type": "code",
   "execution_count": 124,
   "id": "e636cc3e-b029-49ec-bb91-000fe1be583e",
   "metadata": {},
   "outputs": [
    {
     "data": {
      "text/plain": [
       "9"
      ]
     },
     "execution_count": 124,
     "metadata": {},
     "output_type": "execute_result"
    }
   ],
   "source": [
    "len(list3)"
   ]
  },
  {
   "cell_type": "code",
   "execution_count": 126,
   "id": "8a5da952-b46c-45d4-9760-f72d2d93ac25",
   "metadata": {},
   "outputs": [
    {
     "ename": "TypeError",
     "evalue": "unsupported operand type(s) for +: 'int' and 'str'",
     "output_type": "error",
     "traceback": [
      "\u001b[1;31m---------------------------------------------------------------------------\u001b[0m",
      "\u001b[1;31mTypeError\u001b[0m                                 Traceback (most recent call last)",
      "Cell \u001b[1;32mIn[126], line 1\u001b[0m\n\u001b[1;32m----> 1\u001b[0m \u001b[38;5;28msum\u001b[39m(list3)\n",
      "\u001b[1;31mTypeError\u001b[0m: unsupported operand type(s) for +: 'int' and 'str'"
     ]
    }
   ],
   "source": [
    "sum(list3)"
   ]
  },
  {
   "cell_type": "code",
   "execution_count": 130,
   "id": "4bf68f36-746d-4d67-b68a-9e5772797d96",
   "metadata": {},
   "outputs": [],
   "source": [
    "# Q1. Sort ther list without usingh sort func\n",
    "# Q2. find the max without using max function\n",
    "# Q3. find the min without using min function\n",
    "# Q4. reverse the elements without using reversed function\n",
    "# Q5. sum, the elements without using sum function\n",
    "# Q6. find the second minimum and second maximum"
   ]
  },
  {
   "cell_type": "code",
   "execution_count": 132,
   "id": "c030bf8b-f322-4339-9e2d-b901a34c9195",
   "metadata": {},
   "outputs": [
    {
     "data": {
      "text/plain": [
       "[10,\n",
       " 20,\n",
       " 2,\n",
       " 5,\n",
       " 75,\n",
       " 'Apple',\n",
       " 'apple',\n",
       " 'Cherry',\n",
       " 'banana',\n",
       " 10,\n",
       " 20,\n",
       " 2,\n",
       " 5,\n",
       " 75,\n",
       " 'Apple',\n",
       " 'apple',\n",
       " 'Cherry',\n",
       " 'banana']"
      ]
     },
     "execution_count": 132,
     "metadata": {},
     "output_type": "execute_result"
    }
   ],
   "source": [
    "list1+list2+list3"
   ]
  },
  {
   "cell_type": "code",
   "execution_count": 134,
   "id": "45e64e7f-a052-4562-ac1f-7467273d8e93",
   "metadata": {},
   "outputs": [
    {
     "ename": "TypeError",
     "evalue": "unsupported operand type(s) for -: 'list' and 'list'",
     "output_type": "error",
     "traceback": [
      "\u001b[1;31m---------------------------------------------------------------------------\u001b[0m",
      "\u001b[1;31mTypeError\u001b[0m                                 Traceback (most recent call last)",
      "Cell \u001b[1;32mIn[134], line 1\u001b[0m\n\u001b[1;32m----> 1\u001b[0m list1\u001b[38;5;241m-\u001b[39mlist2\n",
      "\u001b[1;31mTypeError\u001b[0m: unsupported operand type(s) for -: 'list' and 'list'"
     ]
    }
   ],
   "source": [
    "list1-list2"
   ]
  },
  {
   "cell_type": "code",
   "execution_count": 136,
   "id": "8b2d5274-a4af-4701-8623-a0c86b9b6961",
   "metadata": {},
   "outputs": [
    {
     "ename": "TypeError",
     "evalue": "unsupported operand type(s) for -: 'list' and 'list'",
     "output_type": "error",
     "traceback": [
      "\u001b[1;31m---------------------------------------------------------------------------\u001b[0m",
      "\u001b[1;31mTypeError\u001b[0m                                 Traceback (most recent call last)",
      "Cell \u001b[1;32mIn[136], line 1\u001b[0m\n\u001b[1;32m----> 1\u001b[0m list3\u001b[38;5;241m-\u001b[39mlist2\n",
      "\u001b[1;31mTypeError\u001b[0m: unsupported operand type(s) for -: 'list' and 'list'"
     ]
    }
   ],
   "source": [
    "list3-list2"
   ]
  },
  {
   "cell_type": "code",
   "execution_count": 138,
   "id": "2ff1773b-dbcb-4ba5-928d-c9a73efe796e",
   "metadata": {},
   "outputs": [
    {
     "ename": "TypeError",
     "evalue": "can't multiply sequence by non-int of type 'list'",
     "output_type": "error",
     "traceback": [
      "\u001b[1;31m---------------------------------------------------------------------------\u001b[0m",
      "\u001b[1;31mTypeError\u001b[0m                                 Traceback (most recent call last)",
      "Cell \u001b[1;32mIn[138], line 1\u001b[0m\n\u001b[1;32m----> 1\u001b[0m list1\u001b[38;5;241m*\u001b[39mlist2\n",
      "\u001b[1;31mTypeError\u001b[0m: can't multiply sequence by non-int of type 'list'"
     ]
    }
   ],
   "source": [
    "list1*list2"
   ]
  },
  {
   "cell_type": "code",
   "execution_count": 140,
   "id": "1155fff6-c957-478c-9a42-42867fc475aa",
   "metadata": {},
   "outputs": [
    {
     "data": {
      "text/plain": [
       "[10, 20, 2, 5, 75, 10, 20, 2, 5, 75]"
      ]
     },
     "execution_count": 140,
     "metadata": {},
     "output_type": "execute_result"
    }
   ],
   "source": [
    "list1*2"
   ]
  },
  {
   "cell_type": "code",
   "execution_count": 142,
   "id": "7bde9ae8-0aaf-415a-8971-f0cd08195fb6",
   "metadata": {},
   "outputs": [
    {
     "data": {
      "text/plain": [
       "[10,\n",
       " 20,\n",
       " 2,\n",
       " 5,\n",
       " 75,\n",
       " 'Apple',\n",
       " 'apple',\n",
       " 'Cherry',\n",
       " 'banana',\n",
       " 10,\n",
       " 20,\n",
       " 2,\n",
       " 5,\n",
       " 75,\n",
       " 'Apple',\n",
       " 'apple',\n",
       " 'Cherry',\n",
       " 'banana']"
      ]
     },
     "execution_count": 142,
     "metadata": {},
     "output_type": "execute_result"
    }
   ],
   "source": [
    "list3*2"
   ]
  },
  {
   "cell_type": "code",
   "execution_count": 144,
   "id": "7dff0530-91f4-4550-8bdb-d3927600e8a7",
   "metadata": {},
   "outputs": [
    {
     "ename": "TypeError",
     "evalue": "unsupported operand type(s) for /: 'list' and 'list'",
     "output_type": "error",
     "traceback": [
      "\u001b[1;31m---------------------------------------------------------------------------\u001b[0m",
      "\u001b[1;31mTypeError\u001b[0m                                 Traceback (most recent call last)",
      "Cell \u001b[1;32mIn[144], line 1\u001b[0m\n\u001b[1;32m----> 1\u001b[0m list3\u001b[38;5;241m/\u001b[39mlist1\n",
      "\u001b[1;31mTypeError\u001b[0m: unsupported operand type(s) for /: 'list' and 'list'"
     ]
    }
   ],
   "source": [
    "list3/list1"
   ]
  },
  {
   "cell_type": "code",
   "execution_count": null,
   "id": "67323472-c1a9-4a3b-a180-6111dc79beb1",
   "metadata": {},
   "outputs": [],
   "source": [
    "list1-list2   # Fail unsupported operand\n",
    "list1/list2   # Fail unsupported operand\n",
    "list1*list2   # Fail can't multiply sequence by non-int of type 'list'"
   ]
  },
  {
   "cell_type": "markdown",
   "id": "4082e064-0c2d-4604-accd-8a3c0aa418ea",
   "metadata": {},
   "source": [
    "**index**"
   ]
  },
  {
   "cell_type": "code",
   "execution_count": 151,
   "id": "8037a64d-8bd7-41d8-b50d-295caa821756",
   "metadata": {},
   "outputs": [
    {
     "data": {
      "text/plain": [
       "(10, 10)"
      ]
     },
     "execution_count": 151,
     "metadata": {},
     "output_type": "execute_result"
    }
   ],
   "source": [
    "list1=[10,20,30,'A','B','C']\n",
    "list1[0],list1[-6]\n",
    "\n",
    "# Question to print the below output\n",
    "# 1. The positive index of 10 is 0\n",
    "# 2. The negative index of 10 is -6\n",
    "# 3. The positive index of 10 is 0 and negative index is -6"
   ]
  },
  {
   "cell_type": "code",
   "execution_count": 167,
   "id": "06cbc6c8-57fd-445b-9fbe-093692637294",
   "metadata": {},
   "outputs": [
    {
     "name": "stdout",
     "output_type": "stream",
     "text": [
      "The positive index of 10 is 0\n",
      "The positive index of 20 is 1\n",
      "The positive index of 30 is 2\n",
      "The positive index of A is 3\n",
      "The positive index of B is 4\n",
      "The positive index of C is 5\n"
     ]
    }
   ],
   "source": [
    "for i in range(0,len(list1)):\n",
    "    print(f\"The positive index of {list1[i]} is {i}\")"
   ]
  },
  {
   "cell_type": "code",
   "execution_count": 171,
   "id": "2bff49aa-ccf4-4b2d-aeab-dee31a7754a4",
   "metadata": {},
   "outputs": [
    {
     "name": "stdout",
     "output_type": "stream",
     "text": [
      "The negative index of 10 is -6\n",
      "The negative index of 20 is -5\n",
      "The negative index of 30 is -4\n",
      "The negative index of A is -3\n",
      "The negative index of B is -2\n",
      "The negative index of C is -1\n"
     ]
    }
   ],
   "source": [
    "list1=[10,20,30,'A','B','C']\n",
    "for i in range(0,len(list1)):\n",
    "    print(f\"The negative index of {list1[i]} is {i-len(list1)}\")"
   ]
  },
  {
   "cell_type": "code",
   "execution_count": 175,
   "id": "09be18d7-a955-47ad-b2f0-af02bcc75e1f",
   "metadata": {},
   "outputs": [
    {
     "name": "stdout",
     "output_type": "stream",
     "text": [
      "The positive index of 10 is 0 and negative index is -6\n",
      "The positive index of 20 is 1 and negative index is -5\n",
      "The positive index of 30 is 2 and negative index is -4\n",
      "The positive index of A is 3 and negative index is -3\n",
      "The positive index of B is 4 and negative index is -2\n",
      "The positive index of C is 5 and negative index is -1\n"
     ]
    }
   ],
   "source": [
    "list1=[10,20,30,'A','B','C']\n",
    "for i in range(0,len(list1)):\n",
    "    print(f\"The positive index of {list1[i]} is {i} and negative index is {i-len(list1)}\")"
   ]
  },
  {
   "cell_type": "code",
   "execution_count": 187,
   "id": "dd93ee15-8819-4eca-9b78-9219da262a8d",
   "metadata": {},
   "outputs": [],
   "source": [
    "list1=[[10,20]]\n",
    "\n",
    "list2=[10,20]"
   ]
  },
  {
   "cell_type": "code",
   "execution_count": 189,
   "id": "a4e30067-e010-482e-b7e8-6f2a5d2667b5",
   "metadata": {},
   "outputs": [
    {
     "data": {
      "text/plain": [
       "(1, 2)"
      ]
     },
     "execution_count": 189,
     "metadata": {},
     "output_type": "execute_result"
    }
   ],
   "source": [
    "len(list1), len(list2)"
   ]
  },
  {
   "cell_type": "code",
   "execution_count": 195,
   "id": "ca392aef-8a33-4796-bb10-376be439446a",
   "metadata": {},
   "outputs": [
    {
     "name": "stdout",
     "output_type": "stream",
     "text": [
      "[[10, 20]]\n",
      "[10, 20]\n"
     ]
    }
   ],
   "source": [
    "print(list1)\n",
    "print(list2)"
   ]
  },
  {
   "cell_type": "code",
   "execution_count": null,
   "id": "e6a7947d-c5fe-4978-b56a-6ca5cb1b7242",
   "metadata": {},
   "outputs": [],
   "source": []
  },
  {
   "cell_type": "code",
   "execution_count": 200,
   "id": "0f34b083-d1d8-41ae-8351-4d13b2a772b3",
   "metadata": {},
   "outputs": [],
   "source": [
    "list1=[10,[20]]"
   ]
  },
  {
   "cell_type": "code",
   "execution_count": 202,
   "id": "0a5d4b7d-a156-425b-b890-ecf66d40cf10",
   "metadata": {},
   "outputs": [
    {
     "data": {
      "text/plain": [
       "2"
      ]
     },
     "execution_count": 202,
     "metadata": {},
     "output_type": "execute_result"
    }
   ],
   "source": [
    "len(list1)"
   ]
  },
  {
   "cell_type": "code",
   "execution_count": 204,
   "id": "fbd385ad-61d1-43e9-abb2-83347875e886",
   "metadata": {},
   "outputs": [
    {
     "data": {
      "text/plain": [
       "10"
      ]
     },
     "execution_count": 204,
     "metadata": {},
     "output_type": "execute_result"
    }
   ],
   "source": [
    "list1[0]"
   ]
  },
  {
   "cell_type": "code",
   "execution_count": 208,
   "id": "d806359d-4124-4e05-87b8-e67bf268f6ae",
   "metadata": {},
   "outputs": [
    {
     "data": {
      "text/plain": [
       "[20]"
      ]
     },
     "execution_count": 208,
     "metadata": {},
     "output_type": "execute_result"
    }
   ],
   "source": [
    "list1[1]"
   ]
  },
  {
   "cell_type": "code",
   "execution_count": 212,
   "id": "7a00e499-e1bc-4d64-8dff-4fba6dd0bc7d",
   "metadata": {},
   "outputs": [
    {
     "data": {
      "text/plain": [
       "20"
      ]
     },
     "execution_count": 212,
     "metadata": {},
     "output_type": "execute_result"
    }
   ],
   "source": [
    "list1[1][0]"
   ]
  },
  {
   "cell_type": "code",
   "execution_count": 214,
   "id": "a1ad4cb9-c1c6-40ba-9f86-c5ba18b8fbf0",
   "metadata": {},
   "outputs": [],
   "source": [
    "list1=[10,20,30,'A',['Banana', 'Cherry']]"
   ]
  },
  {
   "cell_type": "code",
   "execution_count": 216,
   "id": "cea948ca-a2b7-4474-a0e3-7781f18cb40c",
   "metadata": {},
   "outputs": [
    {
     "data": {
      "text/plain": [
       "5"
      ]
     },
     "execution_count": 216,
     "metadata": {},
     "output_type": "execute_result"
    }
   ],
   "source": [
    "len(list1)"
   ]
  },
  {
   "cell_type": "code",
   "execution_count": 224,
   "id": "a8578249-7a4b-4349-9894-f8f68f9df7be",
   "metadata": {},
   "outputs": [
    {
     "data": {
      "text/plain": [
       "['Banana', 'Cherry']"
      ]
     },
     "execution_count": 224,
     "metadata": {},
     "output_type": "execute_result"
    }
   ],
   "source": [
    "list1[4]"
   ]
  },
  {
   "cell_type": "code",
   "execution_count": 226,
   "id": "9da37601-3e5a-4bc8-8300-02fc881f617d",
   "metadata": {},
   "outputs": [
    {
     "data": {
      "text/plain": [
       "'Cherry'"
      ]
     },
     "execution_count": 226,
     "metadata": {},
     "output_type": "execute_result"
    }
   ],
   "source": [
    "list1[4][1]"
   ]
  },
  {
   "cell_type": "code",
   "execution_count": 228,
   "id": "46ddf58c-6c83-41f7-ac7d-3b7aaf00db57",
   "metadata": {},
   "outputs": [],
   "source": [
    "list1=['A',['Apple','B',['Banana'],'C',['Cherry']]]"
   ]
  },
  {
   "cell_type": "code",
   "execution_count": 230,
   "id": "5aea29e9-90e6-4b8c-859b-9e8cfbd83746",
   "metadata": {},
   "outputs": [
    {
     "data": {
      "text/plain": [
       "2"
      ]
     },
     "execution_count": 230,
     "metadata": {},
     "output_type": "execute_result"
    }
   ],
   "source": [
    "len(list1)"
   ]
  },
  {
   "cell_type": "code",
   "execution_count": 232,
   "id": "1fe6bc06-23c1-47b9-aeb6-df84a82599fd",
   "metadata": {},
   "outputs": [
    {
     "data": {
      "text/plain": [
       "'Cherry'"
      ]
     },
     "execution_count": 232,
     "metadata": {},
     "output_type": "execute_result"
    }
   ],
   "source": [
    "list1[1][4][0]"
   ]
  },
  {
   "cell_type": "code",
   "execution_count": 262,
   "id": "9b804f85-7ee0-4905-89d9-51aa94e8b608",
   "metadata": {},
   "outputs": [
    {
     "data": {
      "text/plain": [
       "2"
      ]
     },
     "execution_count": 262,
     "metadata": {},
     "output_type": "execute_result"
    }
   ],
   "source": [
    "list1=['A',['Apple','B',['Banana','C',['Cherry','D',['Dragon fruit']]]]]\n",
    "len(list1)"
   ]
  },
  {
   "cell_type": "code",
   "execution_count": 264,
   "id": "911f948d-4395-4ea2-9bb5-7bb52c3a13ce",
   "metadata": {},
   "outputs": [
    {
     "data": {
      "text/plain": [
       "3"
      ]
     },
     "execution_count": 264,
     "metadata": {},
     "output_type": "execute_result"
    }
   ],
   "source": [
    "len(list1[1])"
   ]
  },
  {
   "cell_type": "code",
   "execution_count": 266,
   "id": "64d2a72e-bd1f-40af-a8e6-4fe3b9d628b3",
   "metadata": {},
   "outputs": [
    {
     "data": {
      "text/plain": [
       "['Banana', 'C', ['Cherry', 'D', ['Dragon fruit']]]"
      ]
     },
     "execution_count": 266,
     "metadata": {},
     "output_type": "execute_result"
    }
   ],
   "source": [
    "list1[1][2]"
   ]
  },
  {
   "cell_type": "code",
   "execution_count": 268,
   "id": "85066c9d-821b-497d-90f8-f860428f4451",
   "metadata": {},
   "outputs": [
    {
     "data": {
      "text/plain": [
       "3"
      ]
     },
     "execution_count": 268,
     "metadata": {},
     "output_type": "execute_result"
    }
   ],
   "source": [
    "len(list1[1][2])"
   ]
  },
  {
   "cell_type": "code",
   "execution_count": 270,
   "id": "d936ec6b-3b35-4453-921e-3e5d5553a837",
   "metadata": {},
   "outputs": [
    {
     "data": {
      "text/plain": [
       "['Dragon fruit']"
      ]
     },
     "execution_count": 270,
     "metadata": {},
     "output_type": "execute_result"
    }
   ],
   "source": [
    "list1[1][2][2][2]"
   ]
  },
  {
   "cell_type": "code",
   "execution_count": 272,
   "id": "3c5899fe-8cf5-43ce-888b-49e65c9a08b0",
   "metadata": {},
   "outputs": [
    {
     "data": {
      "text/plain": [
       "'Dragon fruit'"
      ]
     },
     "execution_count": 272,
     "metadata": {},
     "output_type": "execute_result"
    }
   ],
   "source": [
    "list1[1][2][2][2][0]"
   ]
  },
  {
   "cell_type": "code",
   "execution_count": 276,
   "id": "8539e1d0-8f17-4aa1-8c23-d17c1dd8d884",
   "metadata": {},
   "outputs": [
    {
     "data": {
      "text/plain": [
       "2"
      ]
     },
     "execution_count": 276,
     "metadata": {},
     "output_type": "execute_result"
    }
   ],
   "source": [
    "list1=['Apple',['Kashmir',['India',['Cricket',['Bat']]]]]\n",
    "len(list1)"
   ]
  },
  {
   "cell_type": "code",
   "execution_count": 280,
   "id": "e579cc29-f520-44b3-bd40-bde12c57ae4b",
   "metadata": {},
   "outputs": [
    {
     "data": {
      "text/plain": [
       "'Bat'"
      ]
     },
     "execution_count": 280,
     "metadata": {},
     "output_type": "execute_result"
    }
   ],
   "source": [
    "list1[1][1][1][1][0]"
   ]
  },
  {
   "cell_type": "code",
   "execution_count": 288,
   "id": "d70f32a8-e2c7-411d-bd1a-78d26e5fe278",
   "metadata": {},
   "outputs": [
    {
     "data": {
      "text/plain": [
       "'Apple'"
      ]
     },
     "execution_count": 288,
     "metadata": {},
     "output_type": "execute_result"
    }
   ],
   "source": [
    "list1=[[[[[['Apple']]]]]]\n",
    "list1[0][0][0][0][0][0]"
   ]
  },
  {
   "cell_type": "markdown",
   "id": "bb5438a4-4e83-438f-9cd4-5ef1db88d08e",
   "metadata": {},
   "source": [
    "**range** vs **in**\n",
    "\n",
    "- when we have use with index then go for **range**\n",
    "\n",
    "- when we have use with only elements go for **in**"
   ]
  },
  {
   "cell_type": "markdown",
   "id": "cc7ba61f-d82b-4e46-bf3e-44379d8bb139",
   "metadata": {},
   "source": [
    "**mutable vs immutable**"
   ]
  },
  {
   "cell_type": "code",
   "execution_count": 4,
   "id": "d94ee53f-fb24-4fc8-9481-820164b35418",
   "metadata": {},
   "outputs": [
    {
     "name": "stdout",
     "output_type": "stream",
     "text": [
      "[1, 20, 3, 4]\n"
     ]
    }
   ],
   "source": [
    "list1=[1,2,3,4]\n",
    "list1[1]=20\n",
    "print(list1)"
   ]
  },
  {
   "cell_type": "markdown",
   "id": "91ae9369-cbb1-4efc-b34e-db1abf7bd595",
   "metadata": {},
   "source": [
    "**list** are mutable"
   ]
  },
  {
   "cell_type": "markdown",
   "id": "c1402eb1-30f7-47e2-991e-50180561ad00",
   "metadata": {},
   "source": [
    "**slice**"
   ]
  },
  {
   "cell_type": "code",
   "execution_count": 8,
   "id": "9fb31b11-dfa2-444b-acb7-2a5f5fd6d5ab",
   "metadata": {},
   "outputs": [],
   "source": [
    "l1=[10,20,30,40,50,'A','B','C','D','E','apple','banana']"
   ]
  },
  {
   "cell_type": "code",
   "execution_count": 40,
   "id": "f1a64915-5a0c-4d21-9471-6a2b145eb1cc",
   "metadata": {},
   "outputs": [
    {
     "data": {
      "text/plain": [
       "[10, 20, 30, 40, 50, 'A', 'B', 'C', 'D', 'E', 'apple', 'banana']"
      ]
     },
     "execution_count": 40,
     "metadata": {},
     "output_type": "execute_result"
    }
   ],
   "source": [
    "l1[:]"
   ]
  },
  {
   "cell_type": "code",
   "execution_count": 12,
   "id": "8f0d3f1f-5f49-4bf7-830e-2bfd20fdee20",
   "metadata": {},
   "outputs": [
    {
     "data": {
      "text/plain": [
       "[10, 20, 30, 40, 50, 'A', 'B', 'C', 'D', 'E', 'apple', 'banana']"
      ]
     },
     "execution_count": 12,
     "metadata": {},
     "output_type": "execute_result"
    }
   ],
   "source": [
    "l1[::]"
   ]
  },
  {
   "cell_type": "code",
   "execution_count": 14,
   "id": "6dc9e304-f373-42f1-869c-dc77b7a2aa2b",
   "metadata": {},
   "outputs": [
    {
     "data": {
      "text/plain": [
       "['banana', 'apple', 'E', 'D', 'C', 'B', 'A', 50, 40, 30, 20, 10]"
      ]
     },
     "execution_count": 14,
     "metadata": {},
     "output_type": "execute_result"
    }
   ],
   "source": [
    "l1[::-1]"
   ]
  },
  {
   "cell_type": "code",
   "execution_count": 18,
   "id": "802f8683-49fa-45eb-9d3d-3258f8646b92",
   "metadata": {},
   "outputs": [
    {
     "data": {
      "text/plain": [
       "[30, 50, 'B', 'D']"
      ]
     },
     "execution_count": 18,
     "metadata": {},
     "output_type": "execute_result"
    }
   ],
   "source": [
    "l1[2:10:2]"
   ]
  },
  {
   "cell_type": "code",
   "execution_count": 26,
   "id": "ddb953f4-9d98-4021-8f42-d0826b16df8d",
   "metadata": {},
   "outputs": [
    {
     "data": {
      "text/plain": [
       "[]"
      ]
     },
     "execution_count": 26,
     "metadata": {},
     "output_type": "execute_result"
    }
   ],
   "source": [
    "l1[2:10:-2]"
   ]
  },
  {
   "cell_type": "code",
   "execution_count": 28,
   "id": "cdcf2c93-96e3-4394-967e-ea2304a07c5b",
   "metadata": {},
   "outputs": [
    {
     "data": {
      "text/plain": [
       "[]"
      ]
     },
     "execution_count": 28,
     "metadata": {},
     "output_type": "execute_result"
    }
   ],
   "source": [
    "l1[2:-10:2]"
   ]
  },
  {
   "cell_type": "code",
   "execution_count": 42,
   "id": "c7f1f922-bb40-45bc-ac06-88f8de2cbaca",
   "metadata": {},
   "outputs": [
    {
     "data": {
      "text/plain": [
       "[]"
      ]
     },
     "execution_count": 42,
     "metadata": {},
     "output_type": "execute_result"
    }
   ],
   "source": [
    "l1[-2:10:2]"
   ]
  },
  {
   "cell_type": "code",
   "execution_count": 44,
   "id": "7e772b73-958a-4e51-ae87-b0e5ef75a009",
   "metadata": {},
   "outputs": [
    {
     "data": {
      "text/plain": [
       "[]"
      ]
     },
     "execution_count": 44,
     "metadata": {},
     "output_type": "execute_result"
    }
   ],
   "source": [
    "l1[2:-10:-2]"
   ]
  },
  {
   "cell_type": "code",
   "execution_count": 46,
   "id": "e406d8a8-cf31-404b-b9b5-f16b68b394b1",
   "metadata": {},
   "outputs": [
    {
     "data": {
      "text/plain": [
       "[]"
      ]
     },
     "execution_count": 46,
     "metadata": {},
     "output_type": "execute_result"
    }
   ],
   "source": [
    "l1[-2:10:-2]"
   ]
  },
  {
   "cell_type": "code",
   "execution_count": 48,
   "id": "bc3dbc39-7daf-4e4c-b5a8-6ff0c67e773b",
   "metadata": {},
   "outputs": [
    {
     "data": {
      "text/plain": [
       "[]"
      ]
     },
     "execution_count": 48,
     "metadata": {},
     "output_type": "execute_result"
    }
   ],
   "source": [
    "l1[-2:-10:2]"
   ]
  },
  {
   "cell_type": "code",
   "execution_count": 50,
   "id": "d12f7e2d-eff1-455e-8cd2-4cd17b99621a",
   "metadata": {},
   "outputs": [
    {
     "data": {
      "text/plain": [
       "['apple', 'D', 'B', 50]"
      ]
     },
     "execution_count": 50,
     "metadata": {},
     "output_type": "execute_result"
    }
   ],
   "source": [
    "l1[-2:-10:-2]"
   ]
  },
  {
   "cell_type": "code",
   "execution_count": 52,
   "id": "4d02161c-b7e3-4abe-98d1-efca0e096224",
   "metadata": {},
   "outputs": [
    {
     "data": {
      "text/plain": [
       "[]"
      ]
     },
     "execution_count": 52,
     "metadata": {},
     "output_type": "execute_result"
    }
   ],
   "source": [
    "l1[10:2:2]"
   ]
  },
  {
   "cell_type": "code",
   "execution_count": 54,
   "id": "67e33d7a-e24d-4cc0-a6df-7c41dd92e86a",
   "metadata": {},
   "outputs": [
    {
     "data": {
      "text/plain": [
       "['apple', 'D', 'B', 50]"
      ]
     },
     "execution_count": 54,
     "metadata": {},
     "output_type": "execute_result"
    }
   ],
   "source": [
    "l1[10:2:-2]"
   ]
  },
  {
   "cell_type": "code",
   "execution_count": 56,
   "id": "4f2d647d-a711-420e-9167-793deb5caa02",
   "metadata": {},
   "outputs": [
    {
     "data": {
      "text/plain": [
       "[]"
      ]
     },
     "execution_count": 56,
     "metadata": {},
     "output_type": "execute_result"
    }
   ],
   "source": [
    "l1[10:-2:2]"
   ]
  },
  {
   "cell_type": "code",
   "execution_count": 58,
   "id": "d513b80b-22d6-4d94-a2af-46df733d64b3",
   "metadata": {},
   "outputs": [
    {
     "data": {
      "text/plain": [
       "[]"
      ]
     },
     "execution_count": 58,
     "metadata": {},
     "output_type": "execute_result"
    }
   ],
   "source": [
    "l1[-10:2:2]"
   ]
  },
  {
   "cell_type": "code",
   "execution_count": 60,
   "id": "efdbcb61-5200-4918-865d-7da11fdd996f",
   "metadata": {},
   "outputs": [
    {
     "data": {
      "text/plain": [
       "[]"
      ]
     },
     "execution_count": 60,
     "metadata": {},
     "output_type": "execute_result"
    }
   ],
   "source": [
    "l1[-10:2:-2]"
   ]
  },
  {
   "cell_type": "code",
   "execution_count": 62,
   "id": "02739554-423f-40f7-b836-09cec5dfd3ce",
   "metadata": {},
   "outputs": [
    {
     "data": {
      "text/plain": [
       "[]"
      ]
     },
     "execution_count": 62,
     "metadata": {},
     "output_type": "execute_result"
    }
   ],
   "source": [
    "l1[-10:-2:-2]"
   ]
  },
  {
   "cell_type": "code",
   "execution_count": null,
   "id": "171449a2-63cb-416f-baba-451d49160daf",
   "metadata": {},
   "outputs": [],
   "source": []
  },
  {
   "cell_type": "markdown",
   "id": "4d82355a-3f6a-449c-b4af-970154acf886",
   "metadata": {},
   "source": [
    "**methods**\n",
    "\n",
    "- if we wnat to know the strings method\n",
    "  dir('')"
   ]
  },
  {
   "cell_type": "code",
   "execution_count": 66,
   "id": "f25baf0d-b53f-4cfc-b509-fb1bfcfbb403",
   "metadata": {},
   "outputs": [
    {
     "data": {
      "text/plain": [
       "['__add__',\n",
       " '__class__',\n",
       " '__class_getitem__',\n",
       " '__contains__',\n",
       " '__delattr__',\n",
       " '__delitem__',\n",
       " '__dir__',\n",
       " '__doc__',\n",
       " '__eq__',\n",
       " '__format__',\n",
       " '__ge__',\n",
       " '__getattribute__',\n",
       " '__getitem__',\n",
       " '__getstate__',\n",
       " '__gt__',\n",
       " '__hash__',\n",
       " '__iadd__',\n",
       " '__imul__',\n",
       " '__init__',\n",
       " '__init_subclass__',\n",
       " '__iter__',\n",
       " '__le__',\n",
       " '__len__',\n",
       " '__lt__',\n",
       " '__mul__',\n",
       " '__ne__',\n",
       " '__new__',\n",
       " '__reduce__',\n",
       " '__reduce_ex__',\n",
       " '__repr__',\n",
       " '__reversed__',\n",
       " '__rmul__',\n",
       " '__setattr__',\n",
       " '__setitem__',\n",
       " '__sizeof__',\n",
       " '__str__',\n",
       " '__subclasshook__',\n",
       " 'append',\n",
       " 'clear',\n",
       " 'copy',\n",
       " 'count',\n",
       " 'extend',\n",
       " 'index',\n",
       " 'insert',\n",
       " 'pop',\n",
       " 'remove',\n",
       " 'reverse',\n",
       " 'sort']"
      ]
     },
     "execution_count": 66,
     "metadata": {},
     "output_type": "execute_result"
    }
   ],
   "source": [
    "dir([])"
   ]
  },
  {
   "cell_type": "code",
   "execution_count": null,
   "id": "8a568158-8285-4e01-baee-1de07c1b87b8",
   "metadata": {},
   "outputs": [],
   "source": [
    "'append',\n",
    " 'clear',\n",
    " 'copy',\n",
    " 'count',\n",
    " 'extend',\n",
    " 'index',\n",
    " 'insert',\n",
    " 'pop',\n",
    " 'remove',\n",
    " 'reverse',\n",
    " 'sort'"
   ]
  },
  {
   "cell_type": "markdown",
   "id": "760dea2b-8317-4869-9d81-4a482214e1e4",
   "metadata": {},
   "source": [
    "- clear \n",
    "\n",
    "- copy\n",
    "\n",
    "- count"
   ]
  },
  {
   "cell_type": "code",
   "execution_count": 75,
   "id": "8116a84b-3faa-43e2-a32c-580325a60595",
   "metadata": {},
   "outputs": [],
   "source": [
    "l1=[10,20,30,40,50,'A','B','C','D','E','apple','banana']\n",
    "l2=[24,56,87,34,\"cheery\",\"new\"]"
   ]
  },
  {
   "cell_type": "code",
   "execution_count": 77,
   "id": "363e1e2f-cf43-4cbc-9d48-f9c3d99e7c71",
   "metadata": {},
   "outputs": [
    {
     "data": {
      "text/plain": [
       "[]"
      ]
     },
     "execution_count": 77,
     "metadata": {},
     "output_type": "execute_result"
    }
   ],
   "source": [
    "l1.clear()\n",
    "l1"
   ]
  },
  {
   "cell_type": "code",
   "execution_count": 79,
   "id": "826b5d48-445d-4e7c-b7cf-49cc363d9123",
   "metadata": {},
   "outputs": [],
   "source": [
    "l1=[10,20,30,40,50,'A','B','C','D','E','apple','banana']\n",
    "l2=[24,56,87,34,\"cheery\",\"new\"]"
   ]
  },
  {
   "cell_type": "code",
   "execution_count": 83,
   "id": "53c57d30-a942-40d4-a8b1-a6ea620fcd5b",
   "metadata": {},
   "outputs": [],
   "source": [
    "l3=l1.copy()"
   ]
  },
  {
   "cell_type": "code",
   "execution_count": 85,
   "id": "859d2459-3c5c-457b-81cc-773dca4fbbc6",
   "metadata": {},
   "outputs": [
    {
     "data": {
      "text/plain": [
       "[10, 20, 30, 40, 50, 'A', 'B', 'C', 'D', 'E', 'apple', 'banana']"
      ]
     },
     "execution_count": 85,
     "metadata": {},
     "output_type": "execute_result"
    }
   ],
   "source": [
    "l3"
   ]
  },
  {
   "cell_type": "code",
   "execution_count": 87,
   "id": "9415ce21-9efd-4f26-b810-430e6ab4f051",
   "metadata": {},
   "outputs": [
    {
     "data": {
      "text/plain": [
       "[10, 20, 30, 40, 50, 'A', 'B', 'C', 'D', 'E', 'apple', 'banana']"
      ]
     },
     "execution_count": 87,
     "metadata": {},
     "output_type": "execute_result"
    }
   ],
   "source": [
    "l1"
   ]
  },
  {
   "cell_type": "code",
   "execution_count": 89,
   "id": "7831cdc7-0c24-4f49-b2a6-0075a65d3d93",
   "metadata": {},
   "outputs": [],
   "source": [
    "l1.clear()"
   ]
  },
  {
   "cell_type": "code",
   "execution_count": 91,
   "id": "f24b508d-18e2-48b2-b81a-b2daf3bbc680",
   "metadata": {},
   "outputs": [
    {
     "data": {
      "text/plain": [
       "[]"
      ]
     },
     "execution_count": 91,
     "metadata": {},
     "output_type": "execute_result"
    }
   ],
   "source": [
    "l1"
   ]
  },
  {
   "cell_type": "code",
   "execution_count": 101,
   "id": "ce86ec00-983c-46ce-992b-4d54bf5df823",
   "metadata": {},
   "outputs": [
    {
     "name": "stdout",
     "output_type": "stream",
     "text": [
      "[24, 56, 87, 34, 'cheery', 'new']\n"
     ]
    },
    {
     "data": {
      "text/plain": [
       "1"
      ]
     },
     "execution_count": 101,
     "metadata": {},
     "output_type": "execute_result"
    }
   ],
   "source": [
    "print(l2)\n",
    "l2.count('new')"
   ]
  },
  {
   "cell_type": "code",
   "execution_count": 103,
   "id": "c75d919e-f1ef-46b4-b379-5131efa5787b",
   "metadata": {},
   "outputs": [
    {
     "name": "stdout",
     "output_type": "stream",
     "text": [
      "[10, 20, 30, 40, 50, 'A', 'B', 'C', 'D', 'E', 'apple', 'banana']\n"
     ]
    },
    {
     "data": {
      "text/plain": [
       "1"
      ]
     },
     "execution_count": 103,
     "metadata": {},
     "output_type": "execute_result"
    }
   ],
   "source": [
    "print(l3)\n",
    "l3.count(10)"
   ]
  },
  {
   "cell_type": "code",
   "execution_count": 105,
   "id": "4356d76d-834e-40b7-9242-fbe9c4d43c62",
   "metadata": {},
   "outputs": [
    {
     "data": {
      "text/plain": [
       "2"
      ]
     },
     "execution_count": 105,
     "metadata": {},
     "output_type": "execute_result"
    }
   ],
   "source": [
    "l1=[10, 20, 30, 40, 50, 'A', 'B', 'C', 'D', 'E', 'apple', 'banana',10,30,50]\n",
    "l1.count(30)"
   ]
  },
  {
   "cell_type": "code",
   "execution_count": 111,
   "id": "33975225-047a-485d-b0d6-ce978182c974",
   "metadata": {},
   "outputs": [
    {
     "data": {
      "text/plain": [
       "3"
      ]
     },
     "execution_count": 111,
     "metadata": {},
     "output_type": "execute_result"
    }
   ],
   "source": [
    "str1='ola ola ola'\n",
    "str1.count('ola')"
   ]
  },
  {
   "cell_type": "markdown",
   "id": "cc79f750-7dad-4400-9745-251dd62f7254",
   "metadata": {},
   "source": [
    "**append**\n",
    "\n",
    "- very important method in the entire list\n",
    "\n",
    "- append means addint the element in the last of the list\n",
    "\n",
    "- "
   ]
  },
  {
   "cell_type": "code",
   "execution_count": 118,
   "id": "7be3c122-7dc5-4e59-84df-615320590e1e",
   "metadata": {},
   "outputs": [
    {
     "name": "stdout",
     "output_type": "stream",
     "text": [
      "[10, 20, 30, 'Apple']\n"
     ]
    }
   ],
   "source": [
    "l1=[10,20,30]\n",
    "l1.append('Apple')\n",
    "print(l1)"
   ]
  },
  {
   "cell_type": "code",
   "execution_count": 120,
   "id": "f41f2ccd-0648-4b14-99a2-ebfc843b386d",
   "metadata": {},
   "outputs": [
    {
     "ename": "TypeError",
     "evalue": "list.append() takes exactly one argument (3 given)",
     "output_type": "error",
     "traceback": [
      "\u001b[1;31m---------------------------------------------------------------------------\u001b[0m",
      "\u001b[1;31mTypeError\u001b[0m                                 Traceback (most recent call last)",
      "Cell \u001b[1;32mIn[120], line 1\u001b[0m\n\u001b[1;32m----> 1\u001b[0m l1\u001b[38;5;241m.\u001b[39mappend(\u001b[38;5;124m'\u001b[39m\u001b[38;5;124mapple\u001b[39m\u001b[38;5;124m'\u001b[39m,\u001b[38;5;124m'\u001b[39m\u001b[38;5;124mbanana\u001b[39m\u001b[38;5;124m'\u001b[39m,\u001b[38;5;124m'\u001b[39m\u001b[38;5;124mcheery\u001b[39m\u001b[38;5;124m'\u001b[39m)\n",
      "\u001b[1;31mTypeError\u001b[0m: list.append() takes exactly one argument (3 given)"
     ]
    }
   ],
   "source": [
    "l1=[10,20,30]\n",
    "l1.append('apple','banana','cheery')\n",
    "print(l1)"
   ]
  },
  {
   "cell_type": "markdown",
   "id": "f1162bc2-cb4b-4023-9e9c-48d3a0ff5d10",
   "metadata": {},
   "source": [
    "To add multiple values in the list always add thriugh list as shown below"
   ]
  },
  {
   "cell_type": "code",
   "execution_count": 122,
   "id": "1785eccc-c75f-4cd2-a21a-11342d3e2394",
   "metadata": {},
   "outputs": [
    {
     "name": "stdout",
     "output_type": "stream",
     "text": [
      "[10, 20, 30, ['apple', 'banana', 'cheery']]\n"
     ]
    }
   ],
   "source": [
    "l1=[10,20,30]\n",
    "l1.append(['apple','banana','cheery'])\n",
    "print(l1)"
   ]
  },
  {
   "cell_type": "code",
   "execution_count": 125,
   "id": "3e5f529c-5c0d-457c-8446-636f27f24763",
   "metadata": {},
   "outputs": [
    {
     "name": "stdout",
     "output_type": "stream",
     "text": [
      "[10, 20, 30, 'apple']\n"
     ]
    }
   ],
   "source": [
    "l1=[10,20,30]\n",
    "l1.append('apple')\n",
    "print(l1)"
   ]
  },
  {
   "cell_type": "code",
   "execution_count": 127,
   "id": "1d59e292-b408-46fb-81ca-1f9840079ce1",
   "metadata": {},
   "outputs": [
    {
     "name": "stdout",
     "output_type": "stream",
     "text": [
      "[10, 20, 30, 'apple', 'banana']\n"
     ]
    }
   ],
   "source": [
    "l1=[10,20,30]\n",
    "l1.append('apple')\n",
    "l1.append('banana')\n",
    "print(l1)"
   ]
  },
  {
   "cell_type": "code",
   "execution_count": 129,
   "id": "038ae225-609b-47cf-bd2a-0087ce1ae395",
   "metadata": {},
   "outputs": [
    {
     "ename": "TypeError",
     "evalue": "list.append() takes exactly one argument (2 given)",
     "output_type": "error",
     "traceback": [
      "\u001b[1;31m---------------------------------------------------------------------------\u001b[0m",
      "\u001b[1;31mTypeError\u001b[0m                                 Traceback (most recent call last)",
      "Cell \u001b[1;32mIn[129], line 2\u001b[0m\n\u001b[0;32m      1\u001b[0m l1\u001b[38;5;241m=\u001b[39m[\u001b[38;5;241m10\u001b[39m,\u001b[38;5;241m20\u001b[39m,\u001b[38;5;241m30\u001b[39m]\n\u001b[1;32m----> 2\u001b[0m l1\u001b[38;5;241m.\u001b[39mappend(\u001b[38;5;124m'\u001b[39m\u001b[38;5;124mapple\u001b[39m\u001b[38;5;124m'\u001b[39m,\u001b[38;5;124m'\u001b[39m\u001b[38;5;124mbanana\u001b[39m\u001b[38;5;124m'\u001b[39m)\n\u001b[0;32m      3\u001b[0m \u001b[38;5;28mprint\u001b[39m(l1)\n",
      "\u001b[1;31mTypeError\u001b[0m: list.append() takes exactly one argument (2 given)"
     ]
    }
   ],
   "source": [
    "l1=[10,20,30]\n",
    "l1.append('apple','banana')\n",
    "print(l1)"
   ]
  },
  {
   "cell_type": "code",
   "execution_count": 133,
   "id": "16ad64b5-e3cb-4b29-bb64-b1555ee8d3ae",
   "metadata": {},
   "outputs": [
    {
     "name": "stdout",
     "output_type": "stream",
     "text": [
      "[10, 20, 30, ['apple', 'banana']]\n"
     ]
    }
   ],
   "source": [
    "l1=[10,20,30]\n",
    "l1.append(['apple','banana'])\n",
    "print(l1)"
   ]
  },
  {
   "cell_type": "markdown",
   "id": "b0c75353-023d-4af8-ac6c-7224e8848b0c",
   "metadata": {},
   "source": [
    "**append** method is used to store the outputs"
   ]
  },
  {
   "cell_type": "code",
   "execution_count": 136,
   "id": "58cae0e7-c063-4852-92ce-693425fb03db",
   "metadata": {},
   "outputs": [
    {
     "data": {
      "text/plain": [
       "[1, 2, 3, 4, 5]"
      ]
     },
     "execution_count": 136,
     "metadata": {},
     "output_type": "execute_result"
    }
   ],
   "source": [
    "# foe ex i want append numbers from 1 to 5\n",
    "# l=[1,2,3,4,5]\n",
    "\n",
    "l=[]\n",
    "l.append(1)\n",
    "l.append(2)\n",
    "l.append(3)\n",
    "l.append(4)\n",
    "l.append(5)\n",
    "l"
   ]
  },
  {
   "cell_type": "code",
   "execution_count": 140,
   "id": "7d82c405-3e56-4901-9cfa-66253a2ee6e9",
   "metadata": {},
   "outputs": [
    {
     "name": "stdout",
     "output_type": "stream",
     "text": [
      "[1, 2, 3, 4, 5]\n"
     ]
    }
   ],
   "source": [
    "l=[]\n",
    "for i in range(1,6):\n",
    "    l.append(i)\n",
    "print(l)"
   ]
  },
  {
   "cell_type": "code",
   "execution_count": 152,
   "id": "5918e109-85f7-4cc6-96e7-97886cfdaef3",
   "metadata": {},
   "outputs": [
    {
     "name": "stdout",
     "output_type": "stream",
     "text": [
      "7 : 49\n",
      "8 : 64\n",
      "10 : 100\n"
     ]
    }
   ],
   "source": [
    "\n",
    "for i in range(3):\n",
    "    num=random.randint(1,10)\n",
    "    print(f\"{num} : {num*num}\")\n"
   ]
  },
  {
   "cell_type": "code",
   "execution_count": 150,
   "id": "c87578d7-8c62-4b8f-b831-9d4f9f611aea",
   "metadata": {},
   "outputs": [
    {
     "name": "stdout",
     "output_type": "stream",
     "text": [
      "['7 : 49', '8 : 64', '10 : 100']\n"
     ]
    }
   ],
   "source": [
    "#wap ask the user enter 3 random numbers and perform square of numbers and save those squares in a list\n",
    "\n",
    "import random\n",
    "l=[]\n",
    "for i in range(3):\n",
    "    num=random.randint(1,10)\n",
    "    l.append(f\"{num} : {num*num}\")\n",
    "print(l)"
   ]
  },
  {
   "cell_type": "code",
   "execution_count": 156,
   "id": "318f3a66-cbee-455d-876a-f7690de7e367",
   "metadata": {},
   "outputs": [
    {
     "name": "stdout",
     "output_type": "stream",
     "text": [
      "Even list is [0, 2, 4]\n",
      "Odd list is [1, 3]\n"
     ]
    }
   ],
   "source": [
    "#wap already hava a list of number \n",
    "#l=[10,23,45,32,54]\n",
    "#seperate even number list \n",
    "#seperate odd number list\n",
    "\n",
    "l=[10,23,45,32,54]\n",
    "elist=[]\n",
    "olist=[]\n",
    "for i in range(0,len(l)):\n",
    "    if i%2==0:\n",
    "        elist.append(i)\n",
    "    else:\n",
    "        olist.append(i)\n",
    "print(f\"Even list is {elist}\")\n",
    "print(f\"Odd list is {olist}\")"
   ]
  },
  {
   "cell_type": "code",
   "execution_count": 158,
   "id": "eec49014-530e-41cd-87a3-5df52de593d0",
   "metadata": {},
   "outputs": [],
   "source": [
    "# Q3) input=['hyd','bengaluru','pune','mumbai']\n",
    "#     output=['Hyd','Bengaluru','Pune','Mumbai']"
   ]
  },
  {
   "cell_type": "code",
   "execution_count": 170,
   "id": "8b73a535-88fa-40c0-9e7c-0076a7b57420",
   "metadata": {},
   "outputs": [
    {
     "name": "stdout",
     "output_type": "stream",
     "text": [
      "hyd\n",
      "bengaluru\n",
      "pune\n",
      "mumbai\n",
      "['Hyd', 'Bengaluru', 'Pune', 'Mumbai']\n"
     ]
    }
   ],
   "source": [
    "new=[]\n",
    "input=['hyd','bengaluru','pune','mumbai']\n",
    "for i in input:\n",
    "    print(i)\n",
    "    new.append(i.capitalize())\n",
    "print(new)"
   ]
  },
  {
   "cell_type": "code",
   "execution_count": 172,
   "id": "7fcd8d8b-d31d-49ec-bc92-5ed5bacfe0c4",
   "metadata": {},
   "outputs": [],
   "source": [
    "# Q4) input=['hyd','bengaluru','pune','mumbai']\n",
    "#     output=['HYD','BENGALURU','PUNE','MUMBAI']"
   ]
  },
  {
   "cell_type": "code",
   "execution_count": 174,
   "id": "2819d469-c67e-4777-8fab-2b101af308c6",
   "metadata": {},
   "outputs": [
    {
     "name": "stdout",
     "output_type": "stream",
     "text": [
      "hyd\n",
      "bengaluru\n",
      "pune\n",
      "mumbai\n",
      "['HYD', 'BENGALURU', 'PUNE', 'MUMBAI']\n"
     ]
    }
   ],
   "source": [
    "input=['hyd','bengaluru','pune','mumbai']\n",
    "new=[]\n",
    "input=['hyd','bengaluru','pune','mumbai']\n",
    "for i in input:\n",
    "    print(i)\n",
    "    new.append(i.upper())\n",
    "print(new)"
   ]
  },
  {
   "cell_type": "code",
   "execution_count": 176,
   "id": "e6da7107-6a86-4c13-88c7-88e4b5244975",
   "metadata": {},
   "outputs": [],
   "source": [
    "# Q5) input=['hyd','ben#galuru','pune','mu#mbai']\n",
    "#     output=[ben#galuru',mu#mbai']"
   ]
  },
  {
   "cell_type": "code",
   "execution_count": 178,
   "id": "69123e1e-c551-443c-b107-19d8697cffbd",
   "metadata": {},
   "outputs": [
    {
     "name": "stdout",
     "output_type": "stream",
     "text": [
      "['ben#galuru', 'mu#mbai']\n"
     ]
    }
   ],
   "source": [
    "input=['hyd','ben#galuru','pune','mu#mbai']\n",
    "\n",
    "new=[]\n",
    "for i in input:\n",
    "    if '#' in i:\n",
    "        new.append(i)\n",
    "print(new)"
   ]
  },
  {
   "cell_type": "code",
   "execution_count": 180,
   "id": "2153969a-c92a-4c0e-babb-ba9acf06a9f5",
   "metadata": {},
   "outputs": [],
   "source": [
    "# Q6) input=['hyd','ben#galuru','pune','mu#mbai']\n",
    "#     output=[hyd,pune]"
   ]
  },
  {
   "cell_type": "code",
   "execution_count": 182,
   "id": "c945e8d9-f77d-4884-941d-1236ef02225d",
   "metadata": {},
   "outputs": [
    {
     "name": "stdout",
     "output_type": "stream",
     "text": [
      "['hyd', 'pune']\n"
     ]
    }
   ],
   "source": [
    "input=['hyd','ben#galuru','pune','mu#mbai']\n",
    "\n",
    "new=[]\n",
    "for i in input:\n",
    "    if '#'not in i:\n",
    "        new.append(i)\n",
    "print(new)"
   ]
  },
  {
   "cell_type": "code",
   "execution_count": 186,
   "id": "6068dd27-67c9-4b35-ba66-c2aab8994ddd",
   "metadata": {},
   "outputs": [],
   "source": [
    "#Q7) input = 'hai how are you'\n",
    "#     output=['HAI','HOW','ARE','YOU']"
   ]
  },
  {
   "cell_type": "code",
   "execution_count": 206,
   "id": "544cc781-5d63-42e6-a127-407cae908fea",
   "metadata": {},
   "outputs": [
    {
     "name": "stdout",
     "output_type": "stream",
     "text": [
      "['hai', 'how', 'are', 'you']\n",
      "['HAI', 'HOW', 'ARE', 'YOU']\n"
     ]
    }
   ],
   "source": [
    "input = 'hai how are you'\n",
    "l = input.split()\n",
    "print(l)\n",
    "new=[]\n",
    "for i in l:\n",
    "    new.append(i.upper())\n",
    "print(new)"
   ]
  },
  {
   "cell_type": "code",
   "execution_count": 208,
   "id": "f1187959-382e-4238-a1f1-41b403e304a8",
   "metadata": {},
   "outputs": [],
   "source": [
    "# Q8) input='virat.kohli@rcb.com;rohit.sharma@mi.com;ms.dhoni@csk.com'\n",
    "#     fname=['virat','rohit'.'ms']\n",
    "#     sname=['kohli','sharma','dhoni']\n",
    "#     cname=['rcb','mi','csk']"
   ]
  },
  {
   "cell_type": "code",
   "execution_count": 226,
   "id": "9c40a4d9-d99f-48f7-b2f0-869fa375178e",
   "metadata": {},
   "outputs": [
    {
     "name": "stdout",
     "output_type": "stream",
     "text": [
      "virat.kohli@rcb.com\n",
      "rohit.sharma@mi.com\n",
      "ms.dhoni@csk.com\n"
     ]
    },
    {
     "data": {
      "text/plain": [
       "(['virat', 'rohit', 'ms'], ['kohli', 'sharma', 'dhoni'], ['rcb', 'mi', 'csk'])"
      ]
     },
     "execution_count": 226,
     "metadata": {},
     "output_type": "execute_result"
    }
   ],
   "source": [
    "input='virat.kohli@rcb.com;rohit.sharma@mi.com;ms.dhoni@csk.com'\n",
    "fname=[]\n",
    "sname=[]\n",
    "cname=[]\n",
    "l=input.split(';')\n",
    "\n",
    "for i in l:\n",
    "    print(i)\n",
    "    id1=i.find('.')\n",
    "    id2=i.find('@')\n",
    "    id3=i.find('.',id1+1)\n",
    "    fname.append(i[:id1])\n",
    "    sname.append(i[id1+1:id2])\n",
    "    cname.append(i[id2+1:id3])\n",
    "\n",
    "fname,sname,cname"
   ]
  },
  {
   "cell_type": "code",
   "execution_count": 228,
   "id": "72185a42-8e70-4772-a9ef-642898ba488d",
   "metadata": {
    "scrolled": true
   },
   "outputs": [
    {
     "data": {
      "text/plain": [
       "['__add__',\n",
       " '__class__',\n",
       " '__class_getitem__',\n",
       " '__contains__',\n",
       " '__delattr__',\n",
       " '__delitem__',\n",
       " '__dir__',\n",
       " '__doc__',\n",
       " '__eq__',\n",
       " '__format__',\n",
       " '__ge__',\n",
       " '__getattribute__',\n",
       " '__getitem__',\n",
       " '__getstate__',\n",
       " '__gt__',\n",
       " '__hash__',\n",
       " '__iadd__',\n",
       " '__imul__',\n",
       " '__init__',\n",
       " '__init_subclass__',\n",
       " '__iter__',\n",
       " '__le__',\n",
       " '__len__',\n",
       " '__lt__',\n",
       " '__mul__',\n",
       " '__ne__',\n",
       " '__new__',\n",
       " '__reduce__',\n",
       " '__reduce_ex__',\n",
       " '__repr__',\n",
       " '__reversed__',\n",
       " '__rmul__',\n",
       " '__setattr__',\n",
       " '__setitem__',\n",
       " '__sizeof__',\n",
       " '__str__',\n",
       " '__subclasshook__',\n",
       " 'append',\n",
       " 'clear',\n",
       " 'copy',\n",
       " 'count',\n",
       " 'extend',\n",
       " 'index',\n",
       " 'insert',\n",
       " 'pop',\n",
       " 'remove',\n",
       " 'reverse',\n",
       " 'sort']"
      ]
     },
     "execution_count": 228,
     "metadata": {},
     "output_type": "execute_result"
    }
   ],
   "source": [
    "dir([])"
   ]
  },
  {
   "cell_type": "code",
   "execution_count": 230,
   "id": "13618393-e52d-4cea-a162-0fcc16513d97",
   "metadata": {
    "scrolled": true
   },
   "outputs": [
    {
     "data": {
      "text/plain": [
       "['__add__',\n",
       " '__class__',\n",
       " '__contains__',\n",
       " '__delattr__',\n",
       " '__dir__',\n",
       " '__doc__',\n",
       " '__eq__',\n",
       " '__format__',\n",
       " '__ge__',\n",
       " '__getattribute__',\n",
       " '__getitem__',\n",
       " '__getnewargs__',\n",
       " '__getstate__',\n",
       " '__gt__',\n",
       " '__hash__',\n",
       " '__init__',\n",
       " '__init_subclass__',\n",
       " '__iter__',\n",
       " '__le__',\n",
       " '__len__',\n",
       " '__lt__',\n",
       " '__mod__',\n",
       " '__mul__',\n",
       " '__ne__',\n",
       " '__new__',\n",
       " '__reduce__',\n",
       " '__reduce_ex__',\n",
       " '__repr__',\n",
       " '__rmod__',\n",
       " '__rmul__',\n",
       " '__setattr__',\n",
       " '__sizeof__',\n",
       " '__str__',\n",
       " '__subclasshook__',\n",
       " 'capitalize',\n",
       " 'casefold',\n",
       " 'center',\n",
       " 'count',\n",
       " 'encode',\n",
       " 'endswith',\n",
       " 'expandtabs',\n",
       " 'find',\n",
       " 'format',\n",
       " 'format_map',\n",
       " 'index',\n",
       " 'isalnum',\n",
       " 'isalpha',\n",
       " 'isascii',\n",
       " 'isdecimal',\n",
       " 'isdigit',\n",
       " 'isidentifier',\n",
       " 'islower',\n",
       " 'isnumeric',\n",
       " 'isprintable',\n",
       " 'isspace',\n",
       " 'istitle',\n",
       " 'isupper',\n",
       " 'join',\n",
       " 'ljust',\n",
       " 'lower',\n",
       " 'lstrip',\n",
       " 'maketrans',\n",
       " 'partition',\n",
       " 'removeprefix',\n",
       " 'removesuffix',\n",
       " 'replace',\n",
       " 'rfind',\n",
       " 'rindex',\n",
       " 'rjust',\n",
       " 'rpartition',\n",
       " 'rsplit',\n",
       " 'rstrip',\n",
       " 'split',\n",
       " 'splitlines',\n",
       " 'startswith',\n",
       " 'strip',\n",
       " 'swapcase',\n",
       " 'title',\n",
       " 'translate',\n",
       " 'upper',\n",
       " 'zfill']"
      ]
     },
     "execution_count": 230,
     "metadata": {},
     "output_type": "execute_result"
    }
   ],
   "source": [
    "dir(\"\")"
   ]
  },
  {
   "cell_type": "markdown",
   "id": "ed802df4-0dac-4c1e-a8d8-21022661c953",
   "metadata": {},
   "source": [
    "# Word frequency problem"
   ]
  },
  {
   "cell_type": "markdown",
   "id": "5e7c297e-94a3-4818-881a-1f9a7e133ff4",
   "metadata": {},
   "source": [
    "# Q9) input='can canner can you can not canner with you but you can the canner'\n",
    "# output=['can'-4,'canner'-3,'you'-3,'not'-1,'with'-1,'but'-1,'the'-1]"
   ]
  },
  {
   "cell_type": "code",
   "execution_count": 234,
   "id": "2801796f-72d1-4798-ba5f-7611f32e7d83",
   "metadata": {},
   "outputs": [
    {
     "data": {
      "text/plain": [
       "['can:4', 'canner:3', 'you:3', 'not:1', 'with:1', 'but:1', 'the:1']"
      ]
     },
     "execution_count": 234,
     "metadata": {},
     "output_type": "execute_result"
    }
   ],
   "source": [
    "input='can canner can you can not canner with you but you can the canner'\n",
    "l=input.split()\n",
    "l1=[]\n",
    "counter=[]\n",
    "for i in l:\n",
    "    if i not in l1:\n",
    "        counter.append(f\"{i}:{l.count(i)}\")\n",
    "        l1.append(i)\n",
    "counter"
   ]
  },
  {
   "cell_type": "markdown",
   "id": "b9365138-d13c-47d8-b80c-1e41c581f011",
   "metadata": {},
   "source": [
    "# Q10) input = 'can canner can you can not canner with you but you can the canner'\n",
    "#      stopwords=['not','you','but','with']\n",
    "#      using stopwords remove those words from input\n",
    "#     output='can canner can can canner can canner'"
   ]
  },
  {
   "cell_type": "code",
   "execution_count": 245,
   "id": "68e75820-d921-48ca-8501-1b8257db8411",
   "metadata": {},
   "outputs": [
    {
     "name": "stdout",
     "output_type": "stream",
     "text": [
      "['can', 'canner', 'can', 'can', 'canner', 'can', 'the', 'canner']\n"
     ]
    },
    {
     "data": {
      "text/plain": [
       "'can canner can can canner can the canner'"
      ]
     },
     "execution_count": 245,
     "metadata": {},
     "output_type": "execute_result"
    }
   ],
   "source": [
    "input='can canner can you can not canner with you but you can the canner'\n",
    "l=input.split()\n",
    "l1=[]\n",
    "stopwords=['not','you','but','with']\n",
    "for i in l:\n",
    "    if i not in stopwords:\n",
    "        l1.append(i)\n",
    "print(l1)\n",
    "' '.join(l1)"
   ]
  },
  {
   "cell_type": "markdown",
   "id": "b0d8b7ff-e985-4260-9d9b-12d700aad184",
   "metadata": {},
   "source": [
    "# Q11) take a string find the most repeated word from string"
   ]
  },
  {
   "cell_type": "code",
   "execution_count": 259,
   "id": "ae0e0c42-5aa5-4d40-b76b-76990935cbf8",
   "metadata": {},
   "outputs": [
    {
     "name": "stdout",
     "output_type": "stream",
     "text": [
      "['can', 'canner', 'you', 'not', 'with', 'but', 'the']\n",
      "[4, 3, 3, 1, 1, 1, 1]\n"
     ]
    }
   ],
   "source": [
    "str1='can canner can you can not canner with you but you can the canner'\n",
    "l=str1.split()\n",
    "counter=[]\n",
    "new=[]\n",
    "for i in l:\n",
    "    if i not in new:\n",
    "        counter.append(l.count(i))\n",
    "        new.append(i)\n",
    "print(new)\n",
    "print(counter)\n"
   ]
  },
  {
   "cell_type": "markdown",
   "id": "968027ea-0da2-4122-bb89-53917597f010",
   "metadata": {},
   "source": [
    "# Q12) take a string find the longest length of the word from string"
   ]
  },
  {
   "cell_type": "code",
   "execution_count": 271,
   "id": "3aa69b4a-3d7e-4e95-8360-af0b4f577424",
   "metadata": {},
   "outputs": [
    {
     "name": "stdout",
     "output_type": "stream",
     "text": [
      "most repeated word form string is can and its count is 4\n"
     ]
    }
   ],
   "source": [
    "str1='can canner can you can not canner with you but you can the canner'\n",
    "l=str1.split()\n",
    "count=0\n",
    "for i in l:\n",
    "    if count<l1.count(i):\n",
    "        count=l1.count(i)\n",
    "        letter=i\n",
    "print(f\"most repeated word form string is {letter} and its count is {count}\")"
   ]
  },
  {
   "cell_type": "markdown",
   "id": "31177712-8d5f-4246-9c47-bbf0e5031daa",
   "metadata": {},
   "source": [
    "# Q13) take a string find the lowest length of the word from string"
   ]
  },
  {
   "cell_type": "code",
   "execution_count": null,
   "id": "86c2ec41-157b-4dbe-88b9-9dabf1d22015",
   "metadata": {},
   "outputs": [],
   "source": []
  },
  {
   "cell_type": "code",
   "execution_count": 291,
   "id": "9b598fbe-7f2f-4e69-9123-f7a0d7807498",
   "metadata": {},
   "outputs": [
    {
     "data": {
      "text/plain": [
       "['__add__',\n",
       " '__class__',\n",
       " '__class_getitem__',\n",
       " '__contains__',\n",
       " '__delattr__',\n",
       " '__delitem__',\n",
       " '__dir__',\n",
       " '__doc__',\n",
       " '__eq__',\n",
       " '__format__',\n",
       " '__ge__',\n",
       " '__getattribute__',\n",
       " '__getitem__',\n",
       " '__getstate__',\n",
       " '__gt__',\n",
       " '__hash__',\n",
       " '__iadd__',\n",
       " '__imul__',\n",
       " '__init__',\n",
       " '__init_subclass__',\n",
       " '__iter__',\n",
       " '__le__',\n",
       " '__len__',\n",
       " '__lt__',\n",
       " '__mul__',\n",
       " '__ne__',\n",
       " '__new__',\n",
       " '__reduce__',\n",
       " '__reduce_ex__',\n",
       " '__repr__',\n",
       " '__reversed__',\n",
       " '__rmul__',\n",
       " '__setattr__',\n",
       " '__setitem__',\n",
       " '__sizeof__',\n",
       " '__str__',\n",
       " '__subclasshook__',\n",
       " 'append',\n",
       " 'clear',\n",
       " 'copy',\n",
       " 'count',\n",
       " 'extend',\n",
       " 'index',\n",
       " 'insert',\n",
       " 'pop',\n",
       " 'remove',\n",
       " 'reverse',\n",
       " 'sort']"
      ]
     },
     "execution_count": 291,
     "metadata": {},
     "output_type": "execute_result"
    }
   ],
   "source": [
    "dir([])"
   ]
  },
  {
   "cell_type": "markdown",
   "id": "4ce019b6-ed42-4e3c-9d9a-feb897c827d4",
   "metadata": {},
   "source": [
    "**extend**"
   ]
  },
  {
   "cell_type": "code",
   "execution_count": 308,
   "id": "21ea0e00-b1ad-4ab4-b869-43b4ac4aa27e",
   "metadata": {},
   "outputs": [
    {
     "name": "stdout",
     "output_type": "stream",
     "text": [
      "[1, 2, 3, 4, 5]\n",
      "['a', 'b', 'c', 'd', 'e', 1, 2, 3, 4, 5]\n"
     ]
    }
   ],
   "source": [
    "# EXTEND\n",
    "l1=[1,2,3,4,5]\n",
    "l2=['a','b','c','d','e']\n",
    "l2.extend(l1)\n",
    "print(l1)\n",
    "print(l2)"
   ]
  },
  {
   "cell_type": "raw",
   "id": "09de8aa7-9ac6-4a14-9765-27971cb79b95",
   "metadata": {},
   "source": [
    "#find the difference between append, extend and concatenation"
   ]
  },
  {
   "cell_type": "code",
   "execution_count": 310,
   "id": "b701fa5a-d6fe-4b35-ab0b-df11ba111080",
   "metadata": {},
   "outputs": [
    {
     "name": "stdout",
     "output_type": "stream",
     "text": [
      "[1, 2, 3, 4, 5]\n",
      "['a', 'b', 'c', 'd', 'e', [1, 2, 3, 4, 5]]\n"
     ]
    }
   ],
   "source": [
    "# APPEND\n",
    "l1=[1,2,3,4,5]\n",
    "l2=['a','b','c','d','e']\n",
    "l2.append(l1)\n",
    "print(l1)\n",
    "print(l2)"
   ]
  },
  {
   "cell_type": "code",
   "execution_count": 306,
   "id": "16ea2d81-5aff-4edb-a491-8b5fb18c724c",
   "metadata": {},
   "outputs": [
    {
     "name": "stdout",
     "output_type": "stream",
     "text": [
      "[1, 2, 3, 4, 5, 'a', 'b', 'c', 'd', 'e']\n",
      "[1, 2, 3, 4, 5]\n",
      "['a', 'b', 'c', 'd', 'e']\n"
     ]
    }
   ],
   "source": [
    "# CONCATENATION\n",
    "l1=[1,2,3,4,5]\n",
    "l2=['a','b','c','d','e']\n",
    "print(l1+l2)\n",
    "print(l1)\n",
    "print(l2)"
   ]
  },
  {
   "cell_type": "markdown",
   "id": "293e5c09-2918-46c9-b613-08c184ed56a0",
   "metadata": {},
   "source": [
    "**index**"
   ]
  },
  {
   "cell_type": "code",
   "execution_count": 317,
   "id": "2d542528-6a22-4963-b340-b2e575d1f052",
   "metadata": {},
   "outputs": [
    {
     "data": {
      "text/plain": [
       "4"
      ]
     },
     "execution_count": 317,
     "metadata": {},
     "output_type": "execute_result"
    }
   ],
   "source": [
    "l1=[1,2,3,4,5,'Apple','Cheery','mango']\n",
    "l1.index(5)"
   ]
  },
  {
   "cell_type": "code",
   "execution_count": 319,
   "id": "814747a7-da0b-47cd-bbc1-1376f2915df2",
   "metadata": {},
   "outputs": [
    {
     "data": {
      "text/plain": [
       "7"
      ]
     },
     "execution_count": 319,
     "metadata": {},
     "output_type": "execute_result"
    }
   ],
   "source": [
    "l1=[1,2,3,4,5,'Apple','Cheery','mango']\n",
    "l1.index('mango')"
   ]
  },
  {
   "cell_type": "code",
   "execution_count": 321,
   "id": "afeaf3f3-5799-4a99-a7ad-17444d08bb5e",
   "metadata": {},
   "outputs": [
    {
     "data": {
      "text/plain": [
       "2"
      ]
     },
     "execution_count": 321,
     "metadata": {},
     "output_type": "execute_result"
    }
   ],
   "source": [
    "l1=[10,20,30,40,50,'Apple','Cheery','mango',10,20,40]\n",
    "l1.index(30)"
   ]
  },
  {
   "cell_type": "code",
   "execution_count": 325,
   "id": "8e1346d2-cb76-4325-b666-af6cab86e6d1",
   "metadata": {},
   "outputs": [
    {
     "data": {
      "text/plain": [
       "11"
      ]
     },
     "execution_count": 325,
     "metadata": {},
     "output_type": "execute_result"
    }
   ],
   "source": [
    "l1=[10,20,30,40,50,'Apple','Cheery','mango',10,20,40,30]\n",
    "i1=l1.index(30)\n",
    "l1.index(30,i1+1)"
   ]
  },
  {
   "cell_type": "markdown",
   "id": "4c243305-d4f2-461f-9ed2-2898145da989",
   "metadata": {},
   "source": [
    "**insert**\n",
    "\n",
    "- diff between insert and append"
   ]
  },
  {
   "cell_type": "code",
   "execution_count": 330,
   "id": "8f986db6-f6ed-4b1c-bc45-7f0fcf9eef89",
   "metadata": {},
   "outputs": [
    {
     "data": {
      "text/plain": [
       "['apple']"
      ]
     },
     "execution_count": 330,
     "metadata": {},
     "output_type": "execute_result"
    }
   ],
   "source": [
    "l1=[10,20,30,40,50,'Apple','Cheery','mango',10,20,40,30]\n",
    "l2=[]\n",
    "l2.insert(2,'apple')\n",
    "l2"
   ]
  },
  {
   "cell_type": "code",
   "execution_count": 332,
   "id": "423328f0-bfd9-4333-8a0f-dd33151d4f00",
   "metadata": {},
   "outputs": [
    {
     "data": {
      "text/plain": [
       "[10, 20, 'apple', 30, 40, 50, 'Apple', 'Cheery', 'mango', 10, 20, 40, 30]"
      ]
     },
     "execution_count": 332,
     "metadata": {},
     "output_type": "execute_result"
    }
   ],
   "source": [
    "l1=[10,20,30,40,50,'Apple','Cheery','mango',10,20,40,30]\n",
    "l1.insert(2,'apple')\n",
    "l1"
   ]
  },
  {
   "cell_type": "code",
   "execution_count": 340,
   "id": "bef67237-a314-4d6d-b0db-5eb6a3336ba0",
   "metadata": {},
   "outputs": [
    {
     "data": {
      "text/plain": [
       "[10, 20, 30, 40, 50, 'Apple', 100, 'Cheery', 'mango', 10, 20, 40, 30]"
      ]
     },
     "execution_count": 340,
     "metadata": {},
     "output_type": "execute_result"
    }
   ],
   "source": [
    "l1=[10,20,30,40,50,'Apple','Cheery','mango',10,20,40,30]\n",
    "# i want to insert 100 after apple\n",
    "\n",
    "id=l1.index('Apple')\n",
    "l1.insert(id+1,100)\n",
    "l1"
   ]
  },
  {
   "cell_type": "code",
   "execution_count": 348,
   "id": "daf7e6c3-25af-4274-8d7f-65f814f7531f",
   "metadata": {},
   "outputs": [
    {
     "data": {
      "text/plain": [
       "[10, 20, 30, 40, 50, 'Apple', 'Cheery', 'mango', 10, 20, 40, 30, 100]"
      ]
     },
     "execution_count": 348,
     "metadata": {},
     "output_type": "execute_result"
    }
   ],
   "source": [
    "l1=[10,20,30,40,50,'Apple','Cheery','mango',10,20,40,30]\n",
    "l1.append(100)\n",
    "l1\n",
    "\n",
    "# append always add elements at the end of the list"
   ]
  },
  {
   "cell_type": "markdown",
   "id": "d43902cf-d73e-4b40-ac0f-eae0885be11f",
   "metadata": {},
   "source": [
    "**pop vs remove**\n",
    "\n",
    "- **remove** removes the value\n",
    "- **pop** removes elements based on index"
   ]
  },
  {
   "cell_type": "code",
   "execution_count": 351,
   "id": "ed353893-4052-4b40-aadf-c60e6335946f",
   "metadata": {},
   "outputs": [
    {
     "data": {
      "text/plain": [
       "40"
      ]
     },
     "execution_count": 351,
     "metadata": {},
     "output_type": "execute_result"
    }
   ],
   "source": [
    "l1=[10,20,30,40,50,'Apple','Cheery','mango',10,20,40,30]\n",
    "l1.pop(10)\n"
   ]
  },
  {
   "cell_type": "code",
   "execution_count": 355,
   "id": "8bf361aa-3626-4957-b13d-6d4c6ed0b707",
   "metadata": {},
   "outputs": [
    {
     "data": {
      "text/plain": [
       "[10, 20, 30, 40, 50, 'Cheery', 'mango', 10, 20, 40, 30]"
      ]
     },
     "execution_count": 355,
     "metadata": {},
     "output_type": "execute_result"
    }
   ],
   "source": [
    "l1=[10,20,30,40,50,'Apple','Cheery','mango',10,20,40,30]\n",
    "l1.remove('Apple')\n",
    "l1"
   ]
  },
  {
   "cell_type": "code",
   "execution_count": 360,
   "id": "946c084d-9489-409c-896b-fbad0c086005",
   "metadata": {},
   "outputs": [
    {
     "data": {
      "text/plain": [
       "[20, 30, 40, 50, 'Apple', 'Cheery', 'mango', 10, 20, 40, 30]"
      ]
     },
     "execution_count": 360,
     "metadata": {},
     "output_type": "execute_result"
    }
   ],
   "source": [
    "l1=[10,20,30,40,50,'Apple','Cheery','mango',10,20,40,30]\n",
    "l1.remove(10)\n",
    "l1"
   ]
  },
  {
   "cell_type": "code",
   "execution_count": 368,
   "id": "a22c7334-0538-4ba5-899b-3513a702fc06",
   "metadata": {},
   "outputs": [
    {
     "name": "stdout",
     "output_type": "stream",
     "text": [
      "[10, 20, 30, 40, 50, 'Apple', 'Cheery', 'mango', 10, 20, 40, 30]\n"
     ]
    },
    {
     "ename": "NameError",
     "evalue": "name 'l1' is not defined",
     "output_type": "error",
     "traceback": [
      "\u001b[1;31m---------------------------------------------------------------------------\u001b[0m",
      "\u001b[1;31mNameError\u001b[0m                                 Traceback (most recent call last)",
      "Cell \u001b[1;32mIn[368], line 4\u001b[0m\n\u001b[0;32m      2\u001b[0m \u001b[38;5;28mprint\u001b[39m(l1)\n\u001b[0;32m      3\u001b[0m \u001b[38;5;28;01mdel\u001b[39;00m(l1)\n\u001b[1;32m----> 4\u001b[0m l1\n",
      "\u001b[1;31mNameError\u001b[0m: name 'l1' is not defined"
     ]
    }
   ],
   "source": [
    "l1=[10,20,30,40,50,'Apple','Cheery','mango',10,20,40,30]\n",
    "print(l1)\n",
    "del(l1)\n",
    "l1\n",
    "\n",
    "# Entire list deleted"
   ]
  },
  {
   "cell_type": "code",
   "execution_count": 372,
   "id": "90e6f085-9a81-482c-b18f-c34ad2d46c1a",
   "metadata": {},
   "outputs": [
    {
     "name": "stdout",
     "output_type": "stream",
     "text": [
      "[10, 20, 30, 40, 50, 'Apple', 'Cheery', 'mango', 10, 20, 40, 30]\n"
     ]
    },
    {
     "data": {
      "text/plain": [
       "[10, 20, 30, 40, 50, 'Cheery', 'mango', 10, 20, 40, 30]"
      ]
     },
     "execution_count": 372,
     "metadata": {},
     "output_type": "execute_result"
    }
   ],
   "source": [
    "l1=[10,20,30,40,50,'Apple','Cheery','mango',10,20,40,30]\n",
    "print(l1)\n",
    "del l1[5]   # del(l1[5])\n",
    "l1"
   ]
  },
  {
   "cell_type": "markdown",
   "id": "c9a026ce-3b04-4ad7-ac22-738e9b86cd68",
   "metadata": {},
   "source": [
    "**reverse-reversed**\n",
    "- reversed is an inbuilt function\n",
    "- reverse is a method"
   ]
  },
  {
   "cell_type": "code",
   "execution_count": 377,
   "id": "ef07aff8-35d8-49a6-a789-cfd3070c9020",
   "metadata": {},
   "outputs": [
    {
     "data": {
      "text/plain": [
       "[30, 40, 20, 10, 'mango', 'Cheery', 'Apple', 50, 40, 30, 20, 10]"
      ]
     },
     "execution_count": 377,
     "metadata": {},
     "output_type": "execute_result"
    }
   ],
   "source": [
    "l1=[10,20,30,40,50,'Apple','Cheery','mango',10,20,40,30]\n",
    "l1.reverse()\n",
    "l1"
   ]
  },
  {
   "cell_type": "code",
   "execution_count": 405,
   "id": "60cd18f1-d152-421d-ad6a-c06eed6c636f",
   "metadata": {},
   "outputs": [
    {
     "name": "stdout",
     "output_type": "stream",
     "text": [
      "[10, 20, 30, 40, 50, 'Apple', 'Cheery', 'mango', 10, 20, 40, 30]\n"
     ]
    }
   ],
   "source": [
    "l1=[10,20,30,40,50,'Apple','Cheery','mango',10,20,40,30]\n",
    "reversed(l1)\n",
    "print(l1)"
   ]
  },
  {
   "cell_type": "markdown",
   "id": "2d3fc74d-268f-413b-8f78-aa4a06ae6cb7",
   "metadata": {},
   "source": [
    "**in-place**\n",
    "\n",
    "- when we perform operations sometime the values will not overwrite\n",
    "\n",
    "- if we see inplace word or inplace=True\n",
    "\n",
    "- this indicates the output will be overwrite in corresponding variable"
   ]
  },
  {
   "cell_type": "markdown",
   "id": "4d68ecdf-e464-4e03-8d5c-a5a0b92a858e",
   "metadata": {},
   "source": [
    "**sort vs sorted**"
   ]
  },
  {
   "cell_type": "code",
   "execution_count": 393,
   "id": "5ae59901-c583-4834-93de-acc9a9cd0678",
   "metadata": {},
   "outputs": [
    {
     "name": "stdout",
     "output_type": "stream",
     "text": [
      "[10, 20, 30, 40, 40, 50]\n"
     ]
    }
   ],
   "source": [
    "l1=[10,40,50,20,40,30]\n",
    "l1.sort()\n",
    "print(l1)"
   ]
  },
  {
   "cell_type": "code",
   "execution_count": 397,
   "id": "59274e54-b8d7-4102-bac5-491f86962739",
   "metadata": {},
   "outputs": [
    {
     "data": {
      "text/plain": [
       "[20, 30, 40, 40, 50]"
      ]
     },
     "execution_count": 397,
     "metadata": {},
     "output_type": "execute_result"
    }
   ],
   "source": [
    "l1=[40,50,20,40,30]\n",
    "sorted(l1)"
   ]
  },
  {
   "cell_type": "code",
   "execution_count": null,
   "id": "614ea3b1-81cb-4057-9746-12aed443b9bc",
   "metadata": {},
   "outputs": [],
   "source": [
    "\n"
   ]
  }
 ],
 "metadata": {
  "kernelspec": {
   "display_name": "Python [conda env:base] *",
   "language": "python",
   "name": "conda-base-py"
  },
  "language_info": {
   "codemirror_mode": {
    "name": "ipython",
    "version": 3
   },
   "file_extension": ".py",
   "mimetype": "text/x-python",
   "name": "python",
   "nbconvert_exporter": "python",
   "pygments_lexer": "ipython3",
   "version": "3.12.7"
  }
 },
 "nbformat": 4,
 "nbformat_minor": 5
}
