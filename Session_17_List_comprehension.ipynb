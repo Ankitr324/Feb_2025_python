{
 "cells": [
  {
   "cell_type": "code",
   "execution_count": 1,
   "id": "172d91ef-4cb9-4ed7-beff-3c0206436d62",
   "metadata": {},
   "outputs": [],
   "source": [
    "# **List comprehension 4 methods**\n",
    "\n",
    "#  1. [output forloop]\n",
    "#  2. [output forloop ifcondition]\n",
    "#  3. [ifoutput ifcondition else elseoutput forloop]\n",
    "#  4. [ifoutput if_condition else elif_output elif_confition else else_output forloop]"
   ]
  },
  {
   "cell_type": "markdown",
   "id": "0dfcb635-eff7-494c-9ee8-6df00352112d",
   "metadata": {},
   "source": [
    "**List Compehension**\n",
    "\n",
    "- list comprehension is a way to wrute list operations in a single line\n",
    "\n",
    "- when we apply **for** loop and **if-else**  conditional statements then the code compilation becomes slow\n",
    "\n",
    "- which means it takes much time\n",
    "\n",
    "- in order to aviod the time complexity we will use list comprehension\n",
    "\n",
    "- list compehension is a single line code"
   ]
  },
  {
   "cell_type": "markdown",
   "id": "41f6f1c2-0088-412c-8796-36574f47cbec",
   "metadata": {},
   "source": [
    "**case-1 for loop**"
   ]
  },
  {
   "cell_type": "code",
   "execution_count": 3,
   "id": "52159c32-c461-469f-8d61-3a7b0854a2a5",
   "metadata": {},
   "outputs": [
    {
     "name": "stdout",
     "output_type": "stream",
     "text": [
      "[0, 1, 2, 3, 4, 5, 6, 7, 8, 9]\n"
     ]
    }
   ],
   "source": [
    "list1=[]\n",
    "for i in range(10):\n",
    "    list1.append(i)\n",
    "print(list1)"
   ]
  },
  {
   "cell_type": "code",
   "execution_count": null,
   "id": "b4b109bf-b5ae-4481-aa7b-a7a5baf51405",
   "metadata": {},
   "outputs": [],
   "source": [
    "list1=[<code should write here>]\n",
    "\n",
    "list1=[<output variable> <for loop>]"
   ]
  },
  {
   "cell_type": "code",
   "execution_count": 7,
   "id": "8e095410-5fc6-43db-b118-7183fa529ae9",
   "metadata": {},
   "outputs": [
    {
     "data": {
      "text/plain": [
       "[0, 1, 2, 3, 4, 5, 6, 7, 8, 9]"
      ]
     },
     "execution_count": 7,
     "metadata": {},
     "output_type": "execute_result"
    }
   ],
   "source": [
    "list1=[i for i in range(10)]\n",
    "list1"
   ]
  },
  {
   "cell_type": "code",
   "execution_count": null,
   "id": "6cf2a806-70e7-41b0-a0d4-039584a2fa4a",
   "metadata": {},
   "outputs": [],
   "source": [
    "# Q3) input=['hyd','bengaluru','pune','mumbai']\n",
    "#     output=['Hyd','Bengaluru','Pune','Mumbai']\n",
    "\n",
    "# Q4) input=['hyd','bengaluru','pune','mumbai']\n",
    "#     output=['HYD','BENGALURU','PUNE','MUMBAI']"
   ]
  },
  {
   "cell_type": "code",
   "execution_count": 13,
   "id": "652d04f6-22ed-4e7b-b065-6ce2ff014129",
   "metadata": {},
   "outputs": [
    {
     "name": "stdout",
     "output_type": "stream",
     "text": [
      "['Hyd', 'Bengaluru', 'Pune', 'Mumbai']\n"
     ]
    }
   ],
   "source": [
    "input=['hyd','bengaluru','pune','mumbai']\n",
    "output=[i.title() for i in input]\n",
    "print(output)"
   ]
  },
  {
   "cell_type": "code",
   "execution_count": 15,
   "id": "7ebdb546-e1fe-472b-ad0b-04f8cd487e3e",
   "metadata": {},
   "outputs": [
    {
     "name": "stdout",
     "output_type": "stream",
     "text": [
      "['HYD', 'BENGALURU', 'PUNE', 'MUMBAI']\n"
     ]
    }
   ],
   "source": [
    "input=['hyd','bengaluru','pune','mumbai']\n",
    "output=[i.upper() for i in input]\n",
    "print(output)"
   ]
  },
  {
   "cell_type": "code",
   "execution_count": 17,
   "id": "b8964ed7-645c-431a-8a7a-dd062c0c82b3",
   "metadata": {},
   "outputs": [],
   "source": [
    "# sum of first 10 natural numbers and save in list"
   ]
  },
  {
   "cell_type": "code",
   "execution_count": 69,
   "id": "efc5c891-4fb6-48ec-a67e-a651e731899f",
   "metadata": {},
   "outputs": [
    {
     "name": "stdout",
     "output_type": "stream",
     "text": [
      "55\n"
     ]
    }
   ],
   "source": [
    "summ=0\n",
    "l1=[summ:=summ+i for i in range(1,11)]\n",
    "print(summ)"
   ]
  },
  {
   "cell_type": "code",
   "execution_count": 25,
   "id": "ba26e20a-a758-4ed6-81b3-ee8e844c2d0b",
   "metadata": {},
   "outputs": [],
   "source": [
    "# Q3) input=['hyd','bengaluru','pune','mumbai']\n",
    "# multiply indexes with 10"
   ]
  },
  {
   "cell_type": "code",
   "execution_count": 31,
   "id": "f5570bc1-1a4c-4cb1-8b17-114792e1698f",
   "metadata": {},
   "outputs": [
    {
     "data": {
      "text/plain": [
       "[0, 10, 20, 30]"
      ]
     },
     "execution_count": 31,
     "metadata": {},
     "output_type": "execute_result"
    }
   ],
   "source": [
    "input=['hyd','bengaluru','pune','mumbai']\n",
    "output=[i*10 for i in range(len(input))]\n",
    "output"
   ]
  },
  {
   "cell_type": "code",
   "execution_count": 41,
   "id": "b38c09ce-4d0b-4be6-b1bc-cedbd89b3744",
   "metadata": {},
   "outputs": [
    {
     "data": {
      "text/plain": [
       "[0, 10, 20, 30]"
      ]
     },
     "execution_count": 41,
     "metadata": {},
     "output_type": "execute_result"
    }
   ],
   "source": [
    "input=['hyd','bengaluru','pune','mumbai']\n",
    "output=[input.index(i)*10 for i in ['hyd','bengaluru','pune','mumbai']]\n",
    "output"
   ]
  },
  {
   "cell_type": "code",
   "execution_count": 43,
   "id": "fc1bddec-afbc-43fd-a198-be12d555737f",
   "metadata": {},
   "outputs": [
    {
     "data": {
      "text/plain": [
       "60"
      ]
     },
     "execution_count": 43,
     "metadata": {},
     "output_type": "execute_result"
    }
   ],
   "source": [
    "input=['hyd','bengaluru','pune','mumbai']\n",
    "output=[input.index(i)*10 for i in ['hyd','bengaluru','pune','mumbai']]\n",
    "sum(output)"
   ]
  },
  {
   "cell_type": "markdown",
   "id": "92a4205f-6074-4d41-9788-d8461f517f01",
   "metadata": {},
   "source": [
    "**walrus operator**\n",
    "\n",
    "**:=**"
   ]
  },
  {
   "cell_type": "code",
   "execution_count": 54,
   "id": "797ba96a-1acb-4553-ac08-abb966558257",
   "metadata": {},
   "outputs": [
    {
     "ename": "SyntaxError",
     "evalue": "invalid syntax. Maybe you meant '==' or ':=' instead of '='? (2663275567.py, line 1)",
     "output_type": "error",
     "traceback": [
      "\u001b[1;36m  Cell \u001b[1;32mIn[54], line 1\u001b[1;36m\u001b[0m\n\u001b[1;33m    [summ=summ+i for i in range(1,11)]\u001b[0m\n\u001b[1;37m     ^\u001b[0m\n\u001b[1;31mSyntaxError\u001b[0m\u001b[1;31m:\u001b[0m invalid syntax. Maybe you meant '==' or ':=' instead of '='?\n"
     ]
    }
   ],
   "source": [
    "[summ=summ+i for i in range(1,11)]"
   ]
  },
  {
   "cell_type": "code",
   "execution_count": 71,
   "id": "11716160-cc71-4303-b7b6-d618fd94666e",
   "metadata": {},
   "outputs": [
    {
     "data": {
      "text/plain": [
       "55"
      ]
     },
     "execution_count": 71,
     "metadata": {},
     "output_type": "execute_result"
    }
   ],
   "source": [
    "summ=0\n",
    "output=[summ:=summ+i for i in range(1,11)]\n",
    "summ"
   ]
  },
  {
   "cell_type": "markdown",
   "id": "2aaf04f8-33f0-4359-bb4c-c45c9a688437",
   "metadata": {},
   "source": [
    "**case-2 : for loop - if condition**"
   ]
  },
  {
   "cell_type": "code",
   "execution_count": 81,
   "id": "8fb23b2a-5ddc-4de5-b70d-1e6fd7e23ab0",
   "metadata": {},
   "outputs": [
    {
     "data": {
      "text/plain": [
       "['even:2', 'even:4', 'even:6', 'even:8', 'even:10']"
      ]
     },
     "execution_count": 81,
     "metadata": {},
     "output_type": "execute_result"
    }
   ],
   "source": [
    "#even number\n",
    "even_list=[]\n",
    "for i in range(1,11):\n",
    "    if i%2==0:\n",
    "        even_list.append(f\"even:{i}\")\n",
    "even_list"
   ]
  },
  {
   "cell_type": "code",
   "execution_count": null,
   "id": "3b7317cf-a732-40af-a336-827c249f1b5c",
   "metadata": {},
   "outputs": [],
   "source": [
    "[<output> <for loop> <if condition>]   # working\n",
    "[<output> <if condition> <for loop>]   # not working"
   ]
  },
  {
   "cell_type": "code",
   "execution_count": 83,
   "id": "770bbe18-ecff-48fe-87c6-53c79dbae723",
   "metadata": {},
   "outputs": [
    {
     "data": {
      "text/plain": [
       "[0, 2, 4, 6, 8, 10]"
      ]
     },
     "execution_count": 83,
     "metadata": {},
     "output_type": "execute_result"
    }
   ],
   "source": [
    "[i for i in range(11) if i%2==0]"
   ]
  },
  {
   "cell_type": "code",
   "execution_count": 85,
   "id": "a3a104e6-cbb1-410d-8e6f-08d8bf3b3472",
   "metadata": {},
   "outputs": [],
   "source": [
    "# Q5) input=['hyd','ben#galuru','pune','mu#mbai']\n",
    "#     output=[ben#galuru',mu#mbai']\n",
    "\n",
    "# Q6) input=['hyd','ben#galuru','pune','mu#mbai']\n",
    "#     output=[hyd,pune]"
   ]
  },
  {
   "cell_type": "code",
   "execution_count": 93,
   "id": "c2e17461-e028-4f52-be9f-b6a7a2c767de",
   "metadata": {},
   "outputs": [
    {
     "data": {
      "text/plain": [
       "['ben#galuru', 'mu#mbai']"
      ]
     },
     "execution_count": 93,
     "metadata": {},
     "output_type": "execute_result"
    }
   ],
   "source": [
    "input=['hyd','ben#galuru','pune','mu#mbai']\n",
    "[i for i in input if '#' in i]"
   ]
  },
  {
   "cell_type": "code",
   "execution_count": 95,
   "id": "e26047ec-ac03-475a-af36-ba4a1a85e411",
   "metadata": {},
   "outputs": [
    {
     "data": {
      "text/plain": [
       "['hyd', 'pune']"
      ]
     },
     "execution_count": 95,
     "metadata": {},
     "output_type": "execute_result"
    }
   ],
   "source": [
    "input=['hyd','ben#galuru','pune','mu#mbai']\n",
    "[i for i in input if '#' not in i]"
   ]
  },
  {
   "cell_type": "markdown",
   "id": "056922f6-007b-401b-ac96-57ae05023395",
   "metadata": {},
   "source": [
    "- case-1 for loop : [<output> <for loop>]\n",
    "- case-2 for-if : [<output> <for loop> <if_cond>]\n",
    "- case-3 for-if-else : [<if_output> <if_cond> <else> <else_cond> <for loop>]"
   ]
  },
  {
   "cell_type": "code",
   "execution_count": 103,
   "id": "56cb3587-3c68-4a07-a683-0782c2870e54",
   "metadata": {},
   "outputs": [
    {
     "data": {
      "text/plain": [
       "['odd:1',\n",
       " 'even:2',\n",
       " 'odd:3',\n",
       " 'even:4',\n",
       " 'odd:5',\n",
       " 'even:6',\n",
       " 'odd:7',\n",
       " 'even:8',\n",
       " 'odd:9',\n",
       " 'even:10']"
      ]
     },
     "execution_count": 103,
     "metadata": {},
     "output_type": "execute_result"
    }
   ],
   "source": [
    "[f\"even:{i}\" if i%2==0 else f\"odd:{i}\" for i in range(1,11)]"
   ]
  },
  {
   "cell_type": "markdown",
   "id": "868a37a1-30bd-4cdb-afbc-bc34c2b105d1",
   "metadata": {},
   "source": [
    "**case-4 : for-if-elif-else**\n",
    "- [<if_output> <if_cond> <else> [<if_output> <if_cond> <else> <else_cond> <for loop>]\n",
    "- in list comperhension we don't have elif representation\n",
    "- elif also represent as else+if\n",
    "- in elif we have **elif condition** and **elif output**\n",
    "\n",
    "- Note: instead of elif term write if"
   ]
  },
  {
   "cell_type": "code",
   "execution_count": 108,
   "id": "6c749438-dfc2-49c7-8604-8c8074144dff",
   "metadata": {},
   "outputs": [
    {
     "name": "stdout",
     "output_type": "stream",
     "text": [
      "56 C grade\n",
      "34 C grade\n",
      "78 B grade\n",
      "67 B grade\n",
      "98 A grade\n",
      "65 B grade\n",
      "88 A grade\n"
     ]
    }
   ],
   "source": [
    "l=[56,34,78,67,98,65,88]\n",
    "for i in l:\n",
    "    if i>85:\n",
    "        print(f\"{i} A grade\")\n",
    "    elif i>60:\n",
    "        print(f\"{i} B grade\")\n",
    "    else:\n",
    "        print(f\"{i} C grade\")"
   ]
  },
  {
   "cell_type": "code",
   "execution_count": 112,
   "id": "09a8cda2-652f-49e8-8716-e6b2c0c2b4ae",
   "metadata": {},
   "outputs": [
    {
     "data": {
      "text/plain": [
       "['56 C grade',\n",
       " '34 C grade',\n",
       " '78 B grade',\n",
       " '67 B grade',\n",
       " '98 A grade',\n",
       " '65 B grade',\n",
       " '88 A grade']"
      ]
     },
     "execution_count": 112,
     "metadata": {},
     "output_type": "execute_result"
    }
   ],
   "source": [
    "[f\"{i} A grade\" if i>85 else f\"{i} B grade\" if i>60 else f\"{i} C grade\" for i in l]"
   ]
  },
  {
   "cell_type": "code",
   "execution_count": null,
   "id": "deff70e2-982a-4051-94f6-70b636af6157",
   "metadata": {},
   "outputs": [],
   "source": []
  }
 ],
 "metadata": {
  "kernelspec": {
   "display_name": "Python [conda env:base] *",
   "language": "python",
   "name": "conda-base-py"
  },
  "language_info": {
   "codemirror_mode": {
    "name": "ipython",
    "version": 3
   },
   "file_extension": ".py",
   "mimetype": "text/x-python",
   "name": "python",
   "nbconvert_exporter": "python",
   "pygments_lexer": "ipython3",
   "version": "3.12.7"
  }
 },
 "nbformat": 4,
 "nbformat_minor": 5
}
