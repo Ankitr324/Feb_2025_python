{
 "cells": [
  {
   "cell_type": "markdown",
   "id": "a7aa60b0-1d16-43db-a815-86e110074235",
   "metadata": {},
   "source": [
    "**Loops**\n",
    "- Loops are used to iterate the code multiple times\n",
    "\n",
    "- function are used to reuse the code block\n",
    "\n",
    "- that code block can be repeated multiple times\n",
    "\n",
    "- whenever you are doing same task multiple times then think about the loop\n",
    "\n",
    "- we have two loops:\n",
    "    - for\n",
    "    - while\n",
    "\n",
    "- Any loop we need three 3 things\n",
    "\n",
    "    - Initialization(start point)\n",
    "\n",
    "    - increment or decrement\n",
    "\n",
    "    - condition to stop"
   ]
  },
  {
   "cell_type": "markdown",
   "id": "4d0cd77b-6bfb-4d88-bf17-e68f51171634",
   "metadata": {},
   "source": [
    "**For Loop**\n",
    "\n"
   ]
  },
  {
   "cell_type": "code",
   "execution_count": null,
   "id": "c2ace6dd-6a8d-4d04-b415-0332a792a715",
   "metadata": {},
   "outputs": [],
   "source": [
    "#syntax:\n",
    "for <variable> in range(<number>):\n",
    "    <code here>"
   ]
  },
  {
   "cell_type": "code",
   "execution_count": 7,
   "id": "b99ad71d-64ad-4ab5-a2a9-b62d74078500",
   "metadata": {},
   "outputs": [
    {
     "name": "stdout",
     "output_type": "stream",
     "text": [
      "0\n",
      "1\n",
      "2\n",
      "3\n",
      "4\n"
     ]
    }
   ],
   "source": [
    "for i in range(5):\n",
    "    print(i)"
   ]
  },
  {
   "cell_type": "code",
   "execution_count": 11,
   "id": "39fd3c86-535b-42df-8fcc-80a9150a4a48",
   "metadata": {},
   "outputs": [
    {
     "name": "stdout",
     "output_type": "stream",
     "text": [
      "0 1 2 "
     ]
    }
   ],
   "source": [
    "#print(0,end=\" \")\n",
    "#print(1,end=\" \")\n",
    "#print(2)\n",
    "\n",
    "for i in range(3):\n",
    "    print(i,end=\" \")"
   ]
  },
  {
   "cell_type": "markdown",
   "id": "1640e8d3-6f20-460f-b641-25cebe739095",
   "metadata": {},
   "source": [
    "**Case -1**\n",
    "range(stop)\n",
    "- start=0 ; python index always start with zero\n",
    "- increment by 1\n",
    "- last=stop -1"
   ]
  },
  {
   "cell_type": "code",
   "execution_count": 14,
   "id": "72ea5eb4-2470-407b-8537-a002df0f3d1c",
   "metadata": {},
   "outputs": [
    {
     "name": "stdout",
     "output_type": "stream",
     "text": [
      "0 1 2 3 4 5 6 7 8 9 "
     ]
    }
   ],
   "source": [
    "for i in range(10):\n",
    "    print(i,end=\" \")"
   ]
  },
  {
   "cell_type": "code",
   "execution_count": 19,
   "id": "3d154045-ad84-4a98-90b4-2a3f77562d77",
   "metadata": {},
   "outputs": [
    {
     "name": "stdout",
     "output_type": "stream",
     "text": [
      "Good night\n",
      "Good night\n",
      "Good night\n"
     ]
    }
   ],
   "source": [
    "for i in range(3):\n",
    "    print(\"Good night\")"
   ]
  },
  {
   "cell_type": "markdown",
   "id": "9e1373da-ed70-4ee0-923f-37c9bd09c109",
   "metadata": {},
   "source": [
    "**Case -2** \n",
    "range(start,stop)\n",
    "\n",
    "- suppose i want to start my loop with particualr number\n",
    "- then add start inside loop\n",
    "- start=start\n",
    "- increment by 1\n",
    "- last = stop-1\n",
    "- eg range(10,20)"
   ]
  },
  {
   "cell_type": "code",
   "execution_count": 22,
   "id": "93853dda-3e88-4bad-9c38-349eaee3162b",
   "metadata": {},
   "outputs": [
    {
     "name": "stdout",
     "output_type": "stream",
     "text": [
      "4 5 6 7 8 9 "
     ]
    }
   ],
   "source": [
    "for i in range(4,10):\n",
    "    print(i,end=\" \")"
   ]
  },
  {
   "cell_type": "code",
   "execution_count": null,
   "id": "d0b51f3d-585a-4b4c-b10b-667fbebb669b",
   "metadata": {},
   "outputs": [],
   "source": [
    "#wap ask the user print the square of first five numbers"
   ]
  },
  {
   "cell_type": "code",
   "execution_count": 27,
   "id": "37ae1fdd-1664-4f0a-8fdb-05965c96bf56",
   "metadata": {},
   "outputs": [
    {
     "name": "stdin",
     "output_type": "stream",
     "text": [
      "Enter a number : 5\n"
     ]
    },
    {
     "name": "stdout",
     "output_type": "stream",
     "text": [
      "square of 1 is 1\n",
      "square of 2 is 4\n",
      "square of 3 is 9\n",
      "square of 4 is 16\n",
      "square of 5 is 25\n"
     ]
    }
   ],
   "source": [
    "num=eval(input(\"Enter a number :\"))\n",
    "for i in range(1,6):\n",
    "    print(f\"square of {i} is {i*i}\")"
   ]
  },
  {
   "cell_type": "code",
   "execution_count": 29,
   "id": "60e34edd-ee3c-4cca-81d9-678c7e71261d",
   "metadata": {},
   "outputs": [
    {
     "name": "stdin",
     "output_type": "stream",
     "text": [
      "Enter a number : 4\n"
     ]
    },
    {
     "name": "stdout",
     "output_type": "stream",
     "text": [
      "The square of 4 is 16\n"
     ]
    },
    {
     "name": "stdin",
     "output_type": "stream",
     "text": [
      "Enter a number : 2\n"
     ]
    },
    {
     "name": "stdout",
     "output_type": "stream",
     "text": [
      "The square of 2 is 4\n"
     ]
    },
    {
     "name": "stdin",
     "output_type": "stream",
     "text": [
      "Enter a number : 6\n"
     ]
    },
    {
     "name": "stdout",
     "output_type": "stream",
     "text": [
      "The square of 6 is 36\n"
     ]
    },
    {
     "name": "stdin",
     "output_type": "stream",
     "text": [
      "Enter a number : 5\n"
     ]
    },
    {
     "name": "stdout",
     "output_type": "stream",
     "text": [
      "The square of 5 is 25\n"
     ]
    },
    {
     "name": "stdin",
     "output_type": "stream",
     "text": [
      "Enter a number : 4\n"
     ]
    },
    {
     "name": "stdout",
     "output_type": "stream",
     "text": [
      "The square of 4 is 16\n"
     ]
    }
   ],
   "source": [
    "for i in range(5):\n",
    "    num=eval(input(\"Enter a number :\"))\n",
    "    print(f\"The square of {num} is {num*num}\")"
   ]
  },
  {
   "cell_type": "code",
   "execution_count": 31,
   "id": "9df5a2bb-a988-423b-ac5b-e53cc45e67be",
   "metadata": {},
   "outputs": [
    {
     "name": "stdin",
     "output_type": "stream",
     "text": [
      "Enter a number : 1\n"
     ]
    },
    {
     "name": "stdout",
     "output_type": "stream",
     "text": [
      "The square of 1 is 1\n"
     ]
    },
    {
     "name": "stdin",
     "output_type": "stream",
     "text": [
      "Enter a number : 2\n"
     ]
    },
    {
     "name": "stdout",
     "output_type": "stream",
     "text": [
      "The square of 2 is 4\n"
     ]
    },
    {
     "name": "stdin",
     "output_type": "stream",
     "text": [
      "Enter a number : 3\n"
     ]
    },
    {
     "name": "stdout",
     "output_type": "stream",
     "text": [
      "The square of 3 is 9\n"
     ]
    },
    {
     "name": "stdin",
     "output_type": "stream",
     "text": [
      "Enter a number : 4\n"
     ]
    },
    {
     "name": "stdout",
     "output_type": "stream",
     "text": [
      "The square of 4 is 16\n"
     ]
    },
    {
     "name": "stdin",
     "output_type": "stream",
     "text": [
      "Enter a number : 5\n"
     ]
    },
    {
     "name": "stdout",
     "output_type": "stream",
     "text": [
      "The square of 5 is 25\n"
     ]
    }
   ],
   "source": [
    "def sqr():\n",
    "    num=eval(input(\"Enter a number :\"))\n",
    "    print(f\"The square of {num} is {num*num}\")\n",
    "\n",
    "for i in range(5):\n",
    "    sqr()"
   ]
  },
  {
   "cell_type": "markdown",
   "id": "7bb53e31-b5a4-48ba-a30a-4710b6ed1830",
   "metadata": {},
   "source": [
    "**Case -3**\n",
    "range(start-stop-step)\n",
    "\n",
    "- start = start\n",
    "- step:\n",
    "    - look about step sign **+** or **-** sign\n",
    "    - positive means increment\n",
    "        - last : stop-1\n",
    "    - negative means decrement\n",
    "        - last : stop+1"
   ]
  },
  {
   "cell_type": "code",
   "execution_count": 36,
   "id": "5b4c3bbb-3f44-4646-ada9-b5fb01d0b2d3",
   "metadata": {},
   "outputs": [
    {
     "name": "stdout",
     "output_type": "stream",
     "text": [
      "3 5 7 9 11 13 15 17 19 "
     ]
    }
   ],
   "source": [
    "#ex : 1\n",
    "\n",
    "\n",
    "for i in range(3,20,2):\n",
    "    print(i,end=\" \")\n"
   ]
  },
  {
   "cell_type": "code",
   "execution_count": 44,
   "id": "d4b5717e-4f7c-4c4f-8810-223f4ea262bc",
   "metadata": {},
   "outputs": [],
   "source": [
    "#ex-2\n",
    "\n",
    "for i in range(3,19,-2):\n",
    "    print(i,end=\" \")"
   ]
  },
  {
   "cell_type": "code",
   "execution_count": 42,
   "id": "f69231c7-5f3c-4bb7-bfe1-908e5bfe7918",
   "metadata": {},
   "outputs": [
    {
     "name": "stdout",
     "output_type": "stream",
     "text": [
      "3 1 -1 -3 -5 -7 -9 -11 -13 -15 -17 "
     ]
    }
   ],
   "source": [
    "for i in range(3,-19,-2):\n",
    "    print(i,end=\" \")"
   ]
  },
  {
   "cell_type": "code",
   "execution_count": 2,
   "id": "62272b4e-6f7f-43b5-bd94-78b2c9fb9c1e",
   "metadata": {},
   "outputs": [],
   "source": [
    "# pirnt the 7 table"
   ]
  },
  {
   "cell_type": "code",
   "execution_count": 12,
   "id": "b73ecc16-1795-4d01-b377-ef402904bb46",
   "metadata": {},
   "outputs": [
    {
     "name": "stdout",
     "output_type": "stream",
     "text": [
      "7 X 1 = 7\n",
      "7 X 2 = 14\n",
      "7 X 3 = 21\n",
      "7 X 4 = 28\n",
      "7 X 5 = 35\n",
      "7 X 6 = 42\n",
      "7 X 7 = 49\n",
      "7 X 8 = 56\n",
      "7 X 9 = 63\n",
      "7 X 10 = 70\n"
     ]
    }
   ],
   "source": [
    "for i in range(1,11):\n",
    "    print(f\"7 X {i} = {i*7}\")"
   ]
  },
  {
   "cell_type": "code",
   "execution_count": 10,
   "id": "5aafa593-19e5-4e32-a318-cbe2c3b96bbe",
   "metadata": {},
   "outputs": [
    {
     "name": "stdin",
     "output_type": "stream",
     "text": [
      "enter the number to print table : 5\n"
     ]
    },
    {
     "name": "stdout",
     "output_type": "stream",
     "text": [
      "5 X 1 = 5\n",
      "5 X 2 = 10\n",
      "5 X 3 = 15\n",
      "5 X 4 = 20\n",
      "5 X 5 = 25\n",
      "5 X 6 = 30\n",
      "5 X 7 = 35\n",
      "5 X 8 = 40\n",
      "5 X 9 = 45\n",
      "5 X 10 = 50\n"
     ]
    }
   ],
   "source": [
    "num= eval(input(\"enter the number to print table :\"))\n",
    "for i in range(1,11):\n",
    "    print(f\"{num} X {i} = {i*num}\")"
   ]
  },
  {
   "cell_type": "code",
   "execution_count": 14,
   "id": "2d4b921d-6f55-49d6-80a2-41e0b5196a26",
   "metadata": {},
   "outputs": [],
   "source": [
    "# find the number of divisiors of 75"
   ]
  },
  {
   "cell_type": "code",
   "execution_count": 26,
   "id": "70e06cf3-1d65-48d8-bf04-aad9229e4743",
   "metadata": {},
   "outputs": [
    {
     "name": "stdin",
     "output_type": "stream",
     "text": [
      "enter the number which number divisior you want : 75\n"
     ]
    },
    {
     "name": "stdout",
     "output_type": "stream",
     "text": [
      "The divisiors of 75 is 1\n",
      "The divisiors of 75 is 3\n",
      "The divisiors of 75 is 5\n",
      "The divisiors of 75 is 15\n",
      "The divisiors of 75 is 25\n",
      "The divisiors of 75 is 75\n"
     ]
    }
   ],
   "source": [
    "num= eval(input(\"enter the number which number divisior you want :\"))\n",
    "for i in range(1,num+1):\n",
    "    if num%i==0:\n",
    "        print(f\"The divisiors of {num} is {i}\")"
   ]
  },
  {
   "cell_type": "code",
   "execution_count": 28,
   "id": "42a1f95b-868d-45d1-863b-fa78a155a9f2",
   "metadata": {},
   "outputs": [],
   "source": [
    "# sum of first 10 natiral numbers"
   ]
  },
  {
   "cell_type": "code",
   "execution_count": 44,
   "id": "1052c62f-acf1-46d2-a09e-9306a3487978",
   "metadata": {},
   "outputs": [
    {
     "name": "stdin",
     "output_type": "stream",
     "text": [
      "Enter the number to whom the sum is calulate : 20\n"
     ]
    },
    {
     "name": "stdout",
     "output_type": "stream",
     "text": [
      "The sum of first 20 natural numbers is 210\n"
     ]
    }
   ],
   "source": [
    "num=eval(input(\"Enter the number to whom the sum is calulate :\"))\n",
    "res=0\n",
    "for i in range(1,num+1):\n",
    "    res=res+i\n",
    "print(f\"The sum of first {num} natural numbers is {res}\")"
   ]
  },
  {
   "cell_type": "markdown",
   "id": "3632f756-1bcb-44df-bcf2-594c98f1b545",
   "metadata": {},
   "source": [
    "**summation Rapper**\n",
    "\n",
    "- startting we initialise the sum value =0\n",
    "- inside loop we will add a simple line :sum+i"
   ]
  },
  {
   "cell_type": "code",
   "execution_count": 46,
   "id": "085e2641-7285-4f17-af78-e8ba26ee75e9",
   "metadata": {},
   "outputs": [],
   "source": [
    "# find the sum of divisiors of 75"
   ]
  },
  {
   "cell_type": "code",
   "execution_count": 56,
   "id": "352c5794-2cdd-4c68-9d92-d025dbf737d6",
   "metadata": {},
   "outputs": [
    {
     "name": "stdin",
     "output_type": "stream",
     "text": [
      "Enter the number to whom the sum is calulate : 75\n"
     ]
    },
    {
     "name": "stdout",
     "output_type": "stream",
     "text": [
      "1 3 5 15 25 75 \n",
      "The sum of divisiors of 75 is 124\n"
     ]
    }
   ],
   "source": [
    "num=eval(input(\"Enter the number to whom the sum is calulate :\"))\n",
    "summ=0\n",
    "for i in range(1,num+1):\n",
    "    if num%i==0:\n",
    "        summ=summ+i\n",
    "        print(i,end=\" \")\n",
    "print(F\"\\nThe sum of divisiors of {num} is {summ}\")"
   ]
  },
  {
   "cell_type": "markdown",
   "id": "11111d5a-89d1-45ac-a9e1-abecf21d08b4",
   "metadata": {},
   "source": [
    "**counter rapper**\n",
    "\n",
    "- counter means counting the success\n",
    "- count=0\n",
    "- for loop\n",
    "    - count=count+1"
   ]
  },
  {
   "cell_type": "code",
   "execution_count": 61,
   "id": "f2c18bdc-e3d8-4fa9-a8b8-09085fdd064a",
   "metadata": {},
   "outputs": [],
   "source": [
    "# find the number of divisiors of 75"
   ]
  },
  {
   "cell_type": "code",
   "execution_count": 63,
   "id": "11cffddf-2033-428a-a7b3-d77b2526d244",
   "metadata": {},
   "outputs": [
    {
     "name": "stdin",
     "output_type": "stream",
     "text": [
      "Enter the number to whom the sum is calulate : 75\n"
     ]
    },
    {
     "name": "stdout",
     "output_type": "stream",
     "text": [
      "1 3 5 15 25 75 \n",
      "The number of divisiors of 75 is 6\n"
     ]
    }
   ],
   "source": [
    "num=eval(input(\"Enter the number :\"))\n",
    "count=0\n",
    "for i in range(1,num+1):\n",
    "    if num%i==0:\n",
    "        count=count+1\n",
    "        print(i,end=\" \")\n",
    "print(F\"\\nThe number of divisiors of {num} is {count}\")"
   ]
  },
  {
   "cell_type": "code",
   "execution_count": 65,
   "id": "7813c249-ca5c-4628-91cc-c995118ed4ef",
   "metadata": {},
   "outputs": [],
   "source": [
    "# ask the user get 5 random numbers inside for loop\n",
    "# loop shold rin 5 times\n",
    "# now perform even and odd operations\n",
    "# 1)even 2)odd, 3)sum of even number 4)sum of odd number"
   ]
  },
  {
   "cell_type": "code",
   "execution_count": 86,
   "id": "835e25e0-83ad-4c4f-a7f8-303377bdfd1a",
   "metadata": {},
   "outputs": [
    {
     "name": "stdout",
     "output_type": "stream",
     "text": [
      "2 is even number\n",
      "5 is odd number\n",
      "1 is odd number\n",
      "1 is odd number\n",
      "6 is even number\n",
      "The count of even random number is 2\n",
      "The sum of even random number is 8\n",
      "The count of odd random number is 3\n",
      "The sum of odd random number is 7\n"
     ]
    }
   ],
   "source": [
    "import random\n",
    "even_count,odd_count=0,0\n",
    "even_summ,odd_summ=0,0\n",
    "for i in range(5):\n",
    "    num=random.randint(1,6)\n",
    "    if num%2==0:\n",
    "        print(f\"{num} is even number\")\n",
    "        even_count = even_count+1\n",
    "        even_summ=even_summ+num    \n",
    "    else:\n",
    "        print(f\"{num} is odd number\")\n",
    "        odd_count=odd_count+1\n",
    "        odd_summ= odd_summ+num\n",
    "\n",
    "print(f\"The count of even random number is {even_count}\")\n",
    "print(f\"The sum of even random number is {even_summ}\")\n",
    "print(f\"The count of odd random number is {odd_count}\")\n",
    "print(f\"The sum of odd random number is {odd_summ}\")"
   ]
  },
  {
   "cell_type": "code",
   "execution_count": null,
   "id": "226e8c70-5cb7-4c2c-9e60-64651cff8a4a",
   "metadata": {},
   "outputs": [],
   "source": [
    "# game program\n",
    "#user enter one num\n",
    "# another num randomly generate\n",
    "# if both num are equal you won\n",
    "# else u lost\n",
    "# total three attempts"
   ]
  },
  {
   "cell_type": "code",
   "execution_count": 88,
   "id": "18de03cc-2706-4e3e-ae4b-a0e7765465e4",
   "metadata": {},
   "outputs": [
    {
     "name": "stdin",
     "output_type": "stream",
     "text": [
      "Enter the number : 5\n"
     ]
    },
    {
     "name": "stdout",
     "output_type": "stream",
     "text": [
      "You Lost\n"
     ]
    },
    {
     "name": "stdin",
     "output_type": "stream",
     "text": [
      "Enter the number : 7\n"
     ]
    },
    {
     "name": "stdout",
     "output_type": "stream",
     "text": [
      "You Lost\n"
     ]
    },
    {
     "name": "stdin",
     "output_type": "stream",
     "text": [
      "Enter the number : 6\n"
     ]
    },
    {
     "name": "stdout",
     "output_type": "stream",
     "text": [
      "You Won\n"
     ]
    }
   ],
   "source": [
    "for i in range(3):\n",
    "    num1=random.randint(1,10)\n",
    "    num2=eval(input(\"Enter the number :\"))\n",
    "    print(f\"The generated number is {num1}\")\n",
    "    print(f\"The enteres number is {num2}\")          \n",
    "    if num1==num2:\n",
    "        print(\"You Won\")\n",
    "    else:\n",
    "        print(\"You Lost\")"
   ]
  },
  {
   "cell_type": "code",
   "execution_count": 90,
   "id": "2103ae43-b576-438c-907d-0383f5f4e7e5",
   "metadata": {},
   "outputs": [
    {
     "name": "stdin",
     "output_type": "stream",
     "text": [
      "Enter the number : 5\n"
     ]
    },
    {
     "name": "stdout",
     "output_type": "stream",
     "text": [
      "The generated number is 5\n",
      "The enteres number is 5\n",
      "You Won\n"
     ]
    }
   ],
   "source": [
    "for i in range(3):\n",
    "    num1=random.randint(1,10)\n",
    "    num2=eval(input(\"Enter the number :\"))\n",
    "    print(f\"The generated number is {num1}\")\n",
    "    print(f\"The enteres number is {num2}\")          \n",
    "    if num1==num2:\n",
    "        print(\"You Won\")\n",
    "        break\n",
    "    else:\n",
    "        print(\"You Lost\")"
   ]
  },
  {
   "cell_type": "code",
   "execution_count": 92,
   "id": "8007d912-900d-4231-ad5a-aaa36cd8d8e4",
   "metadata": {},
   "outputs": [],
   "source": [
    "# case:1 apply break\n",
    "# case:2 whenever user enter wrong answer, print how many chances left\n",
    "# case:3 of you lost all chances, print try after 24 hours"
   ]
  },
  {
   "cell_type": "code",
   "execution_count": 96,
   "id": "6eb8f009-b27e-4e16-84f6-178614f577c6",
   "metadata": {
    "scrolled": true
   },
   "outputs": [
    {
     "name": "stdin",
     "output_type": "stream",
     "text": [
      "Enter the number : 5\n"
     ]
    },
    {
     "name": "stdout",
     "output_type": "stream",
     "text": [
      "The generated number is 10\n",
      "The enteres number is 5\n",
      "You Lost\n",
      "You have only 2 chances left\n"
     ]
    },
    {
     "name": "stdin",
     "output_type": "stream",
     "text": [
      "Enter the number : 3\n"
     ]
    },
    {
     "name": "stdout",
     "output_type": "stream",
     "text": [
      "The generated number is 4\n",
      "The enteres number is 3\n",
      "You Lost\n",
      "You have only 1 chances left\n"
     ]
    },
    {
     "name": "stdin",
     "output_type": "stream",
     "text": [
      "Enter the number : 1\n"
     ]
    },
    {
     "name": "stdout",
     "output_type": "stream",
     "text": [
      "The generated number is 2\n",
      "The enteres number is 1\n",
      "You Lost\n",
      "You have only 0 chances left\n"
     ]
    }
   ],
   "source": [
    "count=0\n",
    "for i in range(3):\n",
    "    num1=random.randint(1,10)\n",
    "    num2=eval(input(\"Enter the number :\"))\n",
    "    print(f\"The generated number is {num1}\")\n",
    "    print(f\"The enteres number is {num2}\")          \n",
    "    if num1==num2:\n",
    "        print(\"You Won\")\n",
    "        break\n",
    "    else:\n",
    "        print(\"You Lost\")\n",
    "        count=count+1\n",
    "        print(f\"You have only {3-count} chances left\")"
   ]
  },
  {
   "cell_type": "code",
   "execution_count": 98,
   "id": "149a99dc-60bb-47c5-a816-da9e57cf68f8",
   "metadata": {},
   "outputs": [
    {
     "name": "stdin",
     "output_type": "stream",
     "text": [
      "Enter the number : 5\n"
     ]
    },
    {
     "name": "stdout",
     "output_type": "stream",
     "text": [
      "The generated number is 9\n",
      "The enteres number is 5\n",
      "You Lost\n",
      "You have only 2 chances left\n"
     ]
    },
    {
     "name": "stdin",
     "output_type": "stream",
     "text": [
      "Enter the number : 6\n"
     ]
    },
    {
     "name": "stdout",
     "output_type": "stream",
     "text": [
      "The generated number is 1\n",
      "The enteres number is 6\n",
      "You Lost\n",
      "You have only 1 chances left\n"
     ]
    },
    {
     "name": "stdin",
     "output_type": "stream",
     "text": [
      "Enter the number : 1\n"
     ]
    },
    {
     "name": "stdout",
     "output_type": "stream",
     "text": [
      "The generated number is 10\n",
      "The enteres number is 1\n",
      "You Lost\n",
      "You have only 0 chances left\n"
     ]
    }
   ],
   "source": [
    "count=3\n",
    "for i in range(3):\n",
    "    num1=random.randint(1,10)\n",
    "    num2=eval(input(\"Enter the number :\"))\n",
    "    print(f\"The generated number is {num1}\")\n",
    "    print(f\"The enteres number is {num2}\")  \n",
    "    if count>0:\n",
    "        if num1==num2:\n",
    "            print(\"You Won\")\n",
    "            break\n",
    "        else:\n",
    "            print(\"You Lost\")\n",
    "            count=count-1\n",
    "            print(f\"You have only {count} chances left\")\n",
    "    else:\n",
    "        print(\"You have lost all cahnces, try after 24 hours\")"
   ]
  },
  {
   "cell_type": "code",
   "execution_count": 110,
   "id": "cb0ed3f0-ce12-49f0-be21-5304e76ad686",
   "metadata": {},
   "outputs": [
    {
     "name": "stdin",
     "output_type": "stream",
     "text": [
      "Enter the number : 7\n"
     ]
    },
    {
     "name": "stdout",
     "output_type": "stream",
     "text": [
      "You Lost\n",
      "You have only 2 chances left\n"
     ]
    },
    {
     "name": "stdin",
     "output_type": "stream",
     "text": [
      "Enter the number : 6\n"
     ]
    },
    {
     "name": "stdout",
     "output_type": "stream",
     "text": [
      "You Lost\n",
      "You have only 1 chances left\n"
     ]
    },
    {
     "name": "stdin",
     "output_type": "stream",
     "text": [
      "Enter the number : 3\n"
     ]
    },
    {
     "name": "stdout",
     "output_type": "stream",
     "text": [
      "You Lost\n",
      "You have only 0 chances left\n",
      "You have lost all cahnces, try after 24 hours\n"
     ]
    }
   ],
   "source": [
    "count=3\n",
    "for i in range(3):\n",
    "    num1=random.randint(1,10)\n",
    "    num2=eval(input(\"Enter the number :\")) \n",
    "    if num1==num2:\n",
    "        print(\"You Won\")\n",
    "        break\n",
    "    else:\n",
    "        print(\"You Lost\")\n",
    "        count=count-1\n",
    "        print(f\"You have only {count} chances left\")\n",
    "if count==0:\n",
    "    print(\"You have lost all cahnces, try after 24 hours\")"
   ]
  },
  {
   "cell_type": "markdown",
   "id": "bd47fb19-e54e-41cc-b4d5-3fd251025608",
   "metadata": {},
   "source": [
    "**in**\n",
    "\n",
    "- in for loop we have range and **in** operator\n",
    "- range is math related word, whenever we use range it expects a number inside range\n",
    "- in operator expects a string"
   ]
  },
  {
   "cell_type": "code",
   "execution_count": 7,
   "id": "ccfb1194-13c5-4ceb-92fd-c49ade60d7f6",
   "metadata": {},
   "outputs": [
    {
     "name": "stdout",
     "output_type": "stream",
     "text": [
      "0 1 2 3 4 5 6 7 8 9 "
     ]
    }
   ],
   "source": [
    "for i in range(10):\n",
    "    print(i, end=\" \")"
   ]
  },
  {
   "cell_type": "code",
   "execution_count": 9,
   "id": "a94c3db3-5e4d-4cda-9dea-059bcfe61965",
   "metadata": {},
   "outputs": [
    {
     "ename": "TypeError",
     "evalue": "'str' object cannot be interpreted as an integer",
     "output_type": "error",
     "traceback": [
      "\u001b[1;31m---------------------------------------------------------------------------\u001b[0m",
      "\u001b[1;31mTypeError\u001b[0m                                 Traceback (most recent call last)",
      "Cell \u001b[1;32mIn[9], line 1\u001b[0m\n\u001b[1;32m----> 1\u001b[0m \u001b[38;5;28;01mfor\u001b[39;00m i \u001b[38;5;129;01min\u001b[39;00m \u001b[38;5;28mrange\u001b[39m(\u001b[38;5;124m\"\u001b[39m\u001b[38;5;124mpython\u001b[39m\u001b[38;5;124m\"\u001b[39m):\n\u001b[0;32m      2\u001b[0m     \u001b[38;5;28mprint\u001b[39m(i, end\u001b[38;5;241m=\u001b[39m\u001b[38;5;124m\"\u001b[39m\u001b[38;5;124m \u001b[39m\u001b[38;5;124m\"\u001b[39m)\n",
      "\u001b[1;31mTypeError\u001b[0m: 'str' object cannot be interpreted as an integer"
     ]
    }
   ],
   "source": [
    "for i in range(\"python\"):\n",
    "    print(i, end=\" \")"
   ]
  },
  {
   "cell_type": "code",
   "execution_count": 11,
   "id": "4d936847-9c8e-47c7-8a2d-cd3161686403",
   "metadata": {},
   "outputs": [
    {
     "name": "stdout",
     "output_type": "stream",
     "text": [
      "p y t h o n "
     ]
    }
   ],
   "source": [
    "for i in (\"python\"):\n",
    "    print(i, end=\" \")"
   ]
  },
  {
   "cell_type": "code",
   "execution_count": 13,
   "id": "2d732875-5675-4e1c-ad05-2f2075db9c92",
   "metadata": {},
   "outputs": [
    {
     "data": {
      "text/plain": [
       "True"
      ]
     },
     "execution_count": 13,
     "metadata": {},
     "output_type": "execute_result"
    }
   ],
   "source": [
    "\"p\" in \"python\"   # True\n",
    "\n",
    "\"y\" in \"python\"   # True\n",
    "\n",
    "\"t\" in \"python\"   # True\n",
    "\n",
    "\"h\" in \"python\"   # True\n",
    "\n",
    "\"o\" in \"python\"   # True\n",
    "\n",
    "\"n\" in \"python\"   # True\n",
    "\n",
    "\"a\" in \"python\"   # False\n",
    "\n",
    "\"i\" in \"python\"   # False"
   ]
  },
  {
   "cell_type": "code",
   "execution_count": null,
   "id": "6cd974f8-7238-4f5d-82c0-0d21178571ae",
   "metadata": {},
   "outputs": [],
   "source": [
    "\"A\" = \"a\"    #False\n",
    "\n",
    "\"A\" > \"a\"    #False\n",
    "\n",
    "\"A\" < \"a\"    #True"
   ]
  },
  {
   "cell_type": "code",
   "execution_count": 15,
   "id": "0f446f92-43eb-42b9-a0e4-a8d922fc1dbb",
   "metadata": {},
   "outputs": [],
   "source": [
    "#ASCII     - AMERICAN STANDARD CODE FOR INFORMATION INTERCHANGE"
   ]
  },
  {
   "cell_type": "code",
   "execution_count": null,
   "id": "c4f63ac8-19eb-413e-bcfa-a5cb88fb7d95",
   "metadata": {},
   "outputs": [],
   "source": [
    "\"A\" ==== 65\n",
    "\"a\" ==== 97"
   ]
  },
  {
   "cell_type": "code",
   "execution_count": 17,
   "id": "9be5e45b-2ba8-4bfb-94cc-aaa5b4bf2b6b",
   "metadata": {},
   "outputs": [
    {
     "data": {
      "text/plain": [
       "False"
      ]
     },
     "execution_count": 17,
     "metadata": {},
     "output_type": "execute_result"
    }
   ],
   "source": [
    "\"A\" > \"a\""
   ]
  },
  {
   "cell_type": "markdown",
   "id": "9dd90880-750e-4062-9efd-36caa545e527",
   "metadata": {},
   "source": [
    "- Hoe to convert character to number and vuce versa"
   ]
  },
  {
   "cell_type": "code",
   "execution_count": 20,
   "id": "44364037-1b1f-4148-89b2-0c61d7b570c1",
   "metadata": {},
   "outputs": [],
   "source": [
    "## char-ord"
   ]
  },
  {
   "cell_type": "code",
   "execution_count": 34,
   "id": "f6bbda64-b290-42c8-bd11-5ad85c80615c",
   "metadata": {},
   "outputs": [
    {
     "ename": "TypeError",
     "evalue": "'str' object cannot be interpreted as an integer",
     "output_type": "error",
     "traceback": [
      "\u001b[1;31m---------------------------------------------------------------------------\u001b[0m",
      "\u001b[1;31mTypeError\u001b[0m                                 Traceback (most recent call last)",
      "Cell \u001b[1;32mIn[34], line 1\u001b[0m\n\u001b[1;32m----> 1\u001b[0m \u001b[38;5;28mchr\u001b[39m(\u001b[38;5;124m'\u001b[39m\u001b[38;5;124ma\u001b[39m\u001b[38;5;124m'\u001b[39m)\n",
      "\u001b[1;31mTypeError\u001b[0m: 'str' object cannot be interpreted as an integer"
     ]
    }
   ],
   "source": [
    "chr('a')"
   ]
  },
  {
   "cell_type": "code",
   "execution_count": 32,
   "id": "cd247635-1878-4f38-9543-12a51a892495",
   "metadata": {},
   "outputs": [
    {
     "data": {
      "text/plain": [
       "'a'"
      ]
     },
     "execution_count": 32,
     "metadata": {},
     "output_type": "execute_result"
    }
   ],
   "source": [
    "chr(97)"
   ]
  },
  {
   "cell_type": "code",
   "execution_count": 30,
   "id": "4731a00b-d7e2-4d19-923c-ee93078b5cd8",
   "metadata": {},
   "outputs": [
    {
     "data": {
      "text/plain": [
       "97"
      ]
     },
     "execution_count": 30,
     "metadata": {},
     "output_type": "execute_result"
    }
   ],
   "source": [
    "ord('a')"
   ]
  },
  {
   "cell_type": "code",
   "execution_count": 36,
   "id": "1f89f79a-4c40-42c2-8adf-7bc74f691eed",
   "metadata": {},
   "outputs": [
    {
     "ename": "TypeError",
     "evalue": "ord() expected string of length 1, but int found",
     "output_type": "error",
     "traceback": [
      "\u001b[1;31m---------------------------------------------------------------------------\u001b[0m",
      "\u001b[1;31mTypeError\u001b[0m                                 Traceback (most recent call last)",
      "Cell \u001b[1;32mIn[36], line 1\u001b[0m\n\u001b[1;32m----> 1\u001b[0m \u001b[38;5;28mord\u001b[39m(\u001b[38;5;241m23\u001b[39m)\n",
      "\u001b[1;31mTypeError\u001b[0m: ord() expected string of length 1, but int found"
     ]
    }
   ],
   "source": [
    "ord(23)"
   ]
  },
  {
   "cell_type": "code",
   "execution_count": 38,
   "id": "7360659f-d799-4833-be43-a7db3f105fe7",
   "metadata": {},
   "outputs": [],
   "source": [
    "#wap ask the user get the ASCII number form A to Z"
   ]
  },
  {
   "cell_type": "code",
   "execution_count": 46,
   "id": "446ce1be-bb4f-4a68-99e5-7b985709e887",
   "metadata": {},
   "outputs": [
    {
     "name": "stdin",
     "output_type": "stream",
     "text": [
      "Enter a alphabet:  A\n"
     ]
    },
    {
     "name": "stdout",
     "output_type": "stream",
     "text": [
      "A : 65\n"
     ]
    },
    {
     "name": "stdin",
     "output_type": "stream",
     "text": [
      "Enter a alphabet:  s\n"
     ]
    },
    {
     "name": "stdout",
     "output_type": "stream",
     "text": [
      "s : 115\n"
     ]
    },
    {
     "name": "stdin",
     "output_type": "stream",
     "text": [
      "Enter a alphabet:  d\n"
     ]
    },
    {
     "name": "stdout",
     "output_type": "stream",
     "text": [
      "d : 100\n"
     ]
    },
    {
     "name": "stdin",
     "output_type": "stream",
     "text": [
      "Enter a alphabet:  s\n"
     ]
    },
    {
     "name": "stdout",
     "output_type": "stream",
     "text": [
      "s : 115\n"
     ]
    },
    {
     "name": "stdin",
     "output_type": "stream",
     "text": [
      "Enter a alphabet:  g\n"
     ]
    },
    {
     "name": "stdout",
     "output_type": "stream",
     "text": [
      "g : 103\n"
     ]
    },
    {
     "name": "stdin",
     "output_type": "stream",
     "text": [
      "Enter a alphabet:  e\n"
     ]
    },
    {
     "name": "stdout",
     "output_type": "stream",
     "text": [
      "e : 101\n"
     ]
    },
    {
     "name": "stdin",
     "output_type": "stream",
     "text": [
      "Enter a alphabet:  fv\n"
     ]
    },
    {
     "ename": "TypeError",
     "evalue": "ord() expected a character, but string of length 2 found",
     "output_type": "error",
     "traceback": [
      "\u001b[1;31m---------------------------------------------------------------------------\u001b[0m",
      "\u001b[1;31mTypeError\u001b[0m                                 Traceback (most recent call last)",
      "Cell \u001b[1;32mIn[46], line 3\u001b[0m\n\u001b[0;32m      1\u001b[0m \u001b[38;5;28;01mfor\u001b[39;00m i \u001b[38;5;129;01min\u001b[39;00m \u001b[38;5;28mrange\u001b[39m(\u001b[38;5;241m10\u001b[39m):\n\u001b[0;32m      2\u001b[0m     char \u001b[38;5;241m=\u001b[39m \u001b[38;5;28minput\u001b[39m(\u001b[38;5;124m\"\u001b[39m\u001b[38;5;124mEnter a alphabet: \u001b[39m\u001b[38;5;124m\"\u001b[39m)\n\u001b[1;32m----> 3\u001b[0m     \u001b[38;5;28mprint\u001b[39m(\u001b[38;5;124mf\u001b[39m\u001b[38;5;124m\"\u001b[39m\u001b[38;5;132;01m{\u001b[39;00mchar\u001b[38;5;132;01m}\u001b[39;00m\u001b[38;5;124m : \u001b[39m\u001b[38;5;132;01m{\u001b[39;00m\u001b[38;5;28mord\u001b[39m(char)\u001b[38;5;132;01m}\u001b[39;00m\u001b[38;5;124m\"\u001b[39m)\n",
      "\u001b[1;31mTypeError\u001b[0m: ord() expected a character, but string of length 2 found"
     ]
    }
   ],
   "source": [
    "for i in range(10):\n",
    "    char = input(\"Enter a alphabet: \")\n",
    "    print(f\"{char} : {ord(char)}\")"
   ]
  },
  {
   "cell_type": "code",
   "execution_count": 75,
   "id": "3fef043f-393f-4cab-887e-edeae3a6eafd",
   "metadata": {},
   "outputs": [
    {
     "name": "stdout",
     "output_type": "stream",
     "text": [
      "A : 65 B : 66 C : 67 D : 68 E : 69 F : 70 G : 71 H : 72 I : 73 J : 74 K : 75 L : 76 M : 77 N : 78 O : 79 P : 80 Q : 81 R : 82 S : 83 T : 84 U : 85 V : 86 W : 87 X : 88 Y : 89 Z : 90 "
     ]
    }
   ],
   "source": [
    "for i in \"ABCDEFGHIJKLMNOPQRSTUVWXYZ\":\n",
    "    print(f\"{i} : {ord(i)}\",end= \" \")"
   ]
  },
  {
   "cell_type": "markdown",
   "id": "c9cd6767-8f02-4982-970b-189bbd924035",
   "metadata": {},
   "source": [
    "**package : string**"
   ]
  },
  {
   "cell_type": "code",
   "execution_count": 49,
   "id": "ef8202ed-af57-40f1-9b11-cda1207837e5",
   "metadata": {},
   "outputs": [],
   "source": [
    "import string"
   ]
  },
  {
   "cell_type": "code",
   "execution_count": 53,
   "id": "4cfb5fdf-3cfc-4c4b-ba42-74518b8cffab",
   "metadata": {},
   "outputs": [
    {
     "data": {
      "text/plain": [
       "['Formatter',\n",
       " 'Template',\n",
       " '_ChainMap',\n",
       " '__all__',\n",
       " '__builtins__',\n",
       " '__cached__',\n",
       " '__doc__',\n",
       " '__file__',\n",
       " '__loader__',\n",
       " '__name__',\n",
       " '__package__',\n",
       " '__spec__',\n",
       " '_re',\n",
       " '_sentinel_dict',\n",
       " '_string',\n",
       " 'ascii_letters',\n",
       " 'ascii_lowercase',\n",
       " 'ascii_uppercase',\n",
       " 'capwords',\n",
       " 'digits',\n",
       " 'hexdigits',\n",
       " 'octdigits',\n",
       " 'printable',\n",
       " 'punctuation',\n",
       " 'whitespace']"
      ]
     },
     "execution_count": 53,
     "metadata": {},
     "output_type": "execute_result"
    }
   ],
   "source": [
    "dir (string)"
   ]
  },
  {
   "cell_type": "code",
   "execution_count": 57,
   "id": "86bad1da-d35e-424a-821b-7c3a7d3a6833",
   "metadata": {},
   "outputs": [
    {
     "data": {
      "text/plain": [
       "'abcdefghijklmnopqrstuvwxyzABCDEFGHIJKLMNOPQRSTUVWXYZ'"
      ]
     },
     "execution_count": 57,
     "metadata": {},
     "output_type": "execute_result"
    }
   ],
   "source": [
    "string.ascii_letters"
   ]
  },
  {
   "cell_type": "code",
   "execution_count": 59,
   "id": "5d8d955b-ff21-4dcf-9a76-6fa28aaff539",
   "metadata": {},
   "outputs": [
    {
     "data": {
      "text/plain": [
       "'abcdefghijklmnopqrstuvwxyz'"
      ]
     },
     "execution_count": 59,
     "metadata": {},
     "output_type": "execute_result"
    }
   ],
   "source": [
    "string.ascii_lowercase"
   ]
  },
  {
   "cell_type": "code",
   "execution_count": 61,
   "id": "da46ab66-96a4-4168-b938-58a3d673a206",
   "metadata": {},
   "outputs": [
    {
     "data": {
      "text/plain": [
       "'ABCDEFGHIJKLMNOPQRSTUVWXYZ'"
      ]
     },
     "execution_count": 61,
     "metadata": {},
     "output_type": "execute_result"
    }
   ],
   "source": [
    "string.ascii_uppercase"
   ]
  },
  {
   "cell_type": "code",
   "execution_count": 67,
   "id": "e77da7f1-3d48-4a97-8865-6ec811307d04",
   "metadata": {},
   "outputs": [
    {
     "name": "stdout",
     "output_type": "stream",
     "text": [
      "A : 65 B : 66 C : 67 D : 68 E : 69 F : 70 G : 71 H : 72 I : 73 J : 74 K : 75 L : 76 M : 77 N : 78 O : 79 P : 80 Q : 81 R : 82 S : 83 T : 84 U : 85 V : 86 W : 87 X : 88 Y : 89 Z : 90 "
     ]
    }
   ],
   "source": [
    "for i in string.ascii_uppercase:\n",
    "    print(f\"{i} : {ord(i)}\",end=\" \")"
   ]
  },
  {
   "cell_type": "code",
   "execution_count": 69,
   "id": "e94b470f-5581-4bed-8d8e-7d13a0032aa4",
   "metadata": {},
   "outputs": [
    {
     "name": "stdout",
     "output_type": "stream",
     "text": [
      "a : 97 b : 98 c : 99 d : 100 e : 101 f : 102 g : 103 h : 104 i : 105 j : 106 k : 107 l : 108 m : 109 n : 110 o : 111 p : 112 q : 113 r : 114 s : 115 t : 116 u : 117 v : 118 w : 119 x : 120 y : 121 z : 122 "
     ]
    }
   ],
   "source": [
    "for i in string.ascii_lowercase:\n",
    "    print(f\"{i} : {ord(i)}\",end=\" \")"
   ]
  },
  {
   "cell_type": "code",
   "execution_count": 71,
   "id": "b6151c2e-644d-4447-ad00-a24e2848bfa8",
   "metadata": {},
   "outputs": [
    {
     "name": "stdout",
     "output_type": "stream",
     "text": [
      "a : 97 b : 98 c : 99 d : 100 e : 101 f : 102 g : 103 h : 104 i : 105 j : 106 k : 107 l : 108 m : 109 n : 110 o : 111 p : 112 q : 113 r : 114 s : 115 t : 116 u : 117 v : 118 w : 119 x : 120 y : 121 z : 122 A : 65 B : 66 C : 67 D : 68 E : 69 F : 70 G : 71 H : 72 I : 73 J : 74 K : 75 L : 76 M : 77 N : 78 O : 79 P : 80 Q : 81 R : 82 S : 83 T : 84 U : 85 V : 86 W : 87 X : 88 Y : 89 Z : 90 "
     ]
    }
   ],
   "source": [
    "for i in string.ascii_letters:\n",
    "    print(f\"{i} : {ord(i)}\",end=\" \")"
   ]
  },
  {
   "cell_type": "code",
   "execution_count": 77,
   "id": "a23d022a-8b7b-49de-b27a-6bcc3a5985b0",
   "metadata": {},
   "outputs": [
    {
     "name": "stdout",
     "output_type": "stream",
     "text": [
      "! : 33 \" : 34 # : 35 $ : 36 % : 37 & : 38 ' : 39 ( : 40 ) : 41 * : 42 + : 43 , : 44 - : 45 . : 46 / : 47 : : 58 ; : 59 < : 60 = : 61 > : 62 ? : 63 @ : 64 [ : 91 \\ : 92 ] : 93 ^ : 94 _ : 95 ` : 96 { : 123 | : 124 } : 125 ~ : 126 "
     ]
    }
   ],
   "source": [
    "for i in string.punctuation:\n",
    "    print(f\"{i} : {ord(i)}\",end=\" \")"
   ]
  },
  {
   "cell_type": "code",
   "execution_count": 79,
   "id": "6bd82831-6ec9-4331-a004-65b2d56c0ba2",
   "metadata": {},
   "outputs": [
    {
     "name": "stdout",
     "output_type": "stream",
     "text": [
      "33 : ! 34 : \" 35 : # 36 : $ 37 : % 38 : & 39 : ' 40 : ( 41 : ) 42 : * 43 : + 44 : , 45 : - 46 : . 47 : / 48 : 0 49 : 1 50 : 2 51 : 3 52 : 4 53 : 5 54 : 6 55 : 7 56 : 8 57 : 9 58 : : 59 : ; 60 : < 61 : = 62 : > 63 : ? 64 : @ 65 : A 66 : B 67 : C 68 : D 69 : E 70 : F 71 : G 72 : H 73 : I 74 : J 75 : K 76 : L 77 : M 78 : N 79 : O 80 : P 81 : Q 82 : R 83 : S 84 : T 85 : U 86 : V 87 : W 88 : X 89 : Y 90 : Z 91 : [ 92 : \\ 93 : ] 94 : ^ 95 : _ 96 : ` 97 : a 98 : b 99 : c 100 : d 101 : e 102 : f 103 : g 104 : h 105 : i 106 : j 107 : k 108 : l 109 : m 110 : n 111 : o 112 : p 113 : q 114 : r 115 : s 116 : t 117 : u 118 : v 119 : w 120 : x 121 : y 122 : z 123 : { 124 : | 125 : } 126 : ~ "
     ]
    }
   ],
   "source": [
    "for i in range(33,127):\n",
    "    print(f\"{i} : {chr(i)}\",end=\" \")"
   ]
  },
  {
   "cell_type": "code",
   "execution_count": 81,
   "id": "3b04880b-3223-473e-8454-6eb4d30c6e6c",
   "metadata": {},
   "outputs": [
    {
     "name": "stdout",
     "output_type": "stream",
     "text": [
      "0 : \u0000 1 : \u0001 2 : \u0002 3 : \u0003 4 : \u0004 5 : \u0005 6 : \u0006 7 : \u0007 8 : 9 : \t 10 : \n",
      " 14 : \u000e 15 : \u000f 16 : \u0010 17 : \u0011 18 : \u0012 19 : \u0013 20 : \u0014 21 : \u0015 22 : \u0016 23 : \u0017 24 : \u0018 25 : \u0019 26 : \u001a 27 : \u001b 28 : \u001c",
      " 29 : \u001d",
      " 30 : \u001e",
      " 31 : \u001f 32 :   33 : ! "
     ]
    }
   ],
   "source": [
    "for i in range(0,34):\n",
    "    print(f\"{i} : {chr(i)}\",end=\" \")"
   ]
  },
  {
   "cell_type": "code",
   "execution_count": 91,
   "id": "a1cbef64-379f-437a-8e7e-1a3072c032af",
   "metadata": {},
   "outputs": [
    {
     "name": "stdout",
     "output_type": "stream",
     "text": [
      "2000 : ߐ 2001 : ߑ 2002 : ߒ 2003 : ߓ 2004 : ߔ 2005 : ߕ 2006 : ߖ 2007 : ߗ 2008 : ߘ 2009 : ߙ 2010 : ߚ 2011 : ߛ 2012 : ߜ 2013 : ߝ 2014 : ߞ 2015 : ߟ 2016 : ߠ 2017 : ߡ 2018 : ߢ 2019 : ߣ 2020 : ߤ 2021 : ߥ 2022 : ߦ 2023 : ߧ 2024 : ߨ 2025 : ߩ 2026 : ߪ 2027 : ߫ 2028 : ߬ 2029 : ߭ 2030 : ߮ 2031 : ߯ 2032 : ߰ 2033 : ߱ 2034 : ߲ 2035 : ߳ 2036 : ߴ 2037 : ߵ 2038 : ߶ 2039 : ߷ 2040 : ߸ 2041 : ߹ 2042 : ߺ 2043 : ߻ 2044 : ߼ 2045 : ߽ 2046 : ߾ 2047 : ߿ 2048 : ࠀ 2049 : ࠁ 2050 : ࠂ 2051 : ࠃ 2052 : ࠄ 2053 : ࠅ 2054 : ࠆ 2055 : ࠇ 2056 : ࠈ 2057 : ࠉ 2058 : ࠊ 2059 : ࠋ 2060 : ࠌ 2061 : ࠍ 2062 : ࠎ 2063 : ࠏ 2064 : ࠐ 2065 : ࠑ 2066 : ࠒ 2067 : ࠓ 2068 : ࠔ 2069 : ࠕ 2070 : ࠖ 2071 : ࠗ 2072 : ࠘ 2073 : ࠙ 2074 : ࠚ 2075 : ࠛ 2076 : ࠜ 2077 : ࠝ 2078 : ࠞ 2079 : ࠟ 2080 : ࠠ 2081 : ࠡ 2082 : ࠢ 2083 : ࠣ 2084 : ࠤ 2085 : ࠥ 2086 : ࠦ 2087 : ࠧ 2088 : ࠨ 2089 : ࠩ 2090 : ࠪ 2091 : ࠫ 2092 : ࠬ 2093 : ࠭ 2094 : ࠮ 2095 : ࠯ 2096 : ࠰ 2097 : ࠱ 2098 : ࠲ 2099 : ࠳ 2100 : ࠴ 2101 : ࠵ 2102 : ࠶ 2103 : ࠷ 2104 : ࠸ 2105 : ࠹ 2106 : ࠺ 2107 : ࠻ 2108 : ࠼ 2109 : ࠽ 2110 : ࠾ 2111 : ࠿ 2112 : ࡀ 2113 : ࡁ 2114 : ࡂ 2115 : ࡃ 2116 : ࡄ 2117 : ࡅ 2118 : ࡆ 2119 : ࡇ 2120 : ࡈ 2121 : ࡉ 2122 : ࡊ 2123 : ࡋ 2124 : ࡌ 2125 : ࡍ 2126 : ࡎ 2127 : ࡏ 2128 : ࡐ 2129 : ࡑ 2130 : ࡒ 2131 : ࡓ 2132 : ࡔ 2133 : ࡕ 2134 : ࡖ 2135 : ࡗ 2136 : ࡘ 2137 : ࡙ 2138 : ࡚ 2139 : ࡛ 2140 : ࡜ 2141 : ࡝ 2142 : ࡞ 2143 : ࡟ 2144 : ࡠ 2145 : ࡡ 2146 : ࡢ 2147 : ࡣ 2148 : ࡤ 2149 : ࡥ 2150 : ࡦ 2151 : ࡧ 2152 : ࡨ 2153 : ࡩ 2154 : ࡪ 2155 : ࡫ 2156 : ࡬ 2157 : ࡭ 2158 : ࡮ 2159 : ࡯ 2160 : ࡰ 2161 : ࡱ 2162 : ࡲ 2163 : ࡳ 2164 : ࡴ 2165 : ࡵ 2166 : ࡶ 2167 : ࡷ 2168 : ࡸ 2169 : ࡹ 2170 : ࡺ 2171 : ࡻ 2172 : ࡼ 2173 : ࡽ 2174 : ࡾ 2175 : ࡿ 2176 : ࢀ 2177 : ࢁ 2178 : ࢂ 2179 : ࢃ 2180 : ࢄ 2181 : ࢅ 2182 : ࢆ 2183 : ࢇ 2184 : ࢈ 2185 : ࢉ 2186 : ࢊ 2187 : ࢋ 2188 : ࢌ 2189 : ࢍ 2190 : ࢎ 2191 : ࢏ 2192 : ࢐ 2193 : ࢑ 2194 : ࢒ 2195 : ࢓ 2196 : ࢔ 2197 : ࢕ 2198 : ࢖ 2199 : ࢗ 2200 : ࢘ 2201 : ࢙ 2202 : ࢚ 2203 : ࢛ 2204 : ࢜ 2205 : ࢝ 2206 : ࢞ 2207 : ࢟ 2208 : ࢠ 2209 : ࢡ 2210 : ࢢ 2211 : ࢣ 2212 : ࢤ 2213 : ࢥ 2214 : ࢦ 2215 : ࢧ 2216 : ࢨ 2217 : ࢩ 2218 : ࢪ 2219 : ࢫ 2220 : ࢬ 2221 : ࢭ 2222 : ࢮ 2223 : ࢯ 2224 : ࢰ 2225 : ࢱ 2226 : ࢲ 2227 : ࢳ 2228 : ࢴ 2229 : ࢵ 2230 : ࢶ 2231 : ࢷ 2232 : ࢸ 2233 : ࢹ 2234 : ࢺ 2235 : ࢻ 2236 : ࢼ 2237 : ࢽ 2238 : ࢾ 2239 : ࢿ 2240 : ࣀ 2241 : ࣁ 2242 : ࣂ 2243 : ࣃ 2244 : ࣄ 2245 : ࣅ 2246 : ࣆ 2247 : ࣇ 2248 : ࣈ 2249 : ࣉ 2250 : ࣊ 2251 : ࣋ 2252 : ࣌ 2253 : ࣍ 2254 : ࣎ 2255 : ࣏ 2256 : ࣐ 2257 : ࣑ 2258 : ࣒ 2259 : ࣓ 2260 : ࣔ 2261 : ࣕ 2262 : ࣖ 2263 : ࣗ 2264 : ࣘ 2265 : ࣙ 2266 : ࣚ 2267 : ࣛ 2268 : ࣜ 2269 : ࣝ 2270 : ࣞ 2271 : ࣟ 2272 : ࣠ 2273 : ࣡ 2274 : ࣢ 2275 : ࣣ 2276 : ࣤ 2277 : ࣥ 2278 : ࣦ 2279 : ࣧ 2280 : ࣨ 2281 : ࣩ 2282 : ࣪ 2283 : ࣫ 2284 : ࣬ 2285 : ࣭ 2286 : ࣮ 2287 : ࣯ 2288 : ࣰ 2289 : ࣱ 2290 : ࣲ 2291 : ࣳ 2292 : ࣴ 2293 : ࣵ 2294 : ࣶ 2295 : ࣷ 2296 : ࣸ 2297 : ࣹ 2298 : ࣺ 2299 : ࣻ 2300 : ࣼ 2301 : ࣽ 2302 : ࣾ 2303 : ࣿ 2304 : ऀ 2305 : ँ 2306 : ं 2307 : ः 2308 : ऄ 2309 : अ 2310 : आ 2311 : इ 2312 : ई 2313 : उ 2314 : ऊ 2315 : ऋ 2316 : ऌ 2317 : ऍ 2318 : ऎ 2319 : ए 2320 : ऐ 2321 : ऑ 2322 : ऒ 2323 : ओ 2324 : औ 2325 : क 2326 : ख 2327 : ग 2328 : घ 2329 : ङ 2330 : च 2331 : छ 2332 : ज 2333 : झ 2334 : ञ 2335 : ट 2336 : ठ 2337 : ड 2338 : ढ 2339 : ण 2340 : त 2341 : थ 2342 : द 2343 : ध 2344 : न 2345 : ऩ 2346 : प 2347 : फ 2348 : ब 2349 : भ 2350 : म 2351 : य 2352 : र 2353 : ऱ 2354 : ल 2355 : ळ 2356 : ऴ 2357 : व 2358 : श 2359 : ष 2360 : स 2361 : ह 2362 : ऺ 2363 : ऻ 2364 : ़ 2365 : ऽ 2366 : ा 2367 : ि 2368 : ी 2369 : ु 2370 : ू 2371 : ृ 2372 : ॄ 2373 : ॅ 2374 : ॆ 2375 : े 2376 : ै 2377 : ॉ 2378 : ॊ 2379 : ो 2380 : ौ 2381 : ् 2382 : ॎ 2383 : ॏ 2384 : ॐ 2385 : ॑ 2386 : ॒ 2387 : ॓ 2388 : ॔ 2389 : ॕ 2390 : ॖ 2391 : ॗ 2392 : क़ 2393 : ख़ 2394 : ग़ 2395 : ज़ 2396 : ड़ 2397 : ढ़ 2398 : फ़ 2399 : य़ 2400 : ॠ 2401 : ॡ 2402 : ॢ 2403 : ॣ 2404 : । 2405 : ॥ 2406 : ० 2407 : १ 2408 : २ 2409 : ३ 2410 : ४ 2411 : ५ 2412 : ६ 2413 : ७ 2414 : ८ 2415 : ९ 2416 : ॰ 2417 : ॱ 2418 : ॲ 2419 : ॳ 2420 : ॴ 2421 : ॵ 2422 : ॶ 2423 : ॷ 2424 : ॸ 2425 : ॹ 2426 : ॺ 2427 : ॻ 2428 : ॼ 2429 : ॽ 2430 : ॾ 2431 : ॿ 2432 : ঀ 2433 : ঁ 2434 : ং 2435 : ঃ 2436 : ঄ 2437 : অ 2438 : আ 2439 : ই 2440 : ঈ 2441 : উ 2442 : ঊ 2443 : ঋ 2444 : ঌ 2445 : ঍ 2446 : ঎ 2447 : এ 2448 : ঐ 2449 : ঑ 2450 : ঒ 2451 : ও 2452 : ঔ 2453 : ক 2454 : খ 2455 : গ 2456 : ঘ 2457 : ঙ 2458 : চ 2459 : ছ 2460 : জ 2461 : ঝ 2462 : ঞ 2463 : ট 2464 : ঠ 2465 : ড 2466 : ঢ 2467 : ণ 2468 : ত 2469 : থ 2470 : দ 2471 : ধ 2472 : ন 2473 : ঩ 2474 : প 2475 : ফ 2476 : ব 2477 : ভ 2478 : ম 2479 : য 2480 : র 2481 : ঱ 2482 : ল 2483 : ঳ 2484 : ঴ 2485 : ঵ 2486 : শ 2487 : ষ 2488 : স 2489 : হ 2490 : ঺ 2491 : ঻ 2492 : ় 2493 : ঽ 2494 : া 2495 : ি 2496 : ী 2497 : ু 2498 : ূ 2499 : ৃ 2500 : ৄ 2501 : ৅ 2502 : ৆ 2503 : ে 2504 : ৈ 2505 : ৉ 2506 : ৊ 2507 : ো 2508 : ৌ 2509 : ্ 2510 : ৎ 2511 : ৏ 2512 : ৐ 2513 : ৑ 2514 : ৒ 2515 : ৓ 2516 : ৔ 2517 : ৕ 2518 : ৖ 2519 : ৗ 2520 : ৘ 2521 : ৙ 2522 : ৚ 2523 : ৛ 2524 : ড় 2525 : ঢ় 2526 : ৞ 2527 : য় 2528 : ৠ 2529 : ৡ 2530 : ৢ 2531 : ৣ 2532 : ৤ 2533 : ৥ 2534 : ০ 2535 : ১ 2536 : ২ 2537 : ৩ 2538 : ৪ 2539 : ৫ 2540 : ৬ 2541 : ৭ 2542 : ৮ 2543 : ৯ 2544 : ৰ 2545 : ৱ 2546 : ৲ 2547 : ৳ 2548 : ৴ 2549 : ৵ 2550 : ৶ 2551 : ৷ 2552 : ৸ 2553 : ৹ 2554 : ৺ 2555 : ৻ 2556 : ৼ 2557 : ৽ 2558 : ৾ 2559 : ৿ 2560 : ਀ 2561 : ਁ 2562 : ਂ 2563 : ਃ 2564 : ਄ 2565 : ਅ 2566 : ਆ 2567 : ਇ 2568 : ਈ 2569 : ਉ 2570 : ਊ 2571 : ਋ 2572 : ਌ 2573 : ਍ 2574 : ਎ 2575 : ਏ 2576 : ਐ 2577 : ਑ 2578 : ਒ 2579 : ਓ 2580 : ਔ 2581 : ਕ 2582 : ਖ 2583 : ਗ 2584 : ਘ 2585 : ਙ 2586 : ਚ 2587 : ਛ 2588 : ਜ 2589 : ਝ 2590 : ਞ 2591 : ਟ 2592 : ਠ 2593 : ਡ 2594 : ਢ 2595 : ਣ 2596 : ਤ 2597 : ਥ 2598 : ਦ 2599 : ਧ 2600 : ਨ 2601 : ਩ 2602 : ਪ 2603 : ਫ 2604 : ਬ 2605 : ਭ 2606 : ਮ 2607 : ਯ 2608 : ਰ 2609 : ਱ 2610 : ਲ 2611 : ਲ਼ 2612 : ਴ 2613 : ਵ 2614 : ਸ਼ 2615 : ਷ 2616 : ਸ 2617 : ਹ 2618 : ਺ 2619 : ਻ 2620 : ਼ 2621 : ਽ 2622 : ਾ 2623 : ਿ 2624 : ੀ 2625 : ੁ 2626 : ੂ 2627 : ੃ 2628 : ੄ 2629 : ੅ 2630 : ੆ 2631 : ੇ 2632 : ੈ 2633 : ੉ 2634 : ੊ 2635 : ੋ 2636 : ੌ 2637 : ੍ 2638 : ੎ 2639 : ੏ 2640 : ੐ 2641 : ੑ 2642 : ੒ 2643 : ੓ 2644 : ੔ 2645 : ੕ 2646 : ੖ 2647 : ੗ 2648 : ੘ 2649 : ਖ਼ 2650 : ਗ਼ 2651 : ਜ਼ 2652 : ੜ 2653 : ੝ 2654 : ਫ਼ 2655 : ੟ 2656 : ੠ 2657 : ੡ 2658 : ੢ 2659 : ੣ 2660 : ੤ 2661 : ੥ 2662 : ੦ 2663 : ੧ 2664 : ੨ 2665 : ੩ 2666 : ੪ 2667 : ੫ 2668 : ੬ 2669 : ੭ 2670 : ੮ 2671 : ੯ 2672 : ੰ 2673 : ੱ 2674 : ੲ 2675 : ੳ 2676 : ੴ 2677 : ੵ 2678 : ੶ 2679 : ੷ 2680 : ੸ 2681 : ੹ 2682 : ੺ 2683 : ੻ 2684 : ੼ 2685 : ੽ 2686 : ੾ 2687 : ੿ 2688 : ઀ 2689 : ઁ 2690 : ં 2691 : ઃ 2692 : ઄ 2693 : અ 2694 : આ 2695 : ઇ 2696 : ઈ 2697 : ઉ 2698 : ઊ 2699 : ઋ 2700 : ઌ 2701 : ઍ 2702 : ઎ 2703 : એ 2704 : ઐ 2705 : ઑ 2706 : ઒ 2707 : ઓ 2708 : ઔ 2709 : ક 2710 : ખ 2711 : ગ 2712 : ઘ 2713 : ઙ 2714 : ચ 2715 : છ 2716 : જ 2717 : ઝ 2718 : ઞ 2719 : ટ 2720 : ઠ 2721 : ડ 2722 : ઢ 2723 : ણ 2724 : ત 2725 : થ 2726 : દ 2727 : ધ 2728 : ન 2729 : ઩ 2730 : પ 2731 : ફ 2732 : બ 2733 : ભ 2734 : મ 2735 : ય 2736 : ર 2737 : ઱ 2738 : લ 2739 : ળ 2740 : ઴ 2741 : વ 2742 : શ 2743 : ષ 2744 : સ 2745 : હ 2746 : ઺ 2747 : ઻ 2748 : ઼ 2749 : ઽ 2750 : ા 2751 : િ 2752 : ી 2753 : ુ 2754 : ૂ 2755 : ૃ 2756 : ૄ 2757 : ૅ 2758 : ૆ 2759 : ે 2760 : ૈ 2761 : ૉ 2762 : ૊ 2763 : ો 2764 : ૌ 2765 : ્ 2766 : ૎ 2767 : ૏ 2768 : ૐ 2769 : ૑ 2770 : ૒ 2771 : ૓ 2772 : ૔ 2773 : ૕ 2774 : ૖ 2775 : ૗ 2776 : ૘ 2777 : ૙ 2778 : ૚ 2779 : ૛ 2780 : ૜ 2781 : ૝ 2782 : ૞ 2783 : ૟ 2784 : ૠ 2785 : ૡ 2786 : ૢ 2787 : ૣ 2788 : ૤ 2789 : ૥ 2790 : ૦ 2791 : ૧ 2792 : ૨ 2793 : ૩ 2794 : ૪ 2795 : ૫ 2796 : ૬ 2797 : ૭ 2798 : ૮ 2799 : ૯ 2800 : ૰ 2801 : ૱ 2802 : ૲ 2803 : ૳ 2804 : ૴ 2805 : ૵ 2806 : ૶ 2807 : ૷ 2808 : ૸ 2809 : ૹ 2810 : ૺ 2811 : ૻ 2812 : ૼ 2813 : ૽ 2814 : ૾ 2815 : ૿ 2816 : ଀ 2817 : ଁ 2818 : ଂ 2819 : ଃ 2820 : ଄ 2821 : ଅ 2822 : ଆ 2823 : ଇ 2824 : ଈ 2825 : ଉ 2826 : ଊ 2827 : ଋ 2828 : ଌ 2829 : ଍ 2830 : ଎ 2831 : ଏ 2832 : ଐ 2833 : ଑ 2834 : ଒ 2835 : ଓ 2836 : ଔ 2837 : କ 2838 : ଖ 2839 : ଗ 2840 : ଘ 2841 : ଙ 2842 : ଚ 2843 : ଛ 2844 : ଜ 2845 : ଝ 2846 : ଞ 2847 : ଟ 2848 : ଠ 2849 : ଡ 2850 : ଢ 2851 : ଣ 2852 : ତ 2853 : ଥ 2854 : ଦ 2855 : ଧ 2856 : ନ 2857 : ଩ 2858 : ପ 2859 : ଫ 2860 : ବ 2861 : ଭ 2862 : ମ 2863 : ଯ 2864 : ର 2865 : ଱ 2866 : ଲ 2867 : ଳ 2868 : ଴ 2869 : ଵ 2870 : ଶ 2871 : ଷ 2872 : ସ 2873 : ହ 2874 : ଺ 2875 : ଻ 2876 : ଼ 2877 : ଽ 2878 : ା 2879 : ି 2880 : ୀ 2881 : ୁ 2882 : ୂ 2883 : ୃ 2884 : ୄ 2885 : ୅ 2886 : ୆ 2887 : େ 2888 : ୈ 2889 : ୉ 2890 : ୊ 2891 : ୋ 2892 : ୌ 2893 : ୍ 2894 : ୎ 2895 : ୏ 2896 : ୐ 2897 : ୑ 2898 : ୒ 2899 : ୓ 2900 : ୔ 2901 : ୕ 2902 : ୖ 2903 : ୗ 2904 : ୘ 2905 : ୙ 2906 : ୚ 2907 : ୛ 2908 : ଡ଼ 2909 : ଢ଼ 2910 : ୞ 2911 : ୟ 2912 : ୠ 2913 : ୡ 2914 : ୢ 2915 : ୣ 2916 : ୤ 2917 : ୥ 2918 : ୦ 2919 : ୧ 2920 : ୨ 2921 : ୩ 2922 : ୪ 2923 : ୫ 2924 : ୬ 2925 : ୭ 2926 : ୮ 2927 : ୯ 2928 : ୰ 2929 : ୱ 2930 : ୲ 2931 : ୳ 2932 : ୴ 2933 : ୵ 2934 : ୶ 2935 : ୷ 2936 : ୸ 2937 : ୹ 2938 : ୺ 2939 : ୻ 2940 : ୼ 2941 : ୽ 2942 : ୾ 2943 : ୿ 2944 : ஀ 2945 : ஁ 2946 : ஂ 2947 : ஃ 2948 : ஄ 2949 : அ 2950 : ஆ 2951 : இ 2952 : ஈ 2953 : உ 2954 : ஊ 2955 : ஋ 2956 : ஌ 2957 : ஍ 2958 : எ 2959 : ஏ 2960 : ஐ 2961 : ஑ 2962 : ஒ 2963 : ஓ 2964 : ஔ 2965 : க 2966 : ஖ 2967 : ஗ 2968 : ஘ 2969 : ங 2970 : ச 2971 : ஛ 2972 : ஜ 2973 : ஝ 2974 : ஞ 2975 : ட 2976 : ஠ 2977 : ஡ 2978 : ஢ 2979 : ண 2980 : த 2981 : ஥ 2982 : ஦ 2983 : ஧ 2984 : ந 2985 : ன 2986 : ப 2987 : ஫ 2988 : ஬ 2989 : ஭ 2990 : ம 2991 : ய 2992 : ர 2993 : ற 2994 : ல 2995 : ள 2996 : ழ 2997 : வ 2998 : ஶ 2999 : ஷ "
     ]
    }
   ],
   "source": [
    "for i in range(2000,3000):\n",
    "    print(f\"{i} : {chr(i)}\",end=\" \")"
   ]
  },
  {
   "cell_type": "code",
   "execution_count": null,
   "id": "937eacbc-14fb-4cca-b915-99ce4f575bd2",
   "metadata": {},
   "outputs": [],
   "source": []
  }
 ],
 "metadata": {
  "kernelspec": {
   "display_name": "Python [conda env:base] *",
   "language": "python",
   "name": "conda-base-py"
  },
  "language_info": {
   "codemirror_mode": {
    "name": "ipython",
    "version": 3
   },
   "file_extension": ".py",
   "mimetype": "text/x-python",
   "name": "python",
   "nbconvert_exporter": "python",
   "pygments_lexer": "ipython3",
   "version": "3.12.7"
  }
 },
 "nbformat": 4,
 "nbformat_minor": 5
}
