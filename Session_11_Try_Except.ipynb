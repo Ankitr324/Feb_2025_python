{
 "cells": [
  {
   "cell_type": "markdown",
   "id": "09215b63-2fd9-4281-a440-911a5f94ba28",
   "metadata": {},
   "source": [
    "**try-except**\n",
    "\n",
    "- try and except is a concept of exception handling\n",
    "- there are two blocks\n",
    "    - try\n",
    "    - except\n",
    "\n",
    "- original code will run under **try** block\n",
    "\n",
    "- if any occur in **try** block the error will catch by **except** block\n",
    "\n",
    "- USE cases:\n",
    "    - 1. code should catch the error automatically\n",
    "    - 2. code should continue even though we get the error"
   ]
  },
  {
   "cell_type": "code",
   "execution_count": 2,
   "id": "169c53df-999a-4b63-bbf4-53018a2280de",
   "metadata": {},
   "outputs": [
    {
     "ename": "ZeroDivisionError",
     "evalue": "division by zero",
     "output_type": "error",
     "traceback": [
      "\u001b[1;31m---------------------------------------------------------------------------\u001b[0m",
      "\u001b[1;31mZeroDivisionError\u001b[0m                         Traceback (most recent call last)",
      "Cell \u001b[1;32mIn[2], line 3\u001b[0m\n\u001b[0;32m      1\u001b[0m a\u001b[38;5;241m=\u001b[39m\u001b[38;5;241m10\u001b[39m\n\u001b[0;32m      2\u001b[0m b\u001b[38;5;241m=\u001b[39m\u001b[38;5;241m0\u001b[39m\n\u001b[1;32m----> 3\u001b[0m c\u001b[38;5;241m=\u001b[39ma\u001b[38;5;241m/\u001b[39mb\n\u001b[0;32m      4\u001b[0m \u001b[38;5;28mprint\u001b[39m(\u001b[38;5;124m\"\u001b[39m\u001b[38;5;124mhello\u001b[39m\u001b[38;5;124m\"\u001b[39m)\n",
      "\u001b[1;31mZeroDivisionError\u001b[0m: division by zero"
     ]
    }
   ],
   "source": [
    "a=10\n",
    "b=0\n",
    "c=a/b\n",
    "print(\"hello\")"
   ]
  },
  {
   "cell_type": "code",
   "execution_count": 6,
   "id": "23f491c7-ad88-4474-a64a-4f945a440b03",
   "metadata": {},
   "outputs": [
    {
     "name": "stdout",
     "output_type": "stream",
     "text": [
      "Error coming in try block\n",
      "Error is Zero division error\n"
     ]
    }
   ],
   "source": [
    "try: \n",
    "    a=10\n",
    "    b=0\n",
    "    c=a/b\n",
    "except:\n",
    "    print(\"Error coming in try block\")\n",
    "    print(\"Error is Zero division error\")"
   ]
  },
  {
   "cell_type": "code",
   "execution_count": 8,
   "id": "4bc97a71-15fc-4a54-be0d-7687a6c5fd74",
   "metadata": {},
   "outputs": [
    {
     "name": "stdout",
     "output_type": "stream",
     "text": [
      "1.0\n"
     ]
    }
   ],
   "source": [
    "try: \n",
    "    a=10\n",
    "    b=10\n",
    "    c=a/b\n",
    "    print(c)\n",
    "except:\n",
    "    print(\"Error coming in try block\")\n",
    "    print(\"Error is Zero division error\")"
   ]
  },
  {
   "cell_type": "markdown",
   "id": "d2bd1e0a-7e1c-4aee-8086-c2acda248373",
   "metadata": {},
   "source": [
    "**NOTE** \n",
    "\n",
    "- **except** block will run only if we get error in try block\n",
    "\n",
    "- if code is correct **try** block will only execute"
   ]
  },
  {
   "cell_type": "code",
   "execution_count": 11,
   "id": "b8209729-17ee-4b9d-846a-16b0f03a001c",
   "metadata": {},
   "outputs": [],
   "source": [
    "# syntax error\n",
    "\n",
    "# module error\n",
    "\n",
    "# attribute error\n",
    "\n",
    "# name error\n",
    "\n",
    "# type error\n",
    "\n",
    "# indentation error\n",
    "\n",
    "# object not callable\n",
    "\n",
    "# Zero division error"
   ]
  },
  {
   "cell_type": "code",
   "execution_count": 29,
   "id": "c037c8b6-d93f-44a8-aaff-f7bb40ad4fb5",
   "metadata": {},
   "outputs": [
    {
     "ename": "SyntaxError",
     "evalue": "incomplete input (3511799248.py, line 6)",
     "output_type": "error",
     "traceback": [
      "\u001b[1;36m  Cell \u001b[1;32mIn[29], line 6\u001b[1;36m\u001b[0m\n\u001b[1;33m    print(c\u001b[0m\n\u001b[1;37m           ^\u001b[0m\n\u001b[1;31mSyntaxError\u001b[0m\u001b[1;31m:\u001b[0m incomplete input\n"
     ]
    }
   ],
   "source": [
    "# syntax error\n",
    "\n",
    "a= 10\n",
    "b=10\n",
    "c=a/b\n",
    "print(c"
   ]
  },
  {
   "cell_type": "code",
   "execution_count": 31,
   "id": "4cf22d82-0f1c-4ebf-9c10-013b320d886a",
   "metadata": {},
   "outputs": [
    {
     "ename": "ModuleNotFoundError",
     "evalue": "No module named 'ankit'",
     "output_type": "error",
     "traceback": [
      "\u001b[1;31m---------------------------------------------------------------------------\u001b[0m",
      "\u001b[1;31mModuleNotFoundError\u001b[0m                       Traceback (most recent call last)",
      "Cell \u001b[1;32mIn[31], line 3\u001b[0m\n\u001b[0;32m      1\u001b[0m \u001b[38;5;66;03m# module error\u001b[39;00m\n\u001b[1;32m----> 3\u001b[0m \u001b[38;5;28;01mimport\u001b[39;00m \u001b[38;5;21;01mankit\u001b[39;00m\n",
      "\u001b[1;31mModuleNotFoundError\u001b[0m: No module named 'ankit'"
     ]
    }
   ],
   "source": [
    "# module error\n",
    "\n",
    "import ankit"
   ]
  },
  {
   "cell_type": "code",
   "execution_count": 33,
   "id": "ba862768-e3d6-4974-b595-72002ba31b12",
   "metadata": {},
   "outputs": [
    {
     "ename": "AttributeError",
     "evalue": "module 'random' has no attribute 'rani'",
     "output_type": "error",
     "traceback": [
      "\u001b[1;31m---------------------------------------------------------------------------\u001b[0m",
      "\u001b[1;31mAttributeError\u001b[0m                            Traceback (most recent call last)",
      "Cell \u001b[1;32mIn[33], line 4\u001b[0m\n\u001b[0;32m      1\u001b[0m \u001b[38;5;66;03m# attribute error\u001b[39;00m\n\u001b[0;32m      3\u001b[0m \u001b[38;5;28;01mimport\u001b[39;00m \u001b[38;5;21;01mrandom\u001b[39;00m\n\u001b[1;32m----> 4\u001b[0m random\u001b[38;5;241m.\u001b[39m rani\n",
      "\u001b[1;31mAttributeError\u001b[0m: module 'random' has no attribute 'rani'"
     ]
    }
   ],
   "source": [
    "# attribute error\n",
    "\n",
    "import random\n",
    "random. rani"
   ]
  },
  {
   "cell_type": "code",
   "execution_count": 35,
   "id": "87def157-638e-4d65-9c92-94376dbb0f8e",
   "metadata": {},
   "outputs": [
    {
     "ename": "NameError",
     "evalue": "name 'e' is not defined",
     "output_type": "error",
     "traceback": [
      "\u001b[1;31m---------------------------------------------------------------------------\u001b[0m",
      "\u001b[1;31mNameError\u001b[0m                                 Traceback (most recent call last)",
      "Cell \u001b[1;32mIn[35], line 6\u001b[0m\n\u001b[0;32m      4\u001b[0m b\u001b[38;5;241m=\u001b[39m\u001b[38;5;241m20\u001b[39m\n\u001b[0;32m      5\u001b[0m c\u001b[38;5;241m=\u001b[39ma\u001b[38;5;241m+\u001b[39mb\n\u001b[1;32m----> 6\u001b[0m \u001b[38;5;28mprint\u001b[39m(e)\n",
      "\u001b[1;31mNameError\u001b[0m: name 'e' is not defined"
     ]
    }
   ],
   "source": [
    "# name error\n",
    "\n",
    "a= 10\n",
    "b=20\n",
    "c=a+b\n",
    "print(e)"
   ]
  },
  {
   "cell_type": "code",
   "execution_count": 37,
   "id": "981f5e18-dbba-4568-86f9-71e2953aed3d",
   "metadata": {},
   "outputs": [
    {
     "ename": "TypeError",
     "evalue": "can't multiply sequence by non-int of type 'str'",
     "output_type": "error",
     "traceback": [
      "\u001b[1;31m---------------------------------------------------------------------------\u001b[0m",
      "\u001b[1;31mTypeError\u001b[0m                                 Traceback (most recent call last)",
      "Cell \u001b[1;32mIn[37], line 3\u001b[0m\n\u001b[0;32m      1\u001b[0m \u001b[38;5;66;03m# type error\u001b[39;00m\n\u001b[1;32m----> 3\u001b[0m \u001b[38;5;124m'\u001b[39m\u001b[38;5;124m10\u001b[39m\u001b[38;5;124m'\u001b[39m \u001b[38;5;241m*\u001b[39m \u001b[38;5;124m'\u001b[39m\u001b[38;5;124m10\u001b[39m\u001b[38;5;124m'\u001b[39m\n",
      "\u001b[1;31mTypeError\u001b[0m: can't multiply sequence by non-int of type 'str'"
     ]
    }
   ],
   "source": [
    "# type error\n",
    "\n",
    "'10' * '10'"
   ]
  },
  {
   "cell_type": "code",
   "execution_count": 39,
   "id": "f5efc75c-0315-41a7-ac2e-cc6258299e0a",
   "metadata": {},
   "outputs": [
    {
     "ename": "IndentationError",
     "evalue": "expected an indented block after 'if' statement on line 4 (630605227.py, line 5)",
     "output_type": "error",
     "traceback": [
      "\u001b[1;36m  Cell \u001b[1;32mIn[39], line 5\u001b[1;36m\u001b[0m\n\u001b[1;33m    print(\"ok\")\u001b[0m\n\u001b[1;37m    ^\u001b[0m\n\u001b[1;31mIndentationError\u001b[0m\u001b[1;31m:\u001b[0m expected an indented block after 'if' statement on line 4\n"
     ]
    }
   ],
   "source": [
    "# indentation error\n",
    "\n",
    "a = 10\n",
    "if True:\n",
    "print(\"ok\")"
   ]
  },
  {
   "cell_type": "code",
   "execution_count": 51,
   "id": "1049a79c-0224-471f-aab3-6b42831579ba",
   "metadata": {},
   "outputs": [
    {
     "ename": "TypeError",
     "evalue": "'module' object is not callable. Did you mean: 'random.random(...)'?",
     "output_type": "error",
     "traceback": [
      "\u001b[1;31m---------------------------------------------------------------------------\u001b[0m",
      "\u001b[1;31mTypeError\u001b[0m                                 Traceback (most recent call last)",
      "Cell \u001b[1;32mIn[51], line 3\u001b[0m\n\u001b[0;32m      1\u001b[0m \u001b[38;5;66;03m# object not callable\u001b[39;00m\n\u001b[1;32m----> 3\u001b[0m random()\n",
      "\u001b[1;31mTypeError\u001b[0m: 'module' object is not callable. Did you mean: 'random.random(...)'?"
     ]
    }
   ],
   "source": [
    "# object not callable\n",
    "\n",
    "random()"
   ]
  },
  {
   "cell_type": "code",
   "execution_count": 45,
   "id": "4285cc0c-ba1c-425d-8e3e-da3a1b4121e0",
   "metadata": {},
   "outputs": [
    {
     "ename": "ZeroDivisionError",
     "evalue": "division by zero",
     "output_type": "error",
     "traceback": [
      "\u001b[1;31m---------------------------------------------------------------------------\u001b[0m",
      "\u001b[1;31mZeroDivisionError\u001b[0m                         Traceback (most recent call last)",
      "Cell \u001b[1;32mIn[45], line 3\u001b[0m\n\u001b[0;32m      1\u001b[0m \u001b[38;5;66;03m# Zero division error\u001b[39;00m\n\u001b[1;32m----> 3\u001b[0m \u001b[38;5;241m10\u001b[39m\u001b[38;5;241m/\u001b[39m\u001b[38;5;241m0\u001b[39m\n",
      "\u001b[1;31mZeroDivisionError\u001b[0m: division by zero"
     ]
    }
   ],
   "source": [
    "# Zero division error\n",
    "\n",
    "10/0"
   ]
  },
  {
   "cell_type": "code",
   "execution_count": 53,
   "id": "4428a37f-7259-4716-bd23-2cbaeeb541d2",
   "metadata": {},
   "outputs": [
    {
     "name": "stdin",
     "output_type": "stream",
     "text": [
      "Enter the num1 : 100\n",
      "Enter the num2 : 10\n"
     ]
    },
    {
     "name": "stdout",
     "output_type": "stream",
     "text": [
      "The division is : 10.0\n"
     ]
    }
   ],
   "source": [
    "n1 = eval(input(\"Enter the num1 :\"))\n",
    "n2 = eval(input(\"Enter the num2 :\"))\n",
    "div = n1/n2\n",
    "print(\"The division is :\",div)"
   ]
  },
  {
   "cell_type": "code",
   "execution_count": 55,
   "id": "032741d2-7dd2-426a-91f2-0e88612fa591",
   "metadata": {},
   "outputs": [
    {
     "name": "stdin",
     "output_type": "stream",
     "text": [
      "Enter the num1 : 100\n",
      "Enter the num2 : 0\n"
     ]
    },
    {
     "name": "stdout",
     "output_type": "stream",
     "text": [
      "division by zero\n"
     ]
    }
   ],
   "source": [
    "try:\n",
    "    n1 = eval(input(\"Enter the num1 :\"))\n",
    "    n2 = eval(input(\"Enter the num2 :\"))\n",
    "    div = n1/n2\n",
    "    print(\"The division is :\",div)\n",
    "except Exception as e:\n",
    "    print(e)"
   ]
  },
  {
   "cell_type": "code",
   "execution_count": 59,
   "id": "ae401c7b-8367-4761-b6a3-6c700a2c5f1e",
   "metadata": {},
   "outputs": [
    {
     "name": "stdin",
     "output_type": "stream",
     "text": [
      "Enter the num1 : 100\n",
      "Enter the num2 : 45\n"
     ]
    },
    {
     "name": "stdout",
     "output_type": "stream",
     "text": [
      "name 'n5' is not defined\n"
     ]
    }
   ],
   "source": [
    "try:\n",
    "    n1 = eval(input(\"Enter the num1 :\"))\n",
    "    n2 = eval(input(\"Enter the num2 :\"))\n",
    "    div = n1/n5\n",
    "    print(\"The division is :\",div)\n",
    "except Exception as e:\n",
    "    print(e)"
   ]
  },
  {
   "cell_type": "code",
   "execution_count": 61,
   "id": "8c056ccd-3bdb-4142-8938-b6c9d204aa2e",
   "metadata": {},
   "outputs": [
    {
     "ename": "SyntaxError",
     "evalue": "'(' was never closed (3113525596.py, line 5)",
     "output_type": "error",
     "traceback": [
      "\u001b[1;36m  Cell \u001b[1;32mIn[61], line 5\u001b[1;36m\u001b[0m\n\u001b[1;33m    print(\"The division is :\",div\u001b[0m\n\u001b[1;37m         ^\u001b[0m\n\u001b[1;31mSyntaxError\u001b[0m\u001b[1;31m:\u001b[0m '(' was never closed\n"
     ]
    }
   ],
   "source": [
    "try:\n",
    "    n1 = eval(input(\"Enter the num1 :\"))\n",
    "    n2 = eval(input(\"Enter the num2 :\"))\n",
    "    div = n1/n5\n",
    "    print(\"The division is :\",div\n",
    "except Exception as e:\n",
    "    print(e)"
   ]
  },
  {
   "cell_type": "code",
   "execution_count": 63,
   "id": "d702575e-7037-4543-804f-028d79464fae",
   "metadata": {},
   "outputs": [
    {
     "ename": "SyntaxError",
     "evalue": "expected 'except' or 'finally' block (3114130600.py, line 4)",
     "output_type": "error",
     "traceback": [
      "\u001b[1;36m  Cell \u001b[1;32mIn[63], line 4\u001b[1;36m\u001b[0m\n\u001b[1;33m    div = n1/n5\u001b[0m\n\u001b[1;37m    ^\u001b[0m\n\u001b[1;31mSyntaxError\u001b[0m\u001b[1;31m:\u001b[0m expected 'except' or 'finally' block\n"
     ]
    }
   ],
   "source": [
    "try:\n",
    "    n1 = eval(input(\"Enter the num1 :\"))\n",
    "    n2 = eval(input(\"Enter the num2 :\"))\n",
    "div = n1/n5\n",
    "    print(\"The division is :\",div)\n",
    "except Exception as e:\n",
    "    print(e)"
   ]
  },
  {
   "cell_type": "code",
   "execution_count": 57,
   "id": "9721546b-9e9f-4304-a5cc-f1fedd90e76e",
   "metadata": {},
   "outputs": [
    {
     "name": "stdout",
     "output_type": "stream",
     "text": [
      "No module named 'naresh'\n"
     ]
    }
   ],
   "source": [
    "try:\n",
    "    import naresh\n",
    "except Exception as e:\n",
    "    print(e)"
   ]
  },
  {
   "cell_type": "code",
   "execution_count": 65,
   "id": "835cddff-c667-42f0-ac83-b3b42c2df461",
   "metadata": {},
   "outputs": [
    {
     "name": "stdout",
     "output_type": "stream",
     "text": [
      "No module named 'random.rani'; 'random' is not a package\n"
     ]
    }
   ],
   "source": [
    "try:\n",
    "    import random.rani\n",
    "except Exception as e:\n",
    "    print(e)"
   ]
  },
  {
   "cell_type": "code",
   "execution_count": 67,
   "id": "7a04a656-d90f-44ce-801c-521644cbea7f",
   "metadata": {},
   "outputs": [
    {
     "name": "stdout",
     "output_type": "stream",
     "text": [
      "unsupported operand type(s) for +: 'int' and 'str'\n"
     ]
    }
   ],
   "source": [
    "try:\n",
    "    a=10+'10'\n",
    "    print(a)\n",
    "except Exception as e:\n",
    "    print(e)"
   ]
  },
  {
   "cell_type": "code",
   "execution_count": 71,
   "id": "829a241a-7e58-4f84-9008-85d6b9b63b0c",
   "metadata": {},
   "outputs": [
    {
     "name": "stdout",
     "output_type": "stream",
     "text": [
      "can't multiply sequence by non-int of type 'str'\n"
     ]
    }
   ],
   "source": [
    "try:\n",
    "    '10'*'10'\n",
    "except Exception as e:\n",
    "    print(e)"
   ]
  },
  {
   "cell_type": "code",
   "execution_count": 73,
   "id": "4b0a4917-89bd-4091-99f2-4ea5bbb93977",
   "metadata": {},
   "outputs": [
    {
     "name": "stdout",
     "output_type": "stream",
     "text": [
      "name 'add' is not defined\n"
     ]
    }
   ],
   "source": [
    "try:\n",
    "    a=10\n",
    "    print(add)\n",
    "except Exception as e:\n",
    "    print(e)"
   ]
  },
  {
   "cell_type": "code",
   "execution_count": 79,
   "id": "dbbc34f1-d4c0-4d7b-8cd9-98edee531a31",
   "metadata": {},
   "outputs": [
    {
     "name": "stdin",
     "output_type": "stream",
     "text": [
      "Enter a number 11\n"
     ]
    },
    {
     "name": "stdout",
     "output_type": "stream",
     "text": [
      "name 'n11' is not defined\n",
      "a+b 30\n"
     ]
    }
   ],
   "source": [
    "try:\n",
    "    n1=eval(input(\"Enter a number\"))\n",
    "    if n1%2==0:\n",
    "        print(f\"The number {n1} is even\")\n",
    "    else:\n",
    "        print(f\"The number {n11} is odd\")\n",
    "except Exception as e:\n",
    "    print(e)\n",
    "    a =10\n",
    "    b =20\n",
    "    print(\"a+b\" ,a+b)\n",
    "    "
   ]
  },
  {
   "cell_type": "code",
   "execution_count": null,
   "id": "9aafee5d-ed4d-42b5-9d23-3f2038deb2fd",
   "metadata": {},
   "outputs": [],
   "source": []
  }
 ],
 "metadata": {
  "kernelspec": {
   "display_name": "Python [conda env:base] *",
   "language": "python",
   "name": "conda-base-py"
  },
  "language_info": {
   "codemirror_mode": {
    "name": "ipython",
    "version": 3
   },
   "file_extension": ".py",
   "mimetype": "text/x-python",
   "name": "python",
   "nbconvert_exporter": "python",
   "pygments_lexer": "ipython3",
   "version": "3.12.7"
  }
 },
 "nbformat": 4,
 "nbformat_minor": 5
}
